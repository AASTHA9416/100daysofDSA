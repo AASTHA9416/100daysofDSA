{
 "cells": [
  {
   "cell_type": "markdown",
   "id": "cb66febe",
   "metadata": {},
   "source": [
    "## Dictionaries\n",
    "\n",
    "**custom key value pairs**"
   ]
  },
  {
   "cell_type": "code",
   "execution_count": 11,
   "id": "5b9b7fb3",
   "metadata": {},
   "outputs": [],
   "source": [
    "d = {\"I\":2, \"am\":3, \"Rajat\":1000}"
   ]
  },
  {
   "cell_type": "code",
   "execution_count": 12,
   "id": "d5c70c0c",
   "metadata": {},
   "outputs": [
    {
     "data": {
      "text/plain": [
       "3"
      ]
     },
     "execution_count": 12,
     "metadata": {},
     "output_type": "execute_result"
    }
   ],
   "source": [
    "len(d)"
   ]
  },
  {
   "cell_type": "code",
   "execution_count": 13,
   "id": "4b4f0a64",
   "metadata": {},
   "outputs": [],
   "source": [
    "a = d.copy()"
   ]
  },
  {
   "cell_type": "code",
   "execution_count": 14,
   "id": "77e20845",
   "metadata": {},
   "outputs": [
    {
     "data": {
      "text/plain": [
       "{'I': 2, 'am': 3, 'Rajat': 1000}"
      ]
     },
     "execution_count": 14,
     "metadata": {},
     "output_type": "execute_result"
    }
   ],
   "source": [
    "a"
   ]
  },
  {
   "cell_type": "code",
   "execution_count": 18,
   "id": "3a2777da",
   "metadata": {},
   "outputs": [],
   "source": [
    "c = dict([ (10,\"a\"), (2,4), (15,24) ])"
   ]
  },
  {
   "cell_type": "code",
   "execution_count": 19,
   "id": "a2967ebd",
   "metadata": {},
   "outputs": [
    {
     "data": {
      "text/plain": [
       "{10: 'a', 2: 4, 15: 24}"
      ]
     },
     "execution_count": 19,
     "metadata": {},
     "output_type": "execute_result"
    }
   ],
   "source": [
    "c"
   ]
  },
  {
   "cell_type": "code",
   "execution_count": 20,
   "id": "20d455b7",
   "metadata": {},
   "outputs": [],
   "source": [
    "e = dict.fromkeys([\"hello\", \"a\", \"b\"])"
   ]
  },
  {
   "cell_type": "code",
   "execution_count": 21,
   "id": "2a8f173c",
   "metadata": {},
   "outputs": [
    {
     "data": {
      "text/plain": [
       "{'hello': None, 'a': None, 'b': None}"
      ]
     },
     "execution_count": 21,
     "metadata": {},
     "output_type": "execute_result"
    }
   ],
   "source": [
    "e"
   ]
  },
  {
   "cell_type": "code",
   "execution_count": 22,
   "id": "00438130",
   "metadata": {},
   "outputs": [],
   "source": [
    "e = dict.fromkeys([\"hello\", \"a\", \"b\"], 20)"
   ]
  },
  {
   "cell_type": "code",
   "execution_count": 23,
   "id": "8ac259b5",
   "metadata": {},
   "outputs": [
    {
     "data": {
      "text/plain": [
       "{'hello': 20, 'a': 20, 'b': 20}"
      ]
     },
     "execution_count": 23,
     "metadata": {},
     "output_type": "execute_result"
    }
   ],
   "source": [
    "e"
   ]
  },
  {
   "cell_type": "markdown",
   "id": "4a6ce929",
   "metadata": {},
   "source": [
    "## Access Data from the Dictionary"
   ]
  },
  {
   "cell_type": "code",
   "execution_count": 24,
   "id": "a031b69b",
   "metadata": {},
   "outputs": [],
   "source": [
    "a = {1:2, 3:4, \"list\":[1,2,3], \"dict\":{1:23}}"
   ]
  },
  {
   "cell_type": "code",
   "execution_count": 25,
   "id": "5c5ccbb8",
   "metadata": {},
   "outputs": [
    {
     "data": {
      "text/plain": [
       "2"
      ]
     },
     "execution_count": 25,
     "metadata": {},
     "output_type": "execute_result"
    }
   ],
   "source": [
    "a[1]"
   ]
  },
  {
   "cell_type": "code",
   "execution_count": 26,
   "id": "6b52f70e",
   "metadata": {},
   "outputs": [
    {
     "data": {
      "text/plain": [
       "[1, 2, 3]"
      ]
     },
     "execution_count": 26,
     "metadata": {},
     "output_type": "execute_result"
    }
   ],
   "source": [
    "a[\"list\"]"
   ]
  },
  {
   "cell_type": "code",
   "execution_count": 27,
   "id": "dec5f266",
   "metadata": {},
   "outputs": [
    {
     "data": {
      "text/plain": [
       "2"
      ]
     },
     "execution_count": 27,
     "metadata": {},
     "output_type": "execute_result"
    }
   ],
   "source": [
    "a.get(1)"
   ]
  },
  {
   "cell_type": "code",
   "execution_count": 28,
   "id": "20793219",
   "metadata": {},
   "outputs": [
    {
     "data": {
      "text/plain": [
       "[1, 2, 3]"
      ]
     },
     "execution_count": 28,
     "metadata": {},
     "output_type": "execute_result"
    }
   ],
   "source": [
    "a.get(\"list\")"
   ]
  },
  {
   "cell_type": "code",
   "execution_count": 30,
   "id": "34f0684c",
   "metadata": {},
   "outputs": [
    {
     "ename": "KeyError",
     "evalue": "'Hi'",
     "output_type": "error",
     "traceback": [
      "\u001b[1;31m---------------------------------------------------------------------------\u001b[0m",
      "\u001b[1;31mKeyError\u001b[0m                                  Traceback (most recent call last)",
      "\u001b[1;32m~\\AppData\\Local\\Temp/ipykernel_6132/1758970892.py\u001b[0m in \u001b[0;36m<module>\u001b[1;34m\u001b[0m\n\u001b[1;32m----> 1\u001b[1;33m \u001b[0ma\u001b[0m\u001b[1;33m[\u001b[0m\u001b[1;34m\"Hi\"\u001b[0m\u001b[1;33m]\u001b[0m\u001b[1;33m\u001b[0m\u001b[1;33m\u001b[0m\u001b[0m\n\u001b[0m",
      "\u001b[1;31mKeyError\u001b[0m: 'Hi'"
     ]
    }
   ],
   "source": [
    "a[\"Hi\"]"
   ]
  },
  {
   "cell_type": "code",
   "execution_count": 31,
   "id": "77fe5b19",
   "metadata": {},
   "outputs": [],
   "source": [
    "a.get(\"Hi\")"
   ]
  },
  {
   "cell_type": "code",
   "execution_count": 32,
   "id": "a107ccf5",
   "metadata": {},
   "outputs": [
    {
     "data": {
      "text/plain": [
       "'Not Found'"
      ]
     },
     "execution_count": 32,
     "metadata": {},
     "output_type": "execute_result"
    }
   ],
   "source": [
    "a.get(\"Hi\", \"Not Found\")"
   ]
  },
  {
   "cell_type": "code",
   "execution_count": 33,
   "id": "ec27b19e",
   "metadata": {},
   "outputs": [
    {
     "data": {
      "text/plain": [
       "dict_keys([1, 3, 'list', 'dict'])"
      ]
     },
     "execution_count": 33,
     "metadata": {},
     "output_type": "execute_result"
    }
   ],
   "source": [
    "a.keys()"
   ]
  },
  {
   "cell_type": "code",
   "execution_count": 34,
   "id": "3204ed82",
   "metadata": {},
   "outputs": [
    {
     "data": {
      "text/plain": [
       "dict_values([2, 4, [1, 2, 3], {1: 23}])"
      ]
     },
     "execution_count": 34,
     "metadata": {},
     "output_type": "execute_result"
    }
   ],
   "source": [
    "a.values()"
   ]
  },
  {
   "cell_type": "code",
   "execution_count": 56,
   "id": "3ab78b1e",
   "metadata": {},
   "outputs": [
    {
     "data": {
      "text/plain": [
       "dict_items([(1, 2), (3, 4), ('list', [1, 2, 3]), ('dict', {1: 23})])"
      ]
     },
     "execution_count": 56,
     "metadata": {},
     "output_type": "execute_result"
    }
   ],
   "source": [
    "a.items()"
   ]
  },
  {
   "cell_type": "code",
   "execution_count": 57,
   "id": "4baa123d",
   "metadata": {},
   "outputs": [
    {
     "name": "stdout",
     "output_type": "stream",
     "text": [
      "1\n",
      "3\n",
      "list\n",
      "dict\n"
     ]
    }
   ],
   "source": [
    "for i in a:\n",
    "    print(i)"
   ]
  },
  {
   "cell_type": "code",
   "execution_count": 58,
   "id": "51c0948a",
   "metadata": {},
   "outputs": [
    {
     "name": "stdout",
     "output_type": "stream",
     "text": [
      "1 2\n",
      "3 4\n",
      "list [1, 2, 3]\n",
      "dict {1: 23}\n"
     ]
    }
   ],
   "source": [
    "for i in a:\n",
    "    print(i, a[i])"
   ]
  },
  {
   "cell_type": "code",
   "execution_count": 59,
   "id": "b149ee16",
   "metadata": {},
   "outputs": [
    {
     "name": "stdout",
     "output_type": "stream",
     "text": [
      "2\n",
      "4\n",
      "[1, 2, 3]\n",
      "{1: 23}\n"
     ]
    }
   ],
   "source": [
    "for i in a.values():\n",
    "    print(i)"
   ]
  },
  {
   "cell_type": "code",
   "execution_count": 60,
   "id": "a753c651",
   "metadata": {},
   "outputs": [
    {
     "data": {
      "text/plain": [
       "True"
      ]
     },
     "execution_count": 60,
     "metadata": {},
     "output_type": "execute_result"
    }
   ],
   "source": [
    "\"list\" in a"
   ]
  },
  {
   "cell_type": "code",
   "execution_count": 61,
   "id": "cce2150b",
   "metadata": {},
   "outputs": [
    {
     "data": {
      "text/plain": [
       "False"
      ]
     },
     "execution_count": 61,
     "metadata": {},
     "output_type": "execute_result"
    }
   ],
   "source": [
    "\"Hi\" in a"
   ]
  },
  {
   "cell_type": "markdown",
   "id": "944d1923",
   "metadata": {},
   "source": [
    "## Add or Delete Data"
   ]
  },
  {
   "cell_type": "code",
   "execution_count": 62,
   "id": "3ad50622",
   "metadata": {},
   "outputs": [
    {
     "data": {
      "text/plain": [
       "{1: 2, 3: 4, 'list': [1, 2, 3], 'dict': {1: 23}}"
      ]
     },
     "execution_count": 62,
     "metadata": {},
     "output_type": "execute_result"
    }
   ],
   "source": [
    "a"
   ]
  },
  {
   "cell_type": "code",
   "execution_count": 71,
   "id": "257f1bed",
   "metadata": {},
   "outputs": [],
   "source": [
    "a[\"t\"] = (1,2,3)"
   ]
  },
  {
   "cell_type": "code",
   "execution_count": 64,
   "id": "818cd0e7",
   "metadata": {},
   "outputs": [
    {
     "data": {
      "text/plain": [
       "{1: 2, 3: 4, 'list': [1, 2, 3], 'dict': {1: 23}, 't': (1, 2, 3)}"
      ]
     },
     "execution_count": 64,
     "metadata": {},
     "output_type": "execute_result"
    }
   ],
   "source": [
    "a"
   ]
  },
  {
   "cell_type": "code",
   "execution_count": 65,
   "id": "b20a627c",
   "metadata": {},
   "outputs": [
    {
     "data": {
      "text/plain": [
       "{1: 10, 3: 4, 'list': [1, 2, 3], 'dict': {1: 23}, 't': (1, 2, 3)}"
      ]
     },
     "execution_count": 65,
     "metadata": {},
     "output_type": "execute_result"
    }
   ],
   "source": [
    "a[1] = 10\n",
    "a"
   ]
  },
  {
   "cell_type": "code",
   "execution_count": 67,
   "id": "4e9fd49f",
   "metadata": {},
   "outputs": [
    {
     "name": "stdout",
     "output_type": "stream",
     "text": [
      "{1: 10, 3: 5, 'list': [1, 2, 3], 'dict': {1: 23}, 't': (1, 2, 3), 'the': 4, 2: 100}\n"
     ]
    }
   ],
   "source": [
    "b = {3:5, 'the':4, 2:100}\n",
    "a.update(b)\n",
    "print(a)"
   ]
  },
  {
   "cell_type": "code",
   "execution_count": 68,
   "id": "bfd34e5c",
   "metadata": {},
   "outputs": [
    {
     "ename": "TypeError",
     "evalue": "pop expected at least 1 argument, got 0",
     "output_type": "error",
     "traceback": [
      "\u001b[1;31m---------------------------------------------------------------------------\u001b[0m",
      "\u001b[1;31mTypeError\u001b[0m                                 Traceback (most recent call last)",
      "\u001b[1;32m~\\AppData\\Local\\Temp/ipykernel_6132/4186947654.py\u001b[0m in \u001b[0;36m<module>\u001b[1;34m\u001b[0m\n\u001b[0;32m      1\u001b[0m \u001b[1;31m##Remove Data\u001b[0m\u001b[1;33m\u001b[0m\u001b[1;33m\u001b[0m\u001b[1;33m\u001b[0m\u001b[0m\n\u001b[0;32m      2\u001b[0m \u001b[1;33m\u001b[0m\u001b[0m\n\u001b[1;32m----> 3\u001b[1;33m \u001b[0ma\u001b[0m\u001b[1;33m.\u001b[0m\u001b[0mpop\u001b[0m\u001b[1;33m(\u001b[0m\u001b[1;33m)\u001b[0m\u001b[1;33m\u001b[0m\u001b[1;33m\u001b[0m\u001b[0m\n\u001b[0m",
      "\u001b[1;31mTypeError\u001b[0m: pop expected at least 1 argument, got 0"
     ]
    }
   ],
   "source": [
    "##Remove Data\n",
    "\n",
    "a.pop()"
   ]
  },
  {
   "cell_type": "code",
   "execution_count": 72,
   "id": "43ae2918",
   "metadata": {},
   "outputs": [
    {
     "name": "stdout",
     "output_type": "stream",
     "text": [
      "{1: 10, 3: 5, 'list': [1, 2, 3], 'dict': {1: 23}, 'the': 4, 2: 100}\n"
     ]
    }
   ],
   "source": [
    "a.pop(\"t\")\n",
    "print(a)"
   ]
  },
  {
   "cell_type": "code",
   "execution_count": 73,
   "id": "31b7fb01",
   "metadata": {},
   "outputs": [],
   "source": [
    "del a[1]"
   ]
  },
  {
   "cell_type": "code",
   "execution_count": 74,
   "id": "74e1e83c",
   "metadata": {},
   "outputs": [
    {
     "data": {
      "text/plain": [
       "{3: 5, 'list': [1, 2, 3], 'dict': {1: 23}, 'the': 4, 2: 100}"
      ]
     },
     "execution_count": 74,
     "metadata": {},
     "output_type": "execute_result"
    }
   ],
   "source": [
    "a"
   ]
  },
  {
   "cell_type": "code",
   "execution_count": 75,
   "id": "99549506",
   "metadata": {},
   "outputs": [],
   "source": [
    "a.clear()"
   ]
  },
  {
   "cell_type": "code",
   "execution_count": 76,
   "id": "d3e6c798",
   "metadata": {},
   "outputs": [
    {
     "data": {
      "text/plain": [
       "{}"
      ]
     },
     "execution_count": 76,
     "metadata": {},
     "output_type": "execute_result"
    }
   ],
   "source": [
    "a"
   ]
  },
  {
   "cell_type": "code",
   "execution_count": 77,
   "id": "bcc02441",
   "metadata": {},
   "outputs": [],
   "source": [
    "del a"
   ]
  },
  {
   "cell_type": "code",
   "execution_count": 78,
   "id": "cface00a",
   "metadata": {},
   "outputs": [
    {
     "ename": "NameError",
     "evalue": "name 'a' is not defined",
     "output_type": "error",
     "traceback": [
      "\u001b[1;31m---------------------------------------------------------------------------\u001b[0m",
      "\u001b[1;31mNameError\u001b[0m                                 Traceback (most recent call last)",
      "\u001b[1;32m~\\AppData\\Local\\Temp/ipykernel_6132/2167009006.py\u001b[0m in \u001b[0;36m<module>\u001b[1;34m\u001b[0m\n\u001b[1;32m----> 1\u001b[1;33m \u001b[0ma\u001b[0m\u001b[1;33m\u001b[0m\u001b[1;33m\u001b[0m\u001b[0m\n\u001b[0m",
      "\u001b[1;31mNameError\u001b[0m: name 'a' is not defined"
     ]
    }
   ],
   "source": [
    "a"
   ]
  },
  {
   "cell_type": "markdown",
   "id": "135642a5",
   "metadata": {},
   "source": [
    "## Print all the words having frequency K"
   ]
  },
  {
   "cell_type": "code",
   "execution_count": 42,
   "id": "7e565f31",
   "metadata": {},
   "outputs": [
    {
     "name": "stdout",
     "output_type": "stream",
     "text": [
      "['This', 'a', 'word', 'string', 'haing', 'many', 'many', 'word']\n"
     ]
    }
   ],
   "source": [
    "s = \"This a word string haing many many word\"\n",
    "k = 2\n",
    "words = s.split()\n",
    "print(l)"
   ]
  },
  {
   "cell_type": "code",
   "execution_count": 43,
   "id": "d7023e0f",
   "metadata": {},
   "outputs": [],
   "source": [
    "d = dict.fromkeys(words, 0)\n",
    "for word in words:\n",
    "    d[word] += 1"
   ]
  },
  {
   "cell_type": "code",
   "execution_count": 44,
   "id": "b0517cdd",
   "metadata": {},
   "outputs": [
    {
     "data": {
      "text/plain": [
       "{'This': 1, 'a': 1, 'word': 2, 'string': 1, 'haing': 1, 'many': 2}"
      ]
     },
     "execution_count": 44,
     "metadata": {},
     "output_type": "execute_result"
    }
   ],
   "source": [
    "d"
   ]
  },
  {
   "cell_type": "code",
   "execution_count": 45,
   "id": "b2a3702c",
   "metadata": {},
   "outputs": [],
   "source": [
    "## another way for doing same\n",
    "\n",
    "d = {}\n",
    "for word in words:\n",
    "    if word in d:\n",
    "        d[word] += 1\n",
    "    else:\n",
    "        d[word] = 1"
   ]
  },
  {
   "cell_type": "code",
   "execution_count": 46,
   "id": "5323de27",
   "metadata": {},
   "outputs": [
    {
     "data": {
      "text/plain": [
       "{'This': 1, 'a': 1, 'word': 2, 'string': 1, 'haing': 1, 'many': 2}"
      ]
     },
     "execution_count": 46,
     "metadata": {},
     "output_type": "execute_result"
    }
   ],
   "source": [
    "d"
   ]
  },
  {
   "cell_type": "code",
   "execution_count": 47,
   "id": "1276f951",
   "metadata": {},
   "outputs": [],
   "source": [
    "## another way\n",
    "\n",
    "d = {}\n",
    "for word in words:\n",
    "    d[word] = d.get(word, 0) + 1"
   ]
  },
  {
   "cell_type": "code",
   "execution_count": 48,
   "id": "df9f9bab",
   "metadata": {},
   "outputs": [
    {
     "data": {
      "text/plain": [
       "{'This': 1, 'a': 1, 'word': 2, 'string': 1, 'haing': 1, 'many': 2}"
      ]
     },
     "execution_count": 48,
     "metadata": {},
     "output_type": "execute_result"
    }
   ],
   "source": [
    "d"
   ]
  },
  {
   "cell_type": "code",
   "execution_count": 49,
   "id": "1f6201bb",
   "metadata": {},
   "outputs": [
    {
     "name": "stdout",
     "output_type": "stream",
     "text": [
      "word\n",
      "many\n"
     ]
    }
   ],
   "source": [
    "for word in d:\n",
    "    if d[word] == k:\n",
    "        print(word)"
   ]
  },
  {
   "cell_type": "code",
   "execution_count": 53,
   "id": "93b7632d",
   "metadata": {},
   "outputs": [],
   "source": [
    "## function\n",
    "\n",
    "def printKfreq(string, k):\n",
    "    words = string.split()\n",
    "    d = {}\n",
    "    for word in words:\n",
    "        d[word] = d.get(word,0) + 1\n",
    "    for w in d:\n",
    "        if d[w] == k:\n",
    "            print(w)"
   ]
  },
  {
   "cell_type": "code",
   "execution_count": 54,
   "id": "af2adad6",
   "metadata": {},
   "outputs": [
    {
     "name": "stdout",
     "output_type": "stream",
     "text": [
      "word\n",
      "many\n"
     ]
    }
   ],
   "source": [
    "printKfreq(s, 2)"
   ]
  },
  {
   "cell_type": "code",
   "execution_count": 55,
   "id": "a9921a4e",
   "metadata": {},
   "outputs": [
    {
     "name": "stdout",
     "output_type": "stream",
     "text": [
      "This\n",
      "a\n",
      "string\n",
      "haing\n"
     ]
    }
   ],
   "source": [
    "printKfreq(s, 1)"
   ]
  },
  {
   "cell_type": "markdown",
   "id": "384ebab3",
   "metadata": {},
   "source": [
    "## Maximum Frequency\n",
    "\n",
    "Given a list of integers print that occurs max time"
   ]
  },
  {
   "cell_type": "code",
   "execution_count": 95,
   "id": "7b2d273f",
   "metadata": {},
   "outputs": [],
   "source": [
    "def maxOccur():\n",
    "    arr = list(map(int, input().split()))\n",
    "    d = {}\n",
    "    for ele in arr:\n",
    "        d[ele]  = d.get(ele, 0) + 1\n",
    "    max_ = max(d.values())\n",
    "    for e in d:\n",
    "        if d[e] == max_:\n",
    "            return e"
   ]
  },
  {
   "cell_type": "code",
   "execution_count": 96,
   "id": "b100dbd9",
   "metadata": {},
   "outputs": [
    {
     "name": "stdout",
     "output_type": "stream",
     "text": [
      "2 12 2 11 12 2 1 2 2 11 12 2 6 \n"
     ]
    },
    {
     "data": {
      "text/plain": [
       "2"
      ]
     },
     "execution_count": 96,
     "metadata": {},
     "output_type": "execute_result"
    }
   ],
   "source": [
    "maxOccur()"
   ]
  },
  {
   "cell_type": "markdown",
   "id": "399d6fba",
   "metadata": {},
   "source": [
    "## Pair Sum to Zero"
   ]
  },
  {
   "cell_type": "code",
   "execution_count": 100,
   "id": "8944bd99",
   "metadata": {},
   "outputs": [
    {
     "name": "stdout",
     "output_type": "stream",
     "text": [
      "2 -2\n",
      "-2 2\n",
      "2 -2\n",
      "-6 6\n"
     ]
    }
   ],
   "source": [
    "arr = [-2, 2, 6, -2, 2, -6, 3]\n",
    "d = {}\n",
    "for e in arr:\n",
    "    d[e] = d.get(e,0) + 1\n",
    "    if -e in d:\n",
    "        print(e, -e)\n"
   ]
  },
  {
   "cell_type": "code",
   "execution_count": 101,
   "id": "302759ef",
   "metadata": {},
   "outputs": [],
   "source": [
    "def sumToZero(arr):\n",
    "    d = {}\n",
    "    for e in arr:\n",
    "        d[e] = d.get(e,0) + 1\n",
    "        if -e in d:\n",
    "            print(e, -e)"
   ]
  },
  {
   "cell_type": "code",
   "execution_count": null,
   "id": "bf58806e",
   "metadata": {},
   "outputs": [],
   "source": []
  },
  {
   "cell_type": "code",
   "execution_count": null,
   "id": "dff18fe6",
   "metadata": {},
   "outputs": [],
   "source": []
  }
 ],
 "metadata": {
  "kernelspec": {
   "display_name": "Python 3 (ipykernel)",
   "language": "python",
   "name": "python3"
  },
  "language_info": {
   "codemirror_mode": {
    "name": "ipython",
    "version": 3
   },
   "file_extension": ".py",
   "mimetype": "text/x-python",
   "name": "python",
   "nbconvert_exporter": "python",
   "pygments_lexer": "ipython3",
   "version": "3.8.3"
  }
 },
 "nbformat": 4,
 "nbformat_minor": 5
}
