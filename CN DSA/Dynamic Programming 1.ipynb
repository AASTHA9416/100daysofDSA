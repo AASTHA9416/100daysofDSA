{
 "cells": [
  {
   "cell_type": "markdown",
   "id": "f0c50661",
   "metadata": {},
   "source": [
    "# Dynamic Programming"
   ]
  },
  {
   "cell_type": "code",
   "execution_count": 9,
   "id": "f0a00f24",
   "metadata": {},
   "outputs": [],
   "source": [
    "def fibonacci(n):\n",
    "    print(n)\n",
    "    if n == 0 or n == 1:\n",
    "        return n\n",
    "    return fibonacci(n-1) + fibonacci(n-2)"
   ]
  },
  {
   "cell_type": "code",
   "execution_count": 10,
   "id": "0fadfc43",
   "metadata": {},
   "outputs": [
    {
     "name": "stdout",
     "output_type": "stream",
     "text": [
      "7\n",
      "6\n",
      "5\n",
      "4\n",
      "3\n",
      "2\n",
      "1\n",
      "0\n",
      "1\n",
      "2\n",
      "1\n",
      "0\n",
      "3\n",
      "2\n",
      "1\n",
      "0\n",
      "1\n",
      "4\n",
      "3\n",
      "2\n",
      "1\n",
      "0\n",
      "1\n",
      "2\n",
      "1\n",
      "0\n",
      "5\n",
      "4\n",
      "3\n",
      "2\n",
      "1\n",
      "0\n",
      "1\n",
      "2\n",
      "1\n",
      "0\n",
      "3\n",
      "2\n",
      "1\n",
      "0\n",
      "1\n"
     ]
    },
    {
     "data": {
      "text/plain": [
       "13"
      ]
     },
     "execution_count": 10,
     "metadata": {},
     "output_type": "execute_result"
    }
   ],
   "source": [
    "fibonacci(7)"
   ]
  },
  {
   "cell_type": "markdown",
   "id": "f7f2126c",
   "metadata": {},
   "source": [
    "### As we see that there is overlapping subproblems and also there is optimal sub-structure so we can apply dynamic programming here. We will use array as our memory and proceed."
   ]
  },
  {
   "cell_type": "code",
   "execution_count": 20,
   "id": "a7ef9492",
   "metadata": {},
   "outputs": [],
   "source": [
    "def fibonacci1(n, arr):\n",
    "    if n == 0 or n == 1:\n",
    "        return n\n",
    "    if arr[n-1] == -1:\n",
    "        ans1 = fibonacci1(n-1, arr)\n",
    "        arr[n-1] = ans1\n",
    "    else:\n",
    "        ans1 = arr[n-1]\n",
    "    \n",
    "    if arr[n-2] == -1:\n",
    "        ans2 = fibonacci1(n-2, arr)\n",
    "        arr[n-2] = ans2\n",
    "    else:\n",
    "        ans2 = arr[n-2]\n",
    "    ans = ans1 + ans2\n",
    "        \n",
    "    \n",
    "    return ans"
   ]
  },
  {
   "cell_type": "code",
   "execution_count": 21,
   "id": "2d9059f2",
   "metadata": {},
   "outputs": [
    {
     "data": {
      "text/plain": [
       "13"
      ]
     },
     "execution_count": 21,
     "metadata": {},
     "output_type": "execute_result"
    }
   ],
   "source": [
    "fibonacci1(7, [-1 for i in range(7)])"
   ]
  },
  {
   "cell_type": "markdown",
   "id": "9a4f77ed",
   "metadata": {},
   "source": [
    "## Iterative fibonacci"
   ]
  },
  {
   "cell_type": "code",
   "execution_count": 26,
   "id": "e144e854",
   "metadata": {},
   "outputs": [
    {
     "data": {
      "text/plain": [
       "13"
      ]
     },
     "execution_count": 26,
     "metadata": {},
     "output_type": "execute_result"
    }
   ],
   "source": [
    "def fibbI(n):\n",
    "    arr = [0 for i in range(n+1)]\n",
    "    arr[0], arr[1] = 0, 1\n",
    "    for i in range(2, n+1):\n",
    "        arr[i] = arr[i-1] + arr[i-2]\n",
    "    \n",
    "    return arr[-1]\n",
    "\n",
    "fibbI(7)"
   ]
  },
  {
   "cell_type": "markdown",
   "id": "430c1951",
   "metadata": {},
   "source": [
    "## Reach to 1 problem \n",
    "\n",
    "### Qus : Given a number n. reduce the number to 1. We can take the following steps only.\n",
    "\n",
    "### 1. We can always go n --> n-1.\n",
    "### 2. we can go to n --> n/2 if n is divisible by 2.\n",
    "### 3. we can go to n --> n/3 if n is divisible by 3.\n",
    "### Find the minimum steps to reach 1."
   ]
  },
  {
   "cell_type": "code",
   "execution_count": 32,
   "id": "a92a4e5d",
   "metadata": {},
   "outputs": [],
   "source": [
    "# Step 1: Find the Recursive Solution first.\n",
    "import sys\n",
    "def min_steps(n):\n",
    "    print(n)\n",
    "    ## base case \n",
    "    if n == 1:\n",
    "        return 0\n",
    "    ans1 = min_steps(n-1)\n",
    "    ans2 = sys.maxsize\n",
    "    ans3 = sys.maxsize\n",
    "    if n%2 == 0:\n",
    "        ans2 = min_steps(n//2)\n",
    "    if n%3 == 0:\n",
    "        ans3 = min_steps(n//3)\n",
    "    \n",
    "    return 1 + min(ans1, ans2, ans3)"
   ]
  },
  {
   "cell_type": "code",
   "execution_count": 33,
   "id": "a64bb41a",
   "metadata": {},
   "outputs": [
    {
     "name": "stdout",
     "output_type": "stream",
     "text": [
      "6\n",
      "5\n",
      "4\n",
      "3\n",
      "2\n",
      "1\n",
      "1\n",
      "1\n",
      "2\n",
      "1\n",
      "1\n",
      "3\n",
      "2\n",
      "1\n",
      "1\n",
      "1\n",
      "2\n",
      "1\n",
      "1\n"
     ]
    },
    {
     "data": {
      "text/plain": [
       "2"
      ]
     },
     "execution_count": 33,
     "metadata": {},
     "output_type": "execute_result"
    }
   ],
   "source": [
    "min_steps(6)"
   ]
  },
  {
   "cell_type": "code",
   "execution_count": 40,
   "id": "bec8791f",
   "metadata": {},
   "outputs": [],
   "source": [
    "## Step 2: Apply Memorization to avoid overlapping of problems\n",
    "import sys\n",
    "def min_steps(n, dp):\n",
    "    print(n)\n",
    "    ## base case \n",
    "    if n == 1:\n",
    "        return 0\n",
    "    if dp[n-1] == -1:\n",
    "        ans1 = min_steps(n-1, dp)\n",
    "        dp[n-1] = ans1\n",
    "    else:\n",
    "        ans1 = dp[n-1]\n",
    "    ans2 = sys.maxsize\n",
    "    ans3 = sys.maxsize\n",
    "    if n%2 == 0:\n",
    "        if dp[n//2] == -1:\n",
    "            ans2 = min_steps(n//2, dp)\n",
    "            dp[n//2] = ans2\n",
    "        else:\n",
    "            ans2 = dp[n//2]\n",
    "    if n%3 == 0:\n",
    "        if dp[n//3] == -1:\n",
    "            ans3 = min_steps(n//3, dp)\n",
    "            dp[n//3] = ans3\n",
    "        else:\n",
    "            ans3 = dp[n//3]\n",
    "    \n",
    "    return 1 + min(ans1, ans2, ans3)"
   ]
  },
  {
   "cell_type": "code",
   "execution_count": 41,
   "id": "12cfa128",
   "metadata": {},
   "outputs": [
    {
     "name": "stdout",
     "output_type": "stream",
     "text": [
      "5\n",
      "4\n",
      "3\n",
      "2\n",
      "1\n"
     ]
    },
    {
     "data": {
      "text/plain": [
       "3"
      ]
     },
     "execution_count": 41,
     "metadata": {},
     "output_type": "execute_result"
    }
   ],
   "source": [
    "n = 5\n",
    "dp = [-1 for i in range(n)]\n",
    "min_steps(n, dp)"
   ]
  },
  {
   "cell_type": "code",
   "execution_count": 46,
   "id": "a8e7976c",
   "metadata": {},
   "outputs": [],
   "source": [
    "## Step 3: Find the iterative solution\n",
    "import sys\n",
    "def min_steps(n):\n",
    "    dp = [0 for i in range(n+1)]\n",
    "    for i in range(2,n+1):\n",
    "        ans1 = dp[i-1]\n",
    "        ans2 = sys.maxsize\n",
    "        ans3 = sys.maxsize\n",
    "        if i % 2 == 0:\n",
    "            ans2 = dp[i//2]\n",
    "        if i % 3 == 0:\n",
    "            ans3 = dp[i//3]\n",
    "        dp[i] = 1 + min(ans1, ans2, ans3)\n",
    "    return dp[-1]\n",
    "        \n",
    "        \n",
    "        "
   ]
  },
  {
   "cell_type": "code",
   "execution_count": 48,
   "id": "c1c39940",
   "metadata": {},
   "outputs": [
    {
     "data": {
      "text/plain": [
       "3"
      ]
     },
     "execution_count": 48,
     "metadata": {},
     "output_type": "execute_result"
    }
   ],
   "source": [
    "min_steps(5)"
   ]
  },
  {
   "cell_type": "markdown",
   "id": "decee5ed",
   "metadata": {},
   "source": [
    "### Minimum squares to represent N.\n",
    "\n",
    "Given a number n, find the possible minimum number of squares to represent n"
   ]
  },
  {
   "cell_type": "code",
   "execution_count": 3,
   "id": "f33440ca",
   "metadata": {},
   "outputs": [],
   "source": [
    "# Step 1: Recursive Solution\n",
    "import sys\n",
    "\n",
    "def min_squares(n):\n",
    "    # base case\n",
    "    if n == 0:\n",
    "        return 0\n",
    "    ans = sys.maxsize\n",
    "    i = 1\n",
    "    while (i*i) <= n:\n",
    "        curr_ans = 1 + min_squares(n-(i*i))\n",
    "        ans = min(ans, curr_ans)\n",
    "        i+=1\n",
    "    return ans"
   ]
  },
  {
   "cell_type": "code",
   "execution_count": 4,
   "id": "33d058cb",
   "metadata": {},
   "outputs": [
    {
     "name": "stdout",
     "output_type": "stream",
     "text": [
      "Wall time: 1.61 s\n"
     ]
    },
    {
     "data": {
      "text/plain": [
       "2"
      ]
     },
     "execution_count": 4,
     "metadata": {},
     "output_type": "execute_result"
    }
   ],
   "source": [
    "%%time\n",
    "min_squares(41)"
   ]
  },
  {
   "cell_type": "code",
   "execution_count": 5,
   "id": "e8d4e1d5",
   "metadata": {},
   "outputs": [],
   "source": [
    "# Step 2: above solution taking a lot of time will use the memorization on the same recursion \n",
    "# to optimize the solution\n",
    "\n",
    "import sys\n",
    "\n",
    "def min_squares(n, dp):\n",
    "    # base case\n",
    "    if n == 0:\n",
    "        return 0\n",
    "    ans = sys.maxsize\n",
    "    i = 1\n",
    "    while (i*i) <= n:\n",
    "        if dp[n-(i*i)] == -1:\n",
    "            curr_ans = 1 + min_squares(n-(i*i), dp)\n",
    "            dp[n-(i*i)] = curr_ans\n",
    "        else:\n",
    "            curr_ans = dp[n-(i*i)]\n",
    "        ans = min(ans, curr_ans)\n",
    "        i+=1\n",
    "    return ans\n",
    "    \n",
    "    "
   ]
  },
  {
   "cell_type": "code",
   "execution_count": 9,
   "id": "8948a2ef",
   "metadata": {},
   "outputs": [
    {
     "name": "stdout",
     "output_type": "stream",
     "text": [
      "Wall time: 0 ns\n"
     ]
    },
    {
     "data": {
      "text/plain": [
       "1"
      ]
     },
     "execution_count": 9,
     "metadata": {},
     "output_type": "execute_result"
    }
   ],
   "source": [
    "%%time\n",
    "n = 100\n",
    "dp = [-1 for i in range(n)]\n",
    "min_squares(n, dp)"
   ]
  },
  {
   "cell_type": "code",
   "execution_count": 12,
   "id": "0224b387",
   "metadata": {},
   "outputs": [],
   "source": [
    "## Step 3: Use the Iterative Solution using Dp.\n",
    "def min_squares(n):\n",
    "    dp = [0 for i in range(n+1)]\n",
    "    for i in range(1, n+1):\n",
    "        ans = sys.maxsize\n",
    "        j = 1\n",
    "        while (j*j) <= i:\n",
    "            curr_ans = 1 + dp[i-(j*j)]\n",
    "            ans = min(ans, curr_ans)\n",
    "            j+=1\n",
    "        dp[i] = ans\n",
    "    return dp[-1]\n",
    "            \n",
    "            \n"
   ]
  },
  {
   "cell_type": "code",
   "execution_count": 17,
   "id": "e44599dc",
   "metadata": {},
   "outputs": [
    {
     "data": {
      "text/plain": [
       "1"
      ]
     },
     "execution_count": 17,
     "metadata": {},
     "output_type": "execute_result"
    }
   ],
   "source": [
    "min_squares(100)"
   ]
  },
  {
   "cell_type": "markdown",
   "id": "8459538f",
   "metadata": {},
   "source": [
    "## Find longest Increasing Subsequence"
   ]
  },
  {
   "cell_type": "code",
   "execution_count": 41,
   "id": "f3f63428",
   "metadata": {},
   "outputs": [],
   "source": [
    "# self code corrected\n",
    "def lis(arr,si,ei):\n",
    "    if si == ei+1:\n",
    "        return 0, 0\n",
    "    ans_inc = 1\n",
    "    for i in range(si+1, ei+1):\n",
    "        if arr[i] >= arr[si]:\n",
    "            curr_ans_inc = lis(arr, i, ei)[0]\n",
    "            ans_inc = max(ans_inc, 1 + curr_ans_inc)\n",
    "    ans_exc = lis(arr,si+1,ei)[1]\n",
    "    ans = max(ans_inc, ans_exc)\n",
    "    return (ans_inc, ans)"
   ]
  },
  {
   "cell_type": "code",
   "execution_count": 42,
   "id": "1ebe1814",
   "metadata": {},
   "outputs": [
    {
     "data": {
      "text/plain": [
       "(3, 4)"
      ]
     },
     "execution_count": 42,
     "metadata": {},
     "output_type": "execute_result"
    }
   ],
   "source": [
    "arr = [6,3,1,2,7,0,9]\n",
    "lis(arr, 0, 6)"
   ]
  },
  {
   "cell_type": "code",
   "execution_count": 37,
   "id": "a5e40efa",
   "metadata": {},
   "outputs": [],
   "source": [
    "## Instrucor Code\n",
    "def lis(arr, i, n):\n",
    "    # n is length of array\n",
    "    if i == n:\n",
    "        return 0, 0\n",
    "    including_max = 1\n",
    "    for j in range(i+1, n):\n",
    "        if arr[j] >= arr[i]:\n",
    "            further_including_max = lis(arr, j, n)[0]\n",
    "            including_max = max(including_max, 1+ further_including_max)\n",
    "    excluding_max = lis(arr, i+1, n)[1]\n",
    "    overall_max = max(including_max, excluding_max)\n",
    "    return including_max, overall_max\n",
    "        "
   ]
  },
  {
   "cell_type": "code",
   "execution_count": 52,
   "id": "be3c7039",
   "metadata": {},
   "outputs": [],
   "source": [
    "## Instrucor Code\n",
    "def lis(arr, i, n,dp):\n",
    "#     print(i)\n",
    "    # n is length of array\n",
    "    if i == n:\n",
    "        return 0, 0\n",
    "    including_max = 1\n",
    "    for j in range(i+1, n):\n",
    "        if arr[j] >= arr[i]:\n",
    "            if dp[j] == -1:\n",
    "                ans = lis(arr, j, n, dp)\n",
    "                dp[j] = ans\n",
    "                further_including_max = ans[0]\n",
    "            else:\n",
    "                further_including_max = dp[j][0]\n",
    "            including_max = max(including_max, 1+ further_including_max)\n",
    "    if dp[i+1] == -1:\n",
    "        ans = lis(arr, i+1, n, dp)\n",
    "        dp[i+1] = ans\n",
    "        excluding_max = ans[1]\n",
    "    else:\n",
    "        excluding_max = dp[i+1][1]\n",
    "    overall_max = max(including_max, excluding_max)\n",
    "    return including_max, overall_max\n",
    "        \n"
   ]
  },
  {
   "cell_type": "code",
   "execution_count": 53,
   "id": "2c41ad00",
   "metadata": {},
   "outputs": [
    {
     "data": {
      "text/plain": [
       "(3, 4)"
      ]
     },
     "execution_count": 53,
     "metadata": {},
     "output_type": "execute_result"
    }
   ],
   "source": [
    "arr = [6,3,1,2,7,0,9]\n",
    "n = len(arr)\n",
    "dp = [-1 for i in range(n+1)]\n",
    "lis(arr, 0, n, dp)"
   ]
  },
  {
   "cell_type": "code",
   "execution_count": 59,
   "id": "5ac8d2f4",
   "metadata": {},
   "outputs": [],
   "source": [
    "## Iterative Solution\n",
    "def lisI(arr):\n",
    "    n = len(arr)\n",
    "    dp = [[0,0] for i in range(n+1)]\n",
    "    \n",
    "    for i in range(n-1, -1, -1):\n",
    "        \n",
    "        including_max = 1\n",
    "        for j in range(i+1, n):\n",
    "            if arr[j] >= arr[i]:\n",
    "                including_max = max(including_max, 1+dp[j][0])\n",
    "        dp[i][0] = including_max\n",
    "        excluding_max = dp[i+1][1]\n",
    "        overall_max = max(including_max, excluding_max)\n",
    "        dp[i][1] = overall_max\n",
    "    return dp[0][1]\n",
    "        \n",
    "        "
   ]
  },
  {
   "cell_type": "code",
   "execution_count": 60,
   "id": "03c432a4",
   "metadata": {},
   "outputs": [
    {
     "data": {
      "text/plain": [
       "6"
      ]
     },
     "execution_count": 60,
     "metadata": {},
     "output_type": "execute_result"
    }
   ],
   "source": [
    "arr = [0, 8, 4, 12, 2, 10, 6, 14, 1, 9, 5, 13, 3, 11, 7, 15]\n",
    "lisI(arr)"
   ]
  },
  {
   "cell_type": "code",
   "execution_count": null,
   "id": "d559961e",
   "metadata": {},
   "outputs": [],
   "source": []
  },
  {
   "cell_type": "code",
   "execution_count": null,
   "id": "2a65a18d",
   "metadata": {},
   "outputs": [],
   "source": []
  },
  {
   "cell_type": "code",
   "execution_count": null,
   "id": "06aee97f",
   "metadata": {},
   "outputs": [],
   "source": []
  },
  {
   "cell_type": "code",
   "execution_count": null,
   "id": "b61759f0",
   "metadata": {},
   "outputs": [],
   "source": []
  },
  {
   "cell_type": "code",
   "execution_count": 67,
   "id": "ba1d4e06",
   "metadata": {},
   "outputs": [],
   "source": [
    "# Use the dp in the recursive solution itself\n",
    "def lis(arr,si,ei,dp):\n",
    "#     print(si)\n",
    "    if si >= ei:\n",
    "        return 0\n",
    "    ans = -1\n",
    "    for i in range(si+1, ei+1):\n",
    "        if dp[i] == -1:\n",
    "            curr_ans = lis(arr, i, ei,dp)\n",
    "            dp[i] = curr_ans\n",
    "        else:\n",
    "            curr_ans = dp[i]\n",
    "        if arr[i] >= arr[si]:\n",
    "            curr_ans += 1\n",
    "        ans = max(ans, curr_ans)\n",
    "    return ans"
   ]
  },
  {
   "cell_type": "code",
   "execution_count": 68,
   "id": "ec88e422",
   "metadata": {},
   "outputs": [
    {
     "data": {
      "text/plain": [
       "5"
      ]
     },
     "execution_count": 68,
     "metadata": {},
     "output_type": "execute_result"
    }
   ],
   "source": [
    "arr = [6,3,1,2,7,0,9,10,11]\n",
    "dp = [-1 for i in range(len(arr))]\n",
    "lis(arr, 0, 8,dp)"
   ]
  },
  {
   "cell_type": "code",
   "execution_count": 75,
   "id": "b26c683d",
   "metadata": {},
   "outputs": [],
   "source": [
    "## Iterative Solution\n",
    "\n",
    "def lis(arr):\n",
    "    n = len(arr)\n",
    "    dp = [1 for i in range(n)]\n",
    "    for i in range(n):\n",
    "        ans = -1\n",
    "        for j in range(0,i+1):\n",
    "            curr_ans = dp[j]\n",
    "            if arr[j] >= arr[i]:\n",
    "                curr_ans += 1\n",
    "            ans = max(ans, curr_ans)\n",
    "        dp[i] = ans\n",
    "    return dp[-1]\n",
    "        \n",
    "        "
   ]
  },
  {
   "cell_type": "code",
   "execution_count": 40,
   "id": "a6b531b3",
   "metadata": {},
   "outputs": [
    {
     "data": {
      "text/plain": [
       "(6, 6)"
      ]
     },
     "execution_count": 40,
     "metadata": {},
     "output_type": "execute_result"
    }
   ],
   "source": [
    "lis(arr,0,15)"
   ]
  },
  {
   "cell_type": "code",
   "execution_count": null,
   "id": "65e590b6",
   "metadata": {},
   "outputs": [],
   "source": []
  }
 ],
 "metadata": {
  "kernelspec": {
   "display_name": "Python 3 (ipykernel)",
   "language": "python",
   "name": "python3"
  },
  "language_info": {
   "codemirror_mode": {
    "name": "ipython",
    "version": 3
   },
   "file_extension": ".py",
   "mimetype": "text/x-python",
   "name": "python",
   "nbconvert_exporter": "python",
   "pygments_lexer": "ipython3",
   "version": "3.8.3"
  }
 },
 "nbformat": 4,
 "nbformat_minor": 5
}
