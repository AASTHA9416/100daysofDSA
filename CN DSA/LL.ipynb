{
 "cells": [
  {
   "cell_type": "code",
   "execution_count": 1,
   "id": "7fd006b3",
   "metadata": {},
   "outputs": [],
   "source": [
    "class Node:\n",
    "    def __init__(self,data):\n",
    "        self.data = data\n",
    "        self.next = None\n",
    "class Node:\n",
    "    def __init__(self,data):\n",
    "        self.data = data\n",
    "        self.next = None\n",
    "        \n",
    "def take_input():\n",
    "    inputList = list(map(int, input().split()))\n",
    "    head = None\n",
    "    for curr_data in inputList:\n",
    "        if curr_data == -1:\n",
    "            break\n",
    "        newNode = Node(curr_data)\n",
    "        if head is None:\n",
    "            head = newNode\n",
    "            last = head\n",
    "        else:\n",
    "            last.next = newNode\n",
    "            last = newNode\n",
    "    printLL(head)\n",
    "    return head\n",
    "\n",
    "def lengthLL(head):\n",
    "    l = 0\n",
    "    while head is not None:\n",
    "        l += 1\n",
    "        head = head.next\n",
    "    return l\n",
    "\n",
    "def insertatI(head, i, data):\n",
    "    if i < 0 or i > lengthLL(head):\n",
    "        return head\n",
    "    \n",
    "    count = 0\n",
    "    prev = None\n",
    "    curr = head\n",
    "    while count < i:\n",
    "        prev = curr\n",
    "        curr = curr.next\n",
    "        \n",
    "        count += 1\n",
    "    newNode = Node(data)\n",
    "    if prev is not None:\n",
    "        prev.next = newNode\n",
    "    else:\n",
    "        head = newNode\n",
    "    newNode.next = curr\n",
    "    \n",
    "    return head\n",
    "\n",
    "def printLL(head):\n",
    "    while head is not None:\n",
    "        print(str(head.data) + \"=>\" , end = \"\")\n",
    "        head = head.next\n",
    "    print(None)\n",
    "    return\n",
    "def reverseR1(head):\n",
    "    prev = None\n",
    "    curr = head\n",
    "    while curr is not None:\n",
    "        next = curr.next\n",
    "        curr.next = prev\n",
    "        prev = curr\n",
    "        curr = next\n",
    "    head = prev\n",
    "    return head\n",
    "def makeLL():\n",
    "    inputList = [i for i in range(14)]\n",
    "    head = None\n",
    "    for curr_data in inputList:\n",
    "        if curr_data == -1:\n",
    "            break\n",
    "        newNode = Node(curr_data)\n",
    "        if head is None:\n",
    "            head = newNode\n",
    "            last = head\n",
    "        else:\n",
    "            last.next = newNode\n",
    "            last = newNode\n",
    "    printLL(head)\n",
    "    return head"
   ]
  },
  {
   "cell_type": "code",
   "execution_count": 2,
   "id": "12d33096",
   "metadata": {},
   "outputs": [],
   "source": [
    "def reverseT(head):\n",
    "    prev = None\n",
    "    curr = head\n",
    "    while curr is not None:\n",
    "        next = curr.next\n",
    "        curr.next = prev\n",
    "        prev = curr\n",
    "        curr = next\n",
    "    return prev, head"
   ]
  },
  {
   "cell_type": "code",
   "execution_count": 25,
   "id": "d8e93de1",
   "metadata": {},
   "outputs": [],
   "source": [
    "def kReverse(head,k):\n",
    "    if head is None:\n",
    "        return None\n",
    "    h1 = head\n",
    "    t1 = head\n",
    "    count = 1\n",
    "    while count < k and t1 is not None:\n",
    "        t1 = t1.next\n",
    "        count += 1\n",
    "    if t1 is None:\n",
    "        a, b = reverseT(h1)\n",
    "        return a\n",
    "    h2 = t1.next\n",
    "    t1.next = None\n",
    "    hR, tR = reverseT(h1)\n",
    "    smallHead = kReverse(h2, k)\n",
    "    tR.next = smallHead\n",
    "    return hR\n",
    "    \n",
    "        "
   ]
  },
  {
   "cell_type": "code",
   "execution_count": 26,
   "id": "751c049e",
   "metadata": {},
   "outputs": [
    {
     "name": "stdout",
     "output_type": "stream",
     "text": [
      "0=>1=>2=>3=>4=>5=>6=>7=>8=>9=>10=>11=>12=>13=>None\n"
     ]
    }
   ],
   "source": [
    "head = makeLL()"
   ]
  },
  {
   "cell_type": "code",
   "execution_count": 27,
   "id": "00f6e56d",
   "metadata": {},
   "outputs": [],
   "source": [
    "head = kReverse(head,3)"
   ]
  },
  {
   "cell_type": "code",
   "execution_count": 28,
   "id": "37fb5e05",
   "metadata": {},
   "outputs": [
    {
     "name": "stdout",
     "output_type": "stream",
     "text": [
      "2=>1=>0=>5=>4=>3=>8=>7=>6=>11=>10=>9=>13=>12=>None\n"
     ]
    }
   ],
   "source": [
    "printLL(head)"
   ]
  },
  {
   "cell_type": "code",
   "execution_count": 2,
   "id": "7ac3d480",
   "metadata": {},
   "outputs": [],
   "source": [
    "def reverse(head, k):\n",
    "\n",
    "    if head == None:\n",
    "        return None\n",
    "    current = head\n",
    "    next = None\n",
    "    prev = None\n",
    "    count = 0\n",
    "\n",
    "    # Reverse first k nodes of the linked list\n",
    "    while(current is not None and count < k):\n",
    "        next = current.next\n",
    "        current.next = prev\n",
    "        prev = current\n",
    "        current = next\n",
    "        count += 1\n",
    "\n",
    "    # next is now a pointer to (k+1)th node\n",
    "    # recursively call for the list starting\n",
    "    # from current. And make rest of the list as\n",
    "    # next of first node\n",
    "    if next is not None:\n",
    "        head.next = reverse(next, k)\n",
    "\n",
    "    # prev is new head of the input list\n",
    "    return prev\n"
   ]
  },
  {
   "cell_type": "code",
   "execution_count": 3,
   "id": "8472c2cb",
   "metadata": {},
   "outputs": [
    {
     "name": "stdout",
     "output_type": "stream",
     "text": [
      "0=>1=>2=>3=>4=>5=>6=>7=>8=>9=>10=>11=>12=>13=>None\n"
     ]
    }
   ],
   "source": [
    "head = makeLL()"
   ]
  },
  {
   "cell_type": "code",
   "execution_count": 4,
   "id": "a3d02fc2",
   "metadata": {},
   "outputs": [],
   "source": [
    "head = reverse(head,3)"
   ]
  },
  {
   "cell_type": "code",
   "execution_count": 5,
   "id": "153b7f4a",
   "metadata": {},
   "outputs": [
    {
     "name": "stdout",
     "output_type": "stream",
     "text": [
      "2=>1=>0=>5=>4=>3=>8=>7=>6=>11=>10=>9=>13=>12=>None\n"
     ]
    }
   ],
   "source": [
    "printLL(head)"
   ]
  },
  {
   "cell_type": "code",
   "execution_count": 53,
   "id": "2866dde2",
   "metadata": {},
   "outputs": [],
   "source": [
    "def bubbleSort(head):\n",
    "    swap = 0\n",
    "    while True:\n",
    "        swap = 0\n",
    "        temp = head\n",
    "        while temp.next is not None:\n",
    "            if temp.data > temp.next.data:\n",
    "                # make a swap\n",
    "                swap += 1\n",
    "                p = temp.data\n",
    "                temp.data = temp.next.data\n",
    "                temp.next.data = p\n",
    "                temp = temp.next\n",
    "            else:\n",
    "                temp = temp.next\n",
    "        if swap == 0:\n",
    "            break\n",
    "    return head"
   ]
  },
  {
   "cell_type": "code",
   "execution_count": 54,
   "id": "0d629157",
   "metadata": {},
   "outputs": [
    {
     "name": "stdout",
     "output_type": "stream",
     "text": [
      "1 3 5 2 4 6\n",
      "1=>3=>5=>2=>4=>6=>None\n"
     ]
    }
   ],
   "source": [
    "head  = take_input()"
   ]
  },
  {
   "cell_type": "code",
   "execution_count": 55,
   "id": "a1fdedd1",
   "metadata": {},
   "outputs": [
    {
     "name": "stdout",
     "output_type": "stream",
     "text": [
      "1=>2=>3=>4=>5=>6=>None\n"
     ]
    }
   ],
   "source": [
    "head = bubbleSort(head)\n",
    "printLL(head)"
   ]
  },
  {
   "cell_type": "code",
   "execution_count": 1,
   "id": "7dbcca8a",
   "metadata": {},
   "outputs": [],
   "source": [
    "class Node:\n",
    "    def __init__(data,next):\n",
    "        self.data = data\n",
    "        self.next = next\n"
   ]
  },
  {
   "cell_type": "code",
   "execution_count": null,
   "id": "b3898e6a",
   "metadata": {},
   "outputs": [],
   "source": []
  }
 ],
 "metadata": {
  "kernelspec": {
   "display_name": "Python 3 (ipykernel)",
   "language": "python",
   "name": "python3"
  },
  "language_info": {
   "codemirror_mode": {
    "name": "ipython",
    "version": 3
   },
   "file_extension": ".py",
   "mimetype": "text/x-python",
   "name": "python",
   "nbconvert_exporter": "python",
   "pygments_lexer": "ipython3",
   "version": "3.8.3"
  }
 },
 "nbformat": 4,
 "nbformat_minor": 5
}
