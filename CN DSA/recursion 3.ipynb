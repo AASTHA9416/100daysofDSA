{
 "cells": [
  {
   "cell_type": "markdown",
   "id": "c18770c4",
   "metadata": {},
   "source": [
    "# Recursion 3"
   ]
  },
  {
   "cell_type": "markdown",
   "id": "905d4ea6",
   "metadata": {},
   "source": [
    "##  Find all the subsequences of a given string"
   ]
  },
  {
   "cell_type": "code",
   "execution_count": 67,
   "id": "88bca405",
   "metadata": {},
   "outputs": [],
   "source": [
    "def all_subseq(s):\n",
    "    if len(s) == 0:\n",
    "        return [\"\"]\n",
    "    small_op = all_subseq(s[1:])\n",
    "    to_add = [s[0]+i for i in small_op]\n",
    "    bigger_op = small_op + to_add\n",
    "    return bigger_op"
   ]
  },
  {
   "cell_type": "code",
   "execution_count": 68,
   "id": "a8c12412",
   "metadata": {},
   "outputs": [
    {
     "data": {
      "text/plain": [
       "['', 'c', 'b', 'bc', 'a', 'ac', 'ab', 'abc']"
      ]
     },
     "execution_count": 68,
     "metadata": {},
     "output_type": "execute_result"
    }
   ],
   "source": [
    "all_subseq(\"abc\")"
   ]
  },
  {
   "cell_type": "code",
   "execution_count": 21,
   "id": "906bbd50",
   "metadata": {},
   "outputs": [
    {
     "name": "stdout",
     "output_type": "stream",
     "text": [
      "['', 'd', 'c', 'cd', 'b', 'bd', 'bc', 'bcd', 'a', 'ad', 'ac', 'acd', 'ab', 'abd', 'abc', 'abcd']\n"
     ]
    }
   ],
   "source": [
    "# Do it iteratively\n",
    "s = \"abcd\"\n",
    "op = [\"\"]\n",
    "for i in s[::-1]:\n",
    "    temp = [i+e for e in op]\n",
    "    op.extend(temp)\n",
    "print(op)"
   ]
  },
  {
   "cell_type": "code",
   "execution_count": 15,
   "id": "7d96c0ac",
   "metadata": {},
   "outputs": [
    {
     "name": "stdout",
     "output_type": "stream",
     "text": [
      "cba\n"
     ]
    }
   ],
   "source": [
    "s = \"abc\"\n",
    "print(s[::-1])"
   ]
  },
  {
   "cell_type": "markdown",
   "id": "0c672105",
   "metadata": {},
   "source": [
    "## Return keypad combinations"
   ]
  },
  {
   "cell_type": "code",
   "execution_count": 24,
   "id": "5120cd55",
   "metadata": {},
   "outputs": [],
   "source": [
    "num_map = {2:\"abc\", 3:\"def\", 4:\"ghi\", 5:\"jkl\", 6:\"mno\", 7:\"pqrs\", 8:\"tuv\", 9:\"wxyz\"}\n",
    "def get_combs(n):\n",
    "    if n == 0:\n",
    "        return [\"\"]\n",
    "    small_int = n//10\n",
    "    last_digit = n%10\n",
    "    \n",
    "    small_output = get_combs(small_int)\n",
    "    bigger_output = []\n",
    "    for c in num_map[last_digit]:\n",
    "        bigger_output.extend([j+c for j in small_output])\n",
    "    return bigger_output"
   ]
  },
  {
   "cell_type": "code",
   "execution_count": 26,
   "id": "625dd337",
   "metadata": {},
   "outputs": [
    {
     "data": {
      "text/plain": [
       "['adg',\n",
       " 'bdg',\n",
       " 'cdg',\n",
       " 'aeg',\n",
       " 'beg',\n",
       " 'ceg',\n",
       " 'afg',\n",
       " 'bfg',\n",
       " 'cfg',\n",
       " 'adh',\n",
       " 'bdh',\n",
       " 'cdh',\n",
       " 'aeh',\n",
       " 'beh',\n",
       " 'ceh',\n",
       " 'afh',\n",
       " 'bfh',\n",
       " 'cfh',\n",
       " 'adi',\n",
       " 'bdi',\n",
       " 'cdi',\n",
       " 'aei',\n",
       " 'bei',\n",
       " 'cei',\n",
       " 'afi',\n",
       " 'bfi',\n",
       " 'cfi']"
      ]
     },
     "execution_count": 26,
     "metadata": {},
     "output_type": "execute_result"
    }
   ],
   "source": [
    "get_combs(234)"
   ]
  },
  {
   "cell_type": "code",
   "execution_count": 37,
   "id": "bc47a38e",
   "metadata": {},
   "outputs": [],
   "source": [
    "# Factorial : Dont Return just print\n",
    "def fact(n):\n",
    "    if n == 0:\n",
    "        return 1\n",
    "    return n * fact(n-1)\n",
    "        "
   ]
  },
  {
   "cell_type": "code",
   "execution_count": 38,
   "id": "97765024",
   "metadata": {},
   "outputs": [
    {
     "data": {
      "text/plain": [
       "120"
      ]
     },
     "execution_count": 38,
     "metadata": {},
     "output_type": "execute_result"
    }
   ],
   "source": [
    "fact(5)"
   ]
  },
  {
   "cell_type": "code",
   "execution_count": 39,
   "id": "d7d4259c",
   "metadata": {},
   "outputs": [],
   "source": [
    "def printFact(n, ans):\n",
    "    if n == 0:\n",
    "        print(ans)\n",
    "        return\n",
    "    ans *= n\n",
    "    printFact(n-1, ans)"
   ]
  },
  {
   "cell_type": "code",
   "execution_count": 41,
   "id": "f6e3dfd3",
   "metadata": {},
   "outputs": [
    {
     "name": "stdout",
     "output_type": "stream",
     "text": [
      "120\n"
     ]
    }
   ],
   "source": [
    "printFact(5,1)"
   ]
  },
  {
   "cell_type": "markdown",
   "id": "d941687e",
   "metadata": {},
   "source": [
    "## Print minimum of an Array"
   ]
  },
  {
   "cell_type": "code",
   "execution_count": 47,
   "id": "e5271a6b",
   "metadata": {},
   "outputs": [],
   "source": [
    "import sys\n",
    "def minArr(arr):\n",
    "    if len(arr) == 0:\n",
    "        return sys.maxsize\n",
    "    return min(arr[0], minArr(arr[1:]))"
   ]
  },
  {
   "cell_type": "code",
   "execution_count": 50,
   "id": "543e61eb",
   "metadata": {},
   "outputs": [
    {
     "data": {
      "text/plain": [
       "-100"
      ]
     },
     "execution_count": 50,
     "metadata": {},
     "output_type": "execute_result"
    }
   ],
   "source": [
    "minArr([2,4,-100])"
   ]
  },
  {
   "cell_type": "code",
   "execution_count": 59,
   "id": "9f62a15a",
   "metadata": {},
   "outputs": [],
   "source": [
    "def printMin(arr, m):\n",
    "    if len(arr) == 0:\n",
    "        print(m)\n",
    "        return \n",
    "    m = min(m,arr[0])\n",
    "    printMin(arr[1:], m)\n",
    "    "
   ]
  },
  {
   "cell_type": "code",
   "execution_count": 60,
   "id": "8b3a89f6",
   "metadata": {},
   "outputs": [
    {
     "name": "stdout",
     "output_type": "stream",
     "text": [
      "-12\n"
     ]
    }
   ],
   "source": [
    "printMin([1,-12,3] , 1000)"
   ]
  },
  {
   "cell_type": "markdown",
   "id": "e7db3dd3",
   "metadata": {},
   "source": [
    "## Print all the subsequences of the string instead of returning"
   ]
  },
  {
   "cell_type": "code",
   "execution_count": 69,
   "id": "a0acbcf0",
   "metadata": {},
   "outputs": [],
   "source": [
    "# Code that returns\n",
    "def all_subseq(s):\n",
    "    if len(s) == 0:\n",
    "        return [\"\"]\n",
    "    small_op = all_subseq(s[1:])\n",
    "    to_add = [s[0]+i for i in small_op]\n",
    "    bigger_op = small_op + to_add\n",
    "    return bigger_op"
   ]
  },
  {
   "cell_type": "code",
   "execution_count": 86,
   "id": "e132eefc",
   "metadata": {},
   "outputs": [],
   "source": [
    "# Code that just prints\n",
    "def printSS(s, output):\n",
    "    if len(s) == 0:\n",
    "        print(output)\n",
    "        return \n",
    "    output.extend([i+s[0] for i in output])\n",
    "    printSS(s[1:], output)\n",
    "    "
   ]
  },
  {
   "cell_type": "code",
   "execution_count": 87,
   "id": "7f1fa917",
   "metadata": {},
   "outputs": [
    {
     "name": "stdout",
     "output_type": "stream",
     "text": [
      "['', 'a', 'b', 'ab', 'c', 'ac', 'bc', 'abc']\n"
     ]
    }
   ],
   "source": [
    "printSS(\"abc\",[\"\"])"
   ]
  },
  {
   "cell_type": "code",
   "execution_count": 88,
   "id": "1c84eac0",
   "metadata": {},
   "outputs": [
    {
     "data": {
      "text/plain": [
       "['', 'c', 'b', 'bc', 'a', 'ac', 'ab', 'abc']"
      ]
     },
     "execution_count": 88,
     "metadata": {},
     "output_type": "execute_result"
    }
   ],
   "source": [
    "all_subseq(\"abc\")"
   ]
  },
  {
   "cell_type": "code",
   "execution_count": 3,
   "id": "f87bacf4",
   "metadata": {},
   "outputs": [],
   "source": [
    "# Instructor Code\n",
    "def printSubs(s, op):\n",
    "    if len(s) == 0:\n",
    "        print(op)\n",
    "        return\n",
    "    # without including\n",
    "    printSubs(s[1:],op)\n",
    "    newoutput = op + s[0]\n",
    "    printSubs(s[1:], newoutput)"
   ]
  },
  {
   "cell_type": "code",
   "execution_count": 4,
   "id": "cec2b6fa",
   "metadata": {},
   "outputs": [
    {
     "name": "stdout",
     "output_type": "stream",
     "text": [
      "\n",
      "c\n",
      "b\n",
      "bc\n",
      "a\n",
      "ac\n",
      "ab\n",
      "abc\n"
     ]
    }
   ],
   "source": [
    "printSubs('abc',\"\")"
   ]
  },
  {
   "cell_type": "code",
   "execution_count": null,
   "id": "a8b52621",
   "metadata": {},
   "outputs": [],
   "source": []
  }
 ],
 "metadata": {
  "kernelspec": {
   "display_name": "Python 3 (ipykernel)",
   "language": "python",
   "name": "python3"
  },
  "language_info": {
   "codemirror_mode": {
    "name": "ipython",
    "version": 3
   },
   "file_extension": ".py",
   "mimetype": "text/x-python",
   "name": "python",
   "nbconvert_exporter": "python",
   "pygments_lexer": "ipython3",
   "version": "3.8.3"
  }
 },
 "nbformat": 4,
 "nbformat_minor": 5
}
