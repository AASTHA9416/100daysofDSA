{
 "cells": [
  {
   "cell_type": "markdown",
   "id": "b0b4c7f3",
   "metadata": {},
   "source": [
    "# Huffman Coding"
   ]
  },
  {
   "cell_type": "code",
   "execution_count": 69,
   "id": "0285300e",
   "metadata": {},
   "outputs": [],
   "source": [
    "import heapq\n",
    "import os\n",
    "class BinaryTreeNode:\n",
    "    def __init__(self, value, freq):\n",
    "        self.value = value\n",
    "        self.freq = freq\n",
    "        self.left = None\n",
    "        self.right = None\n",
    "    \n",
    "    def __lt__(self, other):\n",
    "        return self.freq < other.freq\n",
    "    \n",
    "    def __eq__(self, other):\n",
    "        return self.freq == other.freq\n",
    "        \n",
    "class HuffmanCoding:\n",
    "    def __init__(self,path):\n",
    "        self.path = path\n",
    "        self.__heap = []\n",
    "        self.__codes = {}\n",
    "        self.__reverse_Codes = {}\n",
    "        \n",
    "    def __make_freq_dict(self, text):\n",
    "        freq_dict = {}\n",
    "        for char in text:\n",
    "            freq_dict[char] = freq_dict.get(char, 0) + 1\n",
    "        print(freq_dict)\n",
    "        return freq_dict\n",
    "    \n",
    "    def __buildHeap(self, freq_dict):\n",
    "        for key in freq_dict:\n",
    "            freq = freq_dict[key]\n",
    "            binaryTreeNode = BinaryTreeNode(key, freq)\n",
    "            heapq.heappush(self.__heap, binaryTreeNode)\n",
    "            \n",
    "    def __makeBinaryTree(self):\n",
    "        while len(self.__heap) > 1:\n",
    "            min1 = heapq.heappop(self.__heap)\n",
    "            min2 = heapq.heappop(self.__heap)\n",
    "            freq_sum = min1.freq + min2.freq\n",
    "            \n",
    "            binTreeNode = BinaryTreeNode(None , freq_sum)\n",
    "            binTreeNode.left = min1\n",
    "            binTreeNode.right = min2\n",
    "            heapq.heappush(self.__heap, binTreeNode)\n",
    "        return\n",
    "    \n",
    "    \n",
    "    def __constructCodesHelp(self, root, curr_bits):\n",
    "        if root is None:\n",
    "            return\n",
    "        if root.value is not None:\n",
    "            self.__codes[root.value] = curr_bits\n",
    "            self.__reverse_Codes[curr_bits] = root.value\n",
    "            return\n",
    "        self.__constructCodesHelp(root.left, curr_bits + \"0\")\n",
    "        self.__constructCodesHelp(root.right, curr_bits + \"1\")\n",
    "    \n",
    "    def __constructCodes(self):\n",
    "        root = heapq.heappop(self.__heap)\n",
    "        self.__constructCodesHelp(root, \"\")\n",
    "        \n",
    "    def __encodeText(self, text):\n",
    "        encoded_text = \"\"\n",
    "        for char in text:\n",
    "            encoded_text += self.__codes[char]\n",
    "        return encoded_text\n",
    "    \n",
    "    def __paddingText(self, encoded_text):\n",
    "        to_pad = 8 - (len(self.__codes) % 8)\n",
    "        for i in range(to_pad):\n",
    "            encoded_text += \"0\"\n",
    "        padded_info = \"{0:08b}\".format(to_pad)\n",
    "        padded_encoded_text = padded_info + encoded_text\n",
    "        return padded_encoded_text\n",
    "    \n",
    "    def __getBytesArray(self, padded_Encoded_text):\n",
    "        array = []\n",
    "        for i in range(0, len(padded_Encoded_text), 8):\n",
    "            byte = padded_Encoded_text[i:i+8]\n",
    "            array.append(int(byte, 2))\n",
    "        return array\n",
    "            \n",
    "        \n",
    "        \n",
    "    \n",
    "    def compress(self):\n",
    "        file_name , file_extension = os.path.splitext(self.path)\n",
    "        output_path = file_name + \".bin\"\n",
    "        # get file from path \n",
    "        with open(self.path, \"r+\") as f:\n",
    "            text = f.read()\n",
    "            text.rstrip()\n",
    "        # read text from file\n",
    "        \n",
    "        # make frequency dictionay using the text\n",
    "        freq_dict = self.__make_freq_dict(text)\n",
    "        \n",
    "        \n",
    "        # construct the heap from the freq dictionary\n",
    "        self.__buildHeap(freq_dict)\n",
    "        \n",
    "        # construct the binary tree from the heap\n",
    "        self.__makeBinaryTree()\n",
    "        \n",
    "        \n",
    "        # Construct the codes from the binary tree\n",
    "        self.__constructCodes()\n",
    "        \n",
    "        # Create the encoded text\n",
    "        \n",
    "        encoded_text = self.__encodeText(text)\n",
    "        \n",
    "        # padding the Encoded Text\n",
    "        padded_Encoded_text = self.__paddingText(encoded_text)\n",
    "        \n",
    "        # Put the encoded text into the binary file \n",
    "        bytes_array = self.__getBytesArray(padded_Encoded_text)\n",
    "        \n",
    "        final_bytes = bytes(bytes_array)\n",
    "        \n",
    "        # return the binary file as output\n",
    "        with open(output_path, \"wb\") as output:\n",
    "            output.write(final_bytes)\n",
    "        return output_path\n",
    "    \n",
    "    def __removePadding(self, bit_string):\n",
    "        padded_info = bit_string[:8]\n",
    "        padded_info = int(padded_info, 2)\n",
    "        \n",
    "        text_removed_padding = bit_string[8: -1*padded_info]\n",
    "        return text_removed_padding\n",
    "    \n",
    "    def __decode_Text(self, actual_text):\n",
    "        curr_str = \"\"\n",
    "        word_str = \"\"\n",
    "        for bit in actual_text:\n",
    "            curr_str += bit\n",
    "            if curr_str in self.__reverse_Codes:\n",
    "                word_str += self.__reverse_Codes[curr_str]\n",
    "                curr_str = \"\"\n",
    "        return word_str\n",
    "        \n",
    "    \n",
    "    def decompress(self, input_path):\n",
    "        file_name, file_extension = os.path.splitext(self.path)\n",
    "        output_path = file_name + \"_decompressed\" + \".txt\"\n",
    "        print(output_path)\n",
    "        with open(input_path, \"rb\") as file:\n",
    "            bit_string = \"\"\n",
    "            byte = file.read(1)\n",
    "            while byte:\n",
    "                byte = ord(byte)\n",
    "                bits = bin(byte)[2:].rjust(8,'0')\n",
    "                bit_string += bits\n",
    "                byte = file.read(1)\n",
    "        actual_text = self.__removePadding(bit_string)\n",
    "        decoded_text = self.__decode_Text(actual_text)\n",
    "        print(decoded_text)\n",
    "        with open(output_path, \"w\") as output:\n",
    "            output.write(decoded_text)\n",
    "        return\n",
    "            "
   ]
  },
  {
   "cell_type": "code",
   "execution_count": 70,
   "id": "e704c307",
   "metadata": {},
   "outputs": [],
   "source": [
    "h = HuffmanCoding(\"huffman.txt\")"
   ]
  },
  {
   "cell_type": "code",
   "execution_count": 71,
   "id": "747d9a9c",
   "metadata": {},
   "outputs": [
    {
     "name": "stdout",
     "output_type": "stream",
     "text": [
      "{'a': 9, 'b': 5, 'c': 5, 'd': 5, 'e': 6, 's': 16, 'f': 8, 'r': 2, 'v': 1, 'g': 1}\n"
     ]
    }
   ],
   "source": [
    "output_path =   h.compress()"
   ]
  },
  {
   "cell_type": "code",
   "execution_count": 72,
   "id": "484a69b8",
   "metadata": {},
   "outputs": [
    {
     "name": "stdout",
     "output_type": "stream",
     "text": [
      "huffman_decompressed.txt\n",
      "abcdedsafrssefffsaaabbbbccssssessaasefescfddasecvrffsgsasdb\n"
     ]
    }
   ],
   "source": [
    "h.decompress(output_path)"
   ]
  },
  {
   "cell_type": "code",
   "execution_count": 68,
   "id": "e371fdcd",
   "metadata": {},
   "outputs": [
    {
     "name": "stdout",
     "output_type": "stream",
     "text": [
      "huffman.bin\n"
     ]
    }
   ],
   "source": [
    "print(output_path)"
   ]
  },
  {
   "cell_type": "code",
   "execution_count": 36,
   "id": "bb5ba074",
   "metadata": {},
   "outputs": [],
   "source": [
    "a = 'abcabcttt'\n",
    "d = {}\n",
    "for i in a:\n",
    "    d[i] = d.get(i, 0) + 1"
   ]
  },
  {
   "cell_type": "code",
   "execution_count": 37,
   "id": "59496e19",
   "metadata": {},
   "outputs": [
    {
     "data": {
      "text/plain": [
       "{'a': 2, 'b': 2, 'c': 2, 't': 3}"
      ]
     },
     "execution_count": 37,
     "metadata": {},
     "output_type": "execute_result"
    }
   ],
   "source": [
    "d"
   ]
  },
  {
   "cell_type": "code",
   "execution_count": null,
   "id": "6879f26b",
   "metadata": {},
   "outputs": [],
   "source": []
  }
 ],
 "metadata": {
  "kernelspec": {
   "display_name": "Python 3 (ipykernel)",
   "language": "python",
   "name": "python3"
  },
  "language_info": {
   "codemirror_mode": {
    "name": "ipython",
    "version": 3
   },
   "file_extension": ".py",
   "mimetype": "text/x-python",
   "name": "python",
   "nbconvert_exporter": "python",
   "pygments_lexer": "ipython3",
   "version": "3.8.3"
  }
 },
 "nbformat": 4,
 "nbformat_minor": 5
}
