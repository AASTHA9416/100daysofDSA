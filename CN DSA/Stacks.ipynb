{
 "cells": [
  {
   "cell_type": "markdown",
   "id": "1ef82c27",
   "metadata": {},
   "source": [
    "# Stack"
   ]
  },
  {
   "cell_type": "markdown",
   "id": "a18d5e52",
   "metadata": {},
   "source": [
    "## Stack using Array"
   ]
  },
  {
   "cell_type": "code",
   "execution_count": 46,
   "id": "22c64da9",
   "metadata": {},
   "outputs": [],
   "source": [
    "class Stack:\n",
    "    def __init__(self):\n",
    "        self.__data = []\n",
    "    \n",
    "    def push(self,item):\n",
    "        self.__data.append(item)\n",
    "    \n",
    "    def pop(self):\n",
    "        if self.isEmpty():\n",
    "            print(\"Stack is Empty\")\n",
    "            return \n",
    "        return self.__data.pop()\n",
    "    \n",
    "    def top(self):\n",
    "        if self.isEmpty():\n",
    "            print(\"Stack is Empty\")\n",
    "            return\n",
    "        else:\n",
    "            return self.__data[len(self.__data)-1]\n",
    "    \n",
    "    def size(self):\n",
    "        return len(self.__data)\n",
    "    \n",
    "    def isEmpty(self):\n",
    "        return self.size() == 0"
   ]
  },
  {
   "cell_type": "code",
   "execution_count": 27,
   "id": "2f943e2a",
   "metadata": {},
   "outputs": [],
   "source": [
    "s = Stack()"
   ]
  },
  {
   "cell_type": "code",
   "execution_count": 28,
   "id": "abd263b4",
   "metadata": {},
   "outputs": [],
   "source": [
    "s.push(10)\n",
    "s.push(30)\n",
    "s.push(20)"
   ]
  },
  {
   "cell_type": "code",
   "execution_count": 21,
   "id": "64e6634d",
   "metadata": {},
   "outputs": [
    {
     "name": "stdout",
     "output_type": "stream",
     "text": [
      "20\n",
      "30\n",
      "10\n"
     ]
    }
   ],
   "source": [
    "while not s.isEmpty():\n",
    "    print(s.pop())"
   ]
  },
  {
   "cell_type": "code",
   "execution_count": 29,
   "id": "83f27dc2",
   "metadata": {},
   "outputs": [
    {
     "data": {
      "text/plain": [
       "20"
      ]
     },
     "execution_count": 29,
     "metadata": {},
     "output_type": "execute_result"
    }
   ],
   "source": [
    "s.top()"
   ]
  },
  {
   "cell_type": "markdown",
   "id": "00be3f69",
   "metadata": {},
   "source": [
    "## Stack Using Linked List\n",
    "\n",
    "Implement the following functions:\n",
    "\n",
    "1. push()\n",
    "\n",
    "2. pop()\n",
    "\n",
    "3. top()\n",
    "\n",
    "4. size()\n",
    "\n",
    "5. isEmpty()\n",
    "\n",
    "**All Should be of Order O(1)**"
   ]
  },
  {
   "cell_type": "code",
   "execution_count": 38,
   "id": "f68cbe64",
   "metadata": {},
   "outputs": [],
   "source": [
    "class Node:\n",
    "    def __init__(self,data):\n",
    "        self.data = data\n",
    "        self.next = None\n",
    "\n",
    "class Stack:\n",
    "    \n",
    "    def __init__(self):\n",
    "        self.__head = None\n",
    "        self.__count = 0\n",
    "        \n",
    "    def push(self,item):\n",
    "        newNode = Node(item)\n",
    "        newNode.next = self.__head\n",
    "        self.__head = newNode\n",
    "        self.__count += 1\n",
    "        \n",
    "    def pop(self):\n",
    "        if self.isEmpty():\n",
    "            print(\"Empty\")\n",
    "            return\n",
    "        else:\n",
    "            data = self.__head.data\n",
    "            self.__head = self.__head.next\n",
    "            self.__count -= 1\n",
    "            return data\n",
    "        \n",
    "    def top(self):\n",
    "        if self.isEmpty():\n",
    "            print(\"Empty\")\n",
    "            return\n",
    "        else:\n",
    "            return self.__head.data\n",
    "        \n",
    "    def size(self):\n",
    "        return self.__count\n",
    "    \n",
    "    def isEmpty(self):\n",
    "        return self.size() == 0"
   ]
  },
  {
   "cell_type": "code",
   "execution_count": 43,
   "id": "e47695fe",
   "metadata": {},
   "outputs": [
    {
     "name": "stdout",
     "output_type": "stream",
     "text": [
      "2\n",
      "20\n",
      "10\n"
     ]
    }
   ],
   "source": [
    "s = Stack()\n",
    "s.push(10)\n",
    "s.push(20)\n",
    "print(s.size())\n",
    "while not s.isEmpty():\n",
    "    print(s.pop())"
   ]
  },
  {
   "cell_type": "markdown",
   "id": "8a6965dd",
   "metadata": {},
   "source": [
    "## Inbuilt Stack in Python"
   ]
  },
  {
   "cell_type": "markdown",
   "id": "68159f57",
   "metadata": {},
   "source": [
    "**List can be used**"
   ]
  },
  {
   "cell_type": "markdown",
   "id": "4da29b59",
   "metadata": {},
   "source": [
    "## queues package in python"
   ]
  },
  {
   "cell_type": "code",
   "execution_count": 44,
   "id": "cb9ffbc2",
   "metadata": {},
   "outputs": [
    {
     "name": "stdout",
     "output_type": "stream",
     "text": [
      "1\n",
      "2\n",
      "3\n"
     ]
    }
   ],
   "source": [
    "import queue\n",
    "q = queue.Queue()\n",
    "q.put(1)\n",
    "q.put(2)\n",
    "q.put(3)\n",
    "\n",
    "while not q.empty():\n",
    "    print(q.get())"
   ]
  },
  {
   "cell_type": "markdown",
   "id": "f8032ce1",
   "metadata": {},
   "source": [
    "## stack using inbuilt queue library"
   ]
  },
  {
   "cell_type": "code",
   "execution_count": 45,
   "id": "6727426c",
   "metadata": {},
   "outputs": [
    {
     "name": "stdout",
     "output_type": "stream",
     "text": [
      "3\n",
      "2\n",
      "1\n"
     ]
    }
   ],
   "source": [
    "s = queue.LifoQueue()\n",
    "s.put(1)\n",
    "s.put(2)\n",
    "s.put(3)\n",
    "\n",
    "while not s.empty():\n",
    "    print(s.get())"
   ]
  },
  {
   "cell_type": "markdown",
   "id": "8ecfb599",
   "metadata": {},
   "source": [
    "## Balanced Strings "
   ]
  },
  {
   "cell_type": "code",
   "execution_count": 82,
   "id": "f5fd70e2",
   "metadata": {},
   "outputs": [
    {
     "name": "stdout",
     "output_type": "stream",
     "text": [
      "(\n",
      "{\n",
      "Not\n",
      "{'}': '{', ']': '[', ')': '('}\n"
     ]
    }
   ],
   "source": [
    "x = \"{(a+b) + c}{\"\n",
    "\n",
    "op = [\"{\", \"[\", \"(\"]\n",
    "cl = [\"}\",\"]\",\")\"]\n",
    "pairs = {i:j for i,j in zip(cl,op)}\n",
    "s = Stack()\n",
    "\n",
    "for i in x:\n",
    "    if i in op:\n",
    "        s.push(i)\n",
    "    if i in cl:\n",
    "        if pairs[i] == s.top():\n",
    "            print(s.pop())\n",
    "        else:\n",
    "            print(\"Not Balanced\")\n",
    "if s.isEmpty():\n",
    "    print(\"Balanced\")\n",
    "else:\n",
    "    print(\"Not\")\n",
    "    \n",
    "print(pairs)"
   ]
  },
  {
   "cell_type": "code",
   "execution_count": 84,
   "id": "6b47a48b",
   "metadata": {},
   "outputs": [],
   "source": [
    "def balanced_check(string):\n",
    "    op = [\"{\", \"[\", \"(\"]\n",
    "    cl = [\"}\",\"]\",\")\"]\n",
    "    pairs = {i:j for i,j in zip(cl,op)}\n",
    "    s = Stack()\n",
    "    for i in string:\n",
    "        if i in op:\n",
    "            s.push(i)\n",
    "        if i in cl:\n",
    "            if pairs[i] == s.top():\n",
    "                s.pop()\n",
    "            else:\n",
    "                return False\n",
    "    return s.isEmpty()\n"
   ]
  },
  {
   "cell_type": "code",
   "execution_count": 87,
   "id": "169ac617",
   "metadata": {},
   "outputs": [
    {
     "name": "stdout",
     "output_type": "stream",
     "text": [
      "{(a+b))}\n"
     ]
    },
    {
     "data": {
      "text/plain": [
       "False"
      ]
     },
     "execution_count": 87,
     "metadata": {},
     "output_type": "execute_result"
    }
   ],
   "source": [
    "string = input()\n",
    "balanced_check(string)"
   ]
  },
  {
   "cell_type": "code",
   "execution_count": 92,
   "id": "3a015b45",
   "metadata": {},
   "outputs": [],
   "source": [
    "def isBalanced(string):\n",
    "    s = []\n",
    "    for i in string:\n",
    "        if i in \"[{(\":\n",
    "            s.append(i)\n",
    "        if i == \"]\":\n",
    "            if not s or s[-1] != \"[\":\n",
    "                return False\n",
    "            s.pop()\n",
    "        elif i == \"}\":\n",
    "            if not s or s[-1] != \"{\":\n",
    "                return False\n",
    "            s.pop()\n",
    "        elif i == \")\":\n",
    "            if not s or s[-1] != \"(\":\n",
    "                return False\n",
    "            s.pop()\n",
    "    return not s"
   ]
  },
  {
   "cell_type": "code",
   "execution_count": 94,
   "id": "dbdbb5dd",
   "metadata": {},
   "outputs": [
    {
     "name": "stdout",
     "output_type": "stream",
     "text": [
      "(a+b))\n"
     ]
    },
    {
     "data": {
      "text/plain": [
       "False"
      ]
     },
     "execution_count": 94,
     "metadata": {},
     "output_type": "execute_result"
    }
   ],
   "source": [
    "string = input()\n",
    "isBalanced(string)"
   ]
  },
  {
   "cell_type": "markdown",
   "id": "4fd0168d",
   "metadata": {},
   "source": [
    "## Reverse a Stack Using Another Stack"
   ]
  },
  {
   "cell_type": "code",
   "execution_count": 6,
   "id": "5da8039a",
   "metadata": {},
   "outputs": [],
   "source": [
    "def revStack(s1, s2):\n",
    "    if len(s1) <= 1:\n",
    "        return\n",
    "    while len(s1) != 1:\n",
    "        s2.append(s1.pop())\n",
    "    if len(s1) != 0:\n",
    "        x = s1.pop()\n",
    "    while len(s2) != 0:\n",
    "        s1.append(s2.pop())\n",
    "    revStack(s1,s2)\n",
    "    s1.append(x)"
   ]
  },
  {
   "cell_type": "code",
   "execution_count": 7,
   "id": "2d7d1e99",
   "metadata": {},
   "outputs": [
    {
     "name": "stdout",
     "output_type": "stream",
     "text": [
      "[5, 4, 2, 1]\n"
     ]
    }
   ],
   "source": [
    "s1 = [1,2,4,5]\n",
    "s2 = []\n",
    "revStack(s1,s2)\n",
    "print(s1)"
   ]
  },
  {
   "cell_type": "markdown",
   "id": "4afde9d7",
   "metadata": {},
   "source": [
    "## Check Redundant Brackets"
   ]
  },
  {
   "cell_type": "code",
   "execution_count": 8,
   "id": "9ad79149",
   "metadata": {},
   "outputs": [
    {
     "name": "stdout",
     "output_type": "stream",
     "text": [
      "['(']\n",
      "['(', '(']\n",
      "['(', '(', 'a']\n",
      "['(', '(', 'a', '+']\n",
      "['(', '(', 'a', '+', 'b']\n",
      "b\n",
      "+\n",
      "a\n",
      "['(', '+']\n",
      "['(', '+', 'c']\n",
      "c\n",
      "+\n"
     ]
    },
    {
     "data": {
      "text/plain": [
       "False"
      ]
     },
     "execution_count": 8,
     "metadata": {},
     "output_type": "execute_result"
    }
   ],
   "source": [
    "string = \"((a+b)+c)\"\n",
    "\n",
    "def redundant(string):\n",
    "    stack = []\n",
    "    for i in string:\n",
    "        c = 0\n",
    "        if i != \")\":\n",
    "            stack.append(i)\n",
    "            print(stack)\n",
    "        else:\n",
    "            while stack[-1] != \"(\":\n",
    "                c += 1\n",
    "                print(stack.pop())\n",
    "            stack.pop()\n",
    "            if c == 0:\n",
    "                return True\n",
    "    return False\n",
    "            \n",
    "            \n",
    "    \n",
    "    \n",
    "redundant(string)  \n",
    "        \n",
    "    "
   ]
  },
  {
   "cell_type": "markdown",
   "id": "557a71e5",
   "metadata": {},
   "source": [
    "## Stock Span"
   ]
  },
  {
   "cell_type": "code",
   "execution_count": 19,
   "id": "9597791d",
   "metadata": {},
   "outputs": [
    {
     "name": "stdout",
     "output_type": "stream",
     "text": [
      "[1, 1, 3, 1, 2, 4, 1]\n"
     ]
    }
   ],
   "source": [
    "stocks = [100, 80, 120, 60, 75, 90,60]\n",
    "spans = []\n",
    "for i in range(len(stocks)):\n",
    "    c = 1\n",
    "    for j in range(i):\n",
    "        if stocks[j] < stocks[i]:\n",
    "            c += 1\n",
    "    spans.append(c)\n",
    "print(spans)\n",
    "        \n",
    "        "
   ]
  },
  {
   "cell_type": "code",
   "execution_count": 10,
   "id": "afc60413",
   "metadata": {},
   "outputs": [
    {
     "name": "stdout",
     "output_type": "stream",
     "text": [
      "[1, 2, 3, 4, 1, 1, 2, 8]\n"
     ]
    }
   ],
   "source": [
    "stocks = [60, 70, 80, 100, 90, 75, 80, 120]\n",
    "spans = [1]\n",
    "stack = []\n",
    "\n",
    "for i in range(1, len(stocks)):\n",
    "    while len(stack) > 0 and stocks[i] >= stocks[stack[-1]]:\n",
    "        stack.pop()\n",
    "    if len(stack) <= 0:\n",
    "        spans.append(i+1)\n",
    "    else:\n",
    "        spans.append(i- stack[-1])\n",
    "    stack.append(i)\n",
    "print(spans)"
   ]
  },
  {
   "cell_type": "code",
   "execution_count": 50,
   "id": "eeb3b405",
   "metadata": {},
   "outputs": [
    {
     "name": "stdout",
     "output_type": "stream",
     "text": [
      "['}', '}', '}', '{']\n"
     ]
    },
    {
     "data": {
      "text/plain": [
       "3"
      ]
     },
     "execution_count": 50,
     "metadata": {},
     "output_type": "execute_result"
    }
   ],
   "source": [
    "def revB(string):\n",
    "    s = []\n",
    "    for i in string:\n",
    "        if i == \"{\":\n",
    "            s.append(i)\n",
    "        if i == \"}\":\n",
    "            if len(s) == 0:\n",
    "                s.append(i)\n",
    "            elif len(s) > 0 and s[-1] == \"{\":\n",
    "                s.pop()\n",
    "            elif len(s) > 0 and s[-1] == \"}\":\n",
    "                s.append(i)\n",
    "            \n",
    "    print(s)\n",
    "    c = 0\n",
    "    if len(s) % 2 == 0:\n",
    "        for i in range(0,len(s)-1,2):\n",
    "            if s[i] == s[i+1]:\n",
    "                c += 1\n",
    "            else:\n",
    "                c+= 2\n",
    "    return c\n",
    "        \n",
    "\n",
    "string = \"}}}{\"\n",
    "revB(string)"
   ]
  },
  {
   "cell_type": "code",
   "execution_count": 28,
   "id": "2645bde5",
   "metadata": {},
   "outputs": [
    {
     "name": "stdout",
     "output_type": "stream",
     "text": [
      "6\n"
     ]
    }
   ],
   "source": [
    "revB(string)"
   ]
  },
  {
   "cell_type": "code",
   "execution_count": null,
   "id": "3466249a",
   "metadata": {},
   "outputs": [],
   "source": []
  }
 ],
 "metadata": {
  "kernelspec": {
   "display_name": "Python 3 (ipykernel)",
   "language": "python",
   "name": "python3"
  },
  "language_info": {
   "codemirror_mode": {
    "name": "ipython",
    "version": 3
   },
   "file_extension": ".py",
   "mimetype": "text/x-python",
   "name": "python",
   "nbconvert_exporter": "python",
   "pygments_lexer": "ipython3",
   "version": "3.8.3"
  }
 },
 "nbformat": 4,
 "nbformat_minor": 5
}
