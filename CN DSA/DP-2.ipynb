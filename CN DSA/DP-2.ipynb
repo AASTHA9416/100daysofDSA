{
 "cells": [
  {
   "cell_type": "markdown",
   "id": "5a4f5bc8",
   "metadata": {},
   "source": [
    "# Dynamic Programming - 2"
   ]
  },
  {
   "cell_type": "markdown",
   "id": "5c774477",
   "metadata": {},
   "source": [
    "## Min Cost Path \n",
    "### Given m x n matrix, find the min cost of the path."
   ]
  },
  {
   "cell_type": "code",
   "execution_count": 14,
   "id": "3f0c8a0e",
   "metadata": {},
   "outputs": [],
   "source": [
    "## Step -1 Recursive Solution\n",
    "\n",
    "import sys\n",
    "def minCostHelp(matrix,m,n, row, col):\n",
    "#     print(row,col)\n",
    "    if row == m-1 and col == n-1:\n",
    "        return matrix[row][col]\n",
    "    if row >= m:\n",
    "        return sys.maxsize\n",
    "    if col >= n:\n",
    "        return sys.maxsize\n",
    "    \n",
    "    down = minCostHelp(matrix,m, n, row+1, col)\n",
    "    right = minCostHelp(matrix,m, n, row, col+1)\n",
    "    diagonal = minCostHelp(matrix,m, n, row+1, col+1)\n",
    "    \n",
    "    final_cost = matrix[row][col] + min(down, right, diagonal)\n",
    "    \n",
    "    return final_cost\n",
    "\n",
    "def minCost(matrix):\n",
    "    m = len(matrix)\n",
    "    n = len(matrix[0])\n",
    "    return minCostHelp(matrix, m, n, 0, 0)"
   ]
  },
  {
   "cell_type": "code",
   "execution_count": 123,
   "id": "d4bed0d7",
   "metadata": {},
   "outputs": [],
   "source": [
    "matrix = [[1,5,11],\n",
    "         [8,13,12],\n",
    "         [2,3,7],\n",
    "         [1,2,3]]"
   ]
  },
  {
   "cell_type": "code",
   "execution_count": 124,
   "id": "0350609c",
   "metadata": {},
   "outputs": [
    {
     "data": {
      "text/plain": [
       "15"
      ]
     },
     "execution_count": 124,
     "metadata": {},
     "output_type": "execute_result"
    }
   ],
   "source": [
    "minCost(matrix)"
   ]
  },
  {
   "cell_type": "code",
   "execution_count": 136,
   "id": "93f25aa2",
   "metadata": {},
   "outputs": [],
   "source": [
    "## Step -2 Using the DP in the recursive solution itself\n",
    "\n",
    "def minCostHelp(matrix,m,n,row,col,dp):\n",
    "#     print(row,col)\n",
    "    if row == m-1 and col == n-1:\n",
    "        return matrix[row][col]\n",
    "    \n",
    "    if row >= m:\n",
    "        return sys.maxsize\n",
    "    if col >= n:\n",
    "        return sys.maxsize\n",
    "    \n",
    "    if dp[row+1][col] == -1:\n",
    "        down = minCostHelp(matrix, m,n,row+1, col, dp)\n",
    "        dp[row+1][col] = down\n",
    "    else:\n",
    "        down = dp[row+1][col]\n",
    "    \n",
    "    if dp[row][col+1] == -1:\n",
    "        right = minCostHelp(matrix, m,n,row, col+1, dp)\n",
    "        dp[row][col+1] = right\n",
    "    else:\n",
    "        right = dp[row][col+1]\n",
    "    \n",
    "    if dp[row+1][col+1] == -1:\n",
    "        diagonal = minCostHelp(matrix, m,n, row+1, col+1, dp)\n",
    "        dp[row+1][col+1] = diagonal\n",
    "    else:\n",
    "        diagonal = dp[row+1][col+1]\n",
    "    \n",
    "    final_cost = matrix[row][col] + min(down, right, diagonal)\n",
    "    \n",
    "    return final_cost\n",
    "        \n",
    "\n",
    "def minCost(matrix):\n",
    "    m = len(matrix)\n",
    "    n = len(matrix[0])\n",
    "    dp = [[-1 for j in range(n+1)] for i in range(m+1)]\n",
    "#     print(dp)\n",
    "    \n",
    "    return minCostHelp(matrix, m,n,0,0,dp)\n",
    "    "
   ]
  },
  {
   "cell_type": "code",
   "execution_count": 137,
   "id": "e92afbad",
   "metadata": {},
   "outputs": [
    {
     "data": {
      "text/plain": [
       "15"
      ]
     },
     "execution_count": 137,
     "metadata": {},
     "output_type": "execute_result"
    }
   ],
   "source": [
    "minCost(matrix)"
   ]
  },
  {
   "cell_type": "code",
   "execution_count": 138,
   "id": "13330abd",
   "metadata": {},
   "outputs": [],
   "source": [
    "## Iterative Solution\n",
    "\n",
    "# m = rows, n = cols\n",
    "\n",
    "def minCostI(matrix):\n",
    "    m = len(matrix)\n",
    "    n = len(matrix[0])\n",
    "    dp = [[sys.maxsize for j in range(n+1)] for i in range(m+1)]\n",
    "    \n",
    "    for row in range(m-1,-1,-1):\n",
    "        for col in range(n-1,-1,-1):\n",
    "#             print(row,col)\n",
    "            up = dp[row+1][col]\n",
    "            left = dp[row][col+1]\n",
    "            diagonal = dp[row+1][col+1]\n",
    "            \n",
    "            if row == m-1 and col == n-1:\n",
    "                dp[row][col] = matrix[row][col]\n",
    "            else:\n",
    "                dp[row][col] = matrix[row][col] + min(up, left, diagonal)\n",
    "            \n",
    "    return dp[0][0]\n",
    "        \n",
    "            \n",
    "            \n",
    "\n"
   ]
  },
  {
   "cell_type": "code",
   "execution_count": 139,
   "id": "70f1e132",
   "metadata": {},
   "outputs": [
    {
     "data": {
      "text/plain": [
       "15"
      ]
     },
     "execution_count": 139,
     "metadata": {},
     "output_type": "execute_result"
    }
   ],
   "source": [
    "minCostI(matrix)"
   ]
  },
  {
   "cell_type": "code",
   "execution_count": 155,
   "id": "ad2e3800",
   "metadata": {},
   "outputs": [],
   "source": [
    "## Top to Bottom Approach\n",
    "\n",
    "def minCostTB(matrix):\n",
    "    m = len(matrix)\n",
    "    n = len(matrix[0])\n",
    "    \n",
    "    dp = [[sys.maxsize for j in range(n+1)] for i in range(m+1)]\n",
    "    for row in range(0,m):\n",
    "        for col in range(0,n):\n",
    "            if row ==0 and col == 0:\n",
    "                dp[row][col] = matrix[row][col]\n",
    "            else:\n",
    "                up = dp[row-1][col]\n",
    "                left = dp[row][col-1]\n",
    "                diagonal = dp[row-1][col-1]\n",
    "\n",
    "                dp[row][col] = matrix[row][col] + min(up, left, diagonal)\n",
    "#             print(dp)\n",
    "    return dp[m-1][n-1]"
   ]
  },
  {
   "cell_type": "code",
   "execution_count": 156,
   "id": "bc4dc74e",
   "metadata": {},
   "outputs": [
    {
     "data": {
      "text/plain": [
       "15"
      ]
     },
     "execution_count": 156,
     "metadata": {},
     "output_type": "execute_result"
    }
   ],
   "source": [
    "minCostTB(matrix)"
   ]
  },
  {
   "cell_type": "code",
   "execution_count": 146,
   "id": "43210f4e",
   "metadata": {},
   "outputs": [
    {
     "data": {
      "text/plain": [
       "[[1, 5, 11], [8, 13, 12], [2, 3, 7], [1, 2, 3]]"
      ]
     },
     "execution_count": 146,
     "metadata": {},
     "output_type": "execute_result"
    }
   ],
   "source": [
    "matrix"
   ]
  },
  {
   "cell_type": "code",
   "execution_count": 73,
   "id": "950ecf65",
   "metadata": {},
   "outputs": [],
   "source": [
    "dp = [list(i)+[0] for i in matrix] +[[0 for k in range(len(matrix)+1)]]"
   ]
  },
  {
   "cell_type": "code",
   "execution_count": 74,
   "id": "0b0f3bba",
   "metadata": {},
   "outputs": [
    {
     "data": {
      "text/plain": [
       "[[1, 5, 11, 0], [8, 13, 12, 0], [2, 3, 7, 0], [0, 0, 0, 0]]"
      ]
     },
     "execution_count": 74,
     "metadata": {},
     "output_type": "execute_result"
    }
   ],
   "source": [
    "dp"
   ]
  },
  {
   "cell_type": "code",
   "execution_count": 66,
   "id": "13d56251",
   "metadata": {},
   "outputs": [],
   "source": [
    "matrix[0][0] = 1"
   ]
  },
  {
   "cell_type": "code",
   "execution_count": 67,
   "id": "3a70b8c3",
   "metadata": {},
   "outputs": [
    {
     "data": {
      "text/plain": [
       "[[1, 5, 11], [8, 13, 12], [2, 3, 7]]"
      ]
     },
     "execution_count": 67,
     "metadata": {},
     "output_type": "execute_result"
    }
   ],
   "source": [
    "dp"
   ]
  },
  {
   "cell_type": "code",
   "execution_count": 68,
   "id": "3f1db0da",
   "metadata": {},
   "outputs": [
    {
     "data": {
      "text/plain": [
       "[[1, 5, 11], [8, 13, 12], [2, 3, 7]]"
      ]
     },
     "execution_count": 68,
     "metadata": {},
     "output_type": "execute_result"
    }
   ],
   "source": [
    "matrix"
   ]
  },
  {
   "cell_type": "markdown",
   "id": "5d14d760",
   "metadata": {},
   "source": [
    "## Longest Common Subsequence\n",
    "\n",
    "### Given two strings str1 and str2, find the length of longest common subsequence from these"
   ]
  },
  {
   "cell_type": "code",
   "execution_count": 188,
   "id": "9b2303b8",
   "metadata": {},
   "outputs": [],
   "source": [
    "# Step 1: Using the recursion\n",
    "\n",
    "def lcs(str1, str2, i, j):\n",
    "    if i == len(str1) or j == len(str2):\n",
    "        return 0\n",
    "    \n",
    "    if str1[i] == str2[j]:\n",
    "        ans = 1 + lcs(str1, str2, i+1, j+1)\n",
    "    else:\n",
    "        ans1 = lcs(str1, str2, i+1,j)\n",
    "        ans2 = lcs(str1, str2, i,j+1)\n",
    "        \n",
    "        ans = max(ans1, ans2)\n",
    "        \n",
    "    return ans"
   ]
  },
  {
   "cell_type": "code",
   "execution_count": 189,
   "id": "6e9bc6b2",
   "metadata": {},
   "outputs": [
    {
     "data": {
      "text/plain": [
       "2"
      ]
     },
     "execution_count": 189,
     "metadata": {},
     "output_type": "execute_result"
    }
   ],
   "source": [
    "lcs('abdgec','pqac',0,0)"
   ]
  },
  {
   "cell_type": "code",
   "execution_count": 195,
   "id": "9185403d",
   "metadata": {},
   "outputs": [],
   "source": [
    "## Using the Dp in recursion\n",
    "\n",
    "\n",
    "def lcs(str1, str2, i, j, dp):\n",
    "#     print(i,j)\n",
    "    if i == len(str1) or j == len(str2):\n",
    "        return 0\n",
    "    \n",
    "    if str1[i] == str2[j]:\n",
    "        if dp[i+1][j+1] == -1:\n",
    "            ans_temp =lcs(str1, str2, i+1, j+1, dp)\n",
    "            dp[i+1][j+1] = ans_temp\n",
    "        else:\n",
    "            ans_temp = dp[i+1][j+1]\n",
    "        ans = ans_temp + 1\n",
    "    else:\n",
    "        if dp[i+1][j] == -1:\n",
    "            ans1 = lcs(str1, str2, i+1,j, dp)\n",
    "            dp[i+1][j] = ans1\n",
    "        else:\n",
    "            ans1 = dp[i+1][j]\n",
    "        if dp[i][j+1] == -1:\n",
    "            ans2 = lcs(str1, str2, i,j+1, dp)\n",
    "            dp[i][j+1] = ans2\n",
    "        else:\n",
    "            ans2 = dp[i][j+1]\n",
    "        \n",
    "        ans = max(ans1, ans2)\n",
    "        \n",
    "    return ans\n",
    "    \n",
    "def lcsDP(str1, str2):\n",
    "    m = len(str1)\n",
    "    n = len(str2)\n",
    "    dp = [[-1 for i in range(n+1)]for j in range(m+1)]\n",
    "#     print(dp)\n",
    "    return lcs(str1, str2, 0,0, dp)\n",
    "    \n"
   ]
  },
  {
   "cell_type": "code",
   "execution_count": 197,
   "id": "aaf3bc0c",
   "metadata": {},
   "outputs": [
    {
     "data": {
      "text/plain": [
       "2"
      ]
     },
     "execution_count": 197,
     "metadata": {},
     "output_type": "execute_result"
    }
   ],
   "source": [
    "lcsDP('abdgec','pqac')"
   ]
  },
  {
   "cell_type": "code",
   "execution_count": 202,
   "id": "870380a6",
   "metadata": {},
   "outputs": [],
   "source": [
    "## Iterative LCS\n",
    "\n",
    "\n",
    "def lcsI(str1, str2):\n",
    "    m = len(str1)\n",
    "    n = len(str2)\n",
    "    dp = [[0 for i in range(n+1)]for j in range(m+1)]\n",
    "    for i in range(m):\n",
    "        for j in range(n):\n",
    "            if str1[i] == str2[j]:\n",
    "                ans = 1 + dp[i-1][j-1]\n",
    "            else:\n",
    "                ans1 = dp[i-1][j]\n",
    "                ans2 = dp[i][j-1]\n",
    "                ans = max(ans1, ans2)\n",
    "            dp[i][j] = ans\n",
    "    return dp[m-1][n-1]\n",
    "            \n",
    "            \n",
    "            "
   ]
  },
  {
   "cell_type": "code",
   "execution_count": 204,
   "id": "539348d7",
   "metadata": {},
   "outputs": [
    {
     "data": {
      "text/plain": [
       "3"
      ]
     },
     "execution_count": 204,
     "metadata": {},
     "output_type": "execute_result"
    }
   ],
   "source": [
    "lcsI('abdgec','pqaec')"
   ]
  },
  {
   "cell_type": "code",
   "execution_count": null,
   "id": "a475bac7",
   "metadata": {},
   "outputs": [],
   "source": []
  }
 ],
 "metadata": {
  "kernelspec": {
   "display_name": "Python 3 (ipykernel)",
   "language": "python",
   "name": "python3"
  },
  "language_info": {
   "codemirror_mode": {
    "name": "ipython",
    "version": 3
   },
   "file_extension": ".py",
   "mimetype": "text/x-python",
   "name": "python",
   "nbconvert_exporter": "python",
   "pygments_lexer": "ipython3",
   "version": "3.8.3"
  }
 },
 "nbformat": 4,
 "nbformat_minor": 5
}
