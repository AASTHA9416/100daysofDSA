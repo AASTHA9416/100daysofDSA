{
 "cells": [
  {
   "cell_type": "markdown",
   "id": "1f19f279",
   "metadata": {},
   "source": [
    "# Linked List"
   ]
  },
  {
   "attachments": {
    "image.png": {
     "image/png": "[encoded data removed]"
    }
   },
   "cell_type": "markdown",
   "id": "d322c382",
   "metadata": {},
   "source": [
    "### Each element is called Node and that stores two things one is the data and one the refernce to next node\n",
    "\n",
    "\n",
    "![image.png](attachment:image.png)\n",
    "\n",
    "**Head** stores the reference to the very first node, after knowing that we can travel through the complete linkedList\n",
    "\n",
    "Every **node** will have a data and a next by default we are keeping the next none."
   ]
  },
  {
   "cell_type": "code",
   "execution_count": 2,
   "id": "1c3b0800",
   "metadata": {},
   "outputs": [],
   "source": [
    "## Node will contain two things data and the next refernce\n",
    "class Node:\n",
    "    def __init__(self,data):\n",
    "        self.data = data\n",
    "        self.next = None"
   ]
  },
  {
   "cell_type": "code",
   "execution_count": 3,
   "id": "c785f559",
   "metadata": {},
   "outputs": [
    {
     "name": "stdout",
     "output_type": "stream",
     "text": [
      "12\n",
      "13\n",
      "13\n",
      "<__main__.Node object at 0x0000022C97966370>\n",
      "<__main__.Node object at 0x0000022C979662E0>\n",
      "<__main__.Node object at 0x0000022C979662E0>\n"
     ]
    }
   ],
   "source": [
    "a = Node(12)\n",
    "b = Node(13)\n",
    "\n",
    "a.next = b\n",
    "print(a.data)\n",
    "print(b.data)\n",
    "print(a.next.data)\n",
    "print(a)\n",
    "print(a.next)\n",
    "print(b)"
   ]
  },
  {
   "cell_type": "code",
   "execution_count": 4,
   "id": "c3cb09f2",
   "metadata": {},
   "outputs": [
    {
     "ename": "AttributeError",
     "evalue": "'NoneType' object has no attribute 'data'",
     "output_type": "error",
     "traceback": [
      "\u001b[1;31m---------------------------------------------------------------------------\u001b[0m",
      "\u001b[1;31mAttributeError\u001b[0m                            Traceback (most recent call last)",
      "\u001b[1;32m~\\AppData\\Local\\Temp/ipykernel_2440/125603010.py\u001b[0m in \u001b[0;36m<module>\u001b[1;34m\u001b[0m\n\u001b[0;32m      1\u001b[0m \u001b[1;31m# if we try this\u001b[0m\u001b[1;33m\u001b[0m\u001b[1;33m\u001b[0m\u001b[1;33m\u001b[0m\u001b[0m\n\u001b[1;32m----> 2\u001b[1;33m \u001b[0mprint\u001b[0m\u001b[1;33m(\u001b[0m\u001b[0mb\u001b[0m\u001b[1;33m.\u001b[0m\u001b[0mnext\u001b[0m\u001b[1;33m.\u001b[0m\u001b[0mdata\u001b[0m\u001b[1;33m)\u001b[0m\u001b[1;33m\u001b[0m\u001b[1;33m\u001b[0m\u001b[0m\n\u001b[0m\u001b[0;32m      3\u001b[0m \u001b[1;31m## b.next is None and None has no data\u001b[0m\u001b[1;33m\u001b[0m\u001b[1;33m\u001b[0m\u001b[1;33m\u001b[0m\u001b[0m\n",
      "\u001b[1;31mAttributeError\u001b[0m: 'NoneType' object has no attribute 'data'"
     ]
    }
   ],
   "source": [
    "# if we try this\n",
    "print(b.next.data)\n",
    "## b.next is None and None has no data"
   ]
  },
  {
   "cell_type": "markdown",
   "id": "f03fd1f3",
   "metadata": {},
   "source": [
    "## Making a Linked List with User Input \n",
    "## Approach 1 : Complexity O(n^2)\n",
    "\n",
    "**In this approach we are traversing in the complete Linked List each time**"
   ]
  },
  {
   "cell_type": "code",
   "execution_count": 6,
   "id": "52233da5",
   "metadata": {},
   "outputs": [
    {
     "name": "stdout",
     "output_type": "stream",
     "text": [
      "1 2 3 4 5\n"
     ]
    }
   ],
   "source": [
    "class Node:\n",
    "    def __init__(self,data):\n",
    "        self.data = data\n",
    "        self.next = None\n",
    "\n",
    "def take_input():\n",
    "    inputList = list(map(int,input().split()))\n",
    "    head = None\n",
    "    for curr_data in inputList:\n",
    "        if curr_data == -1:\n",
    "            break\n",
    "        newNode = Node(curr_data)\n",
    "        \n",
    "        if head is None: # we keep the head constant, we don't change the head\n",
    "            head = newNode\n",
    "        else:\n",
    "            curr = head \n",
    "            while curr.next is not None: # using curr to reach to the end of linkedList and then adding another element\n",
    "                curr = curr.next\n",
    "            curr.next = newNode\n",
    "    return head   \n",
    "        \n",
    "head = take_input()"
   ]
  },
  {
   "cell_type": "markdown",
   "id": "7af0c5b7",
   "metadata": {},
   "source": [
    "## Print Linked List"
   ]
  },
  {
   "cell_type": "code",
   "execution_count": 8,
   "id": "ff42275d",
   "metadata": {},
   "outputs": [
    {
     "name": "stdout",
     "output_type": "stream",
     "text": [
      "1 2 3 4 5 6\n",
      "1-->2-->3-->4-->5-->6-->None\n"
     ]
    }
   ],
   "source": [
    "## Print Function\n",
    "\n",
    "def printLL(head):\n",
    "    while head is not None:\n",
    "        print(str(head.data) + \"-->\" , end = \"\")\n",
    "        head = head.next\n",
    "    print(None)\n",
    "    return\n",
    "        \n",
    "head = take_input()\n",
    "printLL(head)"
   ]
  },
  {
   "cell_type": "markdown",
   "id": "eb0be610",
   "metadata": {},
   "source": [
    "## Taking Input of Linked List (Optimised)\n",
    "## Approach 2 : Complexity O(n)\n",
    "\n",
    "**The only thing time taking the traversing in the Linked List again and again. We can avoid this by maintaing the tail of the linked List**"
   ]
  },
  {
   "cell_type": "code",
   "execution_count": 22,
   "id": "156978e8",
   "metadata": {},
   "outputs": [
    {
     "name": "stdout",
     "output_type": "stream",
     "text": [
      "1 2 3 4 5\n",
      "1-->2-->3-->4-->5-->None\n"
     ]
    }
   ],
   "source": [
    "def take_input():\n",
    "    inputList = list(map(int, input().split()))\n",
    "    head = None\n",
    "    for curr_data in inputList:\n",
    "        if curr_data == -1:\n",
    "            break\n",
    "        newNode = Node(curr_data)\n",
    "        if head is None:\n",
    "            head = newNode # assign head one time only\n",
    "            last = head  # keep the reference of tail, which is head at this point.\n",
    "        else:\n",
    "            last.next = newNode # connect new node to the tail.\n",
    "            last = newNode      # update the tail\n",
    "    return head\n",
    "\n",
    "head = take_input()\n",
    "printLL(head)"
   ]
  },
  {
   "cell_type": "markdown",
   "id": "95d06a3d",
   "metadata": {},
   "source": [
    "## Print the length of LinkedList ( Iterative)\n",
    "**Complexity O(n)**"
   ]
  },
  {
   "cell_type": "code",
   "execution_count": 23,
   "id": "1c531dd4",
   "metadata": {},
   "outputs": [
    {
     "name": "stdout",
     "output_type": "stream",
     "text": [
      "5\n"
     ]
    }
   ],
   "source": [
    "def lengthLL(head):\n",
    "    l = 0  # maintain a counter\n",
    "    while head is not None:\n",
    "        l += 1\n",
    "        head = head.next\n",
    "    return l\n",
    "\n",
    "\n",
    "print(lengthLL(head))"
   ]
  },
  {
   "cell_type": "markdown",
   "id": "18d576f7",
   "metadata": {},
   "source": [
    "## Print the ith element of the Linked List\n",
    "**complexity O(n)**"
   ]
  },
  {
   "cell_type": "code",
   "execution_count": 24,
   "id": "9e6d255a",
   "metadata": {},
   "outputs": [
    {
     "name": "stdout",
     "output_type": "stream",
     "text": [
      "4\n"
     ]
    }
   ],
   "source": [
    "def printithLL(head, i):\n",
    "    t = 0\n",
    "    while head is not None and t < i:\n",
    "        t += 1\n",
    "        head = head.next\n",
    "    print(head.data)\n",
    "    return\n",
    "\n",
    "\n",
    "\n",
    "\n",
    "\"\"\"\n",
    "def printithLL(head,i):\n",
    "    t = 0\n",
    "    while head is not None:\n",
    "        if t == i:\n",
    "            print(head.data)\n",
    "            break\n",
    "        else:\n",
    "            t += 1\n",
    "            head = head.next\n",
    "    return\n",
    "\"\"\"\n",
    "printithLL(head, 3)"
   ]
  },
  {
   "cell_type": "markdown",
   "id": "d354f22e",
   "metadata": {},
   "source": [
    "## Insert data at ith position of LinkedList (Iteratively)\n",
    "\n",
    "example: 1 --> 2 --> 3 --> 4 --> 5\n",
    "\n",
    "head at 1.\n",
    "\n",
    "Insert data = 10 at i = 2.\n",
    "\n",
    "We need to point 2 to 10 and 10 to 3.\n",
    "\n",
    "1 --> 2 --> 10 --> 3 --> 4 --> 5\n",
    "\n",
    "**we need to keep two pointers prev and curr**"
   ]
  },
  {
   "cell_type": "code",
   "execution_count": 25,
   "id": "57a965f6",
   "metadata": {},
   "outputs": [
    {
     "name": "stdout",
     "output_type": "stream",
     "text": [
      "1-->2-->10-->3-->4-->5-->None\n"
     ]
    }
   ],
   "source": [
    "def insertatI(head, i, data):\n",
    "    if i < 0 or i > lengthLL(head):\n",
    "        return head\n",
    "    \n",
    "    count = 0\n",
    "    prev = None\n",
    "    curr = head\n",
    "    while count < i:\n",
    "        prev = curr\n",
    "        curr = curr.next\n",
    "        \n",
    "        count += 1\n",
    "    newNode = Node(data)\n",
    "    if prev is not None:\n",
    "        prev.next = newNode\n",
    "    else:\n",
    "        head = newNode\n",
    "    newNode.next = curr\n",
    "    \n",
    "    return head\n",
    "\n",
    "head  = insertatI(head, 2, 10)\n",
    "printLL(head)"
   ]
  },
  {
   "cell_type": "markdown",
   "id": "f0840e48",
   "metadata": {},
   "source": [
    "## Delete element at position i in Linked List (Iteratively)\n",
    "**we just need to do .next to .next.next**"
   ]
  },
  {
   "cell_type": "code",
   "execution_count": 27,
   "id": "edf81342",
   "metadata": {},
   "outputs": [],
   "source": [
    "def deleteatI(head, i):\n",
    "    if i < 0 or i > lengthLL(head)-1:\n",
    "        return head\n",
    "    count = 0\n",
    "    prev = None\n",
    "    curr = head\n",
    "    while count < i:\n",
    "        prev = curr\n",
    "        curr = curr.next\n",
    "        \n",
    "        count += 1\n",
    "    if prev is not None:\n",
    "        prev.next = curr.next\n",
    "    else:\n",
    "        head = head.next\n",
    "    return head"
   ]
  },
  {
   "cell_type": "code",
   "execution_count": 31,
   "id": "4a50d926",
   "metadata": {},
   "outputs": [],
   "source": [
    "head = deleteatI(head, 5)"
   ]
  },
  {
   "cell_type": "code",
   "execution_count": 32,
   "id": "d42915f3",
   "metadata": {},
   "outputs": [
    {
     "name": "stdout",
     "output_type": "stream",
     "text": [
      "1-->2-->10-->3-->4-->None\n"
     ]
    }
   ],
   "source": [
    "printLL(head)"
   ]
  },
  {
   "cell_type": "markdown",
   "id": "bf3e11df",
   "metadata": {},
   "source": [
    "## Length of Linked List (Recursively)"
   ]
  },
  {
   "cell_type": "code",
   "execution_count": 38,
   "id": "42991171",
   "metadata": {},
   "outputs": [
    {
     "data": {
      "text/plain": [
       "5"
      ]
     },
     "execution_count": 38,
     "metadata": {},
     "output_type": "execute_result"
    }
   ],
   "source": [
    "# find the lenght recursively\n",
    "\n",
    "def lenghtLLR(head):\n",
    "    c = 0\n",
    "    if head == None:\n",
    "        return 0\n",
    "    return 1+lenghtLLR(head.next)\n",
    "\n",
    "lenghtLLR(head)"
   ]
  },
  {
   "cell_type": "markdown",
   "id": "a58895ab",
   "metadata": {},
   "source": [
    "## Insert data into LinkedList at ith Position ( Recursively)"
   ]
  },
  {
   "cell_type": "code",
   "execution_count": 107,
   "id": "b42f2adb",
   "metadata": {},
   "outputs": [],
   "source": [
    "def InsertR(head, i, data):\n",
    "    if i < 0:\n",
    "        return head\n",
    "    \n",
    "    if i == 0:\n",
    "        newNode = Node(data)\n",
    "        newNode.next = head\n",
    "        return newNode\n",
    "    \n",
    "    if head == None:\n",
    "        return None\n",
    "    \n",
    "    smallhead = InsertR(head.next, i-1, data)\n",
    "    head.next = smallhead\n",
    "    return head"
   ]
  },
  {
   "cell_type": "code",
   "execution_count": 113,
   "id": "97f56511",
   "metadata": {},
   "outputs": [
    {
     "name": "stdout",
     "output_type": "stream",
     "text": [
      "2=>3=>1=>1=>1=>8=>None\n"
     ]
    }
   ],
   "source": [
    "head = InsertR(head, 10,1)\n",
    "printLL(head)"
   ]
  },
  {
   "cell_type": "markdown",
   "id": "8b38e8bb",
   "metadata": {},
   "source": [
    "## Delete Node of position i Recursively in LinkedList"
   ]
  },
  {
   "cell_type": "code",
   "execution_count": 102,
   "id": "0f53d12b",
   "metadata": {},
   "outputs": [],
   "source": [
    "def deleteR(head, i):\n",
    "    \n",
    "    if i == 0:\n",
    "        return head.next\n",
    "    if head == None:\n",
    "        return None\n",
    "    head.next = deleteR(head.next, i-1)\n",
    "    return head"
   ]
  },
  {
   "cell_type": "code",
   "execution_count": 114,
   "id": "69126a40",
   "metadata": {},
   "outputs": [
    {
     "name": "stdout",
     "output_type": "stream",
     "text": [
      "2=>3=>1=>1=>1=>8=>None\n"
     ]
    }
   ],
   "source": [
    "printLL(head)"
   ]
  },
  {
   "cell_type": "code",
   "execution_count": 117,
   "id": "e83327c0",
   "metadata": {},
   "outputs": [],
   "source": [
    "head = deleteR(head,3)"
   ]
  },
  {
   "cell_type": "code",
   "execution_count": 118,
   "id": "7df38fb3",
   "metadata": {},
   "outputs": [
    {
     "name": "stdout",
     "output_type": "stream",
     "text": [
      "2=>3=>1=>1=>8=>None\n"
     ]
    }
   ],
   "source": [
    "printLL(head)"
   ]
  },
  {
   "cell_type": "markdown",
   "id": "51824f27",
   "metadata": {},
   "source": [
    "## Reverse a Linked List Recursively\n",
    "### Complexity is O(n^2)"
   ]
  },
  {
   "cell_type": "code",
   "execution_count": 13,
   "id": "c99cef5a",
   "metadata": {},
   "outputs": [],
   "source": [
    "def reverseLL(head):\n",
    "    ## Base Case\n",
    "    if head == None or head.next == None:\n",
    "        return head\n",
    "    \n",
    "    smallHead = reverseLL(head.next)\n",
    "    curr = smallHead\n",
    "    while curr.next is not None:\n",
    "        curr = curr.next\n",
    "    curr.next = head\n",
    "    head.next = None\n",
    "    \n",
    "    return smallHead\n",
    "    "
   ]
  },
  {
   "cell_type": "code",
   "execution_count": 26,
   "id": "918f5eb8",
   "metadata": {},
   "outputs": [
    {
     "name": "stdout",
     "output_type": "stream",
     "text": [
      "5=>4=>3=>2=>1=>None\n"
     ]
    }
   ],
   "source": [
    "head = reverseLL(head)\n",
    "printLL(head)"
   ]
  },
  {
   "cell_type": "code",
   "execution_count": 21,
   "id": "86b70d58",
   "metadata": {},
   "outputs": [
    {
     "name": "stdout",
     "output_type": "stream",
     "text": [
      "1 2 3 4 5\n"
     ]
    }
   ],
   "source": [
    "head = take_input()"
   ]
  },
  {
   "cell_type": "code",
   "execution_count": 24,
   "id": "bee00f50",
   "metadata": {},
   "outputs": [
    {
     "name": "stdout",
     "output_type": "stream",
     "text": [
      "5=>4=>3=>2=>1=>None\n"
     ]
    }
   ],
   "source": [
    "printLL(head)"
   ]
  },
  {
   "cell_type": "markdown",
   "id": "1789a333",
   "metadata": {},
   "source": [
    "## Reverse the Linked List in O(n) complexity"
   ]
  },
  {
   "cell_type": "code",
   "execution_count": 4,
   "id": "8f2e4231",
   "metadata": {},
   "outputs": [],
   "source": [
    "def reverseLL2(head):\n",
    "    if head == None or head.next == None:\n",
    "        return head, head\n",
    "    smallhead, smalltail = reverseLL2(head.next)\n",
    "    smalltail.next = head\n",
    "    head.next = None\n",
    "    return smallhead, head"
   ]
  },
  {
   "cell_type": "code",
   "execution_count": 5,
   "id": "f7f63d03",
   "metadata": {},
   "outputs": [
    {
     "name": "stdout",
     "output_type": "stream",
     "text": [
      "5=>4=>3=>2=>1=>None\n"
     ]
    }
   ],
   "source": [
    "head, tail = reverseLL2(head)\n",
    "printLL(head)"
   ]
  },
  {
   "cell_type": "markdown",
   "id": "3dfcd804",
   "metadata": {},
   "source": [
    "## Reverse Linked List without string the tail of the Linked List"
   ]
  },
  {
   "cell_type": "code",
   "execution_count": 71,
   "id": "7b567d47",
   "metadata": {},
   "outputs": [],
   "source": [
    "def reverseLL3(head):\n",
    "    if head == None or head.next == None:\n",
    "        return head\n",
    "    smallhead = reverseLL3(head.next)\n",
    "    tail = head.next\n",
    "    tail.next = head\n",
    "    head.next = None\n",
    "    return smallhead"
   ]
  },
  {
   "cell_type": "code",
   "execution_count": 74,
   "id": "d5615b10",
   "metadata": {},
   "outputs": [
    {
     "name": "stdout",
     "output_type": "stream",
     "text": [
      "5=>4=>3=>2=>1=>None\n"
     ]
    }
   ],
   "source": [
    "head = reverseLL3(head)\n",
    "printLL(head)"
   ]
  },
  {
   "cell_type": "markdown",
   "id": "3f93b809",
   "metadata": {},
   "source": [
    "## Reverse Iterative"
   ]
  },
  {
   "cell_type": "code",
   "execution_count": 19,
   "id": "984ee47b",
   "metadata": {},
   "outputs": [],
   "source": [
    "def reverseR1(head):\n",
    "    prev = None\n",
    "    curr = head\n",
    "    while curr is not None:\n",
    "        next = curr.next\n",
    "        curr.next = prev\n",
    "        prev = curr\n",
    "        curr = next\n",
    "    head = prev\n",
    "    return head\n",
    "        "
   ]
  },
  {
   "cell_type": "code",
   "execution_count": 20,
   "id": "e748b4de",
   "metadata": {},
   "outputs": [],
   "source": [
    "head = reverseR1(head)"
   ]
  },
  {
   "cell_type": "code",
   "execution_count": 21,
   "id": "8220d7b7",
   "metadata": {},
   "outputs": [
    {
     "name": "stdout",
     "output_type": "stream",
     "text": [
      "14=>13=>12=>11=>10=>9=>8=>7=>6=>5=>4=>3=>2=>1=>0=>None\n"
     ]
    }
   ],
   "source": [
    "printLL(head)"
   ]
  },
  {
   "cell_type": "code",
   "execution_count": 116,
   "id": "80401bec",
   "metadata": {},
   "outputs": [
    {
     "name": "stdout",
     "output_type": "stream",
     "text": [
      "1 2 3 4 5\n",
      "1=>2=>3=>4=>5=>None\n"
     ]
    }
   ],
   "source": [
    "head = take_input()"
   ]
  },
  {
   "cell_type": "code",
   "execution_count": 12,
   "id": "ada80c92",
   "metadata": {},
   "outputs": [
    {
     "data": {
      "text/plain": [
       "5"
      ]
     },
     "execution_count": 12,
     "metadata": {},
     "output_type": "execute_result"
    }
   ],
   "source": [
    "lengthLL(head)"
   ]
  },
  {
   "cell_type": "markdown",
   "id": "f357d4c4",
   "metadata": {},
   "source": [
    "## Finding Mid Point of a Linked List ( Iteratively)"
   ]
  },
  {
   "cell_type": "code",
   "execution_count": 26,
   "id": "da381842",
   "metadata": {},
   "outputs": [],
   "source": [
    "def findMid(head):\n",
    "    l = lengthLL(head)\n",
    "    target = l // 2\n",
    "    while target -1:\n",
    "        head = head.next\n",
    "        target -=1\n",
    "    if l % 2 == 0:\n",
    "        print(head.data)\n",
    "    else:\n",
    "        print(head.next.data)\n",
    "        \n",
    "        \n",
    "            "
   ]
  },
  {
   "cell_type": "code",
   "execution_count": 27,
   "id": "4395afb9",
   "metadata": {},
   "outputs": [
    {
     "name": "stdout",
     "output_type": "stream",
     "text": [
      "1=>2=>3=>4=>5=>None\n"
     ]
    }
   ],
   "source": [
    "printLL(head)"
   ]
  },
  {
   "cell_type": "code",
   "execution_count": 28,
   "id": "caea9986",
   "metadata": {},
   "outputs": [
    {
     "name": "stdout",
     "output_type": "stream",
     "text": [
      "3\n",
      "None\n"
     ]
    }
   ],
   "source": [
    "mid = findMid(head)\n",
    "print(mid)"
   ]
  },
  {
   "cell_type": "code",
   "execution_count": 35,
   "id": "2f8cbf37",
   "metadata": {},
   "outputs": [
    {
     "name": "stdout",
     "output_type": "stream",
     "text": [
      "11 2 12 13 45 22 44\n",
      "11=>2=>12=>13=>45=>22=>44=>None\n"
     ]
    }
   ],
   "source": [
    "head = take_input()"
   ]
  },
  {
   "cell_type": "markdown",
   "id": "7c8bfeae",
   "metadata": {},
   "source": [
    "## Find Mid Point of Linked List ( in One Pass)\n",
    "\n",
    "we initialize two pointers **slow** and **fast** at the head of the Linked List. \n",
    "**slow** will take one step while **fast** will take 2 steps.\n",
    "when fast will reach at the end of the LL slow will be at the mid of Linked List.\n",
    "\n",
    "**Odd case**\n",
    "1 => 2 => 3 => 4 => 5 => None\n",
    "\n",
    "stop when fast.next == None\n",
    "\n",
    "**even case**\n",
    "1 => 2 => 3 => 4 => 5 => 6 => None\n",
    "\n",
    "stop when fast.next.next == None"
   ]
  },
  {
   "cell_type": "code",
   "execution_count": 15,
   "id": "c3e1a75b",
   "metadata": {},
   "outputs": [],
   "source": [
    "def findMid1(head):\n",
    "    slow = head\n",
    "    fast = head\n",
    "    while fast.next != None and fast.next.next != None:\n",
    "        slow = slow.next\n",
    "        fast = fast.next.next\n",
    "    return slow"
   ]
  },
  {
   "cell_type": "code",
   "execution_count": 16,
   "id": "90c31791",
   "metadata": {},
   "outputs": [
    {
     "name": "stdout",
     "output_type": "stream",
     "text": [
      "7\n"
     ]
    }
   ],
   "source": [
    "mid = findMid1(head)\n",
    "print(mid.data)"
   ]
  },
  {
   "cell_type": "markdown",
   "id": "32d58dd7",
   "metadata": {},
   "source": [
    "## Merge two Soretd Linked Lists"
   ]
  },
  {
   "cell_type": "code",
   "execution_count": 3,
   "id": "01c64604",
   "metadata": {},
   "outputs": [],
   "source": [
    "def mergeLL(h1, h2):\n",
    "    head = None\n",
    "\n",
    "    while h1 != None and h2 != None:\n",
    "        if h1.data < h2.data:\n",
    "            if head == None:\n",
    "                head = h1\n",
    "                last = head\n",
    "            else:\n",
    "                last.next = h1\n",
    "                last = h1\n",
    "            h1 = h1.next\n",
    "        else:\n",
    "            if head == None:\n",
    "                head = h2\n",
    "                last = head\n",
    "            else:\n",
    "                last.next = h2\n",
    "                last = h2\n",
    "            h2 = h2.next\n",
    "    if h1 != None:\n",
    "        last.next = h1\n",
    "    if h2 != None:\n",
    "        last.next = h2\n",
    "    return head"
   ]
  },
  {
   "cell_type": "code",
   "execution_count": 7,
   "id": "45265399",
   "metadata": {},
   "outputs": [
    {
     "name": "stdout",
     "output_type": "stream",
     "text": [
      "1 3 5 7\n",
      "1=>3=>5=>7=>None\n",
      "2 4 6 8\n",
      "2=>4=>6=>8=>None\n",
      "1=>2=>3=>4=>5=>6=>7=>8=>None\n"
     ]
    }
   ],
   "source": [
    "h1 = take_input()\n",
    "h2 = take_input()\n",
    "head = mergeLL(h1,h2)\n",
    "printLL(head)"
   ]
  },
  {
   "cell_type": "markdown",
   "id": "5285a58f",
   "metadata": {},
   "source": [
    "## Merge Sort on Linked List\n",
    "\n",
    "Steps:\n",
    "\n",
    "1. Break the LL in two halves\n",
    "\n",
    "2. Call Recursion on two halves\n",
    "\n",
    "3. Merge the two halves h1 and h2"
   ]
  },
  {
   "cell_type": "code",
   "execution_count": 18,
   "id": "c55dc437",
   "metadata": {},
   "outputs": [],
   "source": [
    "def merge_sort(head):\n",
    "    ## base case\n",
    "    if head.next is None:\n",
    "        return head\n",
    "    mp = findMid1(head)\n",
    "    h1 = head\n",
    "    h2 = mp.next\n",
    "    mp.next = None\n",
    "    merge_sort(h1)\n",
    "    merge_sort(h2)\n",
    "    \n",
    "    mergeLL(h1,h2)"
   ]
  },
  {
   "cell_type": "code",
   "execution_count": 19,
   "id": "e852836e",
   "metadata": {},
   "outputs": [
    {
     "name": "stdout",
     "output_type": "stream",
     "text": [
      "1 3 5 7 2 4 6\n",
      "1=>3=>5=>7=>2=>4=>6=>None\n",
      "1=>3=>5=>7=>2=>4=>6=>None\n"
     ]
    }
   ],
   "source": [
    "head = take_input()\n",
    "printLL(head)"
   ]
  },
  {
   "cell_type": "code",
   "execution_count": 20,
   "id": "5dbaf815",
   "metadata": {},
   "outputs": [
    {
     "name": "stdout",
     "output_type": "stream",
     "text": [
      "1=>2=>3=>4=>5=>6=>7=>None\n"
     ]
    }
   ],
   "source": [
    "merge_sort(head)\n",
    "printLL(head)"
   ]
  },
  {
   "cell_type": "markdown",
   "id": "e931fd32",
   "metadata": {},
   "source": [
    "## Find a Node in LL (Recursively)\n",
    "**Given a LL & an integer n, find the index of first occurance of n**"
   ]
  },
  {
   "cell_type": "code",
   "execution_count": 19,
   "id": "9d51e18f",
   "metadata": {},
   "outputs": [],
   "source": [
    "def findNode(head,n):\n",
    "    if head is None:\n",
    "        return -1\n",
    "    if head.data == n:\n",
    "        return 0\n",
    "    if head.next is not None:\n",
    "        return 1 + findNode(head.next, n)"
   ]
  },
  {
   "cell_type": "markdown",
   "id": "19f3d973",
   "metadata": {},
   "source": [
    "## Even After Odd \n",
    "**In a given LL, arrange all the elements such that all the even numbers are placed after the odd numbers. Relative order should not change.**"
   ]
  },
  {
   "cell_type": "code",
   "execution_count": 15,
   "id": "7497d738",
   "metadata": {},
   "outputs": [],
   "source": [
    "def oddEven(head):\n",
    "    oddH = None\n",
    "    oddT = None\n",
    "    evenH = None\n",
    "    evenT = None\n",
    "    \n",
    "    while head is not None:\n",
    "        if head.data %2 != 0:\n",
    "            if oddH is None:\n",
    "                oddH = head\n",
    "                oddT = oddH\n",
    "            else:\n",
    "                oddT.next = head\n",
    "                oddT = head\n",
    "        else:\n",
    "            if evenH is None:\n",
    "                evenH = head\n",
    "                evenT = evenH\n",
    "            else:\n",
    "                evenT.next = head\n",
    "                evenT = head\n",
    "        head = head.next\n",
    "    if evenT is not None:\n",
    "        evenT.next = None\n",
    "    if oddT is not None:\n",
    "        oddT.next = None\n",
    "        oddT.next = evenH\n",
    "        return oddH\n",
    "    else:\n",
    "        return evenH"
   ]
  },
  {
   "cell_type": "code",
   "execution_count": 20,
   "id": "da1b241c",
   "metadata": {},
   "outputs": [
    {
     "name": "stdout",
     "output_type": "stream",
     "text": [
      "0=>0=>0=>0=>None\n"
     ]
    }
   ],
   "source": [
    "printLL(oddEven(head))"
   ]
  },
  {
   "cell_type": "code",
   "execution_count": 19,
   "id": "dbd03a2d",
   "metadata": {},
   "outputs": [
    {
     "name": "stdout",
     "output_type": "stream",
     "text": [
      "0 0 0 0\n",
      "0=>0=>0=>0=>None\n"
     ]
    }
   ],
   "source": [
    "head = take_input()"
   ]
  },
  {
   "cell_type": "markdown",
   "id": "75f34961",
   "metadata": {},
   "source": [
    "## Delete every N nodes"
   ]
  },
  {
   "cell_type": "code",
   "execution_count": 33,
   "id": "72cb7120",
   "metadata": {},
   "outputs": [],
   "source": [
    "def deleteN(head,m,n):\n",
    "    curr = head\n",
    "    while curr:\n",
    "        for c1 in range(1,m):\n",
    "            if curr is None:\n",
    "                break\n",
    "            curr = curr.next\n",
    "        if curr is None:\n",
    "            break\n",
    "        temp = curr.next\n",
    "        for c2 in range(1,n+1):\n",
    "            if temp is None:\n",
    "                break\n",
    "            temp = temp.next\n",
    "        curr.next = temp\n",
    "        curr = temp\n",
    "    return head\n",
    "            \n",
    "            \n",
    "            "
   ]
  },
  {
   "cell_type": "code",
   "execution_count": 34,
   "id": "07b672f5",
   "metadata": {},
   "outputs": [
    {
     "name": "stdout",
     "output_type": "stream",
     "text": [
      "1 2 3 4 5 6 7 8 9 10 11 12 13 14\n",
      "1=>2=>3=>4=>5=>6=>7=>8=>9=>10=>11=>12=>13=>14=>None\n"
     ]
    }
   ],
   "source": [
    "head = take_input()"
   ]
  },
  {
   "cell_type": "code",
   "execution_count": 35,
   "id": "a14b0d44",
   "metadata": {},
   "outputs": [
    {
     "data": {
      "text/plain": [
       "<__main__.Node at 0x1af12e89be0>"
      ]
     },
     "execution_count": 35,
     "metadata": {},
     "output_type": "execute_result"
    }
   ],
   "source": [
    "deleteN(head, 2,3)"
   ]
  },
  {
   "cell_type": "code",
   "execution_count": 36,
   "id": "961cf378",
   "metadata": {},
   "outputs": [
    {
     "name": "stdout",
     "output_type": "stream",
     "text": [
      "1=>2=>6=>7=>11=>12=>None\n"
     ]
    }
   ],
   "source": [
    "printLL(head)"
   ]
  },
  {
   "cell_type": "code",
   "execution_count": 4,
   "id": "19498832",
   "metadata": {},
   "outputs": [],
   "source": [
    "def makeLL():\n",
    "    inputList = [i for i in range(15)]\n",
    "    head = None\n",
    "    for curr_data in inputList:\n",
    "        if curr_data == -1:\n",
    "            break\n",
    "        newNode = Node(curr_data)\n",
    "        if head is None:\n",
    "            head = newNode\n",
    "            last = head\n",
    "        else:\n",
    "            last.next = newNode\n",
    "            last = newNode\n",
    "    printLL(head)\n",
    "    return head"
   ]
  },
  {
   "cell_type": "markdown",
   "id": "0d70c171",
   "metadata": {},
   "source": [
    "## Swap nodes at poistoin \"i\" and \"j\" of a LL"
   ]
  },
  {
   "cell_type": "code",
   "execution_count": 42,
   "id": "11c88942",
   "metadata": {},
   "outputs": [],
   "source": [
    "# given a linked list head and two intergers i and j. swap the nodes of the linked list from the ith node to the jth node (both inclusive).\n",
    "def swap(head, i, j):\n",
    "    p1 = head\n",
    "    p2 = head\n",
    "    if abs(i-j) == 1:\n",
    "        if i == 0 or j == 0:\n",
    "            c1 = head\n",
    "            c2 = head.next\n",
    "            c1.next = c2.next\n",
    "            c2.next = c1\n",
    "            return c2\n",
    "        else:\n",
    "            while i-1:\n",
    "                p1 = p1.next\n",
    "                i -= 1\n",
    "            c1 = p1.next\n",
    "            c2 = c1.next\n",
    "            p1.next = c2\n",
    "            c1.next = c2.next\n",
    "            c2.next = c1\n",
    "        return head\n",
    "    if i == 0 or j == 0:\n",
    "        c1 = head\n",
    "        print(\"c1\")\n",
    "        printLL(c1)\n",
    "        p2 = head\n",
    "        while i>1 or j>1:\n",
    "            p2 = p2.next\n",
    "            i -= 1\n",
    "            j -= 1\n",
    "        print(\"p2\")\n",
    "        printLL(p2)\n",
    "        t = head.next\n",
    "        print(\"t\")\n",
    "        printLL(t)\n",
    "        c2 = p2.next\n",
    "        print(\"c2\")\n",
    "        printLL(c2)\n",
    "        p2.next = c1\n",
    "        c1.next = c2.next\n",
    "        c2.next = t\n",
    "        return c2\n",
    "        \n",
    "    else:\n",
    "\n",
    "        while i-1:\n",
    "            p1 = p1.next\n",
    "            i -= 1\n",
    "        c1 = p1.next\n",
    "        t = c1.next\n",
    "        print(\"p1\")\n",
    "        printLL(p1)\n",
    "        print(\"c1\")\n",
    "        printLL(c1)\n",
    "        while j-1:\n",
    "            p2 = p2.next\n",
    "            j-=1\n",
    "        c2 = p2.next\n",
    "        print(\"p2\")\n",
    "        printLL(p2)\n",
    "        print(\"c2\")\n",
    "        printLL(c2)\n",
    "\n",
    "        p1.next = c2\n",
    "        p2.next = c1\n",
    "        c1.next = c2.next\n",
    "        c2.next = t\n",
    "        return head\n",
    "\n"
   ]
  },
  {
   "cell_type": "code",
   "execution_count": 12,
   "id": "c7ef63a6",
   "metadata": {},
   "outputs": [
    {
     "name": "stdout",
     "output_type": "stream",
     "text": [
      "0=>1=>2=>3=>4=>5=>6=>7=>8=>9=>10=>11=>12=>13=>14=>None\n"
     ]
    }
   ],
   "source": [
    "head = makeLL()\n",
    "# printLL(swap(head, 0, 1))"
   ]
  },
  {
   "cell_type": "markdown",
   "id": "4e585a21",
   "metadata": {},
   "source": [
    "## kReverse a Linked List"
   ]
  },
  {
   "cell_type": "code",
   "execution_count": null,
   "id": "e242d86e",
   "metadata": {},
   "outputs": [],
   "source": [
    "def reverseT(head):\n",
    "    prev = None\n",
    "    curr = head\n",
    "    while curr is not None:\n",
    "        next = curr.next\n",
    "        curr.next = prev\n",
    "        prev = curr\n",
    "        curr = next\n",
    "    return prev, head"
   ]
  },
  {
   "cell_type": "code",
   "execution_count": null,
   "id": "559b32cc",
   "metadata": {},
   "outputs": [],
   "source": [
    "def kReverse(head,k):\n",
    "    if head is None:\n",
    "        return None\n",
    "    h1 = head\n",
    "    t1 = head\n",
    "    count = 1\n",
    "    while count < k and t1 is not None:\n",
    "        t1 = t1.next\n",
    "        count += 1\n",
    "    if t1 is None:\n",
    "        a, b = reverseT(h1)\n",
    "        return a\n",
    "    h2 = t1.next\n",
    "    t1.next = None\n",
    "    hR, tR = reverseT(h1)\n",
    "    smallHead = kReverse(h2, k)\n",
    "    tR.next = smallHead\n",
    "    return hR"
   ]
  },
  {
   "cell_type": "code",
   "execution_count": null,
   "id": "0b643ac4",
   "metadata": {},
   "outputs": [],
   "source": [
    "def kreverse(head, k):\n",
    "\n",
    "    if head == None:\n",
    "        return None\n",
    "    current = head\n",
    "    next = None\n",
    "    prev = None\n",
    "    count = 0\n",
    "\n",
    "    # Reverse first k nodes of the linked list\n",
    "    while(current is not None and count < k):\n",
    "        next = current.next\n",
    "        current.next = prev\n",
    "        prev = current\n",
    "        current = next\n",
    "        count += 1\n",
    "\n",
    "    # next is now a pointer to (k+1)th node\n",
    "    # recursively call for the list starting\n",
    "    # from current. And make rest of the list as\n",
    "    # next of first node\n",
    "    if next is not None:\n",
    "        head.next = reverse(next, k)\n",
    "\n",
    "    # prev is new head of the input list\n",
    "    return prev"
   ]
  },
  {
   "cell_type": "markdown",
   "id": "20c66020",
   "metadata": {},
   "source": [
    "## Bubble Sort on Linked List"
   ]
  },
  {
   "cell_type": "code",
   "execution_count": null,
   "id": "017f27e7",
   "metadata": {},
   "outputs": [],
   "source": [
    "def bubbleSort(head):\n",
    "    swap = 0\n",
    "    while True:\n",
    "        swap = 0\n",
    "        temp = head\n",
    "        while temp.next is not None:\n",
    "            if temp.data > temp.next.data:\n",
    "                # make a swap\n",
    "                swap += 1\n",
    "                p = temp.data\n",
    "                temp.data = temp.next.data\n",
    "                temp.next.data = p\n",
    "                temp = temp.next\n",
    "            else:\n",
    "                temp = temp.next\n",
    "        if swap == 0:\n",
    "            break\n",
    "    return head"
   ]
  }
 ],
 "metadata": {
  "interpreter": {
   "hash": "acc08ea5c749bd4e531630e262986073086b92109846a874b12690e835bc9bee"
  },
  "kernelspec": {
   "display_name": "Python 3 (ipykernel)",
   "language": "python",
   "name": "python3"
  },
  "language_info": {
   "codemirror_mode": {
    "name": "ipython",
    "version": 3
   },
   "file_extension": ".py",
   "mimetype": "text/x-python",
   "name": "python",
   "nbconvert_exporter": "python",
   "pygments_lexer": "ipython3",
   "version": "3.8.3"
  }
 },
 "nbformat": 4,
 "nbformat_minor": 5
}
