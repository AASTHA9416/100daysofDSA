{
 "cells": [
  {
   "cell_type": "markdown",
   "id": "eb726fdc",
   "metadata": {},
   "source": [
    "# Generic Trees"
   ]
  },
  {
   "cell_type": "code",
   "execution_count": 1,
   "id": "58796092",
   "metadata": {},
   "outputs": [],
   "source": [
    "class TreeNode:\n",
    "    def __init__(self, data):\n",
    "        self.data = data\n",
    "        self.children = list()"
   ]
  },
  {
   "cell_type": "markdown",
   "id": "0ad968fd",
   "metadata": {},
   "source": [
    "## print a generic tree"
   ]
  },
  {
   "cell_type": "code",
   "execution_count": 2,
   "id": "8aed688b",
   "metadata": {},
   "outputs": [],
   "source": [
    "def printTree(root):\n",
    "    ## what if root is None\n",
    "    print(root.data)\n",
    "    \n",
    "    for child in root.children:\n",
    "        printTree(child)\n",
    "    "
   ]
  },
  {
   "cell_type": "code",
   "execution_count": 3,
   "id": "f3eaf595",
   "metadata": {},
   "outputs": [],
   "source": [
    "def printTreeDetailed(root):\n",
    "#     #edge case\n",
    "#     if root == None:\n",
    "#         return\n",
    "    print(root.data, \":\", end = \" \")\n",
    "    for child in root.children:\n",
    "        print(child.data, \", \" , end = \" \")\n",
    "    \n",
    "    print()\n",
    "    \n",
    "    for child in root.children:\n",
    "        printTreeDetailed(child)\n",
    "    "
   ]
  },
  {
   "cell_type": "markdown",
   "id": "2e00733a",
   "metadata": {},
   "source": [
    "## Take input from user for a Tree(Recursively)"
   ]
  },
  {
   "cell_type": "code",
   "execution_count": 4,
   "id": "19ef79b6",
   "metadata": {},
   "outputs": [],
   "source": [
    "def takeInput():\n",
    "    print(\"Enter the root Data\")\n",
    "    rootData = int(input())\n",
    "    if rootData == None:\n",
    "        return\n",
    "    root = TreeNode(rootData)\n",
    "    print(\"Enter the number of childern for\", rootData)\n",
    "    childrenCount = int(input())\n",
    "    for i in range(childrenCount):\n",
    "        child = takeInput()\n",
    "        root.children.append(child)\n",
    "    return root"
   ]
  },
  {
   "cell_type": "markdown",
   "id": "49e79adf",
   "metadata": {},
   "source": [
    "## Number of Nodes in a Generic Tree"
   ]
  },
  {
   "cell_type": "code",
   "execution_count": 5,
   "id": "255a502a",
   "metadata": {},
   "outputs": [],
   "source": [
    "def numNodes(root):\n",
    "#     # edge case\n",
    "#     if root == None:\n",
    "#         return 0\n",
    "    sum = 0\n",
    "    for child in root.children:\n",
    "        sum += numNodes(child)\n",
    "    return 1 + sum"
   ]
  },
  {
   "cell_type": "code",
   "execution_count": 6,
   "id": "b206ad43",
   "metadata": {},
   "outputs": [],
   "source": [
    "def numNodes(root):\n",
    "#     # edge case\n",
    "#     if root == None:\n",
    "#         return 0\n",
    "    count = 1\n",
    "    for child in root.children:\n",
    "        count += numNodes(child)\n",
    "    return count"
   ]
  },
  {
   "cell_type": "markdown",
   "id": "173a39e6",
   "metadata": {},
   "source": [
    "## Sum of all Nodes"
   ]
  },
  {
   "cell_type": "code",
   "execution_count": 7,
   "id": "86f07a99",
   "metadata": {},
   "outputs": [],
   "source": [
    "def sumNodes(root):\n",
    "#     # edge case \n",
    "#     if root == None:\n",
    "#         return 0\n",
    "    sum_ = root.data\n",
    "    for child in root.children:\n",
    "        sum_ = sum_ + sumNodes(child)\n",
    "    return sum_"
   ]
  },
  {
   "cell_type": "markdown",
   "id": "dce38a76",
   "metadata": {},
   "source": [
    "## Node with Maximum Data"
   ]
  },
  {
   "cell_type": "code",
   "execution_count": 8,
   "id": "da827a3f",
   "metadata": {},
   "outputs": [],
   "source": [
    "def maxTree(root):\n",
    "    # edge case\n",
    "    if root == None:\n",
    "        return\n",
    "    max_ = root.data\n",
    "    for child in root.children:\n",
    "        max_ = max(max_, maxTree(child))\n",
    "    return max_    "
   ]
  },
  {
   "cell_type": "markdown",
   "id": "a6f9357d",
   "metadata": {},
   "source": [
    "## Height of a Tree"
   ]
  },
  {
   "cell_type": "code",
   "execution_count": 9,
   "id": "3748441d",
   "metadata": {},
   "outputs": [],
   "source": [
    "def heightTree(root):\n",
    "    # edge case\n",
    "    if root == None:\n",
    "        return 0\n",
    "    height = 0 # for root itself\n",
    "    for child in root.children:\n",
    "        height = max(height, heightTree(child))\n",
    "    return 1+ height"
   ]
  },
  {
   "cell_type": "markdown",
   "id": "0ad46fe9",
   "metadata": {},
   "source": [
    "## Levelwise input for a generic Tree"
   ]
  },
  {
   "cell_type": "code",
   "execution_count": 10,
   "id": "7980670d",
   "metadata": {},
   "outputs": [],
   "source": [
    "import queue\n",
    "def levelwiseInput():\n",
    "    q = queue.Queue()\n",
    "    print(\"Enter the root\")\n",
    "    rootData = int(input())\n",
    "    if rootData == -1:\n",
    "        return \n",
    "    root = TreeNode(rootData)\n",
    "    q.put(root)\n",
    "    \n",
    "    while not q.empty():\n",
    "        current = q.get()\n",
    "        print(\"Enter the number of nodes for \", current.data)\n",
    "        childCount = int(input())\n",
    "        for i in range(childCount):\n",
    "            print(\"Enter the\", i+1, \"th child of \", rootData)\n",
    "            childData = int(input())\n",
    "            child = TreeNode(childData)\n",
    "            current.children.append(child)\n",
    "            q.put(child)\n",
    "    return root"
   ]
  },
  {
   "cell_type": "markdown",
   "id": "e352d1c0",
   "metadata": {},
   "source": [
    "## Print the generic Tree levelwise:"
   ]
  },
  {
   "cell_type": "code",
   "execution_count": 11,
   "id": "2ad1d92e",
   "metadata": {},
   "outputs": [],
   "source": [
    "import queue\n",
    "def printLevelWise(root):\n",
    "    q = queue.Queue()\n",
    "    \n",
    "    # edge case\n",
    "    if root == None:\n",
    "        return \n",
    "    q.put(root)\n",
    "    \n",
    "    while not q.empty():\n",
    "        current = q.get()\n",
    "        print(current.data, end = \" : \")\n",
    "        for child in current.children:\n",
    "            print(child.data,  end = \" \")\n",
    "        print()\n",
    "        for child in current.children:\n",
    "            q.put(child)\n",
    "    return"
   ]
  },
  {
   "cell_type": "markdown",
   "id": "79a2db83",
   "metadata": {},
   "source": [
    "## Contains x \n",
    "\n",
    "#### Given a Generic Tree and a interger x, return True if x is present in the Tree"
   ]
  },
  {
   "cell_type": "code",
   "execution_count": 35,
   "id": "2a77dba8",
   "metadata": {},
   "outputs": [],
   "source": [
    "def findX(root, x):\n",
    "    # edge case\n",
    "    if root == None:\n",
    "        return False\n",
    "    if root.data == x:\n",
    "        return True\n",
    "    isPresent = False\n",
    "    for child in root.children:\n",
    "        isPresent = isPresent or findX(child,x)\n",
    "    return isPresent"
   ]
  },
  {
   "cell_type": "markdown",
   "id": "c03c710b",
   "metadata": {},
   "source": [
    "## Find the number of nodes having data greater than x"
   ]
  },
  {
   "cell_type": "code",
   "execution_count": 57,
   "id": "93858859",
   "metadata": {},
   "outputs": [],
   "source": [
    "def greaterX(root,x):\n",
    "    if root == None:\n",
    "        return 0\n",
    "    total = 0\n",
    "    for child in root.children:\n",
    "        total = total + greaterX(child,x)\n",
    "    if root.data > x:\n",
    "        print(root.data)\n",
    "        return 1 + total\n",
    "    else:\n",
    "        return total\n",
    "        "
   ]
  },
  {
   "cell_type": "markdown",
   "id": "4814000a",
   "metadata": {},
   "source": [
    "## Node with maximum child sum\n",
    "\n",
    "**given a tree, return the node for which sum of its data and its immediate children sum is maximum**\n",
    "\n",
    "### Iterative Solution"
   ]
  },
  {
   "cell_type": "code",
   "execution_count": 81,
   "id": "e9762df6",
   "metadata": {},
   "outputs": [],
   "source": [
    "import queue\n",
    "def maxChildSum(root):\n",
    "    # edge case\n",
    "    if root == None:\n",
    "        return \n",
    "    q = queue.Queue()\n",
    "    q.put(root)\n",
    "    \n",
    "    maxSum = 0\n",
    "    maxSumNode = root.data\n",
    "    \n",
    "    while not q.empty():\n",
    "        curr = q.get()\n",
    "        total = curr.data\n",
    "        for child in curr.children:\n",
    "            total += child.data\n",
    "            q.put(child)\n",
    "#         print(total , curr.data, maxSum)\n",
    "        if total > maxSum:\n",
    "            maxSum = total\n",
    "            maxSumNode = curr.data\n",
    "            \n",
    "    return maxSumNode\n",
    "    "
   ]
  },
  {
   "cell_type": "markdown",
   "id": "f0453edb",
   "metadata": {},
   "source": [
    "### Recursive Solution"
   ]
  },
  {
   "cell_type": "code",
   "execution_count": 111,
   "id": "be1e7fcb",
   "metadata": {},
   "outputs": [],
   "source": [
    "def maxChildSum1(root, x, xSum):\n",
    "    if root == None:\n",
    "        return\n",
    "    rootSum = root.data\n",
    "    for child in root.children:\n",
    "        rootSum += child.data\n",
    "        x, xSum = maxChildSum1(child, x, xSum)\n",
    "    if rootSum > xSum:\n",
    "        xSum = rootSum\n",
    "        x = root.data\n",
    "    return x, xSum"
   ]
  },
  {
   "cell_type": "markdown",
   "id": "ac084f9e",
   "metadata": {},
   "source": [
    "## Structuically Identical Nodes\n",
    "\n",
    "**same values as well as same positions**"
   ]
  },
  {
   "cell_type": "code",
   "execution_count": 120,
   "id": "48edc4e3",
   "metadata": {},
   "outputs": [],
   "source": [
    "def isIdentical(node1, node2):\n",
    "    if node1.data != node2.data or len(node1.children) != len(node2.children):\n",
    "        return False\n",
    "    isId = True\n",
    "    for child1, child2 in zip(node1.children, node2.children):\n",
    "        isId = isId and isIdentical(child1, child2)\n",
    "    return isId"
   ]
  },
  {
   "cell_type": "markdown",
   "id": "695ad63e",
   "metadata": {},
   "source": [
    "## Given a tree root and integer x, find the node that is just large to the x in the tree."
   ]
  },
  {
   "cell_type": "code",
   "execution_count": 128,
   "id": "a9f48452",
   "metadata": {},
   "outputs": [],
   "source": [
    "def justLarge(root,x, currLarge = 10**6):\n",
    "    if x < root.data < currLarge:\n",
    "        currLarge = root.data\n",
    "    for child in root.children:\n",
    "        currLarge = justLarge(child, x, currLarge)\n",
    "    return currLarge\n",
    "    "
   ]
  },
  {
   "cell_type": "markdown",
   "id": "1b8553c6",
   "metadata": {},
   "source": [
    "## Replace with Depth"
   ]
  },
  {
   "cell_type": "code",
   "execution_count": 181,
   "id": "f767bccc",
   "metadata": {},
   "outputs": [],
   "source": [
    "def replaceDepth(root, depth = 0):\n",
    "    root.data = depth\n",
    "    for child in root.children:\n",
    "        replaceDepth(child, depth+1)\n",
    "        \n",
    "        "
   ]
  },
  {
   "cell_type": "code",
   "execution_count": null,
   "id": "22c7dfff",
   "metadata": {},
   "outputs": [],
   "source": []
  },
  {
   "cell_type": "code",
   "execution_count": null,
   "id": "97cdfa95",
   "metadata": {},
   "outputs": [],
   "source": []
  },
  {
   "cell_type": "code",
   "execution_count": null,
   "id": "13c17de7",
   "metadata": {},
   "outputs": [],
   "source": []
  },
  {
   "cell_type": "code",
   "execution_count": null,
   "id": "ff510b4e",
   "metadata": {},
   "outputs": [],
   "source": []
  },
  {
   "cell_type": "code",
   "execution_count": null,
   "id": "cdd30f78",
   "metadata": {},
   "outputs": [],
   "source": []
  },
  {
   "cell_type": "code",
   "execution_count": null,
   "id": "13036457",
   "metadata": {},
   "outputs": [],
   "source": []
  },
  {
   "cell_type": "code",
   "execution_count": 156,
   "id": "508a6f20",
   "metadata": {},
   "outputs": [],
   "source": [
    "temp = node1"
   ]
  },
  {
   "cell_type": "code",
   "execution_count": 184,
   "id": "2dce062c",
   "metadata": {},
   "outputs": [
    {
     "name": "stdout",
     "output_type": "stream",
     "text": [
      "Enter the root\n",
      "1\n",
      "Enter the number of nodes for  1\n",
      "4\n",
      "Enter the 1 th child of  1\n",
      "2\n",
      "Enter the 2 th child of  1\n",
      "3\n",
      "Enter the 3 th child of  1\n",
      "4\n",
      "Enter the 4 th child of  1\n",
      "5\n",
      "Enter the number of nodes for  2\n",
      "2\n",
      "Enter the 1 th child of  1\n",
      "8\n",
      "Enter the 2 th child of  1\n",
      "9\n",
      "Enter the number of nodes for  3\n",
      "0\n",
      "Enter the number of nodes for  4\n",
      "0\n",
      "Enter the number of nodes for  5\n",
      "0\n",
      "Enter the number of nodes for  8\n",
      "0\n",
      "Enter the number of nodes for  9\n",
      "0\n",
      "1 : 2 3 4 5 \n",
      "2 : 8 9 \n",
      "3 : \n",
      "4 : \n",
      "5 : \n",
      "8 : \n",
      "9 : \n"
     ]
    }
   ],
   "source": [
    "node1 = levelwiseInput()\n",
    "printLevelWise(node1)"
   ]
  },
  {
   "cell_type": "code",
   "execution_count": 118,
   "id": "85c01a20",
   "metadata": {},
   "outputs": [
    {
     "name": "stdout",
     "output_type": "stream",
     "text": [
      "Enter the root\n",
      "1\n",
      "Enter the number of nodes for  1\n",
      "3\n",
      "Enter the 1 th child of  1\n",
      "2\n",
      "Enter the 2 th child of  1\n",
      "3\n",
      "Enter the 3 th child of  1\n",
      "4\n",
      "Enter the number of nodes for  2\n",
      "2\n",
      "Enter the 1 th child of  1\n",
      "5\n",
      "Enter the 2 th child of  1\n",
      "6\n",
      "Enter the number of nodes for  3\n",
      "0\n",
      "Enter the number of nodes for  4\n",
      "0\n",
      "Enter the number of nodes for  5\n",
      "0\n",
      "Enter the number of nodes for  6\n",
      "0\n",
      "1 : 2 3 4 \n",
      "2 : 5 6 \n",
      "3 : \n",
      "4 : \n",
      "5 : \n",
      "6 : \n"
     ]
    }
   ],
   "source": [
    "node2 = levelwiseInput()\n",
    "printLevelWise(node2)"
   ]
  },
  {
   "cell_type": "code",
   "execution_count": 121,
   "id": "9e89982e",
   "metadata": {},
   "outputs": [
    {
     "data": {
      "text/plain": [
       "True"
      ]
     },
     "execution_count": 121,
     "metadata": {},
     "output_type": "execute_result"
    }
   ],
   "source": [
    "isIdentical(node1, node2)"
   ]
  },
  {
   "cell_type": "code",
   "execution_count": 124,
   "id": "7393e122",
   "metadata": {},
   "outputs": [
    {
     "name": "stdout",
     "output_type": "stream",
     "text": [
      "Enter the root\n",
      "2\n",
      "Enter the number of nodes for  2\n",
      "3\n",
      "Enter the 1 th child of  2\n",
      "4\n",
      "Enter the 2 th child of  2\n",
      "5\n",
      "Enter the 3 th child of  2\n",
      "6\n",
      "Enter the number of nodes for  4\n",
      "0\n",
      "Enter the number of nodes for  5\n",
      "0\n",
      "Enter the number of nodes for  6\n",
      "0\n",
      "2 : 4 5 6 \n",
      "4 : \n",
      "5 : \n",
      "6 : \n"
     ]
    }
   ],
   "source": [
    "node3 = levelwiseInput()\n",
    "printLevelWise(node3)"
   ]
  },
  {
   "cell_type": "code",
   "execution_count": 125,
   "id": "796ee5c7",
   "metadata": {},
   "outputs": [
    {
     "data": {
      "text/plain": [
       "False"
      ]
     },
     "execution_count": 125,
     "metadata": {},
     "output_type": "execute_result"
    }
   ],
   "source": [
    "isIdentical(node1, node3)"
   ]
  },
  {
   "cell_type": "code",
   "execution_count": 62,
   "id": "13928088",
   "metadata": {},
   "outputs": [
    {
     "name": "stdout",
     "output_type": "stream",
     "text": [
      "Enter the root\n",
      "5\n",
      "Enter the number of nodes for  5\n",
      "3\n",
      "Enter the 1 th child of  5\n",
      "1\n",
      "Enter the 2 th child of  5\n",
      "2\n",
      "Enter the 3 th child of  5\n",
      "3\n",
      "Enter the number of nodes for  1\n",
      "1\n",
      "Enter the 1 th child of  5\n",
      "15\n",
      "Enter the number of nodes for  2\n",
      "2\n",
      "Enter the 1 th child of  5\n",
      "4\n",
      "Enter the 2 th child of  5\n",
      "5\n",
      "Enter the number of nodes for  3\n",
      "1\n",
      "Enter the 1 th child of  5\n",
      "6\n",
      "Enter the number of nodes for  15\n",
      "0\n",
      "Enter the number of nodes for  4\n",
      "0\n",
      "Enter the number of nodes for  5\n",
      "0\n",
      "Enter the number of nodes for  6\n",
      "0\n"
     ]
    }
   ],
   "source": [
    "node = levelwiseInput()"
   ]
  },
  {
   "cell_type": "code",
   "execution_count": 63,
   "id": "acef68f5",
   "metadata": {},
   "outputs": [
    {
     "name": "stdout",
     "output_type": "stream",
     "text": [
      "5 : 1 ,  2 ,  3 ,  \n",
      "1 : 15 ,  \n",
      "15 : \n",
      "2 : 4 ,  5 ,  \n",
      "4 : \n",
      "5 : \n",
      "3 : 6 ,  \n",
      "6 : \n"
     ]
    }
   ],
   "source": [
    "printTreeDetailed(node)"
   ]
  },
  {
   "cell_type": "code",
   "execution_count": 97,
   "id": "0d2377d1",
   "metadata": {},
   "outputs": [
    {
     "name": "stdout",
     "output_type": "stream",
     "text": [
      "1\n",
      "2\n",
      "3\n",
      "4\n",
      "5\n",
      "6\n",
      "7\n"
     ]
    }
   ],
   "source": [
    "printLevelWise(node)"
   ]
  },
  {
   "cell_type": "code",
   "execution_count": 6,
   "id": "d7b9c646",
   "metadata": {},
   "outputs": [],
   "source": [
    "n1 = TreeNode(5)\n",
    "n2 = TreeNode(6)\n",
    "n3 = TreeNode(7)\n",
    "n4 = TreeNode(8)\n",
    "n5 = TreeNode(9)\n",
    "n6 = TreeNode(10)\n",
    "n7 = TreeNode(11)\n",
    "n8 = TreeNode(12)"
   ]
  },
  {
   "cell_type": "code",
   "execution_count": 7,
   "id": "e6b43635",
   "metadata": {},
   "outputs": [],
   "source": [
    "n1.children.append(n2)\n",
    "n1.children.append(n3)\n",
    "n1.children.append(n4)\n",
    "n1.children.append(n5)\n",
    "\n",
    "n3.children.append(n6)\n",
    "n3.children.append(n7)\n",
    "n3.children.append(n8)"
   ]
  },
  {
   "cell_type": "code",
   "execution_count": 12,
   "id": "b38023f3",
   "metadata": {},
   "outputs": [
    {
     "name": "stdout",
     "output_type": "stream",
     "text": [
      "5\n",
      "6\n",
      "7\n",
      "10\n",
      "11\n",
      "12\n",
      "8\n",
      "9\n"
     ]
    }
   ],
   "source": [
    "printTree(n1)"
   ]
  },
  {
   "cell_type": "code",
   "execution_count": 14,
   "id": "b40b65dd",
   "metadata": {},
   "outputs": [
    {
     "name": "stdout",
     "output_type": "stream",
     "text": [
      "5 : 6 ,  7 ,  8 ,  9 ,  \n",
      "6 : \n",
      "7 : 10 ,  11 ,  12 ,  \n",
      "10 : \n",
      "11 : \n",
      "12 : \n",
      "8 : \n",
      "9 : \n"
     ]
    }
   ],
   "source": [
    "printTreeDetailed(n1)"
   ]
  },
  {
   "cell_type": "code",
   "execution_count": 33,
   "id": "7838b6f6",
   "metadata": {},
   "outputs": [
    {
     "name": "stdout",
     "output_type": "stream",
     "text": [
      "Enter the root Data\n",
      "1\n",
      "Enter the number of childern for 1\n",
      "4\n",
      "Enter the root Data\n",
      "2\n",
      "Enter the number of childern for 2\n",
      "0\n",
      "Enter the root Data\n",
      "3\n",
      "Enter the number of childern for 3\n",
      "2\n",
      "Enter the root Data\n",
      "6\n",
      "Enter the number of childern for 6\n",
      "0\n",
      "Enter the root Data\n",
      "7\n",
      "Enter the number of childern for 7\n",
      "0\n",
      "Enter the root Data\n",
      "9\n",
      "Enter the number of childern for 9\n",
      "0\n",
      "Enter the root Data\n",
      "5\n",
      "Enter the number of childern for 5\n",
      "0\n"
     ]
    }
   ],
   "source": [
    "root = takeInput()"
   ]
  },
  {
   "cell_type": "code",
   "execution_count": 69,
   "id": "29898b1c",
   "metadata": {},
   "outputs": [
    {
     "name": "stdout",
     "output_type": "stream",
     "text": [
      "1 : 2 ,  3 ,  9 ,  5 ,  \n",
      "2 : \n",
      "3 : 6 ,  7 ,  \n",
      "6 : \n",
      "7 : \n",
      "9 : \n",
      "5 : \n"
     ]
    }
   ],
   "source": [
    "printTreeDetailed(root)"
   ]
  },
  {
   "cell_type": "code",
   "execution_count": 46,
   "id": "99c3daca",
   "metadata": {},
   "outputs": [
    {
     "data": {
      "text/plain": [
       "7"
      ]
     },
     "execution_count": 46,
     "metadata": {},
     "output_type": "execute_result"
    }
   ],
   "source": [
    "numNodes(root)"
   ]
  },
  {
   "cell_type": "code",
   "execution_count": 47,
   "id": "27a7787e",
   "metadata": {},
   "outputs": [
    {
     "data": {
      "text/plain": [
       "0"
      ]
     },
     "execution_count": 47,
     "metadata": {},
     "output_type": "execute_result"
    }
   ],
   "source": [
    "numNodes(None)"
   ]
  },
  {
   "cell_type": "code",
   "execution_count": 63,
   "id": "ae24b9ba",
   "metadata": {},
   "outputs": [
    {
     "data": {
      "text/plain": [
       "33"
      ]
     },
     "execution_count": 63,
     "metadata": {},
     "output_type": "execute_result"
    }
   ],
   "source": [
    "sumNodes(root)"
   ]
  },
  {
   "cell_type": "code",
   "execution_count": 76,
   "id": "d16a933f",
   "metadata": {},
   "outputs": [
    {
     "data": {
      "text/plain": [
       "9"
      ]
     },
     "execution_count": 76,
     "metadata": {},
     "output_type": "execute_result"
    }
   ],
   "source": [
    "maxTree(root)"
   ]
  },
  {
   "cell_type": "code",
   "execution_count": 82,
   "id": "3e3c61bc",
   "metadata": {},
   "outputs": [
    {
     "data": {
      "text/plain": [
       "3"
      ]
     },
     "execution_count": 82,
     "metadata": {},
     "output_type": "execute_result"
    }
   ],
   "source": [
    "heightTree(root)"
   ]
  },
  {
   "cell_type": "code",
   "execution_count": 21,
   "id": "954d028c",
   "metadata": {},
   "outputs": [
    {
     "name": "stdout",
     "output_type": "stream",
     "text": [
      "1 : 2 3 4 5 \n",
      "2 : \n",
      "3 : 6 7 8 \n",
      "4 : \n",
      "5 : \n",
      "6 : \n",
      "7 : \n",
      "8 : \n"
     ]
    }
   ],
   "source": [
    "printLevelWise(node)"
   ]
  },
  {
   "cell_type": "code",
   "execution_count": 38,
   "id": "8156b696",
   "metadata": {},
   "outputs": [
    {
     "data": {
      "text/plain": [
       "True"
      ]
     },
     "execution_count": 38,
     "metadata": {},
     "output_type": "execute_result"
    }
   ],
   "source": [
    "findX(node, 7)"
   ]
  },
  {
   "cell_type": "code",
   "execution_count": 60,
   "id": "c7eb1369",
   "metadata": {},
   "outputs": [
    {
     "name": "stdout",
     "output_type": "stream",
     "text": [
      "6\n",
      "7\n",
      "8\n"
     ]
    },
    {
     "data": {
      "text/plain": [
       "3"
      ]
     },
     "execution_count": 60,
     "metadata": {},
     "output_type": "execute_result"
    }
   ],
   "source": [
    "greaterX(node, 5)"
   ]
  },
  {
   "cell_type": "code",
   "execution_count": 82,
   "id": "3c6bfb08",
   "metadata": {},
   "outputs": [
    {
     "data": {
      "text/plain": [
       "1"
      ]
     },
     "execution_count": 82,
     "metadata": {},
     "output_type": "execute_result"
    }
   ],
   "source": [
    "maxChildSum(node)"
   ]
  },
  {
   "cell_type": "code",
   "execution_count": 113,
   "id": "5ae86644",
   "metadata": {},
   "outputs": [
    {
     "data": {
      "text/plain": [
       "(1, 16)"
      ]
     },
     "execution_count": 113,
     "metadata": {},
     "output_type": "execute_result"
    }
   ],
   "source": [
    "x = 0\n",
    "xSum = 0\n",
    "maxChildSum1(node, x, xSum)"
   ]
  },
  {
   "cell_type": "code",
   "execution_count": 136,
   "id": "6be95397",
   "metadata": {},
   "outputs": [
    {
     "data": {
      "text/plain": [
       "3"
      ]
     },
     "execution_count": 136,
     "metadata": {},
     "output_type": "execute_result"
    }
   ],
   "source": [
    "justLarge(node1, 2)"
   ]
  },
  {
   "cell_type": "code",
   "execution_count": 187,
   "id": "ac702771",
   "metadata": {},
   "outputs": [
    {
     "name": "stdout",
     "output_type": "stream",
     "text": [
      "0 : 1 1 1 1 \n",
      "1 : 2 2 \n",
      "1 : \n",
      "1 : \n",
      "1 : \n",
      "2 : \n",
      "2 : \n"
     ]
    }
   ],
   "source": [
    "replaceDepth(node1)\n",
    "printLevelWise(node1)"
   ]
  },
  {
   "cell_type": "code",
   "execution_count": null,
   "id": "0714f76e",
   "metadata": {},
   "outputs": [],
   "source": []
  }
 ],
 "metadata": {
  "kernelspec": {
   "display_name": "Python 3 (ipykernel)",
   "language": "python",
   "name": "python3"
  },
  "language_info": {
   "codemirror_mode": {
    "name": "ipython",
    "version": 3
   },
   "file_extension": ".py",
   "mimetype": "text/x-python",
   "name": "python",
   "nbconvert_exporter": "python",
   "pygments_lexer": "ipython3",
   "version": "3.8.3"
  }
 },
 "nbformat": 4,
 "nbformat_minor": 5
}
