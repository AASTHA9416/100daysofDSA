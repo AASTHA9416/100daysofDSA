{
 "cells": [
  {
   "cell_type": "markdown",
   "id": "5a4f5bc8",
   "metadata": {},
   "source": [
    "# Dynamic Programming - 2"
   ]
  },
  {
   "cell_type": "markdown",
   "id": "5c774477",
   "metadata": {},
   "source": [
    "## Min Cost Path \n",
    "### Given m x n matrix, find the min cost of the path."
   ]
  },
  {
   "cell_type": "code",
   "execution_count": 14,
   "id": "3f0c8a0e",
   "metadata": {},
   "outputs": [],
   "source": [
    "## Step -1 Recursive Solution\n",
    "\n",
    "import sys\n",
    "def minCostHelp(matrix,m,n, row, col):\n",
    "#     print(row,col)\n",
    "    if row == m-1 and col == n-1:\n",
    "        return matrix[row][col]\n",
    "    if row >= m:\n",
    "        return sys.maxsize\n",
    "    if col >= n:\n",
    "        return sys.maxsize\n",
    "    \n",
    "    down = minCostHelp(matrix,m, n, row+1, col)\n",
    "    right = minCostHelp(matrix,m, n, row, col+1)\n",
    "    diagonal = minCostHelp(matrix,m, n, row+1, col+1)\n",
    "    \n",
    "    final_cost = matrix[row][col] + min(down, right, diagonal)\n",
    "    \n",
    "    return final_cost\n",
    "\n",
    "def minCost(matrix):\n",
    "    m = len(matrix)\n",
    "    n = len(matrix[0])\n",
    "    return minCostHelp(matrix, m, n, 0, 0)"
   ]
  },
  {
   "cell_type": "code",
   "execution_count": 123,
   "id": "d4bed0d7",
   "metadata": {},
   "outputs": [],
   "source": [
    "matrix = [[1,5,11],\n",
    "         [8,13,12],\n",
    "         [2,3,7],\n",
    "         [1,2,3]]"
   ]
  },
  {
   "cell_type": "code",
   "execution_count": 124,
   "id": "0350609c",
   "metadata": {},
   "outputs": [
    {
     "data": {
      "text/plain": [
       "15"
      ]
     },
     "execution_count": 124,
     "metadata": {},
     "output_type": "execute_result"
    }
   ],
   "source": [
    "minCost(matrix)"
   ]
  },
  {
   "cell_type": "code",
   "execution_count": 136,
   "id": "93f25aa2",
   "metadata": {},
   "outputs": [],
   "source": [
    "## Step -2 Using the DP in the recursive solution itself\n",
    "\n",
    "def minCostHelp(matrix,m,n,row,col,dp):\n",
    "#     print(row,col)\n",
    "    if row == m-1 and col == n-1:\n",
    "        return matrix[row][col]\n",
    "    \n",
    "    if row >= m:\n",
    "        return sys.maxsize\n",
    "    if col >= n:\n",
    "        return sys.maxsize\n",
    "    \n",
    "    if dp[row+1][col] == -1:\n",
    "        down = minCostHelp(matrix, m,n,row+1, col, dp)\n",
    "        dp[row+1][col] = down\n",
    "    else:\n",
    "        down = dp[row+1][col]\n",
    "    \n",
    "    if dp[row][col+1] == -1:\n",
    "        right = minCostHelp(matrix, m,n,row, col+1, dp)\n",
    "        dp[row][col+1] = right\n",
    "    else:\n",
    "        right = dp[row][col+1]\n",
    "    \n",
    "    if dp[row+1][col+1] == -1:\n",
    "        diagonal = minCostHelp(matrix, m,n, row+1, col+1, dp)\n",
    "        dp[row+1][col+1] = diagonal\n",
    "    else:\n",
    "        diagonal = dp[row+1][col+1]\n",
    "    \n",
    "    final_cost = matrix[row][col] + min(down, right, diagonal)\n",
    "    \n",
    "    return final_cost\n",
    "        \n",
    "\n",
    "def minCost(matrix):\n",
    "    m = len(matrix)\n",
    "    n = len(matrix[0])\n",
    "    dp = [[-1 for j in range(n+1)] for i in range(m+1)]\n",
    "#     print(dp)\n",
    "    \n",
    "    return minCostHelp(matrix, m,n,0,0,dp)\n",
    "    "
   ]
  },
  {
   "cell_type": "code",
   "execution_count": 137,
   "id": "e92afbad",
   "metadata": {},
   "outputs": [
    {
     "data": {
      "text/plain": [
       "15"
      ]
     },
     "execution_count": 137,
     "metadata": {},
     "output_type": "execute_result"
    }
   ],
   "source": [
    "minCost(matrix)"
   ]
  },
  {
   "cell_type": "code",
   "execution_count": 138,
   "id": "13330abd",
   "metadata": {},
   "outputs": [],
   "source": [
    "## Iterative Solution\n",
    "\n",
    "# m = rows, n = cols\n",
    "\n",
    "def minCostI(matrix):\n",
    "    m = len(matrix)\n",
    "    n = len(matrix[0])\n",
    "    dp = [[sys.maxsize for j in range(n+1)] for i in range(m+1)]\n",
    "    \n",
    "    for row in range(m-1,-1,-1):\n",
    "        for col in range(n-1,-1,-1):\n",
    "#             print(row,col)\n",
    "            up = dp[row+1][col]\n",
    "            left = dp[row][col+1]\n",
    "            diagonal = dp[row+1][col+1]\n",
    "            \n",
    "            if row == m-1 and col == n-1:\n",
    "                dp[row][col] = matrix[row][col]\n",
    "            else:\n",
    "                dp[row][col] = matrix[row][col] + min(up, left, diagonal)\n",
    "            \n",
    "    return dp[0][0]\n",
    "        \n",
    "            \n",
    "            \n",
    "\n"
   ]
  },
  {
   "cell_type": "code",
   "execution_count": 139,
   "id": "70f1e132",
   "metadata": {},
   "outputs": [
    {
     "data": {
      "text/plain": [
       "15"
      ]
     },
     "execution_count": 139,
     "metadata": {},
     "output_type": "execute_result"
    }
   ],
   "source": [
    "minCostI(matrix)"
   ]
  },
  {
   "cell_type": "code",
   "execution_count": 155,
   "id": "ad2e3800",
   "metadata": {},
   "outputs": [],
   "source": [
    "## Top to Bottom Approach\n",
    "\n",
    "def minCostTB(matrix):\n",
    "    m = len(matrix)\n",
    "    n = len(matrix[0])\n",
    "    \n",
    "    dp = [[sys.maxsize for j in range(n+1)] for i in range(m+1)]\n",
    "    for row in range(0,m):\n",
    "        for col in range(0,n):\n",
    "            if row ==0 and col == 0:\n",
    "                dp[row][col] = matrix[row][col]\n",
    "            else:\n",
    "                up = dp[row-1][col]\n",
    "                left = dp[row][col-1]\n",
    "                diagonal = dp[row-1][col-1]\n",
    "\n",
    "                dp[row][col] = matrix[row][col] + min(up, left, diagonal)\n",
    "#             print(dp)\n",
    "    return dp[m-1][n-1]"
   ]
  },
  {
   "cell_type": "code",
   "execution_count": 156,
   "id": "bc4dc74e",
   "metadata": {},
   "outputs": [
    {
     "data": {
      "text/plain": [
       "15"
      ]
     },
     "execution_count": 156,
     "metadata": {},
     "output_type": "execute_result"
    }
   ],
   "source": [
    "minCostTB(matrix)"
   ]
  },
  {
   "cell_type": "code",
   "execution_count": 146,
   "id": "43210f4e",
   "metadata": {},
   "outputs": [
    {
     "data": {
      "text/plain": [
       "[[1, 5, 11], [8, 13, 12], [2, 3, 7], [1, 2, 3]]"
      ]
     },
     "execution_count": 146,
     "metadata": {},
     "output_type": "execute_result"
    }
   ],
   "source": [
    "matrix"
   ]
  },
  {
   "cell_type": "code",
   "execution_count": 73,
   "id": "950ecf65",
   "metadata": {},
   "outputs": [],
   "source": [
    "dp = [list(i)+[0] for i in matrix] +[[0 for k in range(len(matrix)+1)]]"
   ]
  },
  {
   "cell_type": "code",
   "execution_count": 74,
   "id": "0b0f3bba",
   "metadata": {},
   "outputs": [
    {
     "data": {
      "text/plain": [
       "[[1, 5, 11, 0], [8, 13, 12, 0], [2, 3, 7, 0], [0, 0, 0, 0]]"
      ]
     },
     "execution_count": 74,
     "metadata": {},
     "output_type": "execute_result"
    }
   ],
   "source": [
    "dp"
   ]
  },
  {
   "cell_type": "code",
   "execution_count": 66,
   "id": "13d56251",
   "metadata": {},
   "outputs": [],
   "source": [
    "matrix[0][0] = 1"
   ]
  },
  {
   "cell_type": "code",
   "execution_count": 67,
   "id": "3a70b8c3",
   "metadata": {},
   "outputs": [
    {
     "data": {
      "text/plain": [
       "[[1, 5, 11], [8, 13, 12], [2, 3, 7]]"
      ]
     },
     "execution_count": 67,
     "metadata": {},
     "output_type": "execute_result"
    }
   ],
   "source": [
    "dp"
   ]
  },
  {
   "cell_type": "code",
   "execution_count": 68,
   "id": "3f1db0da",
   "metadata": {},
   "outputs": [
    {
     "data": {
      "text/plain": [
       "[[1, 5, 11], [8, 13, 12], [2, 3, 7]]"
      ]
     },
     "execution_count": 68,
     "metadata": {},
     "output_type": "execute_result"
    }
   ],
   "source": [
    "matrix"
   ]
  },
  {
   "cell_type": "markdown",
   "id": "5d14d760",
   "metadata": {},
   "source": [
    "## Longest Common Subsequence\n",
    "\n",
    "### Given two strings str1 and str2, find the length of longest common subsequence from these"
   ]
  },
  {
   "cell_type": "code",
   "execution_count": 188,
   "id": "9b2303b8",
   "metadata": {},
   "outputs": [],
   "source": [
    "# Step 1: Using the recursion\n",
    "\n",
    "def lcs(str1, str2, i, j):\n",
    "    if i == len(str1) or j == len(str2):\n",
    "        return 0\n",
    "    \n",
    "    if str1[i] == str2[j]:\n",
    "        ans = 1 + lcs(str1, str2, i+1, j+1)\n",
    "    else:\n",
    "        ans1 = lcs(str1, str2, i+1,j)\n",
    "        ans2 = lcs(str1, str2, i,j+1)\n",
    "        \n",
    "        ans = max(ans1, ans2)\n",
    "        \n",
    "    return ans"
   ]
  },
  {
   "cell_type": "code",
   "execution_count": 189,
   "id": "6e9bc6b2",
   "metadata": {},
   "outputs": [
    {
     "data": {
      "text/plain": [
       "2"
      ]
     },
     "execution_count": 189,
     "metadata": {},
     "output_type": "execute_result"
    }
   ],
   "source": [
    "lcs('abdgec','pqac',0,0)"
   ]
  },
  {
   "cell_type": "code",
   "execution_count": 195,
   "id": "9185403d",
   "metadata": {},
   "outputs": [],
   "source": [
    "## Using the Dp in recursion\n",
    "\n",
    "\n",
    "def lcs(str1, str2, i, j, dp):\n",
    "#     print(i,j)\n",
    "    if i == len(str1) or j == len(str2):\n",
    "        return 0\n",
    "    \n",
    "    if str1[i] == str2[j]:\n",
    "        if dp[i+1][j+1] == -1:\n",
    "            ans_temp =lcs(str1, str2, i+1, j+1, dp)\n",
    "            dp[i+1][j+1] = ans_temp\n",
    "        else:\n",
    "            ans_temp = dp[i+1][j+1]\n",
    "        ans = ans_temp + 1\n",
    "    else:\n",
    "        if dp[i+1][j] == -1:\n",
    "            ans1 = lcs(str1, str2, i+1,j, dp)\n",
    "            dp[i+1][j] = ans1\n",
    "        else:\n",
    "            ans1 = dp[i+1][j]\n",
    "        if dp[i][j+1] == -1:\n",
    "            ans2 = lcs(str1, str2, i,j+1, dp)\n",
    "            dp[i][j+1] = ans2\n",
    "        else:\n",
    "            ans2 = dp[i][j+1]\n",
    "        \n",
    "        ans = max(ans1, ans2)\n",
    "        \n",
    "    return ans\n",
    "    \n",
    "def lcsDP(str1, str2):\n",
    "    m = len(str1)\n",
    "    n = len(str2)\n",
    "    dp = [[-1 for i in range(n+1)]for j in range(m+1)]\n",
    "#     print(dp)\n",
    "    return lcs(str1, str2, 0,0, dp)\n",
    "    \n"
   ]
  },
  {
   "cell_type": "code",
   "execution_count": 197,
   "id": "aaf3bc0c",
   "metadata": {},
   "outputs": [
    {
     "data": {
      "text/plain": [
       "2"
      ]
     },
     "execution_count": 197,
     "metadata": {},
     "output_type": "execute_result"
    }
   ],
   "source": [
    "lcsDP('abdgec','pqac')"
   ]
  },
  {
   "cell_type": "code",
   "execution_count": 202,
   "id": "870380a6",
   "metadata": {},
   "outputs": [],
   "source": [
    "## Iterative LCS\n",
    "\n",
    "\n",
    "def lcsI(str1, str2):\n",
    "    m = len(str1)\n",
    "    n = len(str2)\n",
    "    dp = [[0 for i in range(n+1)]for j in range(m+1)]\n",
    "    for i in range(m):\n",
    "        for j in range(n):\n",
    "            if str1[i] == str2[j]:\n",
    "                ans = 1 + dp[i-1][j-1]\n",
    "            else:\n",
    "                ans1 = dp[i-1][j]\n",
    "                ans2 = dp[i][j-1]\n",
    "                ans = max(ans1, ans2)\n",
    "            dp[i][j] = ans\n",
    "    return dp[m-1][n-1]\n",
    "            \n",
    "            \n",
    "            "
   ]
  },
  {
   "cell_type": "code",
   "execution_count": 204,
   "id": "539348d7",
   "metadata": {},
   "outputs": [
    {
     "data": {
      "text/plain": [
       "3"
      ]
     },
     "execution_count": 204,
     "metadata": {},
     "output_type": "execute_result"
    }
   ],
   "source": [
    "lcsI('abdgec','pqaec')"
   ]
  },
  {
   "cell_type": "markdown",
   "id": "faf11f5f",
   "metadata": {},
   "source": [
    "## Kanpsack\n",
    "\n",
    "### Given a wt array and a values array, and max weight W, we can put the max weight upto W and return the max. value from the knapsack."
   ]
  },
  {
   "cell_type": "code",
   "execution_count": 1,
   "id": "8ef55c82",
   "metadata": {},
   "outputs": [],
   "source": [
    "# step 1: recursive solution\n",
    "\n",
    "def ks(W, wt, val, i):\n",
    "    if i >= len(wt):\n",
    "        return 0\n",
    "    \n",
    "    if wt[i] > W:\n",
    "        ans = ks(W, wt, val, i+1)\n",
    "    \n",
    "    else:\n",
    "        ans1 = val[i] + ks(W-wt[i] , wt, val, i+1)\n",
    "        ans2 = ks(W, wt, val, i+1)\n",
    "        ans = max(ans1, ans2)\n",
    "    \n",
    "    return ans"
   ]
  },
  {
   "cell_type": "code",
   "execution_count": 2,
   "id": "06742d3f",
   "metadata": {},
   "outputs": [
    {
     "data": {
      "text/plain": [
       "500"
      ]
     },
     "execution_count": 2,
     "metadata": {},
     "output_type": "execute_result"
    }
   ],
   "source": [
    "wt = [20,25,30]\n",
    "val = [200,300,100]\n",
    "\n",
    "ks(50, wt, val, 0)"
   ]
  },
  {
   "cell_type": "code",
   "execution_count": 9,
   "id": "8405bd62",
   "metadata": {},
   "outputs": [],
   "source": [
    "## using the dp in the recursion itself\n",
    "\n",
    "def ks(W, wt, val, i, dp):\n",
    "    if i >= len(wt):\n",
    "        return 0\n",
    "    \n",
    "    if wt[i] > W:\n",
    "        if dp[i+1][W] == -1:\n",
    "            ans = ks(W, wt, val, i+1,dp)\n",
    "            dp[i+1][W] = ans\n",
    "        else:\n",
    "            ans = dp[i+1][W]\n",
    "    \n",
    "    else:\n",
    "        if dp[i+1][W-wt[i]] == -1:\n",
    "            ans1 = val[i] + ks(W-wt[i] , wt, val, i+1,dp)\n",
    "            dp[i+1][W-wt[i]] == ans1\n",
    "        else:\n",
    "            ans1 = dp[i+1][W-wt[i]]\n",
    "        if dp[i+1][W] == -1:\n",
    "            ans2 = ks(W, wt, val, i+1,dp)\n",
    "            dp[i+1][W] = ans2\n",
    "        else:\n",
    "            ans2 = dp[i+1][W]\n",
    "        ans = max(ans1, ans2)\n",
    "    \n",
    "    return ans"
   ]
  },
  {
   "cell_type": "code",
   "execution_count": 15,
   "id": "712754c3",
   "metadata": {},
   "outputs": [
    {
     "data": {
      "text/plain": [
       "500"
      ]
     },
     "execution_count": 15,
     "metadata": {},
     "output_type": "execute_result"
    }
   ],
   "source": [
    "wt = [20,25,30]\n",
    "val = [200,300,100]\n",
    "W = 50\n",
    "dp = [[-1 for j in range(W+1)] for i in range(len(wt)+1)]\n",
    "ks(50, wt, val, 0,dp)"
   ]
  },
  {
   "cell_type": "code",
   "execution_count": 53,
   "id": "263c7ca7",
   "metadata": {},
   "outputs": [],
   "source": [
    "## Iterative Solution\n",
    "\n",
    "def ksI(W, wt, val):\n",
    "    n = len(wt)\n",
    "    dp = [[0 for j in range(W+1)] for i in range(n+1)]\n",
    "    \n",
    "    for i in range(n-1, -1, -1):\n",
    "        for w in range(0, W+1):\n",
    "            \n",
    "            if wt[i] <= w:\n",
    "                ans1 = val[i] + dp[i+1][w-wt[i]]\n",
    "                ans2 = dp[i+1][w]\n",
    "                ans = max(ans1, ans2)\n",
    "            else:\n",
    "                ans = dp[i+1][w]\n",
    "            \n",
    "            dp[i][w] = ans\n",
    "    return dp[0][W]\n",
    "                \n",
    "            \n",
    "                \n",
    "            \n",
    "            \n",
    "        \n",
    "    "
   ]
  },
  {
   "cell_type": "code",
   "execution_count": 54,
   "id": "cf5aa6fd",
   "metadata": {},
   "outputs": [
    {
     "name": "stdout",
     "output_type": "stream",
     "text": [
      "500\n"
     ]
    }
   ],
   "source": [
    "wt = [20,25,30]\n",
    "val = [200,300,100]\n",
    "W = 50\n",
    "print(ksI(W, wt, val))"
   ]
  },
  {
   "cell_type": "markdown",
   "id": "878a1c7a",
   "metadata": {},
   "source": [
    "## Matrix chain multipication"
   ]
  },
  {
   "cell_type": "code",
   "execution_count": 88,
   "id": "b69f2256",
   "metadata": {},
   "outputs": [],
   "source": [
    "import sys\n",
    "def mcm(s, m):\n",
    "#     print(s)\n",
    "    if len(s) == 1:\n",
    "        return 0, m[s]\n",
    "    \n",
    "    min = sys.maxsize\n",
    "    for i in range(1,len(s)):\n",
    "        first = s[0:i]\n",
    "        second = s[i:]\n",
    "        data1 = mcm(first,m)\n",
    "        data2 = mcm(second,m)\n",
    "        \n",
    "        ops1 = data1[0]\n",
    "        ops2 = data2[0]\n",
    "        \n",
    "        row1 = data1[1][0]\n",
    "        col1 = data1[1][1]\n",
    "        \n",
    "        row2 = data2[1][0]\n",
    "        col2 = data2[1][1]\n",
    "        \n",
    "        total = ops1+ops2+ (row1*col1*col2)\n",
    "        \n",
    "        if total < min:\n",
    "            min = total\n",
    "    return (min, (row1, col2))\n",
    "        \n",
    "        \n",
    "        \n",
    "        \n",
    "        "
   ]
  },
  {
   "cell_type": "code",
   "execution_count": 89,
   "id": "efbaa992",
   "metadata": {},
   "outputs": [
    {
     "data": {
      "text/plain": [
       "(124, (2, 6))"
      ]
     },
     "execution_count": 89,
     "metadata": {},
     "output_type": "execute_result"
    }
   ],
   "source": [
    "m = {\"A\":(2,3), \"B\":(3,4), \"C\":(4,5), \"D\":(5,6)}\n",
    "mcm(\"ABCD\", m)"
   ]
  },
  {
   "cell_type": "code",
   "execution_count": 92,
   "id": "106dd851",
   "metadata": {},
   "outputs": [],
   "source": [
    "# using memoization\n",
    "import sys\n",
    "def mcm(s, m, dp):\n",
    "#     print(s)\n",
    "    if len(s) == 1:\n",
    "        return 0, m[s]\n",
    "    \n",
    "    min = sys.maxsize\n",
    "    for i in range(1,len(s)):\n",
    "        first = s[0:i]\n",
    "        second = s[i:]\n",
    "        \n",
    "        # Memoization\n",
    "        if dp.get(first, -1) == -1:\n",
    "            data1 = mcm(first,m,dp)\n",
    "            dp[first] = data1\n",
    "        else:\n",
    "            data1 = dp[first]\n",
    "        if dp.get(second, -1) == -1:\n",
    "            data2 = mcm(second,m,dp)\n",
    "            dp[second] = data2\n",
    "        else:\n",
    "            data2 = dp[second]\n",
    "            \n",
    "        ops1 = data1[0]\n",
    "        ops2 = data2[0]\n",
    "        \n",
    "        row1 = data1[1][0]\n",
    "        col1 = data1[1][1]\n",
    "        \n",
    "        row2 = data2[1][0]\n",
    "        col2 = data2[1][1]\n",
    "        \n",
    "        total = ops1+ops2+ (row1*col1*col2)\n",
    "        \n",
    "        if total < min:\n",
    "            min = total\n",
    "    print(dp)\n",
    "    return (min, (row1, col2))\n",
    "        \n",
    "        \n",
    "        \n",
    "        \n",
    "        "
   ]
  },
  {
   "cell_type": "code",
   "execution_count": 113,
   "id": "e24cdf27",
   "metadata": {},
   "outputs": [
    {
     "name": "stdout",
     "output_type": "stream",
     "text": [
      "{'A': (0, (2, 3)), 'B': (0, (3, 4)), 'C': (0, (4, 5)), 'D': (0, (5, 6))}\n",
      "{'A': (0, (2, 3)), 'B': (0, (3, 4)), 'C': (0, (4, 5)), 'D': (0, (5, 6)), 'CD': (120, (4, 6))}\n",
      "{'A': (0, (2, 3)), 'B': (0, (3, 4)), 'C': (0, (4, 5)), 'D': (0, (5, 6)), 'CD': (120, (4, 6)), 'BC': (60, (3, 5))}\n",
      "{'A': (0, (2, 3)), 'B': (0, (3, 4)), 'C': (0, (4, 5)), 'D': (0, (5, 6)), 'CD': (120, (4, 6)), 'BC': (60, (3, 5)), 'BCD': (150, (3, 6))}\n",
      "{'A': (0, (2, 3)), 'B': (0, (3, 4)), 'C': (0, (4, 5)), 'D': (0, (5, 6)), 'CD': (120, (4, 6)), 'BC': (60, (3, 5)), 'BCD': (150, (3, 6)), 'AB': (24, (2, 4))}\n",
      "{'A': (0, (2, 3)), 'B': (0, (3, 4)), 'C': (0, (4, 5)), 'D': (0, (5, 6)), 'CD': (120, (4, 6)), 'BC': (60, (3, 5)), 'BCD': (150, (3, 6)), 'AB': (24, (2, 4)), 'ABC': (64, (2, 5))}\n"
     ]
    },
    {
     "data": {
      "text/plain": [
       "(124, (2, 6))"
      ]
     },
     "execution_count": 113,
     "metadata": {},
     "output_type": "execute_result"
    }
   ],
   "source": [
    "dp = {}\n",
    "m = {\"A\":(2,3), \"B\":(3,4), \"C\":(4,5), \"D\":(5,6)}\n",
    "mcm(\"ABCD\", m, dp)"
   ]
  },
  {
   "cell_type": "code",
   "execution_count": 172,
   "id": "63cafedf",
   "metadata": {},
   "outputs": [],
   "source": [
    "## Iterative Solution\n",
    "\n",
    "def subStrings(s):\n",
    "    subs = []\n",
    "    for i in range(1,len(s)):\n",
    "        for j in range(len(s)-i+1):\n",
    "            subs.append(s[j:j+i])\n",
    "    subs.append(s)\n",
    "    return subs\n",
    "\n",
    "def mcmI(string,m):\n",
    "    n = len(string)\n",
    "    subs = subStrings(string)\n",
    "    dp = {i:(0,(0,0)) for i in subs}\n",
    "    \n",
    "    for s in subs:\n",
    "        if len(s) == 1:\n",
    "            dp[s] = (0, m[s])\n",
    "        else:\n",
    "            min = sys.maxsize\n",
    "            for i in range(1, len(s)):\n",
    "\n",
    "                first = s[0:i]\n",
    "                second = s[i:]\n",
    "                data1 = dp[first]\n",
    "                data2 = dp[second]\n",
    "\n",
    "                ops1 = data1[0]\n",
    "                ops2 = data2[0]\n",
    "\n",
    "                row1 = data1[1][0]\n",
    "                col1 = data1[1][1]\n",
    "\n",
    "                row2 = data2[1][0]\n",
    "                col2 = data2[1][1]\n",
    "\n",
    "                total = ops1+ops2+ (row1*col1*col2)\n",
    "\n",
    "                if total < min:\n",
    "                    min = total\n",
    "            \n",
    "            dp[s] = (min, (row1, col2))\n",
    "    return dp[s]"
   ]
  },
  {
   "cell_type": "code",
   "execution_count": 175,
   "id": "ebf231b8",
   "metadata": {},
   "outputs": [
    {
     "data": {
      "text/plain": [
       "(124, (2, 6))"
      ]
     },
     "execution_count": 175,
     "metadata": {},
     "output_type": "execute_result"
    }
   ],
   "source": [
    "\n",
    "m = {\"A\":(2,3), \"B\":(3,4), \"C\":(4,5), \"D\":(5,6)}\n",
    "mcmI(\"ABCD\", m)"
   ]
  },
  {
   "cell_type": "code",
   "execution_count": 146,
   "id": "bba5cdbc",
   "metadata": {},
   "outputs": [
    {
     "data": {
      "text/plain": [
       "['A',\n",
       " 'B',\n",
       " 'C',\n",
       " 'D',\n",
       " 'A',\n",
       " 'B',\n",
       " 'C',\n",
       " 'D',\n",
       " 'A',\n",
       " 'B',\n",
       " 'C',\n",
       " 'D',\n",
       " 'A',\n",
       " 'B',\n",
       " 'C',\n",
       " 'D']"
      ]
     },
     "execution_count": 146,
     "metadata": {},
     "output_type": "execute_result"
    }
   ],
   "source": [
    "def subStrings(s):\n",
    "    subs = []\n",
    "    for i in range(len(s)):\n",
    "        for j in range(0,len(s)):\n",
    "            subs.append(s[j])\n",
    "            \n",
    "    return subs\n",
    "subStrings(\"ABCD\")"
   ]
  },
  {
   "cell_type": "code",
   "execution_count": null,
   "id": "dec94c4b",
   "metadata": {},
   "outputs": [],
   "source": []
  },
  {
   "cell_type": "code",
   "execution_count": 161,
   "id": "eafce657",
   "metadata": {},
   "outputs": [],
   "source": [
    "s = \"ABCD\"\n",
    "subs = []\n",
    "for i in range(1,len(s)):\n",
    "    for j in range(len(s)-i+1):\n",
    "        subs.append(s[j:j+i])"
   ]
  },
  {
   "cell_type": "code",
   "execution_count": 190,
   "id": "dfbca953",
   "metadata": {},
   "outputs": [
    {
     "name": "stdout",
     "output_type": "stream",
     "text": [
      "0 3\n",
      "1 4\n",
      "2 5\n",
      "0 4\n",
      "1 5\n"
     ]
    },
    {
     "data": {
      "text/plain": [
       "[]"
      ]
     },
     "execution_count": 190,
     "metadata": {},
     "output_type": "execute_result"
    }
   ],
   "source": [
    "p = [2,3,4,5,6]\n",
    "subs = []\n",
    "for i in range(3,len(p)):\n",
    "    for j in range(len(p)-i+1):\n",
    "        print(j,j+i)\n",
    "subs"
   ]
  },
  {
   "cell_type": "code",
   "execution_count": 165,
   "id": "3382806f",
   "metadata": {},
   "outputs": [
    {
     "data": {
      "text/plain": [
       "['D', 'AB', 'BC', 'CD', 'ABC', 'BCD']"
      ]
     },
     "execution_count": 165,
     "metadata": {},
     "output_type": "execute_result"
    }
   ],
   "source": [
    "subs[3:]"
   ]
  },
  {
   "cell_type": "code",
   "execution_count": 176,
   "id": "1b7cdb9e",
   "metadata": {},
   "outputs": [],
   "source": [
    "def mcm(p, i, j):\n",
    "    if i == j:\n",
    "        return 0\n",
    "    \n",
    "    min_value = sys.maxsize\n",
    "    for k in range(i,j):\n",
    "        \n",
    "        ops1 = mcm(p, i, k)\n",
    "        ops2 = mcm(p, k+1, j)\n",
    "        \n",
    "        total = ops1 + ops2 + p[i-1]*p[k]*p[j]\n",
    "        \n",
    "        if total < min_value:\n",
    "            min_value = total\n",
    "    return min_value"
   ]
  },
  {
   "cell_type": "code",
   "execution_count": 254,
   "id": "048e2ab7",
   "metadata": {},
   "outputs": [
    {
     "data": {
      "text/plain": [
       "8000"
      ]
     },
     "execution_count": 254,
     "metadata": {},
     "output_type": "execute_result"
    }
   ],
   "source": [
    "p = [10,15,20,25]\n",
    "n= len(p) - 1\n",
    "mcm(p,1,n)"
   ]
  },
  {
   "cell_type": "code",
   "execution_count": 255,
   "id": "2462007a",
   "metadata": {},
   "outputs": [],
   "source": [
    "dp = [[-1 for j in range(n+1)] for i in range(n+1)]"
   ]
  },
  {
   "cell_type": "code",
   "execution_count": 256,
   "id": "a773b98b",
   "metadata": {},
   "outputs": [],
   "source": [
    "def mcmI(p):\n",
    "    n = len(p)\n",
    "    dp = [[0 for j in range(n+2)] for i in range(n+2)]\n",
    "    for a in range(2,len(p)):\n",
    "        for b in range(len(p)-a):\n",
    "            i = b\n",
    "            j = b+a\n",
    "#             print(i,j)\n",
    "            min_val = sys.maxsize\n",
    "            for k in range(i+1,j):\n",
    "                print(i,j,k)\n",
    "                ops1 = dp[i][k]\n",
    "                ops2 = dp[k][j]\n",
    "                \n",
    "                total = ops1 + ops2 + p[i]*p[k]*p[j]\n",
    "                \n",
    "                if total < min_val:\n",
    "                    min_val = total\n",
    "            dp[i][j] = min_val\n",
    "    return dp\n",
    "                \n",
    "                "
   ]
  },
  {
   "cell_type": "code",
   "execution_count": 257,
   "id": "49d2b48e",
   "metadata": {},
   "outputs": [
    {
     "name": "stdout",
     "output_type": "stream",
     "text": [
      "0 2 1\n",
      "1 3 2\n",
      "0 3 1\n",
      "0 3 2\n"
     ]
    },
    {
     "data": {
      "text/plain": [
       "[[0, 0, 3000, 8000, 0, 0],\n",
       " [0, 0, 0, 7500, 0, 0],\n",
       " [0, 0, 0, 0, 0, 0],\n",
       " [0, 0, 0, 0, 0, 0],\n",
       " [0, 0, 0, 0, 0, 0],\n",
       " [0, 0, 0, 0, 0, 0]]"
      ]
     },
     "execution_count": 257,
     "metadata": {},
     "output_type": "execute_result"
    }
   ],
   "source": [
    "mcmI(p)"
   ]
  },
  {
   "cell_type": "code",
   "execution_count": null,
   "id": "16318a6e",
   "metadata": {},
   "outputs": [],
   "source": []
  }
 ],
 "metadata": {
  "kernelspec": {
   "display_name": "Python 3 (ipykernel)",
   "language": "python",
   "name": "python3"
  },
  "language_info": {
   "codemirror_mode": {
    "name": "ipython",
    "version": 3
   },
   "file_extension": ".py",
   "mimetype": "text/x-python",
   "name": "python",
   "nbconvert_exporter": "python",
   "pygments_lexer": "ipython3",
   "version": "3.8.3"
  }
 },
 "nbformat": 4,
 "nbformat_minor": 5
}
