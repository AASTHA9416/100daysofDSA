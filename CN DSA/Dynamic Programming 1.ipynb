{
 "cells": [
  {
   "cell_type": "markdown",
   "id": "f0c50661",
   "metadata": {},
   "source": [
    "# Dynamic Programming"
   ]
  },
  {
   "cell_type": "code",
   "execution_count": 9,
   "id": "f0a00f24",
   "metadata": {},
   "outputs": [],
   "source": [
    "def fibonacci(n):\n",
    "    print(n)\n",
    "    if n == 0 or n == 1:\n",
    "        return n\n",
    "    return fibonacci(n-1) + fibonacci(n-2)"
   ]
  },
  {
   "cell_type": "code",
   "execution_count": 10,
   "id": "0fadfc43",
   "metadata": {},
   "outputs": [
    {
     "name": "stdout",
     "output_type": "stream",
     "text": [
      "7\n",
      "6\n",
      "5\n",
      "4\n",
      "3\n",
      "2\n",
      "1\n",
      "0\n",
      "1\n",
      "2\n",
      "1\n",
      "0\n",
      "3\n",
      "2\n",
      "1\n",
      "0\n",
      "1\n",
      "4\n",
      "3\n",
      "2\n",
      "1\n",
      "0\n",
      "1\n",
      "2\n",
      "1\n",
      "0\n",
      "5\n",
      "4\n",
      "3\n",
      "2\n",
      "1\n",
      "0\n",
      "1\n",
      "2\n",
      "1\n",
      "0\n",
      "3\n",
      "2\n",
      "1\n",
      "0\n",
      "1\n"
     ]
    },
    {
     "data": {
      "text/plain": [
       "13"
      ]
     },
     "execution_count": 10,
     "metadata": {},
     "output_type": "execute_result"
    }
   ],
   "source": [
    "fibonacci(7)"
   ]
  },
  {
   "cell_type": "markdown",
   "id": "f7f2126c",
   "metadata": {},
   "source": [
    "### As we see that there is overlapping subproblems and also there is optimal sub-structure so we can apply dynamic programming here. We will use array as our memory and proceed."
   ]
  },
  {
   "cell_type": "code",
   "execution_count": 20,
   "id": "a7ef9492",
   "metadata": {},
   "outputs": [],
   "source": [
    "def fibonacci1(n, arr):\n",
    "    if n == 0 or n == 1:\n",
    "        return n\n",
    "    if arr[n-1] == -1:\n",
    "        ans1 = fibonacci1(n-1, arr)\n",
    "        arr[n-1] = ans1\n",
    "    else:\n",
    "        ans1 = arr[n-1]\n",
    "    \n",
    "    if arr[n-2] == -1:\n",
    "        ans2 = fibonacci1(n-2, arr)\n",
    "        arr[n-2] = ans2\n",
    "    else:\n",
    "        ans2 = arr[n-2]\n",
    "    ans = ans1 + ans2\n",
    "        \n",
    "    \n",
    "    return ans"
   ]
  },
  {
   "cell_type": "code",
   "execution_count": 21,
   "id": "2d9059f2",
   "metadata": {},
   "outputs": [
    {
     "data": {
      "text/plain": [
       "13"
      ]
     },
     "execution_count": 21,
     "metadata": {},
     "output_type": "execute_result"
    }
   ],
   "source": [
    "fibonacci1(7, [-1 for i in range(7)])"
   ]
  },
  {
   "cell_type": "markdown",
   "id": "9a4f77ed",
   "metadata": {},
   "source": [
    "## Iterative fibonacci"
   ]
  },
  {
   "cell_type": "code",
   "execution_count": 26,
   "id": "e144e854",
   "metadata": {},
   "outputs": [
    {
     "data": {
      "text/plain": [
       "13"
      ]
     },
     "execution_count": 26,
     "metadata": {},
     "output_type": "execute_result"
    }
   ],
   "source": [
    "def fibbI(n):\n",
    "    arr = [0 for i in range(n+1)]\n",
    "    arr[0], arr[1] = 0, 1\n",
    "    for i in range(2, n+1):\n",
    "        arr[i] = arr[i-1] + arr[i-2]\n",
    "    \n",
    "    return arr[-1]\n",
    "\n",
    "fibbI(7)"
   ]
  },
  {
   "cell_type": "markdown",
   "id": "430c1951",
   "metadata": {},
   "source": [
    "## Reach to 1 problem \n",
    "\n",
    "### Qus : Given a number n. reduce the number to 1. We can take the following steps only.\n",
    "\n",
    "### 1. We can always go n --> n-1.\n",
    "### 2. we can go to n --> n/2 if n is divisible by 2.\n",
    "### 3. we can go to n --> n/3 if n is divisible by 3.\n",
    "### Find the minimum steps to reach 1."
   ]
  },
  {
   "cell_type": "code",
   "execution_count": 32,
   "id": "a92a4e5d",
   "metadata": {},
   "outputs": [],
   "source": [
    "# Step 1: Find the Recursive Solution first.\n",
    "import sys\n",
    "def min_steps(n):\n",
    "    print(n)\n",
    "    ## base case \n",
    "    if n == 1:\n",
    "        return 0\n",
    "    ans1 = min_steps(n-1)\n",
    "    ans2 = sys.maxsize\n",
    "    ans3 = sys.maxsize\n",
    "    if n%2 == 0:\n",
    "        ans2 = min_steps(n//2)\n",
    "    if n%3 == 0:\n",
    "        ans3 = min_steps(n//3)\n",
    "    \n",
    "    return 1 + min(ans1, ans2, ans3)"
   ]
  },
  {
   "cell_type": "code",
   "execution_count": 33,
   "id": "a64bb41a",
   "metadata": {},
   "outputs": [
    {
     "name": "stdout",
     "output_type": "stream",
     "text": [
      "6\n",
      "5\n",
      "4\n",
      "3\n",
      "2\n",
      "1\n",
      "1\n",
      "1\n",
      "2\n",
      "1\n",
      "1\n",
      "3\n",
      "2\n",
      "1\n",
      "1\n",
      "1\n",
      "2\n",
      "1\n",
      "1\n"
     ]
    },
    {
     "data": {
      "text/plain": [
       "2"
      ]
     },
     "execution_count": 33,
     "metadata": {},
     "output_type": "execute_result"
    }
   ],
   "source": [
    "min_steps(6)"
   ]
  },
  {
   "cell_type": "code",
   "execution_count": 40,
   "id": "bec8791f",
   "metadata": {},
   "outputs": [],
   "source": [
    "## Step 2: Apply Memorization to avoid overlapping of problems\n",
    "import sys\n",
    "def min_steps(n, dp):\n",
    "    print(n)\n",
    "    ## base case \n",
    "    if n == 1:\n",
    "        return 0\n",
    "    if dp[n-1] == -1:\n",
    "        ans1 = min_steps(n-1, dp)\n",
    "        dp[n-1] = ans1\n",
    "    else:\n",
    "        ans1 = dp[n-1]\n",
    "    ans2 = sys.maxsize\n",
    "    ans3 = sys.maxsize\n",
    "    if n%2 == 0:\n",
    "        if dp[n//2] == -1:\n",
    "            ans2 = min_steps(n//2, dp)\n",
    "            dp[n//2] = ans2\n",
    "        else:\n",
    "            ans2 = dp[n//2]\n",
    "    if n%3 == 0:\n",
    "        if dp[n//3] == -1:\n",
    "            ans3 = min_steps(n//3, dp)\n",
    "            dp[n//3] = ans3\n",
    "        else:\n",
    "            ans3 = dp[n//3]\n",
    "    \n",
    "    return 1 + min(ans1, ans2, ans3)"
   ]
  },
  {
   "cell_type": "code",
   "execution_count": 41,
   "id": "12cfa128",
   "metadata": {},
   "outputs": [
    {
     "name": "stdout",
     "output_type": "stream",
     "text": [
      "5\n",
      "4\n",
      "3\n",
      "2\n",
      "1\n"
     ]
    },
    {
     "data": {
      "text/plain": [
       "3"
      ]
     },
     "execution_count": 41,
     "metadata": {},
     "output_type": "execute_result"
    }
   ],
   "source": [
    "n = 5\n",
    "dp = [-1 for i in range(n)]\n",
    "min_steps(n, dp)"
   ]
  },
  {
   "cell_type": "code",
   "execution_count": 46,
   "id": "a8e7976c",
   "metadata": {},
   "outputs": [],
   "source": [
    "## Step 3: Find the iterative solution\n",
    "import sys\n",
    "def min_steps(n):\n",
    "    dp = [0 for i in range(n+1)]\n",
    "    for i in range(2,n+1):\n",
    "        ans1 = dp[i-1]\n",
    "        ans2 = sys.maxsize\n",
    "        ans3 = sys.maxsize\n",
    "        if i % 2 == 0:\n",
    "            ans2 = dp[i//2]\n",
    "        if i % 3 == 0:\n",
    "            ans3 = dp[i//3]\n",
    "        dp[i] = 1 + min(ans1, ans2, ans3)\n",
    "    return dp[-1]\n",
    "        \n",
    "        \n",
    "        "
   ]
  },
  {
   "cell_type": "code",
   "execution_count": 48,
   "id": "c1c39940",
   "metadata": {},
   "outputs": [
    {
     "data": {
      "text/plain": [
       "3"
      ]
     },
     "execution_count": 48,
     "metadata": {},
     "output_type": "execute_result"
    }
   ],
   "source": [
    "min_steps(5)"
   ]
  },
  {
   "cell_type": "code",
   "execution_count": null,
   "id": "63c5d6ba",
   "metadata": {},
   "outputs": [],
   "source": []
  }
 ],
 "metadata": {
  "kernelspec": {
   "display_name": "Python 3 (ipykernel)",
   "language": "python",
   "name": "python3"
  },
  "language_info": {
   "codemirror_mode": {
    "name": "ipython",
    "version": 3
   },
   "file_extension": ".py",
   "mimetype": "text/x-python",
   "name": "python",
   "nbconvert_exporter": "python",
   "pygments_lexer": "ipython3",
   "version": "3.8.3"
  }
 },
 "nbformat": 4,
 "nbformat_minor": 5
}
