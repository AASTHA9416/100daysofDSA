{
 "cells": [
  {
   "cell_type": "code",
   "execution_count": 18,
   "id": "d464f165",
   "metadata": {},
   "outputs": [],
   "source": [
    "import random\n",
    "def start_game():\n",
    "    mat = []\n",
    "    for i in range(4):\n",
    "        mat.append([0]*4)\n",
    "    \n",
    "    return mat\n",
    "\n",
    "def add_new_two(mat):\n",
    "    r = random.randint(0,3)\n",
    "    c = random.randint(0,3)\n",
    "    \n",
    "    while mat[r][c] != 0:\n",
    "        r = random.randint(0,3)\n",
    "        c = random.randint(0,3)\n",
    "    mat[r][c] = 2\n",
    "    \n",
    "def current_state(mat):\n",
    "    \n",
    "    # if Won\n",
    "    for i in range(4):\n",
    "        for j in range(4):\n",
    "            if [i][j] == 2048:\n",
    "                return \"WON\"\n",
    "            \n",
    "    # Still going on\n",
    "    \n",
    "    # If any zero is present\n",
    "    for i in range(4):\n",
    "        for j in range(4):\n",
    "            if mat[i][j] == 0:\n",
    "                return \"STILL GOING ON\"\n",
    "            \n",
    "    # if two same numbers are present (except the last row ans last column)\n",
    "    \n",
    "    for i in range(3):\n",
    "        for j in range(3):\n",
    "            if mat[i][j] == mat[i+1][j] or mat[i][j] == mat[i][j+1]:\n",
    "                return \"STILL GOING ON\"\n",
    "    \n",
    "    # If same present at the last row\n",
    "    \n",
    "    for j in range(3):\n",
    "        if mat[3][j] == mat[3][j+1]:\n",
    "            return \"STILL GOING ON\"\n",
    "        \n",
    "    # if same present at the last column\n",
    "    \n",
    "    for i in range(3):\n",
    "        if mat[i][3] == mat[i+1][3]:\n",
    "            return \"STILL GOING ON\"\n",
    "        \n",
    "    return \"LOST\"\n",
    "\n",
    "def compress(mat):\n",
    "    changed = False\n",
    "    new_mat = []\n",
    "    for i in range(4):\n",
    "        new_mat.append([0]*4)\n",
    "        \n",
    "    for i in range(4):\n",
    "        pos = 0\n",
    "        for j in range(4):\n",
    "            if mat[i][j] != 0:\n",
    "                new_mat[i][pos] = mat[i][j]\n",
    "                if pos != j:\n",
    "                    changed = True\n",
    "                pos+=1\n",
    "    return new_mat , changed\n",
    "\n",
    "# Left Merge\n",
    "def merge(mat):\n",
    "    changed = False\n",
    "    for i in range(4):\n",
    "        for j in range(3):\n",
    "            if mat[i][j] == mat[i][j+1] and mat[i][j] != 0:\n",
    "                changed = True\n",
    "                mat[i][j] = 2*mat[i][j]\n",
    "                mat[i][j+1] = 0\n",
    "    return mat, changed\n",
    "                \n",
    "## Reverse Function : That reverse the direction of rows i.e left to right\n",
    "\n",
    "def reverse(mat):\n",
    "    new_mat = []\n",
    "    \n",
    "    for i in range(4):\n",
    "        new_mat.append([])\n",
    "        for j in range(4):\n",
    "            new_mat[i].append(mat[i][3-j])\n",
    "    return new_mat\n",
    "\n",
    "def transpose(mat):\n",
    "    new_mat = []\n",
    "    for i in range(4):\n",
    "        new_mat.append([])\n",
    "        for j in range(4):\n",
    "            new_mat[i].append(mat[j][i])\n",
    "    return new_mat\n",
    "\n",
    "# left move\n",
    "\n",
    "def left_move(mat):\n",
    "    mat, changed1 = compress(mat)\n",
    "    mat, changed2 = merge(mat)\n",
    "    changed = changed1 or changed2\n",
    "    mat, _ = compress(mat)\n",
    "    return mat, changed\n",
    "\n",
    "def right_move(mat):\n",
    "    mat = reverse(mat)\n",
    "    mat, changed1 = compress(mat)\n",
    "    mat, changed2 = merge(mat)\n",
    "    changed = changed1 or changed2\n",
    "    mat, _ = compress(mat)\n",
    "    mat = reverse(mat)\n",
    "    return mat, changed\n",
    "    \n",
    "def up_move(mat):\n",
    "    mat = transpose(mat)\n",
    "    mat, changed1 = compress(mat)\n",
    "    mat, changed2 = merge(mat)\n",
    "    changed = changed1 or changed2\n",
    "    mat, _ = compress(mat)\n",
    "    mat = transpose(mat)\n",
    "    return mat, changed\n",
    "\n",
    "def down_move(mat):\n",
    "    mat = transpose(mat)\n",
    "    mat = reverse(mat)\n",
    "    \n",
    "    mat, changed1 = compress(mat)\n",
    "    mat, changed2 = merge(mat)\n",
    "    changed = changed1 or changed2\n",
    "    mat, _ = compress(mat)\n",
    "    mat = reverse(mat)\n",
    "    mat = transpose(mat)\n",
    "    return mat, changed\n"
   ]
  },
  {
   "cell_type": "code",
   "execution_count": 24,
   "id": "115ee703",
   "metadata": {},
   "outputs": [
    {
     "name": "stdout",
     "output_type": "stream",
     "text": [
      "[[0, 0, 0, 0], [0, 0, 0, 0], [0, 0, 0, 0], [0, 0, 0, 0]]\n"
     ]
    }
   ],
   "source": [
    "mat = start_game()\n",
    "print(mat)"
   ]
  },
  {
   "cell_type": "code",
   "execution_count": 25,
   "id": "0a480783",
   "metadata": {},
   "outputs": [
    {
     "name": "stdout",
     "output_type": "stream",
     "text": [
      "[[0, 0, 0, 0], [0, 0, 0, 0], [2, 0, 0, 0], [0, 0, 0, 0]]\n"
     ]
    }
   ],
   "source": [
    "add_new_two(mat)\n",
    "print(mat)"
   ]
  },
  {
   "cell_type": "code",
   "execution_count": 26,
   "id": "aac075bb",
   "metadata": {},
   "outputs": [
    {
     "name": "stdout",
     "output_type": "stream",
     "text": [
      "[[0, 0, 0, 0], [0, 0, 0, 0], [2, 0, 0, 0], [2, 0, 0, 0]]\n"
     ]
    }
   ],
   "source": [
    "add_new_two(mat)\n",
    "print(mat)"
   ]
  },
  {
   "cell_type": "code",
   "execution_count": 27,
   "id": "a3266a00",
   "metadata": {},
   "outputs": [
    {
     "name": "stdout",
     "output_type": "stream",
     "text": [
      "[[0, 0, 0, 0], [0, 0, 0, 0], [2, 0, 0, 0], [2, 0, 0, 0]]\n"
     ]
    }
   ],
   "source": [
    "mat, _ = left_move(mat)\n",
    "print(mat)"
   ]
  },
  {
   "cell_type": "code",
   "execution_count": 28,
   "id": "e2220fc4",
   "metadata": {},
   "outputs": [
    {
     "name": "stdout",
     "output_type": "stream",
     "text": [
      "[[4, 0, 0, 0], [0, 0, 0, 0], [0, 0, 0, 0], [0, 0, 0, 0]]\n"
     ]
    }
   ],
   "source": [
    "mat, _ = up_move(mat)\n",
    "print(mat)\n"
   ]
  },
  {
   "cell_type": "code",
   "execution_count": 34,
   "id": "08863571",
   "metadata": {},
   "outputs": [
    {
     "name": "stdout",
     "output_type": "stream",
     "text": [
      "[[0, 0, 0, 4], [0, 0, 0, 0], [0, 0, 0, 0], [0, 0, 0, 0]]\n"
     ]
    }
   ],
   "source": [
    "mat, _ = right_move(mat)\n",
    "print(mat)"
   ]
  },
  {
   "cell_type": "code",
   "execution_count": 35,
   "id": "0564fc10",
   "metadata": {},
   "outputs": [
    {
     "name": "stdout",
     "output_type": "stream",
     "text": [
      "True\n",
      "[[4, 0, 0, 0], [0, 0, 0, 0], [0, 0, 0, 0], [0, 0, 0, 2]]\n"
     ]
    }
   ],
   "source": [
    "mat, _ = left_move(mat)\n",
    "print(_)\n",
    "if _ == True:\n",
    "    add_new_two(mat)\n",
    "print(mat)\n",
    "    "
   ]
  },
  {
   "cell_type": "code",
   "execution_count": null,
   "id": "628c649b",
   "metadata": {},
   "outputs": [],
   "source": []
  }
 ],
 "metadata": {
  "kernelspec": {
   "display_name": "Python 3 (ipykernel)",
   "language": "python",
   "name": "python3"
  },
  "language_info": {
   "codemirror_mode": {
    "name": "ipython",
    "version": 3
   },
   "file_extension": ".py",
   "mimetype": "text/x-python",
   "name": "python",
   "nbconvert_exporter": "python",
   "pygments_lexer": "ipython3",
   "version": "3.8.3"
  }
 },
 "nbformat": 4,
 "nbformat_minor": 5
}
