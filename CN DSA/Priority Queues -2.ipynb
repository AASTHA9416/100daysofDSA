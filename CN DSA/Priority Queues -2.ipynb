{
 "cells": [
  {
   "cell_type": "markdown",
   "id": "5d5aed11",
   "metadata": {},
   "source": [
    "# Heap Sort"
   ]
  },
  {
   "cell_type": "code",
   "execution_count": 2,
   "id": "fa818fe1",
   "metadata": {},
   "outputs": [],
   "source": [
    "def insertinHeap(arr, element, index):\n",
    "    if index > 0:\n",
    "        child = index\n",
    "        parent = (child-1)//2\n",
    "#         print(parent)\n",
    "        while arr[child] < arr[parent] and child > 0:\n",
    "            arr[child] , arr[parent] = arr[parent], arr[child]\n",
    "            child = parent\n",
    "            parent = (parent-1)//2\n",
    "    return\n",
    "\n",
    "def down_heapify(arr, index):\n",
    "        if len(arr) == 0:\n",
    "            return None\n",
    "        arr[index + 1], arr[len(arr) - 1] = arr[len(arr) - 1], arr[index + 1]\n",
    "        parent = 0\n",
    "        c1 = 2*parent + 1\n",
    "        c2 = 2*parent + 2\n",
    "\n",
    "        \n",
    "        while c1+index < len(arr):\n",
    "            minIndex = parent+index\n",
    "            if arr[minIndex] > arr[c1+index]:\n",
    "                minIndex = c1+index\n",
    "            if c2+index < len(arr) and arr[minIndex] > arr[c2+index]:\n",
    "                minIndex = c2+index\n",
    "            if minIndex == parent+index:\n",
    "                break\n",
    "            arr[parent+index], arr[minIndex] = arr[minIndex], arr[parent+index]\n",
    "            parent = minIndex\n",
    "            c1 = parent*2 + 1\n",
    "            c2 = parent*2 + 2\n",
    "        return\n",
    "\n",
    "def percolate_down(arr, index):\n",
    "    if len(arr) == 0:\n",
    "        return\n",
    "    parent = index\n",
    "    c1 = parent*2 + 1\n",
    "    c2 = parent*2 + 2\n",
    "    \n",
    "    if c1 < len(arr):\n",
    "        minIndex = parent\n",
    "        if arr[minIndex] > arr[c1]:\n",
    "            minIndex = \n",
    "    \n",
    "    \n",
    "    \n",
    "    \n",
    "\n",
    "def heap_sort(arr):\n",
    "    for i in range(len(arr)):\n",
    "        insertinHeap(arr, arr[i], i)\n",
    "#         print(\"Insert\", arr)\n",
    "        \n",
    "    for i in range(len(arr)-1):\n",
    "        down_heapify(arr, i)\n",
    "#         print(\"Remove\", arr)\n",
    "    return\n",
    "\n",
    "def build_heap(arr):\n",
    "    for i in range(len(arr)//2 , -1, -1):\n",
    "        down_heapify(arr, i)\n",
    "\n",
    "        \n",
    "    "
   ]
  },
  {
   "cell_type": "code",
   "execution_count": 7,
   "id": "12ecaba6",
   "metadata": {},
   "outputs": [],
   "source": [
    "arr = [3,1,2,5]\n",
    "heap_sort(arr)\n"
   ]
  },
  {
   "cell_type": "code",
   "execution_count": 8,
   "id": "dc1c3809",
   "metadata": {},
   "outputs": [
    {
     "data": {
      "text/plain": [
       "[1, 2, 3, 5]"
      ]
     },
     "execution_count": 8,
     "metadata": {},
     "output_type": "execute_result"
    }
   ],
   "source": [
    "arr"
   ]
  },
  {
   "cell_type": "code",
   "execution_count": 5,
   "id": "f776a96d",
   "metadata": {},
   "outputs": [
    {
     "data": {
      "text/plain": [
       "[1, 2, 5, 3]"
      ]
     },
     "execution_count": 5,
     "metadata": {},
     "output_type": "execute_result"
    }
   ],
   "source": [
    "insertinHeap(arr,1,1)\n",
    "arr"
   ]
  },
  {
   "cell_type": "code",
   "execution_count": 6,
   "id": "fec51239",
   "metadata": {},
   "outputs": [
    {
     "data": {
      "text/plain": [
       "[1, 2, 5, 3]"
      ]
     },
     "execution_count": 6,
     "metadata": {},
     "output_type": "execute_result"
    }
   ],
   "source": [
    "insertinHeap(arr,2,2)\n",
    "arr"
   ]
  },
  {
   "cell_type": "code",
   "execution_count": 65,
   "id": "79f410f9",
   "metadata": {},
   "outputs": [
    {
     "name": "stdout",
     "output_type": "stream",
     "text": [
      "1\n"
     ]
    },
    {
     "data": {
      "text/plain": [
       "[1, 2, 5, 3]"
      ]
     },
     "execution_count": 65,
     "metadata": {},
     "output_type": "execute_result"
    }
   ],
   "source": [
    "insertinHeap(arr,5,3)\n",
    "arr"
   ]
  },
  {
   "cell_type": "code",
   "execution_count": 10,
   "id": "cccaa49e",
   "metadata": {},
   "outputs": [],
   "source": [
    "a = 2\n",
    "c = 5\n",
    "while a < c:\n",
    "    a+=1"
   ]
  },
  {
   "cell_type": "code",
   "execution_count": 55,
   "id": "7a729000",
   "metadata": {},
   "outputs": [
    {
     "data": {
      "text/plain": [
       "[3, 2, 1, 5]"
      ]
     },
     "execution_count": 55,
     "metadata": {},
     "output_type": "execute_result"
    }
   ],
   "source": [
    "arr"
   ]
  },
  {
   "cell_type": "code",
   "execution_count": null,
   "id": "75a19e5c",
   "metadata": {},
   "outputs": [],
   "source": []
  },
  {
   "cell_type": "code",
   "execution_count": null,
   "id": "41762918",
   "metadata": {},
   "outputs": [],
   "source": []
  }
 ],
 "metadata": {
  "kernelspec": {
   "display_name": "Python 3 (ipykernel)",
   "language": "python",
   "name": "python3"
  },
  "language_info": {
   "codemirror_mode": {
    "name": "ipython",
    "version": 3
   },
   "file_extension": ".py",
   "mimetype": "text/x-python",
   "name": "python",
   "nbconvert_exporter": "python",
   "pygments_lexer": "ipython3",
   "version": "3.8.3"
  }
 },
 "nbformat": 4,
 "nbformat_minor": 5
}
