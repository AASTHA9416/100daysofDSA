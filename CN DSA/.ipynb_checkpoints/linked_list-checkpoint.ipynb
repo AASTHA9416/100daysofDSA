{
 "cells": [
  {
   "cell_type": "markdown",
   "id": "1f19f279",
   "metadata": {},
   "source": [
    "# Linked List"
   ]
  },
  {
   "cell_type": "markdown",
   "id": "d322c382",
   "metadata": {},
   "source": [
    "### Each element is called Node and that stores two things one is the data and one the refernce to next node\n",
    "\n",
    "**Head** stores the reference to the very first node, after knowing that we can travel through the complete linkedList\n",
    "\n",
    "Every **node** will have a data and a next by default we are keeping the next none."
   ]
  },
  {
   "cell_type": "code",
   "execution_count": 4,
   "id": "1c3b0800",
   "metadata": {},
   "outputs": [],
   "source": [
    "## Node will contain two things data and the next refernce\n",
    "class Node:\n",
    "    def __init__(self,data):\n",
    "        self.data = data\n",
    "        self.next = None"
   ]
  },
  {
   "cell_type": "code",
   "execution_count": 5,
   "id": "c785f559",
   "metadata": {},
   "outputs": [
    {
     "name": "stdout",
     "output_type": "stream",
     "text": [
      "12\n",
      "13\n",
      "13\n",
      "<__main__.Node object at 0x00000197D4DD9C70>\n",
      "<__main__.Node object at 0x00000197D4DFA4F0>\n",
      "<__main__.Node object at 0x00000197D4DFA4F0>\n"
     ]
    }
   ],
   "source": [
    "a = Node(12)\n",
    "b = Node(13)\n",
    "\n",
    "a.next = b\n",
    "print(a.data)\n",
    "print(b.data)\n",
    "print(a.next.data)\n",
    "print(a)\n",
    "print(a.next)\n",
    "print(b)"
   ]
  },
  {
   "cell_type": "code",
   "execution_count": 6,
   "id": "c3cb09f2",
   "metadata": {},
   "outputs": [
    {
     "ename": "AttributeError",
     "evalue": "'NoneType' object has no attribute 'data'",
     "output_type": "error",
     "traceback": [
      "\u001b[1;31m---------------------------------------------------------------------------\u001b[0m",
      "\u001b[1;31mAttributeError\u001b[0m                            Traceback (most recent call last)",
      "\u001b[1;32m~\\AppData\\Local\\Temp/ipykernel_1420/1697453599.py\u001b[0m in \u001b[0;36m<module>\u001b[1;34m\u001b[0m\n\u001b[0;32m      1\u001b[0m \u001b[1;31m# if we try this\u001b[0m\u001b[1;33m\u001b[0m\u001b[1;33m\u001b[0m\u001b[1;33m\u001b[0m\u001b[0m\n\u001b[1;32m----> 2\u001b[1;33m \u001b[0mprint\u001b[0m\u001b[1;33m(\u001b[0m\u001b[0mb\u001b[0m\u001b[1;33m.\u001b[0m\u001b[0mnext\u001b[0m\u001b[1;33m.\u001b[0m\u001b[0mdata\u001b[0m\u001b[1;33m)\u001b[0m\u001b[1;33m\u001b[0m\u001b[1;33m\u001b[0m\u001b[0m\n\u001b[0m",
      "\u001b[1;31mAttributeError\u001b[0m: 'NoneType' object has no attribute 'data'"
     ]
    }
   ],
   "source": [
    "# if we try this\n",
    "print(b.next.data)"
   ]
  },
  {
   "cell_type": "markdown",
   "id": "f03fd1f3",
   "metadata": {},
   "source": [
    "# Making a Linked List with User Input O(n^2)"
   ]
  },
  {
   "cell_type": "code",
   "execution_count": null,
   "id": "52233da5",
   "metadata": {},
   "outputs": [],
   "source": [
    "class Node:\n",
    "    def __init__(self,data):\n",
    "        self.data = data\n",
    "        self.next = None\n",
    "\n",
    "def take_input():\n",
    "    inputList = list(map(int,input().split()))\n",
    "    head = None\n",
    "    for curr_data in inputList:\n",
    "        if curr_data == -1:\n",
    "            break\n",
    "        newNode = Node(curr_data)\n",
    "        \n",
    "        if head is None: # we keep the head constant, we don't change the head\n",
    "            head = newNode\n",
    "        else:\n",
    "            curr = head \n",
    "            while curr.next is not None: # using curr to reach to the end of linkedList and then adding another element\n",
    "                curr = curr.next\n",
    "            curr.next = newNode\n",
    "    return head   \n",
    "        \n",
    "head = take_input()"
   ]
  },
  {
   "cell_type": "markdown",
   "id": "7af0c5b7",
   "metadata": {},
   "source": [
    "## Print Linked List"
   ]
  },
  {
   "cell_type": "code",
   "execution_count": null,
   "id": "ff42275d",
   "metadata": {},
   "outputs": [],
   "source": [
    "class Node:\n",
    "    def __init__(self,data):\n",
    "        self.data = data\n",
    "        self.next = None\n",
    "        \n",
    "        \n",
    "## Print Function\n",
    "\n",
    "def printLL(head):\n",
    "    while head is not None:\n",
    "        print(str(head.data) + \"-->\" , end = \"\")\n",
    "        head = head.next\n",
    "    print(None)\n",
    "    return\n",
    "\n",
    "def take_input():\n",
    "    inputList = list(map(int,input().split()))\n",
    "    head = None\n",
    "    for curr_data in inputList:\n",
    "        if curr_data == -1:\n",
    "            break\n",
    "        newNode = Node(curr_data)\n",
    "        \n",
    "        if head is None: # we keep the head constant, we don't change the head\n",
    "            head = newNode\n",
    "        else:\n",
    "            curr = head \n",
    "            while curr.next is not None: # using curr to reach to the end of linkedList and then adding another element\n",
    "                curr = curr.next\n",
    "            curr.next = newNode\n",
    "    return head   \n",
    "        \n",
    "head = take_input()\n",
    "printLL(head)\n",
    "printLL(head)"
   ]
  },
  {
   "cell_type": "markdown",
   "id": "eb0be610",
   "metadata": {},
   "source": [
    "## Time Complexity of the taking Input  O(n)"
   ]
  },
  {
   "cell_type": "code",
   "execution_count": null,
   "id": "156978e8",
   "metadata": {},
   "outputs": [],
   "source": [
    "class Node:\n",
    "    def __init__(self,data):\n",
    "        self.data = data\n",
    "        self.next = None\n",
    "        \n",
    "def take_input():\n",
    "    inputList = list(map(int, input().split()))\n",
    "    head = None\n",
    "    for curr_data in inputList:\n",
    "        if curr_data == -1:\n",
    "            break\n",
    "        newNode = Node(curr_data)\n",
    "        if head is None:\n",
    "            head = newNode\n",
    "            last = head\n",
    "        else:\n",
    "            last.next = newNode\n",
    "            last = newNode\n",
    "    return head\n",
    "\n",
    "def printLL(head):\n",
    "    while head is not None:\n",
    "        print(str(head.data) + \"=>\" , end = \"\")\n",
    "        head = head.next\n",
    "    print(None)\n",
    "    return\n",
    "\n",
    "head = take_input()\n",
    "printLL(head)"
   ]
  },
  {
   "cell_type": "markdown",
   "id": "95d06a3d",
   "metadata": {},
   "source": [
    "## Print the length of LinkedList ( Iterative)"
   ]
  },
  {
   "cell_type": "code",
   "execution_count": null,
   "id": "1c531dd4",
   "metadata": {},
   "outputs": [],
   "source": [
    "def lengthLL(head):\n",
    "    l = 0\n",
    "    while head is not None:\n",
    "        l += 1\n",
    "        head = head.next\n",
    "    return l\n",
    "lengthLL(head)"
   ]
  },
  {
   "cell_type": "markdown",
   "id": "18d576f7",
   "metadata": {},
   "source": [
    "## Print the ith element of the Linked List"
   ]
  },
  {
   "cell_type": "code",
   "execution_count": null,
   "id": "9e6d255a",
   "metadata": {},
   "outputs": [],
   "source": [
    "def printithLL(head, i):\n",
    "    t = 0\n",
    "    while head is not None and t < i:\n",
    "        t += 1\n",
    "        head = head.next\n",
    "    print(head.data)\n",
    "    return\n",
    "\n",
    "printithLL(head, 3)\n",
    "\n",
    "\n",
    "\"\"\"\n",
    "def printithLL(head,i):\n",
    "    t = 0\n",
    "    while head is not None:\n",
    "        if t == i:\n",
    "            print(head.data)\n",
    "            break\n",
    "        else:\n",
    "            t += 1\n",
    "            head = head.next\n",
    "    return\n",
    "\"\"\"\n",
    "\n"
   ]
  },
  {
   "cell_type": "markdown",
   "id": "d354f22e",
   "metadata": {},
   "source": [
    "## Insert data at ith position of LinkedList"
   ]
  },
  {
   "cell_type": "code",
   "execution_count": 56,
   "id": "57a965f6",
   "metadata": {},
   "outputs": [
    {
     "name": "stdout",
     "output_type": "stream",
     "text": [
      "1 2 3 4 5\n",
      "1=>2=>3=>4=>5=>None\n"
     ]
    }
   ],
   "source": [
    "class Node:\n",
    "    def __init__(self,data):\n",
    "        self.data = data\n",
    "        self.next = None\n",
    "        \n",
    "def take_input():\n",
    "    inputList = list(map(int, input().split()))\n",
    "    head = None\n",
    "    for curr_data in inputList:\n",
    "        if curr_data == -1:\n",
    "            break\n",
    "        newNode = Node(curr_data)\n",
    "        if head is None:\n",
    "            head = newNode\n",
    "            last = head\n",
    "        else:\n",
    "            last.next = newNode\n",
    "            last = newNode\n",
    "    return head\n",
    "\n",
    "def lengthLL(head):\n",
    "    l = 0\n",
    "    while head is not None:\n",
    "        l += 1\n",
    "        head = head.next\n",
    "    return l\n",
    "\n",
    "def insertatI(head, i, data):\n",
    "    if i < 0 or i > lengthLL(head):\n",
    "        return head\n",
    "    \n",
    "    count = 0\n",
    "    prev = None\n",
    "    curr = head\n",
    "    while count < i:\n",
    "        prev = curr\n",
    "        curr = curr.next\n",
    "        \n",
    "        count += 1\n",
    "    newNode = Node(data)\n",
    "    if prev is not None:\n",
    "        prev.next = newNode\n",
    "    else:\n",
    "        head = newNode\n",
    "    newNode.next = curr\n",
    "    \n",
    "    return head\n",
    "\n",
    "def printLL(head):\n",
    "    while head is not None:\n",
    "        print(str(head.data) + \"=>\" , end = \"\")\n",
    "        head = head.next\n",
    "    print(None)\n",
    "    return\n",
    "\n",
    "head = take_input()\n",
    "# printLL(head)\n",
    "# head = insertatI(head, 0, 11)\n",
    "# printLL(head)\n",
    "# head = insertatI(head, 2, 6 )\n",
    "# printLL(head)\n",
    "# head = insertatI(head, 7, 20)\n",
    "printLL(head)"
   ]
  },
  {
   "cell_type": "code",
   "execution_count": 3,
   "id": "40f1abf2",
   "metadata": {},
   "outputs": [
    {
     "name": "stdout",
     "output_type": "stream",
     "text": [
      "11=>1=>6=>2=>3=>4=>5=>20=>None\n"
     ]
    }
   ],
   "source": [
    "printLL(head)"
   ]
  },
  {
   "cell_type": "code",
   "execution_count": 4,
   "id": "edf81342",
   "metadata": {},
   "outputs": [],
   "source": [
    "def deleteatI(head, i):\n",
    "    if i < 0 or i > lengthLL(head)-1:\n",
    "        return head\n",
    "    count = 0\n",
    "    prev = None\n",
    "    curr = head\n",
    "    while count < i:\n",
    "        prev = curr\n",
    "        curr = curr.next\n",
    "        \n",
    "        count += 1\n",
    "    if prev is not None:\n",
    "        prev.next = curr.next\n",
    "    else:\n",
    "        head = head.next\n",
    "    return head"
   ]
  },
  {
   "cell_type": "code",
   "execution_count": 12,
   "id": "4a50d926",
   "metadata": {},
   "outputs": [],
   "source": [
    "head = deleteatI(head, 0)\n",
    "head = deleteatI(head, 3)\n",
    "head = deleteatI(head, 2)"
   ]
  },
  {
   "cell_type": "code",
   "execution_count": 13,
   "id": "d42915f3",
   "metadata": {},
   "outputs": [
    {
     "name": "stdout",
     "output_type": "stream",
     "text": [
      "2=>3=>None\n"
     ]
    }
   ],
   "source": [
    "printLL(head)"
   ]
  },
  {
   "cell_type": "markdown",
   "id": "ccf5e715",
   "metadata": {},
   "source": [
    "## Length of Linked List (Recursively)"
   ]
  },
  {
   "cell_type": "code",
   "execution_count": 39,
   "id": "c370d59b",
   "metadata": {},
   "outputs": [],
   "source": [
    "# find the lenght recursively\n",
    "\n",
    "def lenghtLLR(head):\n",
    "    c = 0\n",
    "    if head == None:\n",
    "        return 0\n",
    "    return 1+lenghtLLR(head.next)\n"
   ]
  },
  {
   "cell_type": "code",
   "execution_count": 40,
   "id": "e6864b3e",
   "metadata": {},
   "outputs": [
    {
     "name": "stdout",
     "output_type": "stream",
     "text": [
      "1=>2=>4=>5=>None\n"
     ]
    }
   ],
   "source": [
    "printLL(head)"
   ]
  },
  {
   "cell_type": "code",
   "execution_count": 41,
   "id": "50de8964",
   "metadata": {},
   "outputs": [
    {
     "data": {
      "text/plain": [
       "4"
      ]
     },
     "execution_count": 41,
     "metadata": {},
     "output_type": "execute_result"
    }
   ],
   "source": [
    "lenghtLLR(head)"
   ]
  },
  {
   "cell_type": "code",
   "execution_count": 32,
   "id": "c8d2ed94",
   "metadata": {},
   "outputs": [
    {
     "data": {
      "text/plain": [
       "<__main__.Node at 0x21e3f9f8cd0>"
      ]
     },
     "execution_count": 32,
     "metadata": {},
     "output_type": "execute_result"
    }
   ],
   "source": [
    "deleteatI(head, 2)"
   ]
  },
  {
   "cell_type": "code",
   "execution_count": 47,
   "id": "486dd924",
   "metadata": {},
   "outputs": [
    {
     "name": "stdout",
     "output_type": "stream",
     "text": [
      "None=>None\n"
     ]
    }
   ],
   "source": [
    "printLL(head)"
   ]
  },
  {
   "cell_type": "code",
   "execution_count": 42,
   "id": "ac22a81b",
   "metadata": {},
   "outputs": [],
   "source": [
    "head = Node(None)"
   ]
  },
  {
   "cell_type": "code",
   "execution_count": 43,
   "id": "7ef1e001",
   "metadata": {},
   "outputs": [
    {
     "name": "stdout",
     "output_type": "stream",
     "text": [
      "None=>None\n"
     ]
    }
   ],
   "source": [
    "printLL(head)"
   ]
  },
  {
   "cell_type": "code",
   "execution_count": 45,
   "id": "010faece",
   "metadata": {},
   "outputs": [
    {
     "data": {
      "text/plain": [
       "1"
      ]
     },
     "execution_count": 45,
     "metadata": {},
     "output_type": "execute_result"
    }
   ],
   "source": [
    "lenghtLLR(head)"
   ]
  },
  {
   "cell_type": "markdown",
   "id": "dda06b4e",
   "metadata": {},
   "source": [
    "## Insert data into LinkedList at ith Position ( Recursively)"
   ]
  },
  {
   "cell_type": "code",
   "execution_count": 69,
   "id": "644b4ac1",
   "metadata": {},
   "outputs": [],
   "source": [
    "def InsertR(head, i, data):\n",
    "    if i < 0:\n",
    "        return head\n",
    "    \n",
    "    if i == 0:\n",
    "        newNode = Node(data)\n",
    "        newNode.next = head\n",
    "        return newNode\n",
    "    \n",
    "    if head == None:\n",
    "        return None\n",
    "    \n",
    "    smallhead = InsertR(head.next, i-1, data)\n",
    "    head.next = smallhead\n",
    "    return head"
   ]
  },
  {
   "cell_type": "code",
   "execution_count": 70,
   "id": "73c9742f",
   "metadata": {},
   "outputs": [
    {
     "name": "stdout",
     "output_type": "stream",
     "text": [
      "1=>2=>3=>4=>9=>9=>8=>8=>5=>None\n"
     ]
    }
   ],
   "source": [
    "head = InsertR(head, 4,9)\n",
    "printLL(head)"
   ]
  },
  {
   "cell_type": "code",
   "execution_count": 59,
   "id": "0786c6ed",
   "metadata": {},
   "outputs": [],
   "source": [
    "head = deleteatI(head, 2)"
   ]
  },
  {
   "cell_type": "code",
   "execution_count": 64,
   "id": "ff9922ad",
   "metadata": {},
   "outputs": [
    {
     "name": "stdout",
     "output_type": "stream",
     "text": [
      "1=>2=>3=>4=>8=>5=>None\n"
     ]
    }
   ],
   "source": [
    "printLL(head)"
   ]
  },
  {
   "cell_type": "code",
   "execution_count": 61,
   "id": "c42e46fb",
   "metadata": {},
   "outputs": [
    {
     "data": {
      "text/plain": [
       "<__main__.Node at 0x21e3f8e4b50>"
      ]
     },
     "execution_count": 61,
     "metadata": {},
     "output_type": "execute_result"
    }
   ],
   "source": [
    "insertatI(head, 2, 3)"
   ]
  },
  {
   "cell_type": "code",
   "execution_count": null,
   "id": "fc823877",
   "metadata": {},
   "outputs": [],
   "source": []
  }
 ],
 "metadata": {
  "kernelspec": {
   "display_name": "Python 3 (ipykernel)",
   "language": "python",
   "name": "python3"
  },
  "language_info": {
   "codemirror_mode": {
    "name": "ipython",
    "version": 3
   },
   "file_extension": ".py",
   "mimetype": "text/x-python",
   "name": "python",
   "nbconvert_exporter": "python",
   "pygments_lexer": "ipython3",
   "version": "3.8.3"
  }
 },
 "nbformat": 4,
 "nbformat_minor": 5
}
