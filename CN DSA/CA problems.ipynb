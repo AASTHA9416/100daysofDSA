{
 "cells": [
  {
   "cell_type": "code",
   "execution_count": null,
   "metadata": {
    "scrolled": true
   },
   "outputs": [],
   "source": [
    "# bubble sort\n",
    "\n",
    "def bubble_sort(arr):\n",
    "    n = len(arr)\n",
    "    for i in range(n):\n",
    "        print(\"Outer loop\",i, arr[i])\n",
    "        for j in range(n-i-1):\n",
    "            print(\"inner loop\", j, arr[j])\n",
    "            if arr[j] > arr[j+1]:\n",
    "                arr[j], arr[j+1] = arr[j+1], arr[j]\n",
    "arr = [1,3,5,2,4,6,7,8]\n",
    "bubble_sort(arr)\n",
    "print(arr)"
   ]
  },
  {
   "cell_type": "code",
   "execution_count": null,
   "metadata": {
    "scrolled": false
   },
   "outputs": [],
   "source": [
    "def merge_sort(arr):\n",
    "    if len(arr) == 0 or len(arr) == 1:\n",
    "        return\n",
    "    mid = len(arr)//2\n",
    "    \n",
    "    a1 = arr[0:mid]\n",
    "    a2 = arr[mid:]\n",
    "    \n",
    "    merge_sort(a1)\n",
    "    merge_sort(a2)\n",
    "    \n",
    "    merge(a1,a2,arr)"
   ]
  },
  {
   "cell_type": "code",
   "execution_count": null,
   "metadata": {
    "scrolled": false
   },
   "outputs": [],
   "source": [
    "def merge(a1,a2,a):\n",
    "    i = 0\n",
    "    j = 0\n",
    "    k = 0\n",
    "    while i < len(a1) and j < len(a2):\n",
    "        if a1[i] < a2[j]:\n",
    "            a[k] = a1[i]\n",
    "            k = k + 1\n",
    "            i = i + 1\n",
    "        else:\n",
    "            a[k] = a2[j]\n",
    "            k = k+1\n",
    "            j = j+1\n",
    "            \n",
    "    while i < len(a1):\n",
    "        a[k] = a1[i]\n",
    "        k = k + 1\n",
    "        i = i + 1\n",
    "    while j < len(a2):\n",
    "        a[k] = a2[j]\n",
    "        k = k+1\n",
    "        j = j+1\n"
   ]
  },
  {
   "cell_type": "code",
   "execution_count": null,
   "metadata": {
    "scrolled": false
   },
   "outputs": [],
   "source": [
    "a = [10,9,8,7,6,5,1,3,2]\n",
    "merge_sort(a)\n",
    "print(a)"
   ]
  },
  {
   "cell_type": "code",
   "execution_count": null,
   "metadata": {
    "scrolled": false
   },
   "outputs": [],
   "source": [
    "def merge(a1,a2,a):\n",
    "    i = 0\n",
    "    j = 0\n",
    "    k = 0\n",
    "    while i < len(a1) and j < len(a2):\n",
    "        if a1[i] < a2[j]:\n",
    "            a[k] = a1[i]\n",
    "            k = k + 1\n",
    "            i = i + 1\n",
    "        else:\n",
    "            a[k] = a2[j]\n",
    "            k = k+1\n",
    "            j = j+1\n",
    "            \n",
    "    while i < len(a1):\n",
    "        a[k] = a1[i]\n",
    "        k = k + 1\n",
    "        i = i + 1\n",
    "    while j < len(a2):\n",
    "        a[k] = a2[j]\n",
    "        k = k+1\n",
    "        j = j+1\n",
    "\n",
    "def merge_sort(arr):\n",
    "    if len(arr) == 0 or len(arr) == 1:\n",
    "        return\n",
    "    mid = len(arr)//2\n",
    "    \n",
    "    a1 = arr[0:mid]\n",
    "    a2 = arr[mid:]\n",
    "    \n",
    "    merge_sort(a1)\n",
    "    merge_sort(a2)\n",
    "    \n",
    "    merge(a1,a2,arr)"
   ]
  },
  {
   "cell_type": "code",
   "execution_count": null,
   "metadata": {
    "scrolled": false
   },
   "outputs": [],
   "source": [
    "def bin_search(arr,x,si,ei):\n",
    "    if si > ei:\n",
    "        return -1\n",
    "    mid = (si + ei) // 2\n",
    "    if arr[mid] == x:\n",
    "        return mid\n",
    "    elif arr[mid] > x:\n",
    "        return bin_search(arr,x,si,mid-1)\n",
    "    else:\n",
    "        return bin_search(arr,x,mid+1,ei)"
   ]
  },
  {
   "cell_type": "code",
   "execution_count": null,
   "metadata": {
    "scrolled": false
   },
   "outputs": [],
   "source": [
    "a = [4, 3, 2, 1, 33 , 21, 5]\n",
    "b = [8, 6, 5, 4, 1]"
   ]
  },
  {
   "cell_type": "code",
   "execution_count": null,
   "metadata": {
    "scrolled": false
   },
   "outputs": [],
   "source": [
    "## first Solution O(mn)\n",
    "\n",
    "for i in a:\n",
    "    for j in b:\n",
    "        if i == j:\n",
    "            print(i, end = \" \")"
   ]
  },
  {
   "cell_type": "code",
   "execution_count": null,
   "metadata": {
    "scrolled": false
   },
   "outputs": [],
   "source": [
    "## 2nd Solution O(mlogm + nlogn)\n",
    "\n",
    "sorted_a = merge_sort(a)\n",
    "sorted_b = merge_sort(b)\n",
    "\n",
    "i = 0\n",
    "j = 0\n",
    "while i < len(a) and j < len(b):\n",
    "    if a[i] < b[j]:\n",
    "        i = i+1\n",
    "    elif b[j] < a[i]:\n",
    "        j = j+1\n",
    "    else:\n",
    "        print(a[i], end = \" \")\n",
    "        i = i+1\n",
    "        j = j+1"
   ]
  },
  {
   "cell_type": "code",
   "execution_count": null,
   "metadata": {
    "scrolled": false
   },
   "outputs": [],
   "source": [
    "# 3rd Solution (nlogn + mlogn) or (mlogm + nlogm)\n",
    "\n",
    "if len(a) < len(b):\n",
    "    merge_sort(a)\n",
    "    for i in b:\n",
    "        if bin_search(a, i, 0, len(a)-1) != -1:\n",
    "            print(i, end = \" \")\n",
    "    \n",
    "else:\n",
    "    merge_sort(b)\n",
    "    for i in a:\n",
    "        if bin_search(b, i, 0, len(b)-1) != -1:\n",
    "            print(i, end = \" \")"
   ]
  },
  {
   "cell_type": "markdown",
   "metadata": {
    "scrolled": false
   },
   "source": [
    "# Find the Equillbirium Point in Array"
   ]
  },
  {
   "cell_type": "code",
   "execution_count": null,
   "metadata": {},
   "outputs": [],
   "source": []
  },
  {
   "cell_type": "code",
   "execution_count": null,
   "metadata": {
    "scrolled": false
   },
   "outputs": [],
   "source": [
    "arr = [2, 3, 10, -10, 4, 2, 9]\n",
    "n = 7"
   ]
  },
  {
   "cell_type": "code",
   "execution_count": null,
   "metadata": {},
   "outputs": [],
   "source": [
    "# complexity O(n^2)\n",
    "def sum_arr(arr):\n",
    "    ans = 0\n",
    "    for i in range(len(arr)):\n",
    "        ans += arr[i]\n",
    "    return ans\n",
    "\n",
    "\n",
    "for i in range(n):\n",
    "    if sum_arr(arr[:i]) == sum_arr(arr[i+1:]):\n",
    "        print(i)\n",
    "        break"
   ]
  },
  {
   "cell_type": "code",
   "execution_count": null,
   "metadata": {},
   "outputs": [],
   "source": [
    "# complexity O(n)\n",
    "\n",
    "left = 0\n",
    "right = sum(arr)\n",
    "for i in range(n):\n",
    "    right = right - arr[i]\n",
    "    if left == right:\n",
    "        print(i)\n",
    "        break\n",
    "    left += arr[i]"
   ]
  },
  {
   "cell_type": "markdown",
   "metadata": {},
   "source": [
    "# Find the Unique Element\n",
    "\n",
    "\n",
    "You have been given an integer array/list(ARR) of size N. Where N is equal to [2M + 1].\n",
    "Now, in the given array/list, 'M' numbers are present twice and one number is present only once.\n",
    "You need to find and return that number which is unique in the array/list.\n",
    "\n",
    " Note:\n",
    "Unique element is always present in the array/list according to the given condition.\n",
    "\n",
    "Input format :\n",
    "The first line contains an Integer 't' which denotes the number of test cases or queries to be run. Then the test cases follow.\n",
    "\n",
    "First line of each test case or query contains an integer 'N' representing the size of the array/list.\n",
    "\n",
    "Second line contains 'N' single space separated integers representing the elements in the array/list.\n",
    "\n",
    "Output Format :\n",
    "For each test case, print the unique element present in the array.\n",
    "\n",
    "Output for every test case will be printed in a separate line.\n",
    "\n",
    "Constraints :\n",
    "\n",
    "1 <= t <= 10^2\n",
    "0 <= N <= 10^6\n",
    "\n",
    "Time Limit: 1 sec\n",
    "\n",
    "Sample Input 1:\n",
    "\n",
    "1\n",
    "7\n",
    "2 3 1 6 3 6 2\n",
    "\n",
    "Sample Output 1:\n",
    "\n",
    "1\n",
    "\n",
    "Sample Input 2:\n",
    "\n",
    "2\n",
    "5\n",
    "2 4 7 2 7\n",
    "9\n",
    "1 3 1 3 6 6 7 10 7\n",
    "\n",
    "Sample Output 2:\n",
    "\n",
    "4\n",
    "10"
   ]
  },
  {
   "cell_type": "code",
   "execution_count": null,
   "metadata": {},
   "outputs": [],
   "source": [
    "arr = [2, 3, 2, 4, 6, 3, 6]\n",
    "n = 7"
   ]
  },
  {
   "cell_type": "markdown",
   "metadata": {},
   "source": [
    "## Solution 1 Complexity = O(n^2)"
   ]
  },
  {
   "cell_type": "code",
   "execution_count": null,
   "metadata": {},
   "outputs": [],
   "source": [
    "def find_unique(n,arr):\n",
    "    for i in range(n):\n",
    "        for j in range(n+1):\n",
    "            if j == n:\n",
    "                return arr[i]\n",
    "            if i != j:\n",
    "                if arr[i] == arr[j]:\n",
    "                    break\n",
    "                \n",
    "\n",
    "find_unique(7,arr)"
   ]
  },
  {
   "cell_type": "markdown",
   "metadata": {},
   "source": [
    "## Solution 2 Complexity O(nlogn)\n",
    "\n",
    "### We need to sort first and sorting takes nlogn and then for loop will take logn complexity"
   ]
  },
  {
   "cell_type": "code",
   "execution_count": null,
   "metadata": {},
   "outputs": [],
   "source": [
    "merge_sort(arr)\n",
    "print(arr)\n",
    "for i in range(0,n,2):\n",
    "    if arr[i] != arr[i+1]:\n",
    "        print(arr[i])\n",
    "        break\n",
    "        "
   ]
  },
  {
   "cell_type": "markdown",
   "metadata": {},
   "source": [
    "## Solution 3 Complexity O(n)\n",
    "\n",
    "### solved by biwise XOR  => ^  operator that return 0 if opearated with same number otherwise something else.\n",
    "\n",
    "i.e in arr = [2,3,4,6,3,6,2]\n",
    "\n",
    "This approach uses 2 properties of XOR:\n",
    "\n",
    "1. XOR of a number with itself is 0.\n",
    "\n",
    "2. XOR of a number with 0 is number itself.\n",
    "\n",
    "Let us understand this approach with the help of an example:\n",
    "\n",
    "arr[]= 2 3 1 6 3 6 2\n",
    "\n",
    "Taking their xor:\n",
    "\n",
    "Answer = 2 ^ 3 ^ 1 ^ 6 ^ 3 ^ 6 ^ 2\n",
    "\n",
    "Now XOR is associative and commutative, so I can write it as:\n",
    "\n",
    "Answer = (2^2) ^ (3^3) ^ 1 ^ (6 ^ 6)\n",
    "\n",
    " = 0 ^ 0 ^ 1 ^ 0\n",
    " \n",
    " = 1\n",
    " \n",
    "Time complexity of this solution is O(n)\n"
   ]
  },
  {
   "cell_type": "code",
   "execution_count": null,
   "metadata": {},
   "outputs": [],
   "source": [
    "arr = [2, 3, 1, 6, 3, 6, 2]\n",
    "n = 7\n",
    "ans = 0\n",
    "for i in range(n):\n",
    "    ans = ans ^ arr[i]\n",
    "    print(ans)"
   ]
  },
  {
   "cell_type": "markdown",
   "metadata": {},
   "source": [
    "# Find duplicate element in the Given Array\n",
    "\n",
    "Duplicate in array\n",
    "\n",
    "Send Feedback\n",
    "\n",
    "You have been given an integer array/list(ARR) of size N which contains numbers from 0 to (N - 2). Each number is present at least once. That is, if N = 5, the array/list constitutes values ranging from 0 to 3, and among these, there is a single integer value that is present twice. You need to find and return that duplicate number present in the array.\n",
    "\n",
    "Note :\n",
    "\n",
    "Duplicate number is always present in the given array/list.\n",
    "\n",
    "Input format :\n",
    "\n",
    "The first line contains an Integer 't' which denotes the number of test cases or queries to be run. Then the test cases follow.\n",
    "\n",
    "First line of each test case or query contains an integer 'N' representing the size of the array/list.\n",
    "\n",
    "Second line contains 'N' single space separated integers representing the elements in the array/list.\n",
    "Output Format :\n",
    "\n",
    "For each test case, print the duplicate element in the array/list.\n",
    "\n",
    "Output for every test case will be printed in a separate line.\n",
    "\n",
    "Constraints :\n",
    "\n",
    "1 <= t <= 10^2\n",
    "0 <= N <= 10^6\n",
    "\n",
    "Time Limit: 1 sec\n",
    "\n",
    "Sample Input 1:\n",
    "\n",
    "1\n",
    "\n",
    "9\n",
    "\n",
    "0 7 2 5 4 7 1 3 6\n",
    "\n",
    "Sample Output 1:\n",
    "\n",
    "7\n",
    "\n",
    "Sample Input 2:\n",
    "\n",
    "2\n",
    "\n",
    "5\n",
    "\n",
    "0 2 1 3 1\n",
    "\n",
    "7\n",
    "\n",
    "0 3 1 5 4 3 2\n",
    "\n",
    "Sample Output 2:\n",
    "\n",
    "1\n",
    "\n",
    "3"
   ]
  },
  {
   "cell_type": "markdown",
   "metadata": {},
   "source": [
    "# Solution"
   ]
  },
  {
   "cell_type": "markdown",
   "metadata": {},
   "source": [
    "Find duplicate\n",
    "\n",
    "Problem Description: You are given with an array of integers of size n which contains numbers\n",
    "from 0 to n - 2. Each number is present at least once. That is, if n = 5, numbers from 0 to 3 is\n",
    "present in the given array at least once and one number is present twice. You need to find and\n",
    "return that duplicate number present in the array.\n",
    "\n",
    "How to approach?\n",
    "\n",
    "Approach 1: In this question you need to run two loops, pick an element from the first loop and\n",
    "then in the inner loop check if the element appears once again or not, if yes then return that\n",
    "element, otherwise move to the next element.\n",
    "\n",
    "This method doesn’t use the other useful data provided in questions like range of numbers is\n",
    "between 0 to n-2 and hence, it is increasing the time complexity.\n",
    "\n",
    "Pseudo Code for this approach:\n",
    "\n",
    "Function Findduplicate:\n",
    " For i = 0 to i less than size:\n",
    " \n",
    " For j = 0 to j less than size:\n",
    " \n",
    " If i not equal to j and arr[i] is equal to arr[j]:\n",
    " \n",
    " Return arr[i]\n",
    " \n",
    " return minus infinity\n",
    " \n",
    "Time Complexity for this approach: Time complexity for this approach is O( n ), which is not 2\n",
    "good, hence we move to the next approach.\n",
    "\n",
    "Approach 2: A better solution for this problem can be by using XOR operator. Using XOR\n",
    "operator, we can solve this problem in one traversal only. The following facts about XOR\n",
    "operation will be useful for this question:\n",
    "\n",
    "1. If we XOR a number by itself, even number of times then it will give you 0.\n",
    "\n",
    "2. If we XOR a number with itself, odd number of times, then it will give you the number\n",
    "itself.\n",
    "\n",
    "3. Also XOR of a number with 0 gives you that number again.\n",
    "\n",
    "So, if we take XOR of all the elements present in the array with every element in the range 0 to\n",
    "n-2, then all the elements of that array except the duplicate element are XORed 2 times and\n",
    "hence, their resultant is 0. But the duplicate element is XORed 3 times, hence, its resultant is the\n",
    "number itself. Hence, you will get you answer as the duplicate number present in the array.\n",
    "For example, if you are given with n=5 and let us say array is 0 1 3 2 2, then according to this\n",
    "approach, we have to XOR all elements present in the array with every element in the range 0 to\n",
    "3.\n",
    "\n",
    "Answer = (0^1^3^2^2)^(0^1^2^3)\n",
    "As XOR operation is associative and commutative, so, by rearranging\n",
    "Answer = (0^0) ^ (1^1) ^ (2^2^2) ^ (3^3)\n",
    " = 0 ^ 0 ^ 2 ^ 0\n",
    " = 2\n",
    "Pseudo Code for this approach:\n",
    "Function Findduplicate:\n",
    "answer=0\n",
    "For i =0 to i less than n:\n",
    "answer=answer xor arr[i]\n",
    "For i=0 to i less than or equal to n-2:\n",
    "answer=answer xor i\n",
    "Return answer\n",
    "Time Complexity for this approach: Time complexity for this approach is O(n) as you are\n",
    "traversing the array only once for XORing.\n",
    "\n",
    "\n",
    "Approach 3: Another approach is to make use of the condition that all elements lies between 0\n",
    "and n-2. So first calculate the sum of all natural numbers between 0 to n-2 by using the direct\n",
    "formula ((n - 1) * (n - 2)) / 2 and sum of all elements of the array. Now, subtract the sum of all\n",
    "natural numbers between 0 to n-2 from sum of all elements of the array. This will give you the\n",
    "duplicate element present in the array.\n",
    "\n",
    "Pseudo Code for this approach:\n",
    "\n",
    "Function findduplicate:\n",
    "\n",
    " sum=0\n",
    " For i = 0 to i less than size:\n",
    " \n",
    "sum = sum + input[i];\n",
    "\n",
    " n = size\n",
    " \n",
    " sumOfNaturalNumbers = ((n - 1) * (n - 2)) / 2\n",
    " \n",
    " return sum - sumOfNaturalNumbers\n",
    " \n",
    "Time Complexity for this approach: Time complexity for this approach is O(n) as you are\n",
    "traversing the array only once to calculate the sum of all elements present in the array.\n",
    "\n",
    "❏ Let us dry run the code for the N= 9\n",
    "\n",
    " arr[]= 0 7 2 5 4 7 1 3 6\n",
    " \n",
    "Sum = 0+7+2+5+4+7+1+3+6 =35\n",
    "\n",
    "sumOfNaturalNumbers=8*7/2=28\n",
    "\n",
    "Output = 35-28 =7\n",
    "\n",
    "So 7 should get printed."
   ]
  },
  {
   "cell_type": "code",
   "execution_count": null,
   "metadata": {},
   "outputs": [],
   "source": [
    "arr = [0, 7, 2, 5, 4, 7, 1, 3, 6]\n",
    "n = len(arr)"
   ]
  },
  {
   "cell_type": "code",
   "execution_count": null,
   "metadata": {},
   "outputs": [],
   "source": [
    "print(arr, n)"
   ]
  },
  {
   "cell_type": "code",
   "execution_count": null,
   "metadata": {},
   "outputs": [],
   "source": [
    "def find_dup(arr,n):\n",
    "    for i in range(n):\n",
    "        for j in range(i+1, n):\n",
    "            if arr[i] == arr[j]:\n",
    "                return arr[i]"
   ]
  },
  {
   "cell_type": "code",
   "execution_count": null,
   "metadata": {},
   "outputs": [],
   "source": [
    "find_dup(arr,n)"
   ]
  },
  {
   "cell_type": "code",
   "execution_count": null,
   "metadata": {},
   "outputs": [],
   "source": [
    "merge_sort(arr)\n",
    "for i in range(n-1):\n",
    "    if arr[i] == arr[i+1]:\n",
    "        print(arr[i])"
   ]
  },
  {
   "cell_type": "code",
   "execution_count": null,
   "metadata": {},
   "outputs": [],
   "source": [
    "def find_dup_xor(arr,n):\n",
    "    ans = 0\n",
    "    for i in range(n):\n",
    "        ans = ans ^ arr[i]\n",
    "    for i in range(n-1):\n",
    "        ans = ans ^ i\n",
    "    return ans"
   ]
  },
  {
   "cell_type": "code",
   "execution_count": null,
   "metadata": {},
   "outputs": [],
   "source": [
    "find_dup_xor(arr,n)"
   ]
  },
  {
   "cell_type": "code",
   "execution_count": null,
   "metadata": {},
   "outputs": [],
   "source": [
    "def sum_arr(arr):\n",
    "    ans = 0\n",
    "    for i in range(len(arr)):\n",
    "        ans += arr[i]\n",
    "    return ans\n",
    "\n",
    "def find_dup_sum(arr,n):\n",
    "    total_sum = sum_arr(arr)\n",
    "    n2_sum = (n-1)*(n-2) // 2\n",
    "    return total_sum - n2_sum"
   ]
  },
  {
   "cell_type": "code",
   "execution_count": null,
   "metadata": {},
   "outputs": [],
   "source": [
    "find_dup_sum(arr,n)"
   ]
  },
  {
   "cell_type": "markdown",
   "metadata": {},
   "source": [
    "# Find the number of Pairs of Elements in the Array that sums equal to the given number"
   ]
  },
  {
   "cell_type": "code",
   "execution_count": null,
   "metadata": {},
   "outputs": [],
   "source": [
    "## Pair sum in array\n",
    "arr = [1,3,6,2,5,4,3,2,4,20]    \n",
    "n = len(arr)\n",
    "num = 7\n",
    "print(arr, n, num)"
   ]
  },
  {
   "cell_type": "markdown",
   "metadata": {},
   "source": [
    "## Solution 1. O(n^2)"
   ]
  },
  {
   "cell_type": "code",
   "execution_count": null,
   "metadata": {},
   "outputs": [],
   "source": [
    "## O(n^2)\n",
    "c = 0\n",
    "for i in range(n):\n",
    "    for j in range(i+1,n):\n",
    "        if arr[i] + arr[j] == num:\n",
    "            c += 1\n",
    "print(c)"
   ]
  },
  {
   "cell_type": "markdown",
   "metadata": {},
   "source": [
    "## Solution 2. O(n) but looping two times"
   ]
  },
  {
   "cell_type": "code",
   "execution_count": null,
   "metadata": {},
   "outputs": [],
   "source": [
    "## creating map\n",
    "# Space taking but O(n) and taking two for loops\n",
    "\n",
    "m = [0]*1000\n",
    "for i in range(n):\n",
    "    m[arr[i]] += 1\n",
    "twice_count = 0\n",
    "for i in range(n):\n",
    "    twice_count += m[num - arr[i]]\n",
    "    if num - arr[i] == arr[i]:\n",
    "        twice_count -= 1\n",
    "print(twice_count//2)"
   ]
  },
  {
   "cell_type": "markdown",
   "metadata": {},
   "source": [
    "## Solution 3. O(n) in single for loop"
   ]
  },
  {
   "cell_type": "code",
   "execution_count": null,
   "metadata": {},
   "outputs": [],
   "source": [
    "## Single loop\n",
    "\n",
    "m = {}\n",
    "count = 0\n",
    "for i in range(n):\n",
    "    if num - arr[i] in m:\n",
    "        count += m[num - arr[i]]\n",
    "    if arr[i] in m:\n",
    "        m[arr[i]] += 1\n",
    "    else:\n",
    "        m[arr[i]] = 1\n",
    "print(count)"
   ]
  },
  {
   "cell_type": "markdown",
   "metadata": {},
   "source": [
    "# Qus: Rotate array left side k times"
   ]
  },
  {
   "cell_type": "code",
   "execution_count": null,
   "metadata": {},
   "outputs": [],
   "source": [
    "arr = [2,4,3,5,1]\n",
    "n = len(arr)\n",
    "k = 3"
   ]
  },
  {
   "cell_type": "code",
   "execution_count": null,
   "metadata": {},
   "outputs": [],
   "source": [
    "arr  = [1,2,3,4,5,6,7,8]\n",
    "n= len(arr)\n",
    "k = 3"
   ]
  },
  {
   "cell_type": "markdown",
   "metadata": {},
   "source": [
    "## By List Slicing (Easy Solution)"
   ]
  },
  {
   "cell_type": "code",
   "execution_count": null,
   "metadata": {},
   "outputs": [],
   "source": [
    "# Slicing method\n",
    "k = k%n\n",
    "print(arr[k:] + arr[:k])"
   ]
  },
  {
   "cell_type": "markdown",
   "metadata": {},
   "source": [
    "## By one by one rotation (Bad Solution) O(kn)"
   ]
  },
  {
   "cell_type": "code",
   "execution_count": null,
   "metadata": {},
   "outputs": [],
   "source": [
    "# rotate array\n",
    "k = k%n\n",
    "for i in range(k):\n",
    "    s = arr[0]\n",
    "    for i in range(n-1):\n",
    "        arr[i] = arr[i+1]\n",
    "    arr[n-1] = s\n",
    "    print(arr)"
   ]
  },
  {
   "cell_type": "markdown",
   "metadata": {},
   "source": [
    "## Using O(k) extra Space"
   ]
  },
  {
   "cell_type": "code",
   "execution_count": null,
   "metadata": {},
   "outputs": [],
   "source": [
    "k = k%n\n",
    "# store first k elements in some temp\n",
    "temp = [0]*k\n",
    "for i in range(k):\n",
    "    temp[i] = arr[i]\n",
    "# make ith element as i+k th element\n",
    "for i in range(n-k):\n",
    "    arr[i] = arr[i+k]\n",
    "# replace last k elements by the temp\n",
    "for i in range(n-k,n):\n",
    "    arr[i] = temp[i-n+k]\n",
    "arr"
   ]
  },
  {
   "cell_type": "markdown",
   "metadata": {},
   "source": [
    "## By Reversing the Array"
   ]
  },
  {
   "cell_type": "code",
   "execution_count": null,
   "metadata": {},
   "outputs": [],
   "source": [
    "# Reverse the Array by Two Pointer Approach\n",
    "def rev_arr(arr,si,ei):\n",
    "    while si < ei:\n",
    "        arr[si], arr[ei] = arr[ei], arr[si]\n",
    "        si += 1\n",
    "        ei -=1\n",
    "        \n",
    "k = k%n\n",
    "rev_arr(arr,0,n-1)\n",
    "print(arr)\n",
    "# reverse the first n-k elements and reverse last k elemets separately for desired result\n",
    "rev_arr(arr,0,n-k-1)\n",
    "rev_arr(arr,n-k,n-1)"
   ]
  },
  {
   "cell_type": "markdown",
   "metadata": {},
   "source": [
    "# Find the number of triplets in the array which sum equal to num"
   ]
  },
  {
   "cell_type": "code",
   "execution_count": 3,
   "metadata": {},
   "outputs": [],
   "source": [
    "arr = [2,-5,8,-6,0,5,10,11,-3]\n",
    "n= len(arr)\n",
    "num = 10"
   ]
  },
  {
   "cell_type": "markdown",
   "metadata": {},
   "source": [
    "## Soultion 1: Three loops O(n^3)"
   ]
  },
  {
   "cell_type": "code",
   "execution_count": 4,
   "metadata": {},
   "outputs": [
    {
     "name": "stdout",
     "output_type": "stream",
     "text": [
      "5\n"
     ]
    }
   ],
   "source": [
    "count = 0\n",
    "for i in range(n-2):\n",
    "    for j in range(i+1, n-1):\n",
    "        for k in range(j+1, n):\n",
    "            if arr[i]+arr[j]+arr[k] == num:\n",
    "                count += 1\n",
    "print(count)"
   ]
  },
  {
   "cell_type": "markdown",
   "metadata": {},
   "source": [
    "## Solution 2: Sort the Array and the use two pointer approach"
   ]
  },
  {
   "cell_type": "code",
   "execution_count": 9,
   "metadata": {},
   "outputs": [],
   "source": [
    "arr = [2,-5,8,-6,0,5,10,11,-3]\n",
    "n= len(arr)\n",
    "num = 10"
   ]
  },
  {
   "cell_type": "code",
   "execution_count": 11,
   "metadata": {},
   "outputs": [
    {
     "name": "stdout",
     "output_type": "stream",
     "text": [
      "5\n"
     ]
    }
   ],
   "source": [
    "count = 0\n",
    "arr.sort()\n",
    "for i in range(n-2):\n",
    "    l = i + 1\n",
    "    r = n - 1\n",
    "    while (l<r):\n",
    "        if arr[i]+arr[l]+arr[r] == num:\n",
    "            count += 1\n",
    "            l+=1\n",
    "            r-=1\n",
    "        elif arr[i]+arr[l]+arr[r] < num:\n",
    "            l+=1\n",
    "        else:\n",
    "            r-=1\n",
    "print(count)"
   ]
  },
  {
   "cell_type": "markdown",
   "metadata": {},
   "source": [
    "## Solution 3: Storing the map"
   ]
  },
  {
   "cell_type": "code",
   "execution_count": 14,
   "metadata": {},
   "outputs": [
    {
     "data": {
      "text/plain": [
       "5"
      ]
     },
     "execution_count": 14,
     "metadata": {},
     "output_type": "execute_result"
    }
   ],
   "source": [
    "count = 0\n",
    "for i in range(n-1):\n",
    "    s = set()\n",
    "    for j in range(i+1, n):\n",
    "        if num - arr[i] - arr[j] in s:\n",
    "            count += 1\n",
    "        s.add(arr[j])\n",
    "count"
   ]
  },
  {
   "cell_type": "code",
   "execution_count": null,
   "metadata": {},
   "outputs": [],
   "source": []
  }
 ],
 "metadata": {
  "kernelspec": {
   "display_name": "Python 3 (ipykernel)",
   "language": "python",
   "name": "python3"
  },
  "language_info": {
   "codemirror_mode": {
    "name": "ipython",
    "version": 3
   },
   "file_extension": ".py",
   "mimetype": "text/x-python",
   "name": "python",
   "nbconvert_exporter": "python",
   "pygments_lexer": "ipython3",
   "version": "3.8.3"
  }
 },
 "nbformat": 4,
 "nbformat_minor": 4
}
