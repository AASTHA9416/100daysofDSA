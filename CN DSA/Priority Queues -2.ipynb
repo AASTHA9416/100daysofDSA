{
 "cells": [
  {
   "cell_type": "markdown",
   "id": "5d5aed11",
   "metadata": {},
   "source": [
    "# Heap Sort"
   ]
  },
  {
   "cell_type": "code",
   "execution_count": 49,
   "id": "fa818fe1",
   "metadata": {},
   "outputs": [],
   "source": [
    "def percolate_down(arr, index, n):\n",
    "    parent = index\n",
    "    c1 = parent*2 + 1\n",
    "    c2 = parent*2 + 2\n",
    "    \n",
    "    \n",
    "    while c1 < n:\n",
    "        minIndex = parent\n",
    "        if arr[minIndex] > arr[c1]:\n",
    "            minIndex = c1\n",
    "        if c2 < n and arr[minIndex] > arr[c2]:\n",
    "            minIndex = c2\n",
    "        \n",
    "        \n",
    "        if minIndex == parent:\n",
    "            return\n",
    "        arr[parent], arr[minIndex] = arr[minIndex], arr[parent]\n",
    "        parent = minIndex\n",
    "        c1 = parent*2 + 1\n",
    "        c2 = parent*2 + 2\n",
    "    return\n",
    "    \n",
    "    \n",
    "    \n",
    "    \n",
    "\n",
    "def heap_sort(arr):\n",
    "    n = len(arr)\n",
    "    for i in range(n//2, -1, -1):\n",
    "        percolate_down(arr, i, n)\n",
    "    \n",
    "    for i in range(n-1, 0, -1):\n",
    "        arr[0], arr[i] = arr[i], arr[0]\n",
    "        percolate_down(arr, 0, i)\n",
    "    return\n",
    "        \n",
    "    "
   ]
  },
  {
   "cell_type": "code",
   "execution_count": 50,
   "id": "12ecaba6",
   "metadata": {},
   "outputs": [
    {
     "data": {
      "text/plain": [
       "[9, 8, 7, 6, 5, 5, 4, 3, 3, 2, 2, 1]"
      ]
     },
     "execution_count": 50,
     "metadata": {},
     "output_type": "execute_result"
    }
   ],
   "source": [
    "arr = [3,1,2,5,2,4,6,8,9,7,5,3]\n",
    "heap_sort(arr)\n",
    "arr\n"
   ]
  },
  {
   "cell_type": "markdown",
   "id": "f9fdac73",
   "metadata": {},
   "source": [
    "# Inbuilt Heap in Python"
   ]
  },
  {
   "cell_type": "code",
   "execution_count": 58,
   "id": "41762918",
   "metadata": {},
   "outputs": [],
   "source": [
    "import heapq\n",
    "\n",
    "## need to make an iterable\n",
    "li = [10, 4, 5, 9, 7, 8, 11]\n",
    "heapq.heapify(li)"
   ]
  },
  {
   "cell_type": "code",
   "execution_count": 59,
   "id": "89778d61",
   "metadata": {},
   "outputs": [
    {
     "data": {
      "text/plain": [
       "[4, 7, 5, 9, 10, 8, 11]"
      ]
     },
     "execution_count": 59,
     "metadata": {},
     "output_type": "execute_result"
    }
   ],
   "source": [
    "li"
   ]
  },
  {
   "cell_type": "code",
   "execution_count": 60,
   "id": "b21cfca2",
   "metadata": {},
   "outputs": [],
   "source": [
    "## push element in the heap\n",
    "heapq.heappush(li, 3)"
   ]
  },
  {
   "cell_type": "code",
   "execution_count": 61,
   "id": "37ca1690",
   "metadata": {},
   "outputs": [
    {
     "data": {
      "text/plain": [
       "[3, 4, 5, 7, 10, 8, 11, 9]"
      ]
     },
     "execution_count": 61,
     "metadata": {},
     "output_type": "execute_result"
    }
   ],
   "source": [
    "li"
   ]
  },
  {
   "cell_type": "code",
   "execution_count": 63,
   "id": "7c37db74",
   "metadata": {},
   "outputs": [
    {
     "name": "stdout",
     "output_type": "stream",
     "text": [
      "3\n"
     ]
    }
   ],
   "source": [
    "## pop from the heap\n",
    "print(heapq.heappop(li))"
   ]
  },
  {
   "cell_type": "code",
   "execution_count": 64,
   "id": "19f7e0c4",
   "metadata": {},
   "outputs": [
    {
     "data": {
      "text/plain": [
       "[4, 7, 5, 9, 10, 8, 11]"
      ]
     },
     "execution_count": 64,
     "metadata": {},
     "output_type": "execute_result"
    }
   ],
   "source": [
    "li"
   ]
  },
  {
   "cell_type": "code",
   "execution_count": 65,
   "id": "f53d9626",
   "metadata": {},
   "outputs": [
    {
     "data": {
      "text/plain": [
       "4"
      ]
     },
     "execution_count": 65,
     "metadata": {},
     "output_type": "execute_result"
    }
   ],
   "source": [
    "## remove the min element and replace it with some other then perform the heapify operation\n",
    "heapq.heapreplace(li, 6)"
   ]
  },
  {
   "cell_type": "code",
   "execution_count": 66,
   "id": "ca92dbf9",
   "metadata": {},
   "outputs": [
    {
     "data": {
      "text/plain": [
       "[5, 7, 6, 9, 10, 8, 11]"
      ]
     },
     "execution_count": 66,
     "metadata": {},
     "output_type": "execute_result"
    }
   ],
   "source": [
    "li"
   ]
  },
  {
   "cell_type": "markdown",
   "id": "be24824c",
   "metadata": {},
   "source": [
    "# Inbuilt MaxHeap"
   ]
  },
  {
   "cell_type": "code",
   "execution_count": 1,
   "id": "222198b4",
   "metadata": {},
   "outputs": [],
   "source": [
    "import heapq\n",
    "li = [2,4,6,8,1,3,5,7]\n",
    "heapq._heapify_max(li)"
   ]
  },
  {
   "cell_type": "code",
   "execution_count": 2,
   "id": "3245c74c",
   "metadata": {},
   "outputs": [
    {
     "data": {
      "text/plain": [
       "[8, 7, 6, 4, 1, 3, 5, 2]"
      ]
     },
     "execution_count": 2,
     "metadata": {},
     "output_type": "execute_result"
    }
   ],
   "source": [
    "li"
   ]
  },
  {
   "cell_type": "code",
   "execution_count": 3,
   "id": "1a28ddd3",
   "metadata": {},
   "outputs": [
    {
     "data": {
      "text/plain": [
       "8"
      ]
     },
     "execution_count": 3,
     "metadata": {},
     "output_type": "execute_result"
    }
   ],
   "source": [
    "heapq._heappop_max(li)"
   ]
  },
  {
   "cell_type": "code",
   "execution_count": 4,
   "id": "a50c0142",
   "metadata": {},
   "outputs": [
    {
     "data": {
      "text/plain": [
       "[7, 4, 6, 2, 1, 3, 5]"
      ]
     },
     "execution_count": 4,
     "metadata": {},
     "output_type": "execute_result"
    }
   ],
   "source": [
    "li"
   ]
  },
  {
   "cell_type": "code",
   "execution_count": 5,
   "id": "2584fbc2",
   "metadata": {},
   "outputs": [
    {
     "data": {
      "text/plain": [
       "7"
      ]
     },
     "execution_count": 5,
     "metadata": {},
     "output_type": "execute_result"
    }
   ],
   "source": [
    "heapq._heapreplace_max(li, 0)"
   ]
  },
  {
   "cell_type": "code",
   "execution_count": 6,
   "id": "91967232",
   "metadata": {},
   "outputs": [
    {
     "data": {
      "text/plain": [
       "[6, 4, 5, 2, 1, 3, 0]"
      ]
     },
     "execution_count": 6,
     "metadata": {},
     "output_type": "execute_result"
    }
   ],
   "source": [
    "li"
   ]
  },
  {
   "cell_type": "code",
   "execution_count": 7,
   "id": "53b25461",
   "metadata": {},
   "outputs": [],
   "source": [
    "li.append(8)\n",
    "heapq._siftdown_max(li,0, len(li)-1 )"
   ]
  },
  {
   "cell_type": "code",
   "execution_count": 8,
   "id": "7d3704af",
   "metadata": {},
   "outputs": [
    {
     "data": {
      "text/plain": [
       "[8, 6, 5, 4, 1, 3, 0, 2]"
      ]
     },
     "execution_count": 8,
     "metadata": {},
     "output_type": "execute_result"
    }
   ],
   "source": [
    "li"
   ]
  },
  {
   "cell_type": "markdown",
   "id": "56df6c2b",
   "metadata": {},
   "source": [
    "# K Smallest Elements from an Array"
   ]
  },
  {
   "cell_type": "markdown",
   "id": "cce08f5d",
   "metadata": {},
   "source": [
    "## Approach 1:  The most basic approach to solve the question is to sort the array and then return k smallest Elements from the same, but it will take atleat nlogn of time."
   ]
  },
  {
   "cell_type": "markdown",
   "id": "b3ec71d1",
   "metadata": {},
   "source": [
    "## Approach 2: "
   ]
  },
  {
   "cell_type": "code",
   "execution_count": 29,
   "id": "ea9ef6fe",
   "metadata": {},
   "outputs": [],
   "source": [
    "import heapq\n",
    "\n",
    "def kSmallest(arr, k):\n",
    "    kSmall = arr[0:k]\n",
    "    heapq._heapify_max(kSmall)\n",
    "    for i in range(k, len(arr)):\n",
    "        if arr[i] < kSmall[0]:\n",
    "            heapq._heapreplace_max(kSmall,arr[i])\n",
    "    return kSmall\n",
    "    "
   ]
  },
  {
   "cell_type": "code",
   "execution_count": 30,
   "id": "cebb90de",
   "metadata": {},
   "outputs": [
    {
     "data": {
      "text/plain": [
       "[3, 1, 2]"
      ]
     },
     "execution_count": 30,
     "metadata": {},
     "output_type": "execute_result"
    }
   ],
   "source": [
    "arr = [2,4,6,1,3,5]\n",
    "kSmallest(arr, 3)"
   ]
  },
  {
   "cell_type": "code",
   "execution_count": 16,
   "id": "fdf74a3a",
   "metadata": {},
   "outputs": [
    {
     "data": {
      "text/plain": [
       "[6, 4, 5, 1, 3, 2]"
      ]
     },
     "execution_count": 16,
     "metadata": {},
     "output_type": "execute_result"
    }
   ],
   "source": [
    "arr"
   ]
  },
  {
   "cell_type": "markdown",
   "id": "e6ae7d5b",
   "metadata": {},
   "source": [
    "## Qus: Check if the given array of integers is the Max Heap or not."
   ]
  },
  {
   "cell_type": "code",
   "execution_count": 33,
   "id": "9bd77c79",
   "metadata": {},
   "outputs": [],
   "source": [
    "def checkMaxHeap(arr):\n",
    "    n = len(arr)\n",
    "    for i in range(n//2):\n",
    "        c1 = i*2 + 1\n",
    "        c2 = i*2 + 2\n",
    "        if c1 < n:\n",
    "            if arr[i] < arr[c1]:\n",
    "                return False\n",
    "            if c2 < len(arr) and arr[i] < arr[c2]:\n",
    "                return False\n",
    "    return True"
   ]
  },
  {
   "cell_type": "code",
   "execution_count": 35,
   "id": "0bd199b6",
   "metadata": {},
   "outputs": [
    {
     "data": {
      "text/plain": [
       "False"
      ]
     },
     "execution_count": 35,
     "metadata": {},
     "output_type": "execute_result"
    }
   ],
   "source": [
    "checkMaxHeap([4, 20, 18, 6, 14, 11, 9, 4])"
   ]
  },
  {
   "cell_type": "markdown",
   "id": "ada8148b",
   "metadata": {},
   "source": [
    "## Qus: Find the Kth largest Element from the array"
   ]
  },
  {
   "cell_type": "code",
   "execution_count": 44,
   "id": "25c18df6",
   "metadata": {},
   "outputs": [],
   "source": [
    "def KthMax(arr: list(), k: int()):\n",
    "    n = len(arr)\n",
    "    heapq._heapify_max(arr)\n",
    "    for i in range(k-1):\n",
    "        heapq._heappop_max(arr)\n",
    "    return arr[0]"
   ]
  },
  {
   "cell_type": "code",
   "execution_count": 45,
   "id": "fc55de44",
   "metadata": {},
   "outputs": [
    {
     "data": {
      "text/plain": [
       "5"
      ]
     },
     "execution_count": 45,
     "metadata": {},
     "output_type": "execute_result"
    }
   ],
   "source": [
    "arr = [2,4,6,1,3,5]\n",
    "KthMax(arr, 2)"
   ]
  },
  {
   "cell_type": "markdown",
   "id": "fe2a57d0",
   "metadata": {},
   "source": [
    "## Qus: Buy the ticket\n",
    "\n",
    "Buy the ticket\n",
    "Send Feedback\n",
    "You want to buy a ticket for a well-known concert which is happening in your city. But the number of tickets available is limited. Hence the sponsors of the concert decided to sell tickets to customers based on some priority.\n",
    "A queue is maintained for buying the tickets and every person is attached with a priority (an integer, 1 being the lowest priority).\n",
    "The tickets are sold in the following manner -\n",
    "1. The first person (pi) in the queue requests for the ticket.\n",
    "2. If there is another person present in the queue who has higher priority than pi, then ask pi to move at end of the queue without giving him the ticket.\n",
    "3. Otherwise, give him the ticket (and don't make him stand in queue again).\n",
    "Giving a ticket to a person takes exactly 1 minute and it takes no time for removing and adding a person to the queue. And you can assume that no new person joins the queue.\n",
    "Given a list of priorities of N persons standing in the queue and the index of your priority (indexing starts from 0). Find and return the time it will take until you get the ticket.\n",
    "Input Format:\n",
    "The first line of input contains an integer, that denotes the value of total number of people standing in queue or the size of the array of priorities. Let us denote it with the symbol N.\n",
    "The following line contains N space separated integers, that denote the value of the elements of the array of priorities.\n",
    "The following contains an integer, that denotes the value of index of your priority. Let us denote it with symbol k.\n",
    "Output Format :\n",
    "The first and only line of output contains the time required for you to get the ticket.\n",
    "Constraints:\n",
    "Time Limit: 1 sec\n",
    "Sample Input 1 :\n",
    "3\n",
    "3 9 4\n",
    "2\n",
    "Sample Output 1 :\n",
    "2\n",
    "Sample Output 1 Explanation :\n",
    "Person with priority 3 comes out. But there is a person with higher priority than him. So he goes and then stands in the queue at the end. Queue's status :  {9, 4, 3}. Time : 0 secs.\n",
    "Next, the person with priority 9 comes out. And there is no person with higher priority than him. So he'll get the ticket. Queue's status :  {4, 3}. Time : 1 secs.\n",
    "Next, the person with priority 4 comes out (which is you). And there is no person with higher priority than you. So you'll get the ticket. Time : 2 secs.\n",
    "Sample Input 2 :\n",
    "5\n",
    "2 3 2 2 4\n",
    "3\n",
    "Sample Output 2 :\n",
    "4\n"
   ]
  },
  {
   "cell_type": "markdown",
   "id": "e03c97b8",
   "metadata": {},
   "source": [
    "## Solution\n",
    "        \n",
    "            \n",
    "    \n",
    "    "
   ]
  },
  {
   "cell_type": "code",
   "execution_count": 26,
   "id": "329b632f",
   "metadata": {},
   "outputs": [],
   "source": [
    "arr = [3,9,4]\n",
    "target = 2"
   ]
  },
  {
   "cell_type": "code",
   "execution_count": 27,
   "id": "06a6ec5f",
   "metadata": {},
   "outputs": [
    {
     "name": "stdout",
     "output_type": "stream",
     "text": [
      "2\n"
     ]
    }
   ],
   "source": [
    "heap = arr[:]\n",
    "time = 1\n",
    "import heapq\n",
    "heapq._heapify_max(heap)\n",
    "i = 0\n",
    "while i!= target or arr[i] != heap[0]:\n",
    "    if arr[i] == heap[0]:\n",
    "        time += 1\n",
    "        heapq._heappop_max(heap)\n",
    "        \n",
    "    i+= 1\n",
    "    i = i%len(arr)\n",
    "print(time)\n"
   ]
  },
  {
   "cell_type": "code",
   "execution_count": 33,
   "id": "a8a7a239",
   "metadata": {},
   "outputs": [],
   "source": [
    "import heapq\n",
    "def buy_ticket(arr, target):\n",
    "    heap = arr[:]\n",
    "    time = 1\n",
    "    heapq._heapify_max(heap)\n",
    "    i = 0\n",
    "    while i!= target or arr[i] != heap[0]:\n",
    "        if arr[i] == heap[0]:\n",
    "            time += 1\n",
    "            heapq._heappop_max(heap)\n",
    "        i+= 1\n",
    "        i = i % len(arr)\n",
    "    return time\n",
    "    "
   ]
  },
  {
   "cell_type": "code",
   "execution_count": 35,
   "id": "1f8f8958",
   "metadata": {},
   "outputs": [
    {
     "data": {
      "text/plain": [
       "5"
      ]
     },
     "execution_count": 35,
     "metadata": {},
     "output_type": "execute_result"
    }
   ],
   "source": [
    "buy_ticket([2,3,2,2,2,4], 4)"
   ]
  },
  {
   "cell_type": "code",
   "execution_count": null,
   "id": "f3432dfb",
   "metadata": {},
   "outputs": [],
   "source": []
  }
 ],
 "metadata": {
  "kernelspec": {
   "display_name": "Python 3 (ipykernel)",
   "language": "python",
   "name": "python3"
  },
  "language_info": {
   "codemirror_mode": {
    "name": "ipython",
    "version": 3
   },
   "file_extension": ".py",
   "mimetype": "text/x-python",
   "name": "python",
   "nbconvert_exporter": "python",
   "pygments_lexer": "ipython3",
   "version": "3.8.3"
  }
 },
 "nbformat": 4,
 "nbformat_minor": 5
}
