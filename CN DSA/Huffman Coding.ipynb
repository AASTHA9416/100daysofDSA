{
 "cells": [
  {
   "cell_type": "markdown",
   "id": "b0b4c7f3",
   "metadata": {},
   "source": [
    "# Huffman Coding"
   ]
  },
  {
   "cell_type": "code",
   "execution_count": 2,
   "id": "0285300e",
   "metadata": {},
   "outputs": [],
   "source": [
    "import heapq\n",
    "class BinaryTreeNode:\n",
    "    def __init__(self, value, freq):\n",
    "        self.value = value\n",
    "        self.freq = freq\n",
    "        self.left = None\n",
    "        self.right = None\n",
    "    \n",
    "    def __lt__(self, other):\n",
    "        return self.freq < other.freq\n",
    "    \n",
    "    def __eq__(self, other):\n",
    "        return self.freq == other.freq\n",
    "        \n",
    "class HuffmanCoding:\n",
    "    def __init__(self,path):\n",
    "        self.path = path\n",
    "        self.__heap = []\n",
    "        self.__codes = {}\n",
    "        \n",
    "    def __make_freq_dict(self, text):\n",
    "        freq_dict = {}\n",
    "        for char in text:\n",
    "            freq_dict[char] = freq_dict.get(char, 0) + 1\n",
    "        return freq_dict\n",
    "    \n",
    "    def __buildHeap(self, freq_dict):\n",
    "        for key in freq_dict:\n",
    "            freq = freq_dict[key]\n",
    "            binaryTreeNode = BinaryTreeNode(key, freq)\n",
    "            heapq.heappush(self.__heap, binaryTreeNode)\n",
    "            \n",
    "    def __makeBinaryTree(self):\n",
    "        while len(self.__heap > 1):\n",
    "            min1 = heapq.heappop(self.__heap)\n",
    "            min2 = heapq.heappop(self.__heap)\n",
    "            freq_sum = min1.freq + min2.freq\n",
    "            \n",
    "            binTreeNode = BinaryTreeNode(None , freq_sum)\n",
    "            binTreeNode.left = min1\n",
    "            binTreeNode.right = min2\n",
    "            heapq.heappush(self.__heap, binTreeNode)\n",
    "        return\n",
    "    \n",
    "    \n",
    "    def __constructCodesHelp(self, root, curr_bits):\n",
    "        if root is None:\n",
    "            return\n",
    "        if root.value is not None:\n",
    "            self.__codes[root.value] = curr_bits\n",
    "            return\n",
    "        self.__constructCodesHelp(root.left, curr_bits + \"0\")\n",
    "        self.__constructCodesHelp(root.right, curr_bits + \"0\")\n",
    "    \n",
    "    def __constructCodes(self):\n",
    "        root = heapq.heappop(self.__heap)\n",
    "        self.__constructCodesHelp(root, \"\")\n",
    "        \n",
    "    def __encodeText(self, text):\n",
    "        encoded_text = \"\"\n",
    "        for char in text:\n",
    "            encoded_text += self.__codes[char]\n",
    "        return encoded_text\n",
    "    \n",
    "        \n",
    "        \n",
    "        \n",
    "    \n",
    "    def compress(self):\n",
    "        # get file from path \n",
    "        with open(self.path, r) as f:\n",
    "            text = f.read()\n",
    "        # read text from file\n",
    "        \n",
    "        # make frequency dictionay using the text\n",
    "        freq_dict = self.__make_freq_dict(text)\n",
    "        \n",
    "        \n",
    "        # construct the heap from the freq dictionary\n",
    "        self.__buildHeap(freq_dict)\n",
    "        \n",
    "        # construct the binary tree from the heap\n",
    "        self.__makeBinaryTree()\n",
    "        \n",
    "        \n",
    "        # Construct the codes from the binary tree\n",
    "        self.__constructCodes()\n",
    "        \n",
    "        # Create the encoded text\n",
    "        \n",
    "        encoded_text = self.__encodeText(text)\n",
    "        \n",
    "        # Put the encoded text into the binary file \n",
    "        \n",
    "        \n",
    "        # return the binary file as output\n",
    "        \n",
    "        pass\n",
    "    \n",
    "    def decompress(self):\n",
    "        pass"
   ]
  },
  {
   "cell_type": "code",
   "execution_count": 8,
   "id": "e704c307",
   "metadata": {},
   "outputs": [],
   "source": [
    "t = \"abcabcdef\"\n",
    "f = {}\n",
    "for i in t:\n",
    "    f[i] = f.get(i, 0) + 1"
   ]
  },
  {
   "cell_type": "code",
   "execution_count": 9,
   "id": "747d9a9c",
   "metadata": {},
   "outputs": [
    {
     "data": {
      "text/plain": [
       "{'a': 2, 'b': 2, 'c': 2, 'd': 1, 'e': 1, 'f': 1}"
      ]
     },
     "execution_count": 9,
     "metadata": {},
     "output_type": "execute_result"
    }
   ],
   "source": [
    "f"
   ]
  },
  {
   "cell_type": "code",
   "execution_count": null,
   "id": "484a69b8",
   "metadata": {},
   "outputs": [],
   "source": []
  }
 ],
 "metadata": {
  "kernelspec": {
   "display_name": "Python 3 (ipykernel)",
   "language": "python",
   "name": "python3"
  },
  "language_info": {
   "codemirror_mode": {
    "name": "ipython",
    "version": 3
   },
   "file_extension": ".py",
   "mimetype": "text/x-python",
   "name": "python",
   "nbconvert_exporter": "python",
   "pygments_lexer": "ipython3",
   "version": "3.8.3"
  }
 },
 "nbformat": 4,
 "nbformat_minor": 5
}
