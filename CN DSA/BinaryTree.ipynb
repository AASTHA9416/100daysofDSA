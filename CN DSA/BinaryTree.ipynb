{
 "cells": [
  {
   "attachments": {
    "image.png": {
     "image/png": "[encoded data removed]"
    }
   },
   "cell_type": "markdown",
   "id": "b07a799d",
   "metadata": {},
   "source": [
    "# Binary Tree\n",
    "![image.png](attachment:image.png)\n",
    "\n",
    "**A Binary Tree is a tree like structure. Each Node can have maximum 2 child nodes. Any general node of a binary tree should have data, left and right**"
   ]
  },
  {
   "cell_type": "code",
   "execution_count": 1,
   "id": "3c8afc9a",
   "metadata": {},
   "outputs": [],
   "source": [
    "class BinaryTreeNode:\n",
    "    def __init__(self,data):\n",
    "        self.data = data\n",
    "        self.left = None\n",
    "        self.right = None"
   ]
  },
  {
   "cell_type": "markdown",
   "id": "18e4726d",
   "metadata": {},
   "source": [
    "## Print a Binary Tree"
   ]
  },
  {
   "cell_type": "code",
   "execution_count": 2,
   "id": "15f983d9",
   "metadata": {},
   "outputs": [],
   "source": [
    "def printTree(root):\n",
    "    if root == None:\n",
    "        return\n",
    "    print(root.data)\n",
    "    printTree(root.left)\n",
    "    printTree(root.right)"
   ]
  },
  {
   "cell_type": "code",
   "execution_count": 3,
   "id": "7e682199",
   "metadata": {},
   "outputs": [],
   "source": [
    "def printTreeDetailed(root):\n",
    "    if root == None:\n",
    "        return\n",
    "    print(root.data, end = \" : \")\n",
    "    if root.left != None:\n",
    "        print( \"L\", root.left.data , end = \", \")\n",
    "    if root.right != None:\n",
    "        print(\"R\", root.right.data, end = \" \")\n",
    "    print(\"\")\n",
    "    printTreeDetailed(root.left)\n",
    "    printTreeDetailed(root.right)"
   ]
  },
  {
   "cell_type": "markdown",
   "id": "df46fadf",
   "metadata": {},
   "source": [
    "## Binary Tree by User Input"
   ]
  },
  {
   "cell_type": "code",
   "execution_count": 4,
   "id": "2392310a",
   "metadata": {},
   "outputs": [],
   "source": [
    "def treeInput():\n",
    "    rootData = int(input())\n",
    "    if rootData == -1:\n",
    "        return None\n",
    "    root = BinaryTreeNode(rootData)\n",
    "    leftTree = treeInput()\n",
    "    rightTree = treeInput()\n",
    "    \n",
    "    root.left = leftTree\n",
    "    root.right = rightTree\n",
    "    \n",
    "    return root"
   ]
  },
  {
   "cell_type": "markdown",
   "id": "a8be7c70",
   "metadata": {},
   "source": [
    "## Number of Nodes in a Binary Tree"
   ]
  },
  {
   "cell_type": "code",
   "execution_count": 5,
   "id": "f5b02b66",
   "metadata": {},
   "outputs": [],
   "source": [
    "def numNodes(root):\n",
    "    if root == None:\n",
    "        return 0\n",
    "    total = 1 + numNodes(root.left) + numNodes(root.right)\n",
    "    return total"
   ]
  },
  {
   "cell_type": "markdown",
   "id": "30c743ec",
   "metadata": {},
   "source": [
    "## Sum of Nodes"
   ]
  },
  {
   "cell_type": "code",
   "execution_count": 6,
   "id": "fb511a82",
   "metadata": {},
   "outputs": [],
   "source": [
    "def sumNodes(root):\n",
    "    if root == None:\n",
    "        return 0\n",
    "    leftSum = sumNodes(root.left)\n",
    "    rightSum = sumNodes(root.right)\n",
    "    \n",
    "    return root.data + leftSum + rightSum"
   ]
  },
  {
   "cell_type": "markdown",
   "id": "f9a1e58d",
   "metadata": {},
   "source": [
    "## Pre-Order Traversal"
   ]
  },
  {
   "cell_type": "code",
   "execution_count": 7,
   "id": "e2bf16a4",
   "metadata": {},
   "outputs": [],
   "source": [
    "def preOrder(root):\n",
    "    if root == None:\n",
    "        return\n",
    "    print(root.data)\n",
    "    preOrder(root.left)\n",
    "    preOrder(root.right)\n",
    "    \n",
    "             "
   ]
  },
  {
   "cell_type": "markdown",
   "id": "4e190283",
   "metadata": {},
   "source": [
    "## Post-Order Traversal"
   ]
  },
  {
   "cell_type": "code",
   "execution_count": 8,
   "id": "33e9b8b5",
   "metadata": {},
   "outputs": [],
   "source": [
    "def postOrder(root):\n",
    "    if root == None:\n",
    "        return\n",
    "    postOrder(root.left)\n",
    "    postOrder(root.right)\n",
    "    print(root.data)"
   ]
  },
  {
   "cell_type": "markdown",
   "id": "796a171a",
   "metadata": {},
   "source": [
    "## In-Order Traversal"
   ]
  },
  {
   "cell_type": "code",
   "execution_count": 9,
   "id": "ca121d99",
   "metadata": {},
   "outputs": [],
   "source": [
    "def inOrder(root):\n",
    "    if root == None:\n",
    "        return\n",
    "    inOrder(root.left)\n",
    "    print(root.data)\n",
    "    inOrder(root.right)"
   ]
  },
  {
   "cell_type": "markdown",
   "id": "de3a85b8",
   "metadata": {},
   "source": [
    "## Node with Largest Data"
   ]
  },
  {
   "cell_type": "code",
   "execution_count": 10,
   "id": "54e360e4",
   "metadata": {},
   "outputs": [],
   "source": [
    "def largestData(root):\n",
    "    if root == None:\n",
    "        return -1\n",
    "    largestLeft = largestData(root.left)\n",
    "    largestRight = largestData(root.right)\n",
    "    return max(root.data, largestLeft, largestRight)"
   ]
  },
  {
   "cell_type": "markdown",
   "id": "710be1b9",
   "metadata": {},
   "source": [
    "## Nodes greater than X\n",
    "\n",
    "**For a given a binary tree of integers and an integer X, find and return the total number of nodes of the given binary tree which are having data greater than X.**\n",
    "\n",
    "### Solution:\n",
    "Base Case : If Node is None then return 0 bcoz that can not be greater than anything.\n",
    "\n",
    "Induction Hypothesis: Check for the the root node only and give the left and right subtrees to the recursion.\n",
    "\n",
    "Induction Step: If root is grater than the X, then add +1 else 0."
   ]
  },
  {
   "cell_type": "code",
   "execution_count": 11,
   "id": "6604eaa8",
   "metadata": {},
   "outputs": [],
   "source": [
    "def greaterThanX(root, x):\n",
    "    if root == None:\n",
    "        return 0\n",
    "    inLeft = greaterThanX(root.left,x)\n",
    "    inRight = greaterThanX(root.right,x)\n",
    "    \n",
    "    if root.data > x:\n",
    "        return 1 + inLeft + inRight\n",
    "    else:\n",
    "        return inLeft + inRight\n",
    "        "
   ]
  },
  {
   "cell_type": "markdown",
   "id": "7b42a20d",
   "metadata": {},
   "source": [
    "## Height of a Tree\n",
    "\n",
    "Print the number of levels of a tree, if tree is None, its height is 0."
   ]
  },
  {
   "cell_type": "code",
   "execution_count": 12,
   "id": "52b21910",
   "metadata": {},
   "outputs": [],
   "source": [
    "def heightofTree(root):\n",
    "    if root == None:\n",
    "        return 0\n",
    "    \n",
    "    left_height = heightofTree(root.left)\n",
    "    right_height = heightofTree(root.right)\n",
    "    \n",
    "    return 1 + max(left_height, right_height)"
   ]
  },
  {
   "cell_type": "markdown",
   "id": "54569143",
   "metadata": {},
   "source": [
    "## Number of Leaf Nodes in a Tree"
   ]
  },
  {
   "cell_type": "code",
   "execution_count": 13,
   "id": "55d6c46c",
   "metadata": {},
   "outputs": [],
   "source": [
    "def countLeaves(root):\n",
    "    if root == None:\n",
    "        return 0\n",
    "    \n",
    "    if root.left == None and root.right == None:\n",
    "        return 1\n",
    "    leafsLeft = countLeaves(root.left)\n",
    "    leafsRight = countLeaves(root.right)\n",
    "    \n",
    "    return leafsLeft + leafsRight"
   ]
  },
  {
   "cell_type": "code",
   "execution_count": 14,
   "id": "838289fc",
   "metadata": {},
   "outputs": [],
   "source": [
    "def countLeaves1(root):\n",
    "    if root == None:\n",
    "        return 0\n",
    "    leafsLeft = countLeaves1(root.left)\n",
    "    leafsRight = countLeaves1(root.right)\n",
    "    \n",
    "    if root.left == None and root.right == None:\n",
    "        return 1+ leafsLeft + leafsRight\n",
    "    else:\n",
    "        return leafsLeft + leafsRight"
   ]
  },
  {
   "cell_type": "markdown",
   "id": "e05970bc",
   "metadata": {},
   "source": [
    "## Print Nodes of tree at depth K"
   ]
  },
  {
   "cell_type": "code",
   "execution_count": 15,
   "id": "b596b2f9",
   "metadata": {},
   "outputs": [],
   "source": [
    "def printatK(root,k):\n",
    "    if root == None:\n",
    "        return\n",
    "    if k == 0:\n",
    "        print(root.data)\n",
    "    printatK(root.left, k-1)\n",
    "    printatK(root.right, k-1)"
   ]
  },
  {
   "cell_type": "code",
   "execution_count": 16,
   "id": "cbb36941",
   "metadata": {},
   "outputs": [],
   "source": [
    "## another version of code where we will not change k\n",
    "\n",
    "def printatK1(root, k, d = 0):\n",
    "    if root == None:\n",
    "        return\n",
    "    if d == k:\n",
    "        print(root.data)\n",
    "    printatK1(root.left, k, d+1)\n",
    "    printatK1(root.right, k, d+1)"
   ]
  },
  {
   "cell_type": "markdown",
   "id": "89f6c605",
   "metadata": {},
   "source": [
    "## Replace the Node data with Depth of Node"
   ]
  },
  {
   "cell_type": "code",
   "execution_count": 17,
   "id": "b9e34d49",
   "metadata": {},
   "outputs": [],
   "source": [
    "def replacewithDepth(root, d=0):\n",
    "    if root == None:\n",
    "        return \n",
    "    root.data = d\n",
    "    replacewithDepth(root.left, d+1)\n",
    "    replacewithDepth(root.right, d+1)"
   ]
  },
  {
   "cell_type": "markdown",
   "id": "ad882079",
   "metadata": {},
   "source": [
    "## Find if the Node is present with the given data in the Tree or Not."
   ]
  },
  {
   "cell_type": "code",
   "execution_count": 18,
   "id": "31c9063f",
   "metadata": {},
   "outputs": [],
   "source": [
    "def isPresent(root, x):\n",
    "    if root == None:\n",
    "        return False\n",
    "    if root.data == x:\n",
    "        return True\n",
    "    return isPresent(root.left, x) or isPresent(root.right, x)\n",
    "    "
   ]
  },
  {
   "cell_type": "markdown",
   "id": "b765c0da",
   "metadata": {},
   "source": [
    "## Nodes without Siblings"
   ]
  },
  {
   "cell_type": "code",
   "execution_count": 19,
   "id": "4c24bec9",
   "metadata": {},
   "outputs": [],
   "source": [
    "def node_without_sibling(root):\n",
    "    if root == None:\n",
    "        return\n",
    "    if root.left == None and root.right != None:\n",
    "        print(root.right.data)\n",
    "    if root.right == None and root.left != None:\n",
    "        print(root.left.data)\n",
    "        \n",
    "    node_without_sibling(root.left)\n",
    "    node_without_sibling(root.right)"
   ]
  },
  {
   "cell_type": "markdown",
   "id": "da1794dd",
   "metadata": {},
   "source": [
    "## Remove Leaf Nodes of a Binary Tree"
   ]
  },
  {
   "cell_type": "code",
   "execution_count": 20,
   "id": "8e112431",
   "metadata": {},
   "outputs": [],
   "source": [
    "def removeLeaves(root):\n",
    "    if root == None:\n",
    "        return None\n",
    "    if root.left == None and root.right == None:\n",
    "        return None\n",
    "    root.left = removeLeaves(root.left)\n",
    "    root.right = removeLeaves(root.right)\n",
    "    return root"
   ]
  },
  {
   "cell_type": "markdown",
   "id": "e41859ee",
   "metadata": {},
   "source": [
    "## Mirror Binary Tree"
   ]
  },
  {
   "cell_type": "code",
   "execution_count": 21,
   "id": "843a8246",
   "metadata": {},
   "outputs": [],
   "source": [
    "def mirrorTree(root):\n",
    "    if root == None:\n",
    "        return\n",
    "    root.left, root.right = root.right, root.left\n",
    "    mirrorTree(root.left)\n",
    "    mirrorTree(root.right)"
   ]
  },
  {
   "cell_type": "markdown",
   "id": "68cc5b6b",
   "metadata": {},
   "source": [
    "## Check if BT is Balanced or not O(n^2)"
   ]
  },
  {
   "cell_type": "code",
   "execution_count": 22,
   "id": "d326a475",
   "metadata": {},
   "outputs": [],
   "source": [
    "def isBalanced(root):\n",
    "    if root == None:\n",
    "        return True\n",
    "    lh = heightofTree(root.left)\n",
    "    rh = heightofTree(root.right)\n",
    "    if abs(lh-rh) > 1:\n",
    "        return False\n",
    "    left = isBalanced(root.left)\n",
    "    right = isBalanced(root.right)\n",
    "    \n",
    "    if left and right:\n",
    "        return True\n",
    "    else:\n",
    "        return False\n",
    "\n",
    "    "
   ]
  },
  {
   "cell_type": "markdown",
   "id": "95fd2505",
   "metadata": {},
   "source": [
    "## Optimised check Balance O(n)\n",
    "\n",
    "**Dont calculate the height for each node separately, just check the height and isBalanced at the same time**"
   ]
  },
  {
   "cell_type": "code",
   "execution_count": 23,
   "id": "b3364095",
   "metadata": {},
   "outputs": [],
   "source": [
    "def heightandBalanced(root):\n",
    "    if root == None:\n",
    "        return 0, None\n",
    "    lh, isleftBalanced = heightandBalanced(root.left)\n",
    "    rh, isrightBalanced = heightandBalanced(root.right)\n",
    "    \n",
    "    h = 1 + max(lh, rh)\n",
    "    if abs(lh-rh) > 1:\n",
    "        return h, False\n",
    "    if isleftBalanced and isrightBalanced:\n",
    "        return True\n",
    "    else:\n",
    "        return h, False"
   ]
  },
  {
   "cell_type": "code",
   "execution_count": 24,
   "id": "52398eef",
   "metadata": {},
   "outputs": [],
   "source": [
    "def isBalanced2(root):\n",
    "    h, isrootBalanced = heightandBalanced(root)\n",
    "    return isrootBalanced"
   ]
  },
  {
   "cell_type": "markdown",
   "id": "8d17cbd5",
   "metadata": {},
   "source": [
    "## Diameter of Binary Tree"
   ]
  },
  {
   "cell_type": "code",
   "execution_count": 25,
   "id": "f59a49bf",
   "metadata": {},
   "outputs": [],
   "source": [
    "def diameter(root):\n",
    "    if root == None:\n",
    "        return 0\n",
    "    \n",
    "    lH = heightofTree(root.left)\n",
    "    rH = heightofTree(root.right)\n",
    "    \n",
    "    return max(lH+rH, diameter(root.left), diameter(root.right))"
   ]
  },
  {
   "cell_type": "markdown",
   "id": "5e020635",
   "metadata": {},
   "source": [
    "## Optimised Solution for the Diameter of a Binary Tree"
   ]
  },
  {
   "cell_type": "code",
   "execution_count": 26,
   "id": "17cfc594",
   "metadata": {},
   "outputs": [],
   "source": [
    "def heightDiameter(root):\n",
    "    if root == None:\n",
    "        return 0,0\n",
    "    \n",
    "    lD, lH = heightDiameter(root.left)\n",
    "    rD, rH = heightDiameter(root.right)\n",
    "    \n",
    "    return max(lH+rH, lD, rD), 1+ max(lH, rH)\n",
    "# return max(lH+rH+1, lD, rD), 1+ max(lH, rH)  :-> GFG condition\n",
    "\n",
    "def findDiameter(root):\n",
    "    return heightDiameter(root)[0]"
   ]
  },
  {
   "cell_type": "markdown",
   "id": "1ace34da",
   "metadata": {},
   "source": [
    "## Levelwise input of a Binary Tree"
   ]
  },
  {
   "cell_type": "code",
   "execution_count": 27,
   "id": "59637eef",
   "metadata": {},
   "outputs": [],
   "source": [
    "import queue\n",
    "\n",
    "def levelwiseinput():\n",
    "    q = queue.Queue()\n",
    "    rootData = int(input(\"Enter the root Data\"))\n",
    "    \n",
    "    if rootData == -1:\n",
    "        return None\n",
    "    root = BinaryTreeNode(rootData)\n",
    "    q.put(root)\n",
    "    \n",
    "    while not q.empty():\n",
    "        current_node = q.get()\n",
    "        \n",
    "        print(\"Enter left child of \", current_node.data)\n",
    "        leftChildData = int(input())\n",
    "        if leftChildData != -1:\n",
    "            leftChild = BinaryTreeNode(leftChildData)\n",
    "            current_node.left = leftChild\n",
    "            q.put(leftChild)\n",
    "            \n",
    "        print(\"Enter the right Child of \", current_node.data)\n",
    "        rightChildData = int(input())\n",
    "        if rightChildData != -1:\n",
    "            rightChild = BinaryTreeNode(rightChildData)\n",
    "            current_node.right = rightChild\n",
    "            q.put(rightChild)\n",
    "        \n",
    "    return root"
   ]
  },
  {
   "cell_type": "markdown",
   "id": "daa737f5",
   "metadata": {},
   "source": [
    "## Print tree levelwise"
   ]
  },
  {
   "cell_type": "code",
   "execution_count": 28,
   "id": "12c7658b",
   "metadata": {},
   "outputs": [],
   "source": [
    "import queue\n",
    "def printLevelWise(root):\n",
    "    q = queue.Queue()\n",
    "    if root != None:\n",
    "        q.put(root)\n",
    "    while not q.empty():\n",
    "        a = q.get()\n",
    "        print(a.data, end=\" : \")\n",
    "        if a.left != None:\n",
    "            print(\"L\", a.left.data, end = \" , \")\n",
    "            q.put(a.left)\n",
    "        else:\n",
    "            print(\"L -1\", end = \" , \")\n",
    "        if a.right != None:\n",
    "            print(\"R\", a.right.data, end = \" \")\n",
    "            print(\" \")\n",
    "            q.put(a.right)\n",
    "        else:\n",
    "            print(\"R -1\",end = \" \")\n",
    "            print(\" \")\n",
    "        "
   ]
  },
  {
   "cell_type": "markdown",
   "id": "f3eeec4e",
   "metadata": {},
   "source": [
    "## Make a tree from inorder and preorder sequence."
   ]
  },
  {
   "cell_type": "code",
   "execution_count": 29,
   "id": "733b45cd",
   "metadata": {},
   "outputs": [],
   "source": [
    "def makeTreePreIn(pre, inorder):\n",
    "    if len(pre) == 0:\n",
    "        return None\n",
    "    \n",
    "    rootData = pre[0]\n",
    "    root = BinaryTreeNode(rootData)\n",
    "    \n",
    "    rootIndexInorder = -1\n",
    "    for i in range(0, len(inorder)):\n",
    "        if inorder[i] == rootData:\n",
    "            rootIndexInorder = i\n",
    "            break\n",
    "    if rootIndexInorder == -1:\n",
    "        return None\n",
    "    \n",
    "    leftInorder = inorder[0:rootIndexInorder]\n",
    "    rightInorder = inorder[rootIndexInorder+1 :]\n",
    "    \n",
    "    lenLeft = len(leftInorder)\n",
    "    leftPreorder = pre[1:lenLeft + 1]\n",
    "    rightPreorder = pre[lenLeft+1 :]\n",
    "    \n",
    "    ## use recursion\n",
    "    \n",
    "    leftChild = makeTreePreIn(leftPreorder, leftInorder)\n",
    "    rightChild = makeTreePreIn(rightPreorder, rightInorder)\n",
    "    \n",
    "    root.left = leftChild\n",
    "    root.right = rightChild\n",
    "    \n",
    "    return root\n",
    "    "
   ]
  },
  {
   "attachments": {
    "image-2.png": {
     "image/png": "[encoded data removed]"
    },
    "image.png": {
     "image/png": "[encoded data removed]"
    }
   },
   "cell_type": "markdown",
   "id": "5ea6bea9",
   "metadata": {},
   "source": [
    "## Create and Insert Duplicate Node\n",
    "\n",
    "For a given a Binary Tree of type integer, duplicate every node of the tree and attach it to the left of itself.\n",
    "The root will remain the same. So you just need to insert nodes in the given Binary Tree.\n",
    "Example:\n",
    "\n",
    "![image.png](attachment:image.png)\n",
    "\n",
    "After making the changes to the above-depicted tree, the updated tree will look like this.\n",
    "\n",
    "![image-2.png](attachment:image-2.png)\n",
    "\n",
    "You can see that every node in the input tree has been duplicated and inserted to the left of itself."
   ]
  },
  {
   "cell_type": "code",
   "execution_count": 30,
   "id": "1b9bbddd",
   "metadata": {},
   "outputs": [],
   "source": [
    "def duplicateNode(root):\n",
    "    if root == None:\n",
    "        return None\n",
    "    \n",
    "    duplicateNode(root.left)\n",
    "    duplicateNode(root.right)\n",
    "    \n",
    "    duplicate = BinaryTreeNode(root.data)\n",
    "    temp = root.left\n",
    "    root.left = duplicate\n",
    "    duplicate.left = temp\n",
    "    \n",
    "    return root"
   ]
  },
  {
   "cell_type": "markdown",
   "id": "e34ce1d4",
   "metadata": {},
   "source": [
    "## Min and Max of Binary Tree"
   ]
  },
  {
   "cell_type": "code",
   "execution_count": 31,
   "id": "c6276c95",
   "metadata": {},
   "outputs": [],
   "source": [
    "def minMax(root):\n",
    "    if root == None:\n",
    "        return -1, 10**5\n",
    "    leftMax, leftMin = minMax(root.left)\n",
    "    rightMax, rightMin = minMax(root.right)\n",
    "    \n",
    "    return max(root.data, leftMax, rightMax) , min(root.data, leftMin, rightMin)\n",
    "    "
   ]
  },
  {
   "cell_type": "markdown",
   "id": "48a66e33",
   "metadata": {},
   "source": [
    "## Level Order Traversal"
   ]
  },
  {
   "cell_type": "code",
   "execution_count": 32,
   "id": "ce07f737",
   "metadata": {},
   "outputs": [],
   "source": [
    "import queue\n",
    "def levelTraverse(root):\n",
    "    q = queue.Queue()\n",
    "    if root != None:\n",
    "        q.put(root)\n",
    "        q.put(None)\n",
    "        print(root.data)\n",
    "    \n",
    "    while not q.empty():\n",
    "        current = q.get()\n",
    "        if current != None:\n",
    "            if current.left != None:\n",
    "                print(current.left.data, end = \" \")\n",
    "                q.put(current.left)\n",
    "            if current.right != None:\n",
    "                print(current.right.data, end = \" \")\n",
    "                q.put(current.right)\n",
    "#                 q.put(None)\n",
    "        else:\n",
    "            print(\" \")\n",
    "            if not q.empty():\n",
    "                q.put(None)\n",
    "        \n",
    "        "
   ]
  },
  {
   "cell_type": "markdown",
   "id": "517cc59e",
   "metadata": {},
   "source": [
    "## Path Sum root to Leaf\n",
    "\n",
    "print all the root to leaf paths in the Binary Tree , such that the sum of the nodes in that path is equal to the given sum k"
   ]
  },
  {
   "cell_type": "code",
   "execution_count": 33,
   "id": "b3cff9e2",
   "metadata": {},
   "outputs": [],
   "source": [
    "def pathsum(root, sum, path):\n",
    "    if root == None:\n",
    "        return None\n",
    "    rootData = root.data\n",
    "    path.append(rootData)\n",
    "    if sum == rootData and root.left == None and root.right == None:\n",
    "        print(*path)\n",
    "    if root.left != None:\n",
    "        pathsum(root.left, sum-rootData, path)\n",
    "    if root.right != None:\n",
    "        pathsum(root.right, sum-rootData, path)\n",
    "    path.pop(-1)\n",
    "    \n"
   ]
  },
  {
   "cell_type": "markdown",
   "id": "df1fd3ed",
   "metadata": {},
   "source": [
    "## Print Nodes at Distance k from Node"
   ]
  },
  {
   "cell_type": "code",
   "execution_count": 34,
   "id": "8512bf2b",
   "metadata": {},
   "outputs": [],
   "source": [
    "def printNodeK(root,node,k):\n",
    "    if root == None:\n",
    "        return -1\n",
    "    if root.data == node:\n",
    "        printatK(root, k)\n",
    "        return 0\n",
    "    lD = printNodeK(root.left, node, k)\n",
    "    if lD != -1:\n",
    "        if lD +1 == k:\n",
    "            print(root.data)\n",
    "        else:\n",
    "            printatK(root.right, k-lD-2)\n",
    "        return 1 + lD\n",
    "    \n",
    "    rD = printNodeK(root.right, node, k)\n",
    "    if rD != -1:\n",
    "        if rD + 1 == k:\n",
    "            print(root.data)\n",
    "        else:\n",
    "            printatK(root.left, k-rD-2)\n",
    "        return 1+rD\n",
    "    return -1"
   ]
  },
  {
   "cell_type": "markdown",
   "id": "e3956498",
   "metadata": {},
   "source": [
    "## Binary Search Tree\n",
    "\n",
    "**The trees in which searching something is very fast, analogy is binary search of array. we need sorted trees in this case. Only sorted trees can be used for this.**\n",
    "\n",
    "### Condition for Sorted Trees\n",
    "\n",
    "**For each node with data d, its left subtree < d and its right subtree >= d.**"
   ]
  },
  {
   "cell_type": "markdown",
   "id": "0214a7c2",
   "metadata": {},
   "source": [
    "## Serach for x in a given Binary Search Tree"
   ]
  },
  {
   "cell_type": "code",
   "execution_count": 35,
   "id": "53660d56",
   "metadata": {},
   "outputs": [],
   "source": [
    "def searchBST(root, x):\n",
    "    if root == None:\n",
    "        return False\n",
    "    if root.data == x:\n",
    "        return True\n",
    "    elif root.data > x:\n",
    "        return searchBST(root.left, x)\n",
    "    else: \n",
    "        return searchBST(root.right, x)"
   ]
  },
  {
   "cell_type": "markdown",
   "id": "6e1ccd9a",
   "metadata": {},
   "source": [
    "## Print elements in a BST which are in range k1 and k2"
   ]
  },
  {
   "cell_type": "code",
   "execution_count": 36,
   "id": "542662e1",
   "metadata": {},
   "outputs": [],
   "source": [
    "def printbwRange(root, k1, k2):\n",
    "    if root == None:\n",
    "        return None\n",
    "    if root.data < k1:\n",
    "        printbwRange(root.right, k1, k2)\n",
    "    elif root.data > k2:\n",
    "        printbwRange(root.left, k1, k2)\n",
    "    else:\n",
    "        print(root.data)\n",
    "        printbwRange(root.left, k1, k2)\n",
    "        printbwRange(root.right, k1, k2)\n",
    "    "
   ]
  },
  {
   "cell_type": "markdown",
   "id": "54845629",
   "metadata": {},
   "source": [
    "## Convert Sorted Array to Binary Search Tree"
   ]
  },
  {
   "cell_type": "code",
   "execution_count": 37,
   "id": "b0a233f8",
   "metadata": {},
   "outputs": [],
   "source": [
    "import math\n",
    "def convertArrayBSTHelp(arr , si, ei):\n",
    "    if si > ei:\n",
    "        return None\n",
    "    mid = math.ceil((si+ei)/2)\n",
    "    node = BinaryTreeNode(arr[mid])\n",
    "    leftChild = convertArrayBSTHelp(arr, si, mid-1)\n",
    "    rightChild = convertArrayBSTHelp(arr, mid+1, ei)\n",
    "    \n",
    "    node.left = leftChild\n",
    "    node.right = rightChild\n",
    "    \n",
    "    return node\n",
    "\n",
    "def convertArrayBST(arr):\n",
    "    si = 0\n",
    "    ei = len(arr) -1\n",
    "    return convertArrayBSTHelp(arr, si, ei)\n",
    "    "
   ]
  },
  {
   "cell_type": "markdown",
   "id": "d7dff8d3",
   "metadata": {},
   "source": [
    "## Check if the given Binary Tree is a Binary Search Tree or Not"
   ]
  },
  {
   "cell_type": "code",
   "execution_count": 38,
   "id": "c3b9fee3",
   "metadata": {},
   "outputs": [],
   "source": [
    "def minTree(root):\n",
    "    if root == None:\n",
    "        return 10**6\n",
    "    return min(root.data, minTree(root.left), minTree(root.right))"
   ]
  },
  {
   "cell_type": "code",
   "execution_count": 39,
   "id": "95606d5a",
   "metadata": {},
   "outputs": [],
   "source": [
    "def maxTree(root):\n",
    "    if root == None:\n",
    "        return -1\n",
    "    return max(root.data, maxTree(root.left), maxTree(root.rigth))"
   ]
  },
  {
   "cell_type": "code",
   "execution_count": 40,
   "id": "9a8a97cf",
   "metadata": {},
   "outputs": [],
   "source": [
    "def checkBST(root):\n",
    "    if root == None:\n",
    "        return True\n",
    "    leftMax = maxTree(root.left)\n",
    "    rightMin = minTree(root.right)\n",
    "    \n",
    "    if root.data > rightMin or root.data <= leftMax:\n",
    "        return False\n",
    "    return checkBST(root.left) and checkBST(root.right)\n",
    "    "
   ]
  },
  {
   "cell_type": "markdown",
   "id": "d2be91ce",
   "metadata": {},
   "source": [
    "## Optimised Solution to check the BST complexity of O(n)"
   ]
  },
  {
   "cell_type": "code",
   "execution_count": 41,
   "id": "b6222631",
   "metadata": {},
   "outputs": [],
   "source": [
    "def isBSTHelp(root):\n",
    "    if root == None:\n",
    "        return -1, 10**6, True\n",
    "    maxLeft, minLeft, isLeft = isBSTHelp(root.left)\n",
    "    maxRight, minRight, isRight = isBSTHelp(root.right)\n",
    "    if root.data > minRight or root.data <= maxLeft:\n",
    "        return -1, -1, False\n",
    "    return (max(root.data, maxLeft, maxRight), min(root.data, minLeft, minRight), (isLeft and isRight))\n",
    "\n",
    "def isBST(root):\n",
    "    return isBSTHelp(root)[2]\n",
    "    "
   ]
  },
  {
   "cell_type": "markdown",
   "id": "6df02adc",
   "metadata": {},
   "source": [
    "## Another Solution to check BST"
   ]
  },
  {
   "cell_type": "code",
   "execution_count": 42,
   "id": "daf17d03",
   "metadata": {},
   "outputs": [],
   "source": [
    "def checkBSTNew(root, minRange, maxRange):\n",
    "    if root == None:\n",
    "        return True\n",
    "    if minRange > root.data or maxRange < root.data:\n",
    "        return False\n",
    "    isLeft = checkBSTNew(root.left, minRange, root.data-1)\n",
    "    isRight = checkBSTNew(root.rigth, rootData, maxRange)\n",
    "    \n",
    "    return isLeft and isRight"
   ]
  },
  {
   "cell_type": "markdown",
   "id": "962e5df7",
   "metadata": {},
   "source": [
    "## Root to Node Path in Binary Tree (not BST)\n",
    "\n",
    "given a Binary Tree and a integer , print the path from the root node to the node of that integer"
   ]
  },
  {
   "cell_type": "code",
   "execution_count": 76,
   "id": "b8fa3df7",
   "metadata": {},
   "outputs": [],
   "source": [
    "def rootNodePath(root, node, arr):\n",
    "    if root == None:\n",
    "        return None\n",
    "    if root.data == node:\n",
    "        arr.append(root.data)\n",
    "        return arr\n",
    "    left = rootNodePath(root.left, node, arr)\n",
    "    if left == None:\n",
    "        right = rootNodePath(root.right, node, arr)\n",
    "        if right == None:\n",
    "            return None\n",
    "        else:\n",
    "            right.append(root.data)\n",
    "    else:\n",
    "        left.append(root.data)\n",
    "    return arr\n",
    "        \n",
    "    \n",
    "    "
   ]
  },
  {
   "cell_type": "code",
   "execution_count": 89,
   "id": "3e49419e",
   "metadata": {},
   "outputs": [],
   "source": [
    "def rootToNode(root, node):\n",
    "    if root == None:\n",
    "        return None\n",
    "    if root.data == node:\n",
    "        return [root.data]\n",
    "    left = rootToNode(root.left, node)\n",
    "    if left != None:\n",
    "        left.append(root.data)\n",
    "        return left\n",
    "    right = rootToNode(root.right, node)\n",
    "    if right != None:\n",
    "        right.append(root.data)\n",
    "        return right\n",
    "    else:\n",
    "        return None"
   ]
  },
  {
   "cell_type": "markdown",
   "id": "b0cae978",
   "metadata": {},
   "source": [
    "## Structure of BST\n",
    "\n",
    "### Make a class BST for users so that they can use it.\n",
    "**User don't have to worry about the strucuture or placement of data , The internal structure will be maintained by the class itself.**\n",
    "\n",
    "#### Functions to implement for the class BST\n",
    "\n",
    "1. insert(data) --> append a data into the BST class instance\n",
    "\n",
    "2. isPresent(data)  --> check if a data is present in the BST or not\n",
    "\n",
    "3. delete(data) --> delete the given data from the BST class instance\n",
    "\n",
    "4. count() --> returns the total number of elements in the BST"
   ]
  },
  {
   "cell_type": "code",
   "execution_count": 100,
   "id": "25fdb2e4",
   "metadata": {},
   "outputs": [],
   "source": [
    "class BST:\n",
    "    \n",
    "    def __init__(self):\n",
    "        self.root = None\n",
    "        self.numNodes = 0\n",
    "        \n",
    "    def printBST(self):\n",
    "        def helper(root):\n",
    "            if root == None:\n",
    "                return\n",
    "            print(root.data, end = \" : \")\n",
    "            if root.left != None:\n",
    "                print( \"L\", root.left.data , end = \", \")\n",
    "            if root.right != None:\n",
    "                print(\"R\", root.right.data, end = \" \")\n",
    "            print(\"\")\n",
    "            printTreeDetailed(root.left)\n",
    "            printTreeDetailed(root.right)\n",
    "        helper(self.root)\n",
    "        return None\n",
    "\n",
    "    \n",
    "    def isPresent(self, data):\n",
    "        def helper(root, x):\n",
    "            if root == None:\n",
    "                return False\n",
    "            if root.data == x:\n",
    "                return True\n",
    "            if x < root.data:\n",
    "                return helper(root.left, x)\n",
    "            else:\n",
    "                return helper(root.right, x)\n",
    "        return helper(self.root, data)\n",
    "    \n",
    "    def insert(self, data):\n",
    "        def helper(root, newData):\n",
    "            if root == None:\n",
    "                newNode = BinaryTreeNode(newData)\n",
    "                return newNode\n",
    "            \n",
    "            if newData < root.data:\n",
    "                root.left = helper(root.left, data)\n",
    "                return root\n",
    "            else:\n",
    "                root.right = helper(root.right, data)\n",
    "                return root\n",
    "        self.numNodes += 1\n",
    "        self.root = helper(self.root, data)\n",
    "        \n",
    "    def minBST(self, root):\n",
    "        if root == None:\n",
    "            return 100000\n",
    "        if root.left == None:\n",
    "            return root.data\n",
    "        return self.minBST(root.left)\n",
    "    \n",
    "    def deleteData(self, data):\n",
    "        def helper(root, data):\n",
    "            if root == None:\n",
    "                return False, None\n",
    "            \n",
    "            if data < root.data:\n",
    "                isdeleted, newLeft = helper(root.left, data)\n",
    "                root.left = newLeft\n",
    "                return isdeleted, root\n",
    "            \n",
    "            if data > root.data:\n",
    "                isdeleted, newRight = helper(root.right, data)\n",
    "                root.right = newRight\n",
    "                return isdeleted, root\n",
    "\n",
    "            if root.left == None and root.right == None: ## root is a leaf node\n",
    "                return True, None\n",
    "            elif root.left == None:\n",
    "                return True, root.right\n",
    "            elif root.right == None:\n",
    "                return True, root.left\n",
    "            m = self.minBST(root.right)\n",
    "            root.data = m\n",
    "            deleted, newRightNode = helper(root.right, m)\n",
    "            root.right = newRightNode\n",
    "            return True, root\n",
    "        deleted, newRoot = helper(self.root, data)\n",
    "        if deleted:\n",
    "            self.numNodes -= 1\n",
    "        self.root = newRoot\n",
    "        return deleted\n",
    "\n",
    "    \n",
    "    def count(self):\n",
    "        return self.numNodes\n",
    "    \n"
   ]
  },
  {
   "cell_type": "code",
   "execution_count": 104,
   "id": "0af53483",
   "metadata": {},
   "outputs": [
    {
     "name": "stdout",
     "output_type": "stream",
     "text": [
      "10 : L 5, R 12 \n",
      "5 : \n",
      "12 : R 16 \n",
      "16 : R 18 \n",
      "18 : R 20 \n",
      "20 : \n",
      "None\n",
      "True\n",
      "False\n",
      "False\n",
      "True\n",
      "5\n",
      "12 : L 5, R 16 \n",
      "5 : \n",
      "16 : R 18 \n",
      "18 : R 20 \n",
      "20 : \n",
      "None\n",
      "True\n",
      "16 : L 5, R 18 \n",
      "5 : \n",
      "18 : R 20 \n",
      "20 : \n",
      "None\n"
     ]
    }
   ],
   "source": [
    "b= BST()\n",
    "b.insert(10)\n",
    "b.insert(5)\n",
    "b.insert(12)\n",
    "b.insert(16)\n",
    "b.insert(18)\n",
    "b.insert(20)\n",
    "\n",
    "print(b.printBST())\n",
    "\n",
    "\n",
    "print(b.isPresent(10))\n",
    "print(b.isPresent(7))\n",
    "\n",
    "print(b.deleteData(4))\n",
    "print(b.deleteData(10))\n",
    "print(b.count())\n",
    "\n",
    "print(b.printBST())\n",
    "\n",
    "print(b.deleteData(12))\n",
    "print(b.printBST())\n",
    "\n"
   ]
  },
  {
   "cell_type": "code",
   "execution_count": null,
   "id": "0d1648d3",
   "metadata": {},
   "outputs": [],
   "source": []
  },
  {
   "cell_type": "code",
   "execution_count": null,
   "id": "c4011561",
   "metadata": {},
   "outputs": [],
   "source": []
  },
  {
   "cell_type": "code",
   "execution_count": null,
   "id": "22cf33cb",
   "metadata": {},
   "outputs": [],
   "source": []
  },
  {
   "cell_type": "code",
   "execution_count": 44,
   "id": "ab1d9b7a",
   "metadata": {},
   "outputs": [
    {
     "name": "stdout",
     "output_type": "stream",
     "text": [
      "[1, 2, 3, 4, 5, 6, 7, 8, 9]\n"
     ]
    }
   ],
   "source": [
    "arr = [i for i in range(1,10)]\n",
    "print(arr)"
   ]
  },
  {
   "cell_type": "code",
   "execution_count": 45,
   "id": "e4e2b757",
   "metadata": {},
   "outputs": [],
   "source": [
    "node = convertArrayBST(arr)"
   ]
  },
  {
   "cell_type": "code",
   "execution_count": 46,
   "id": "c42fa672",
   "metadata": {},
   "outputs": [
    {
     "name": "stdout",
     "output_type": "stream",
     "text": [
      "5 : L 3, R 8 \n",
      "3 : L 2, R 4 \n",
      "2 : L 1, \n",
      "1 : \n",
      "4 : \n",
      "8 : L 7, R 9 \n",
      "7 : L 6, \n",
      "6 : \n",
      "9 : \n"
     ]
    }
   ],
   "source": [
    "printTreeDetailed(node)"
   ]
  },
  {
   "cell_type": "code",
   "execution_count": 120,
   "id": "0e44d42a",
   "metadata": {},
   "outputs": [
    {
     "name": "stdout",
     "output_type": "stream",
     "text": [
      "4\n",
      "2\n",
      "1\n",
      "3\n",
      "6\n",
      "5\n",
      "7\n"
     ]
    }
   ],
   "source": [
    "preOrder(node)"
   ]
  },
  {
   "cell_type": "code",
   "execution_count": null,
   "id": "999d9fac",
   "metadata": {},
   "outputs": [],
   "source": []
  },
  {
   "cell_type": "code",
   "execution_count": null,
   "id": "ac03231f",
   "metadata": {},
   "outputs": [],
   "source": []
  },
  {
   "cell_type": "code",
   "execution_count": null,
   "id": "f12f9603",
   "metadata": {},
   "outputs": [],
   "source": []
  },
  {
   "cell_type": "code",
   "execution_count": null,
   "id": "ab319174",
   "metadata": {},
   "outputs": [],
   "source": []
  },
  {
   "cell_type": "code",
   "execution_count": null,
   "id": "c1ee2ad8",
   "metadata": {},
   "outputs": [],
   "source": []
  },
  {
   "cell_type": "code",
   "execution_count": null,
   "id": "b2c923a3",
   "metadata": {},
   "outputs": [],
   "source": []
  },
  {
   "cell_type": "code",
   "execution_count": null,
   "id": "b65698ff",
   "metadata": {},
   "outputs": [],
   "source": []
  },
  {
   "cell_type": "code",
   "execution_count": null,
   "id": "a6a8ede6",
   "metadata": {},
   "outputs": [],
   "source": []
  },
  {
   "cell_type": "code",
   "execution_count": 70,
   "id": "25e01845",
   "metadata": {},
   "outputs": [
    {
     "name": "stdout",
     "output_type": "stream",
     "text": [
      "7\n",
      "4\n",
      "1\n"
     ]
    },
    {
     "data": {
      "text/plain": [
       "1"
      ]
     },
     "execution_count": 70,
     "metadata": {},
     "output_type": "execute_result"
    }
   ],
   "source": [
    "printNodeK(root, 5, 2)"
   ]
  },
  {
   "cell_type": "code",
   "execution_count": 73,
   "id": "15223987",
   "metadata": {},
   "outputs": [
    {
     "name": "stdout",
     "output_type": "stream",
     "text": [
      "4\n",
      "2\n",
      "3\n",
      "6\n"
     ]
    }
   ],
   "source": [
    "printbwRange(root, 2, 30)"
   ]
  },
  {
   "cell_type": "code",
   "execution_count": 53,
   "id": "44eca693",
   "metadata": {},
   "outputs": [
    {
     "name": "stdout",
     "output_type": "stream",
     "text": [
      "Enter the root Data4\n",
      "Enter left child of  4\n",
      "2\n",
      "Enter the right Child of  4\n",
      "6\n",
      "Enter left child of  2\n",
      "1\n",
      "Enter the right Child of  2\n",
      "10\n",
      "Enter left child of  6\n",
      "5\n",
      "Enter the right Child of  6\n",
      "7\n",
      "Enter left child of  1\n",
      "-1\n",
      "Enter the right Child of  1\n",
      "-1\n",
      "Enter left child of  10\n",
      "-1\n",
      "Enter the right Child of  10\n",
      "-1\n",
      "Enter left child of  5\n",
      "-1\n",
      "Enter the right Child of  5\n",
      "-1\n",
      "Enter left child of  7\n",
      "-1\n",
      "Enter the right Child of  7\n",
      "-1\n",
      "4 : L 2, R 6 \n",
      "2 : L 1, R 10 \n",
      "1 : \n",
      "10 : \n",
      "6 : L 5, R 7 \n",
      "5 : \n",
      "7 : \n"
     ]
    }
   ],
   "source": [
    "root = levelwiseinput()\n",
    "printTreeDetailed(root)"
   ]
  },
  {
   "cell_type": "code",
   "execution_count": 46,
   "id": "a6dd2425",
   "metadata": {},
   "outputs": [],
   "source": [
    "searchBST(root, 3)"
   ]
  },
  {
   "cell_type": "code",
   "execution_count": 163,
   "id": "358e9d10",
   "metadata": {},
   "outputs": [
    {
     "name": "stdout",
     "output_type": "stream",
     "text": [
      "4\n",
      "5\n",
      "6\n",
      "7\n"
     ]
    }
   ],
   "source": [
    "nodetoK(root, 1,2)"
   ]
  },
  {
   "cell_type": "code",
   "execution_count": null,
   "id": "8d980a71",
   "metadata": {},
   "outputs": [],
   "source": []
  },
  {
   "cell_type": "code",
   "execution_count": null,
   "id": "b25d6a89",
   "metadata": {},
   "outputs": [],
   "source": []
  },
  {
   "cell_type": "code",
   "execution_count": null,
   "id": "ca219621",
   "metadata": {},
   "outputs": [],
   "source": []
  },
  {
   "cell_type": "code",
   "execution_count": null,
   "id": "3b76224c",
   "metadata": {},
   "outputs": [],
   "source": [
    "root = treeInput()\n",
    "printTreeDetailed(root)"
   ]
  },
  {
   "cell_type": "markdown",
   "id": "257299a4",
   "metadata": {},
   "source": []
  },
  {
   "cell_type": "code",
   "execution_count": 31,
   "id": "6387daad",
   "metadata": {},
   "outputs": [
    {
     "name": "stdout",
     "output_type": "stream",
     "text": [
      "Enter the root Data1\n",
      "Enter left child of  1\n",
      "2\n",
      "Enter the right Child of  1\n",
      "3\n",
      "Enter left child of  2\n",
      "-1\n",
      "Enter the right Child of  2\n",
      "-1\n",
      "Enter left child of  3\n",
      "-1\n",
      "Enter the right Child of  3\n",
      "-1\n",
      "1 : L 2, R 3 \n",
      "2 : \n",
      "3 : \n"
     ]
    }
   ],
   "source": [
    "root = levelwiseinput()\n",
    "printTreeDetailed(root)"
   ]
  },
  {
   "cell_type": "code",
   "execution_count": null,
   "id": "68da4e6e",
   "metadata": {},
   "outputs": [],
   "source": [
    "bt1 = BinaryTreeNode(10)\n",
    "bt2 = BinaryTreeNode(20)\n",
    "bt3 = BinaryTreeNode(30)\n",
    "\n",
    "bt4 = BinaryTreeNode(40)\n",
    "bt5 = BinaryTreeNode(50)"
   ]
  },
  {
   "cell_type": "code",
   "execution_count": null,
   "id": "18c7bade",
   "metadata": {},
   "outputs": [],
   "source": [
    "bt1.left = bt2\n",
    "bt1.right = bt3\n",
    "\n",
    "bt2.left = bt4\n",
    "bt2.right = bt5"
   ]
  },
  {
   "cell_type": "code",
   "execution_count": null,
   "id": "87530a0f",
   "metadata": {},
   "outputs": [],
   "source": [
    "printTreeDetailed(bt1)"
   ]
  },
  {
   "cell_type": "code",
   "execution_count": null,
   "id": "9b4a6e7f",
   "metadata": {},
   "outputs": [],
   "source": [
    "numNodes(bt1)"
   ]
  },
  {
   "cell_type": "code",
   "execution_count": null,
   "id": "913ec5e8",
   "metadata": {},
   "outputs": [],
   "source": [
    "sumNodes(bt1)"
   ]
  },
  {
   "cell_type": "code",
   "execution_count": null,
   "id": "8d5df532",
   "metadata": {},
   "outputs": [],
   "source": [
    "preOrder(bt1)"
   ]
  },
  {
   "cell_type": "code",
   "execution_count": null,
   "id": "cb172092",
   "metadata": {},
   "outputs": [],
   "source": [
    "postOrder(bt1)"
   ]
  },
  {
   "cell_type": "code",
   "execution_count": null,
   "id": "4d9e1688",
   "metadata": {},
   "outputs": [],
   "source": [
    "inOrder(bt1)"
   ]
  },
  {
   "cell_type": "code",
   "execution_count": null,
   "id": "1c036455",
   "metadata": {},
   "outputs": [],
   "source": [
    "largestData(bt1)"
   ]
  },
  {
   "cell_type": "code",
   "execution_count": null,
   "id": "229f14e7",
   "metadata": {},
   "outputs": [],
   "source": [
    "greaterThanX(bt1, 50)"
   ]
  },
  {
   "cell_type": "code",
   "execution_count": null,
   "id": "d05b7658",
   "metadata": {},
   "outputs": [],
   "source": [
    "heightofTree(bt1)"
   ]
  },
  {
   "cell_type": "code",
   "execution_count": null,
   "id": "68d23cfc",
   "metadata": {},
   "outputs": [],
   "source": [
    "countLeaves(bt1)"
   ]
  },
  {
   "cell_type": "code",
   "execution_count": null,
   "id": "97b8e44f",
   "metadata": {},
   "outputs": [],
   "source": [
    "printatK1(bt1, 2)"
   ]
  },
  {
   "cell_type": "code",
   "execution_count": null,
   "id": "7546b2e9",
   "metadata": {},
   "outputs": [],
   "source": [
    "replacewithDepth(bt1)\n",
    "printTreeDetailed(bt1)"
   ]
  },
  {
   "cell_type": "code",
   "execution_count": null,
   "id": "ca3480a9",
   "metadata": {},
   "outputs": [],
   "source": [
    "isPresent(bt1, 20)"
   ]
  },
  {
   "cell_type": "code",
   "execution_count": null,
   "id": "d4bef90d",
   "metadata": {},
   "outputs": [],
   "source": [
    "printTreeDetailed(bt1)"
   ]
  },
  {
   "cell_type": "code",
   "execution_count": null,
   "id": "7db29000",
   "metadata": {},
   "outputs": [],
   "source": [
    "node_without_sibling(root)"
   ]
  },
  {
   "cell_type": "code",
   "execution_count": null,
   "id": "6b95d9c2",
   "metadata": {},
   "outputs": [],
   "source": [
    "removeLeaves(bt1)\n",
    "printTreeDetailed(bt1)"
   ]
  },
  {
   "cell_type": "code",
   "execution_count": null,
   "id": "0f98e5f0",
   "metadata": {},
   "outputs": [],
   "source": [
    "mirrorTree(root)\n",
    "printTreeDetailed(root)"
   ]
  },
  {
   "cell_type": "code",
   "execution_count": null,
   "id": "7b6ca3ed",
   "metadata": {},
   "outputs": [],
   "source": [
    "checkBalanced(root)"
   ]
  },
  {
   "cell_type": "code",
   "execution_count": null,
   "id": "05481050",
   "metadata": {},
   "outputs": [],
   "source": [
    "heightandBalanced(root)"
   ]
  },
  {
   "cell_type": "code",
   "execution_count": null,
   "id": "256479aa",
   "metadata": {},
   "outputs": [],
   "source": [
    "diameter(bt1)"
   ]
  },
  {
   "cell_type": "code",
   "execution_count": null,
   "id": "c0bc54c1",
   "metadata": {},
   "outputs": [],
   "source": [
    "heightDiameter(bt1)"
   ]
  },
  {
   "cell_type": "code",
   "execution_count": null,
   "id": "538dc804",
   "metadata": {},
   "outputs": [],
   "source": [
    "findDiameter(bt1)"
   ]
  },
  {
   "cell_type": "code",
   "execution_count": 57,
   "id": "30090eb0",
   "metadata": {},
   "outputs": [
    {
     "name": "stdout",
     "output_type": "stream",
     "text": [
      "Enter the root Data1\n",
      "Enter left child of  1\n",
      "2\n",
      "Enter the right Child of  1\n",
      "3\n",
      "Enter left child of  2\n",
      "4\n",
      "Enter the right Child of  2\n",
      "5\n",
      "Enter left child of  3\n",
      "6\n",
      "Enter the right Child of  3\n",
      "7\n",
      "Enter left child of  4\n",
      "-1\n",
      "Enter the right Child of  4\n",
      "-1\n",
      "Enter left child of  5\n",
      "8\n",
      "Enter the right Child of  5\n",
      "-1\n",
      "Enter left child of  6\n",
      "-1\n",
      "Enter the right Child of  6\n",
      "-1\n",
      "Enter left child of  7\n",
      "-1\n",
      "Enter the right Child of  7\n",
      "-1\n",
      "Enter left child of  8\n",
      "-1\n",
      "Enter the right Child of  8\n",
      "-1\n",
      "1 : L 2, R 3 \n",
      "2 : L 4, R 5 \n",
      "4 : \n",
      "5 : L 8, \n",
      "8 : \n",
      "3 : L 6, R 7 \n",
      "6 : \n",
      "7 : \n"
     ]
    }
   ],
   "source": [
    "root = levelwiseinput()\n",
    "printTreeDetailed(root)"
   ]
  },
  {
   "cell_type": "code",
   "execution_count": null,
   "id": "96902ed7",
   "metadata": {},
   "outputs": [],
   "source": [
    "printLevelWise(root)"
   ]
  },
  {
   "cell_type": "code",
   "execution_count": null,
   "id": "c3a5341a",
   "metadata": {},
   "outputs": [],
   "source": [
    "pre = [1,2,4,5,3,6,7]\n",
    "inorder = [4,2,5,1,6,3,7]\n",
    "root = makeTreePreIn(pre,inorder)\n",
    "printTreeDetailed(root)"
   ]
  },
  {
   "cell_type": "code",
   "execution_count": null,
   "id": "b8464007",
   "metadata": {},
   "outputs": [],
   "source": [
    "duplicateNode(root)\n",
    "printTreeDetailed(root)"
   ]
  },
  {
   "cell_type": "code",
   "execution_count": 37,
   "id": "bbd0e6aa",
   "metadata": {},
   "outputs": [
    {
     "data": {
      "text/plain": [
       "(14, 1)"
      ]
     },
     "execution_count": 37,
     "metadata": {},
     "output_type": "execute_result"
    }
   ],
   "source": [
    "minMax(root)"
   ]
  },
  {
   "cell_type": "code",
   "execution_count": 38,
   "id": "bf293c5d",
   "metadata": {},
   "outputs": [
    {
     "name": "stdout",
     "output_type": "stream",
     "text": [
      "8 : L 3 , R 10  \n",
      "3 : L 1 , R 6  \n",
      "10 : L -1 , R 14  \n",
      "1 : L -1 , R -1  \n",
      "6 : L 4 , R 7  \n",
      "14 : L 13 , R -1  \n",
      "4 : L -1 , R -1  \n",
      "7 : L -1 , R -1  \n",
      "13 : L -1 , R -1  \n"
     ]
    }
   ],
   "source": [
    "printLevelWise(root)"
   ]
  },
  {
   "cell_type": "code",
   "execution_count": 153,
   "id": "535c6654",
   "metadata": {},
   "outputs": [
    {
     "name": "stdout",
     "output_type": "stream",
     "text": [
      "1 2 5 8\n"
     ]
    }
   ],
   "source": [
    "pathsum(root, 16, [])"
   ]
  },
  {
   "cell_type": "code",
   "execution_count": 147,
   "id": "34a1de75",
   "metadata": {},
   "outputs": [
    {
     "name": "stdout",
     "output_type": "stream",
     "text": [
      "Path found: 1 3 \n"
     ]
    }
   ],
   "source": [
    "printPaths(root, 4)"
   ]
  },
  {
   "cell_type": "code",
   "execution_count": null,
   "id": "d9ea0136",
   "metadata": {},
   "outputs": [],
   "source": []
  }
 ],
 "metadata": {
  "kernelspec": {
   "display_name": "Python 3 (ipykernel)",
   "language": "python",
   "name": "python3"
  },
  "language_info": {
   "codemirror_mode": {
    "name": "ipython",
    "version": 3
   },
   "file_extension": ".py",
   "mimetype": "text/x-python",
   "name": "python",
   "nbconvert_exporter": "python",
   "pygments_lexer": "ipython3",
   "version": "3.8.3"
  }
 },
 "nbformat": 4,
 "nbformat_minor": 5
}
