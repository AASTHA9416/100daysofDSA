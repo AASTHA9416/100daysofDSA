{
 "cells": [
  {
   "cell_type": "markdown",
   "id": "cb66febe",
   "metadata": {},
   "source": [
    "## Dictionaries\n",
    "\n",
    "**custom key value pairs**"
   ]
  },
  {
   "cell_type": "code",
   "execution_count": 11,
   "id": "5b9b7fb3",
   "metadata": {},
   "outputs": [],
   "source": [
    "d = {\"I\":2, \"am\":3, \"Rajat\":1000}"
   ]
  },
  {
   "cell_type": "code",
   "execution_count": 12,
   "id": "d5c70c0c",
   "metadata": {},
   "outputs": [
    {
     "data": {
      "text/plain": [
       "3"
      ]
     },
     "execution_count": 12,
     "metadata": {},
     "output_type": "execute_result"
    }
   ],
   "source": [
    "len(d)"
   ]
  },
  {
   "cell_type": "code",
   "execution_count": 13,
   "id": "4b4f0a64",
   "metadata": {},
   "outputs": [],
   "source": [
    "a = d.copy()"
   ]
  },
  {
   "cell_type": "code",
   "execution_count": 14,
   "id": "77e20845",
   "metadata": {},
   "outputs": [
    {
     "data": {
      "text/plain": [
       "{'I': 2, 'am': 3, 'Rajat': 1000}"
      ]
     },
     "execution_count": 14,
     "metadata": {},
     "output_type": "execute_result"
    }
   ],
   "source": [
    "a"
   ]
  },
  {
   "cell_type": "code",
   "execution_count": 18,
   "id": "3a2777da",
   "metadata": {},
   "outputs": [],
   "source": [
    "c = dict([ (10,\"a\"), (2,4), (15,24) ])"
   ]
  },
  {
   "cell_type": "code",
   "execution_count": 19,
   "id": "a2967ebd",
   "metadata": {},
   "outputs": [
    {
     "data": {
      "text/plain": [
       "{10: 'a', 2: 4, 15: 24}"
      ]
     },
     "execution_count": 19,
     "metadata": {},
     "output_type": "execute_result"
    }
   ],
   "source": [
    "c"
   ]
  },
  {
   "cell_type": "code",
   "execution_count": 20,
   "id": "20d455b7",
   "metadata": {},
   "outputs": [],
   "source": [
    "e = dict.fromkeys([\"hello\", \"a\", \"b\"])"
   ]
  },
  {
   "cell_type": "code",
   "execution_count": 21,
   "id": "2a8f173c",
   "metadata": {},
   "outputs": [
    {
     "data": {
      "text/plain": [
       "{'hello': None, 'a': None, 'b': None}"
      ]
     },
     "execution_count": 21,
     "metadata": {},
     "output_type": "execute_result"
    }
   ],
   "source": [
    "e"
   ]
  },
  {
   "cell_type": "code",
   "execution_count": 22,
   "id": "00438130",
   "metadata": {},
   "outputs": [],
   "source": [
    "e = dict.fromkeys([\"hello\", \"a\", \"b\"], 20)"
   ]
  },
  {
   "cell_type": "code",
   "execution_count": 23,
   "id": "8ac259b5",
   "metadata": {},
   "outputs": [
    {
     "data": {
      "text/plain": [
       "{'hello': 20, 'a': 20, 'b': 20}"
      ]
     },
     "execution_count": 23,
     "metadata": {},
     "output_type": "execute_result"
    }
   ],
   "source": [
    "e"
   ]
  },
  {
   "cell_type": "markdown",
   "id": "4a6ce929",
   "metadata": {},
   "source": [
    "## Access Data from the Dictionary"
   ]
  },
  {
   "cell_type": "code",
   "execution_count": 24,
   "id": "a031b69b",
   "metadata": {},
   "outputs": [],
   "source": [
    "a = {1:2, 3:4, \"list\":[1,2,3], \"dict\":{1:23}}"
   ]
  },
  {
   "cell_type": "code",
   "execution_count": 25,
   "id": "5c5ccbb8",
   "metadata": {},
   "outputs": [
    {
     "data": {
      "text/plain": [
       "2"
      ]
     },
     "execution_count": 25,
     "metadata": {},
     "output_type": "execute_result"
    }
   ],
   "source": [
    "a[1]"
   ]
  },
  {
   "cell_type": "code",
   "execution_count": 26,
   "id": "6b52f70e",
   "metadata": {},
   "outputs": [
    {
     "data": {
      "text/plain": [
       "[1, 2, 3]"
      ]
     },
     "execution_count": 26,
     "metadata": {},
     "output_type": "execute_result"
    }
   ],
   "source": [
    "a[\"list\"]"
   ]
  },
  {
   "cell_type": "code",
   "execution_count": 27,
   "id": "dec5f266",
   "metadata": {},
   "outputs": [
    {
     "data": {
      "text/plain": [
       "2"
      ]
     },
     "execution_count": 27,
     "metadata": {},
     "output_type": "execute_result"
    }
   ],
   "source": [
    "a.get(1)"
   ]
  },
  {
   "cell_type": "code",
   "execution_count": 28,
   "id": "20793219",
   "metadata": {},
   "outputs": [
    {
     "data": {
      "text/plain": [
       "[1, 2, 3]"
      ]
     },
     "execution_count": 28,
     "metadata": {},
     "output_type": "execute_result"
    }
   ],
   "source": [
    "a.get(\"list\")"
   ]
  },
  {
   "cell_type": "code",
   "execution_count": 30,
   "id": "34f0684c",
   "metadata": {},
   "outputs": [
    {
     "ename": "KeyError",
     "evalue": "'Hi'",
     "output_type": "error",
     "traceback": [
      "\u001b[1;31m---------------------------------------------------------------------------\u001b[0m",
      "\u001b[1;31mKeyError\u001b[0m                                  Traceback (most recent call last)",
      "\u001b[1;32m~\\AppData\\Local\\Temp/ipykernel_6132/1758970892.py\u001b[0m in \u001b[0;36m<module>\u001b[1;34m\u001b[0m\n\u001b[1;32m----> 1\u001b[1;33m \u001b[0ma\u001b[0m\u001b[1;33m[\u001b[0m\u001b[1;34m\"Hi\"\u001b[0m\u001b[1;33m]\u001b[0m\u001b[1;33m\u001b[0m\u001b[1;33m\u001b[0m\u001b[0m\n\u001b[0m",
      "\u001b[1;31mKeyError\u001b[0m: 'Hi'"
     ]
    }
   ],
   "source": [
    "a[\"Hi\"]"
   ]
  },
  {
   "cell_type": "code",
   "execution_count": 31,
   "id": "77fe5b19",
   "metadata": {},
   "outputs": [],
   "source": [
    "a.get(\"Hi\")"
   ]
  },
  {
   "cell_type": "code",
   "execution_count": 32,
   "id": "a107ccf5",
   "metadata": {},
   "outputs": [
    {
     "data": {
      "text/plain": [
       "'Not Found'"
      ]
     },
     "execution_count": 32,
     "metadata": {},
     "output_type": "execute_result"
    }
   ],
   "source": [
    "a.get(\"Hi\", \"Not Found\")"
   ]
  },
  {
   "cell_type": "code",
   "execution_count": 33,
   "id": "ec27b19e",
   "metadata": {},
   "outputs": [
    {
     "data": {
      "text/plain": [
       "dict_keys([1, 3, 'list', 'dict'])"
      ]
     },
     "execution_count": 33,
     "metadata": {},
     "output_type": "execute_result"
    }
   ],
   "source": [
    "a.keys()"
   ]
  },
  {
   "cell_type": "code",
   "execution_count": 34,
   "id": "3204ed82",
   "metadata": {},
   "outputs": [
    {
     "data": {
      "text/plain": [
       "dict_values([2, 4, [1, 2, 3], {1: 23}])"
      ]
     },
     "execution_count": 34,
     "metadata": {},
     "output_type": "execute_result"
    }
   ],
   "source": [
    "a.values()"
   ]
  },
  {
   "cell_type": "code",
   "execution_count": 56,
   "id": "3ab78b1e",
   "metadata": {},
   "outputs": [
    {
     "data": {
      "text/plain": [
       "dict_items([(1, 2), (3, 4), ('list', [1, 2, 3]), ('dict', {1: 23})])"
      ]
     },
     "execution_count": 56,
     "metadata": {},
     "output_type": "execute_result"
    }
   ],
   "source": [
    "a.items()"
   ]
  },
  {
   "cell_type": "code",
   "execution_count": 57,
   "id": "4baa123d",
   "metadata": {},
   "outputs": [
    {
     "name": "stdout",
     "output_type": "stream",
     "text": [
      "1\n",
      "3\n",
      "list\n",
      "dict\n"
     ]
    }
   ],
   "source": [
    "for i in a:\n",
    "    print(i)"
   ]
  },
  {
   "cell_type": "code",
   "execution_count": 58,
   "id": "51c0948a",
   "metadata": {},
   "outputs": [
    {
     "name": "stdout",
     "output_type": "stream",
     "text": [
      "1 2\n",
      "3 4\n",
      "list [1, 2, 3]\n",
      "dict {1: 23}\n"
     ]
    }
   ],
   "source": [
    "for i in a:\n",
    "    print(i, a[i])"
   ]
  },
  {
   "cell_type": "code",
   "execution_count": 59,
   "id": "b149ee16",
   "metadata": {},
   "outputs": [
    {
     "name": "stdout",
     "output_type": "stream",
     "text": [
      "2\n",
      "4\n",
      "[1, 2, 3]\n",
      "{1: 23}\n"
     ]
    }
   ],
   "source": [
    "for i in a.values():\n",
    "    print(i)"
   ]
  },
  {
   "cell_type": "code",
   "execution_count": 60,
   "id": "a753c651",
   "metadata": {},
   "outputs": [
    {
     "data": {
      "text/plain": [
       "True"
      ]
     },
     "execution_count": 60,
     "metadata": {},
     "output_type": "execute_result"
    }
   ],
   "source": [
    "\"list\" in a"
   ]
  },
  {
   "cell_type": "code",
   "execution_count": 61,
   "id": "cce2150b",
   "metadata": {},
   "outputs": [
    {
     "data": {
      "text/plain": [
       "False"
      ]
     },
     "execution_count": 61,
     "metadata": {},
     "output_type": "execute_result"
    }
   ],
   "source": [
    "\"Hi\" in a"
   ]
  },
  {
   "cell_type": "markdown",
   "id": "944d1923",
   "metadata": {},
   "source": [
    "## Add or Delete Data"
   ]
  },
  {
   "cell_type": "code",
   "execution_count": 62,
   "id": "3ad50622",
   "metadata": {},
   "outputs": [
    {
     "data": {
      "text/plain": [
       "{1: 2, 3: 4, 'list': [1, 2, 3], 'dict': {1: 23}}"
      ]
     },
     "execution_count": 62,
     "metadata": {},
     "output_type": "execute_result"
    }
   ],
   "source": [
    "a"
   ]
  },
  {
   "cell_type": "code",
   "execution_count": 71,
   "id": "257f1bed",
   "metadata": {},
   "outputs": [],
   "source": [
    "a[\"t\"] = (1,2,3)"
   ]
  },
  {
   "cell_type": "code",
   "execution_count": 64,
   "id": "818cd0e7",
   "metadata": {},
   "outputs": [
    {
     "data": {
      "text/plain": [
       "{1: 2, 3: 4, 'list': [1, 2, 3], 'dict': {1: 23}, 't': (1, 2, 3)}"
      ]
     },
     "execution_count": 64,
     "metadata": {},
     "output_type": "execute_result"
    }
   ],
   "source": [
    "a"
   ]
  },
  {
   "cell_type": "code",
   "execution_count": 65,
   "id": "b20a627c",
   "metadata": {},
   "outputs": [
    {
     "data": {
      "text/plain": [
       "{1: 10, 3: 4, 'list': [1, 2, 3], 'dict': {1: 23}, 't': (1, 2, 3)}"
      ]
     },
     "execution_count": 65,
     "metadata": {},
     "output_type": "execute_result"
    }
   ],
   "source": [
    "a[1] = 10\n",
    "a"
   ]
  },
  {
   "cell_type": "code",
   "execution_count": 67,
   "id": "4e9fd49f",
   "metadata": {},
   "outputs": [
    {
     "name": "stdout",
     "output_type": "stream",
     "text": [
      "{1: 10, 3: 5, 'list': [1, 2, 3], 'dict': {1: 23}, 't': (1, 2, 3), 'the': 4, 2: 100}\n"
     ]
    }
   ],
   "source": [
    "b = {3:5, 'the':4, 2:100}\n",
    "a.update(b)\n",
    "print(a)"
   ]
  },
  {
   "cell_type": "code",
   "execution_count": 68,
   "id": "bfd34e5c",
   "metadata": {},
   "outputs": [
    {
     "ename": "TypeError",
     "evalue": "pop expected at least 1 argument, got 0",
     "output_type": "error",
     "traceback": [
      "\u001b[1;31m---------------------------------------------------------------------------\u001b[0m",
      "\u001b[1;31mTypeError\u001b[0m                                 Traceback (most recent call last)",
      "\u001b[1;32m~\\AppData\\Local\\Temp/ipykernel_6132/4186947654.py\u001b[0m in \u001b[0;36m<module>\u001b[1;34m\u001b[0m\n\u001b[0;32m      1\u001b[0m \u001b[1;31m##Remove Data\u001b[0m\u001b[1;33m\u001b[0m\u001b[1;33m\u001b[0m\u001b[1;33m\u001b[0m\u001b[0m\n\u001b[0;32m      2\u001b[0m \u001b[1;33m\u001b[0m\u001b[0m\n\u001b[1;32m----> 3\u001b[1;33m \u001b[0ma\u001b[0m\u001b[1;33m.\u001b[0m\u001b[0mpop\u001b[0m\u001b[1;33m(\u001b[0m\u001b[1;33m)\u001b[0m\u001b[1;33m\u001b[0m\u001b[1;33m\u001b[0m\u001b[0m\n\u001b[0m",
      "\u001b[1;31mTypeError\u001b[0m: pop expected at least 1 argument, got 0"
     ]
    }
   ],
   "source": [
    "##Remove Data\n",
    "\n",
    "a.pop()"
   ]
  },
  {
   "cell_type": "code",
   "execution_count": 72,
   "id": "43ae2918",
   "metadata": {},
   "outputs": [
    {
     "name": "stdout",
     "output_type": "stream",
     "text": [
      "{1: 10, 3: 5, 'list': [1, 2, 3], 'dict': {1: 23}, 'the': 4, 2: 100}\n"
     ]
    }
   ],
   "source": [
    "a.pop(\"t\")\n",
    "print(a)"
   ]
  },
  {
   "cell_type": "code",
   "execution_count": 73,
   "id": "31b7fb01",
   "metadata": {},
   "outputs": [],
   "source": [
    "del a[1]"
   ]
  },
  {
   "cell_type": "code",
   "execution_count": 74,
   "id": "74e1e83c",
   "metadata": {},
   "outputs": [
    {
     "data": {
      "text/plain": [
       "{3: 5, 'list': [1, 2, 3], 'dict': {1: 23}, 'the': 4, 2: 100}"
      ]
     },
     "execution_count": 74,
     "metadata": {},
     "output_type": "execute_result"
    }
   ],
   "source": [
    "a"
   ]
  },
  {
   "cell_type": "code",
   "execution_count": 75,
   "id": "99549506",
   "metadata": {},
   "outputs": [],
   "source": [
    "a.clear()"
   ]
  },
  {
   "cell_type": "code",
   "execution_count": 76,
   "id": "d3e6c798",
   "metadata": {},
   "outputs": [
    {
     "data": {
      "text/plain": [
       "{}"
      ]
     },
     "execution_count": 76,
     "metadata": {},
     "output_type": "execute_result"
    }
   ],
   "source": [
    "a"
   ]
  },
  {
   "cell_type": "code",
   "execution_count": 77,
   "id": "bcc02441",
   "metadata": {},
   "outputs": [],
   "source": [
    "del a"
   ]
  },
  {
   "cell_type": "code",
   "execution_count": 78,
   "id": "cface00a",
   "metadata": {},
   "outputs": [
    {
     "ename": "NameError",
     "evalue": "name 'a' is not defined",
     "output_type": "error",
     "traceback": [
      "\u001b[1;31m---------------------------------------------------------------------------\u001b[0m",
      "\u001b[1;31mNameError\u001b[0m                                 Traceback (most recent call last)",
      "\u001b[1;32m~\\AppData\\Local\\Temp/ipykernel_6132/2167009006.py\u001b[0m in \u001b[0;36m<module>\u001b[1;34m\u001b[0m\n\u001b[1;32m----> 1\u001b[1;33m \u001b[0ma\u001b[0m\u001b[1;33m\u001b[0m\u001b[1;33m\u001b[0m\u001b[0m\n\u001b[0m",
      "\u001b[1;31mNameError\u001b[0m: name 'a' is not defined"
     ]
    }
   ],
   "source": [
    "a"
   ]
  },
  {
   "cell_type": "markdown",
   "id": "135642a5",
   "metadata": {},
   "source": [
    "## Print all the words having frequency K"
   ]
  },
  {
   "cell_type": "code",
   "execution_count": 42,
   "id": "7e565f31",
   "metadata": {},
   "outputs": [
    {
     "name": "stdout",
     "output_type": "stream",
     "text": [
      "['This', 'a', 'word', 'string', 'haing', 'many', 'many', 'word']\n"
     ]
    }
   ],
   "source": [
    "s = \"This a word string haing many many word\"\n",
    "k = 2\n",
    "words = s.split()\n",
    "print(l)"
   ]
  },
  {
   "cell_type": "code",
   "execution_count": 43,
   "id": "d7023e0f",
   "metadata": {},
   "outputs": [],
   "source": [
    "d = dict.fromkeys(words, 0)\n",
    "for word in words:\n",
    "    d[word] += 1"
   ]
  },
  {
   "cell_type": "code",
   "execution_count": 44,
   "id": "b0517cdd",
   "metadata": {},
   "outputs": [
    {
     "data": {
      "text/plain": [
       "{'This': 1, 'a': 1, 'word': 2, 'string': 1, 'haing': 1, 'many': 2}"
      ]
     },
     "execution_count": 44,
     "metadata": {},
     "output_type": "execute_result"
    }
   ],
   "source": [
    "d"
   ]
  },
  {
   "cell_type": "code",
   "execution_count": 45,
   "id": "b2a3702c",
   "metadata": {},
   "outputs": [],
   "source": [
    "## another way for doing same\n",
    "\n",
    "d = {}\n",
    "for word in words:\n",
    "    if word in d:\n",
    "        d[word] += 1\n",
    "    else:\n",
    "        d[word] = 1"
   ]
  },
  {
   "cell_type": "code",
   "execution_count": 46,
   "id": "5323de27",
   "metadata": {},
   "outputs": [
    {
     "data": {
      "text/plain": [
       "{'This': 1, 'a': 1, 'word': 2, 'string': 1, 'haing': 1, 'many': 2}"
      ]
     },
     "execution_count": 46,
     "metadata": {},
     "output_type": "execute_result"
    }
   ],
   "source": [
    "d"
   ]
  },
  {
   "cell_type": "code",
   "execution_count": 47,
   "id": "1276f951",
   "metadata": {},
   "outputs": [],
   "source": [
    "## another way\n",
    "\n",
    "d = {}\n",
    "for word in words:\n",
    "    d[word] = d.get(word, 0) + 1"
   ]
  },
  {
   "cell_type": "code",
   "execution_count": 48,
   "id": "df9f9bab",
   "metadata": {},
   "outputs": [
    {
     "data": {
      "text/plain": [
       "{'This': 1, 'a': 1, 'word': 2, 'string': 1, 'haing': 1, 'many': 2}"
      ]
     },
     "execution_count": 48,
     "metadata": {},
     "output_type": "execute_result"
    }
   ],
   "source": [
    "d"
   ]
  },
  {
   "cell_type": "code",
   "execution_count": 49,
   "id": "1f6201bb",
   "metadata": {},
   "outputs": [
    {
     "name": "stdout",
     "output_type": "stream",
     "text": [
      "word\n",
      "many\n"
     ]
    }
   ],
   "source": [
    "for word in d:\n",
    "    if d[word] == k:\n",
    "        print(word)"
   ]
  },
  {
   "cell_type": "code",
   "execution_count": 53,
   "id": "93b7632d",
   "metadata": {},
   "outputs": [],
   "source": [
    "## function\n",
    "\n",
    "def printKfreq(string, k):\n",
    "    words = string.split()\n",
    "    d = {}\n",
    "    for word in words:\n",
    "        d[word] = d.get(word,0) + 1\n",
    "    for w in d:\n",
    "        if d[w] == k:\n",
    "            print(w)"
   ]
  },
  {
   "cell_type": "code",
   "execution_count": 54,
   "id": "af2adad6",
   "metadata": {},
   "outputs": [
    {
     "name": "stdout",
     "output_type": "stream",
     "text": [
      "word\n",
      "many\n"
     ]
    }
   ],
   "source": [
    "printKfreq(s, 2)"
   ]
  },
  {
   "cell_type": "code",
   "execution_count": 55,
   "id": "a9921a4e",
   "metadata": {},
   "outputs": [
    {
     "name": "stdout",
     "output_type": "stream",
     "text": [
      "This\n",
      "a\n",
      "string\n",
      "haing\n"
     ]
    }
   ],
   "source": [
    "printKfreq(s, 1)"
   ]
  },
  {
   "cell_type": "markdown",
   "id": "384ebab3",
   "metadata": {},
   "source": [
    "## Maximum Frequency\n",
    "\n",
    "Given a list of integers print that occurs max time"
   ]
  },
  {
   "cell_type": "code",
   "execution_count": 95,
   "id": "7b2d273f",
   "metadata": {},
   "outputs": [],
   "source": [
    "def maxOccur():\n",
    "    arr = list(map(int, input().split()))\n",
    "    d = {}\n",
    "    for ele in arr:\n",
    "        d[ele]  = d.get(ele, 0) + 1\n",
    "    max_ = max(d.values())\n",
    "    for e in d:\n",
    "        if d[e] == max_:\n",
    "            return e"
   ]
  },
  {
   "cell_type": "code",
   "execution_count": 96,
   "id": "b100dbd9",
   "metadata": {},
   "outputs": [
    {
     "name": "stdout",
     "output_type": "stream",
     "text": [
      "2 12 2 11 12 2 1 2 2 11 12 2 6 \n"
     ]
    },
    {
     "data": {
      "text/plain": [
       "2"
      ]
     },
     "execution_count": 96,
     "metadata": {},
     "output_type": "execute_result"
    }
   ],
   "source": [
    "maxOccur()"
   ]
  },
  {
   "cell_type": "markdown",
   "id": "399d6fba",
   "metadata": {},
   "source": [
    "## Pair Sum to Zero"
   ]
  },
  {
   "cell_type": "code",
   "execution_count": 100,
   "id": "8944bd99",
   "metadata": {},
   "outputs": [
    {
     "name": "stdout",
     "output_type": "stream",
     "text": [
      "2 -2\n",
      "-2 2\n",
      "2 -2\n",
      "-6 6\n"
     ]
    }
   ],
   "source": [
    "arr = [-2, 2, 6, -2, 2, -6, 3]\n",
    "d = {}\n",
    "for e in arr:\n",
    "    d[e] = d.get(e,0) + 1\n",
    "    if -e in d:\n",
    "        print(e, -e)\n"
   ]
  },
  {
   "cell_type": "code",
   "execution_count": 101,
   "id": "302759ef",
   "metadata": {},
   "outputs": [],
   "source": [
    "def sumToZero(arr):\n",
    "    d = {}\n",
    "    for e in arr:\n",
    "        d[e] = d.get(e,0) + 1\n",
    "        if -e in d:\n",
    "            print(e, -e)"
   ]
  },
  {
   "cell_type": "markdown",
   "id": "9bcf4d60",
   "metadata": {},
   "source": [
    "## Creating own Hashmap"
   ]
  },
  {
   "cell_type": "code",
   "execution_count": 17,
   "id": "dff18fe6",
   "metadata": {},
   "outputs": [],
   "source": [
    "class MapNode:\n",
    "    def __init__(self, key, value):\n",
    "        self.key = key\n",
    "        self.value = value\n",
    "        self.next = None\n",
    "\n",
    "class Map:\n",
    "    def __init__(self):\n",
    "        self.bucketSize = 10\n",
    "        self.buckets = [None for i in range(self.bucketSize)]\n",
    "        self.count = 0\n",
    "        \n",
    "    def size(self):\n",
    "        return self.count\n",
    "    \n",
    "    def getBucketIndex(self, hc):\n",
    "        return abs(hc) % self.bucketSize\n",
    "    \n",
    "    def rehash(self):\n",
    "        temp = self.buckets\n",
    "        self.buckets = [None for i in range(2*self.bucketSize)]\n",
    "        self.bucketSize = 2*self.bucketSize\n",
    "        self.count = 0\n",
    "        for head in temp:\n",
    "            while head is not None:\n",
    "                self.insert(head.key, head.value)\n",
    "                head = head.next\n",
    "            \n",
    "    def load_factor(self):\n",
    "        return self.count / self.bucketSize\n",
    "    \n",
    "    def insert(self, key, value):\n",
    "        hc = hash(key)\n",
    "        index = self.getBucketIndex(hc)\n",
    "        head = self.buckets[index]\n",
    "        \n",
    "        while head is not None:\n",
    "            if head.key == key:\n",
    "                head.value = value\n",
    "                return\n",
    "            head = head.next\n",
    "        head = self.buckets[index]\n",
    "        newNode = MapNode(key, value)\n",
    "        newNode.next = head\n",
    "        self.buckets[index] = newNode\n",
    "        self.count += 1\n",
    "        load_factor = self.count / self.bucketSize\n",
    "        if load_factor >= 0.7:\n",
    "            self.rehash()\n",
    "        \n",
    "    def search(self, key):\n",
    "        hc = hash(key)\n",
    "        index = self.getBucketIndex(hc)\n",
    "        \n",
    "        head = self.buckets[index]\n",
    "        while head is not None:\n",
    "            if head.key == key:\n",
    "                return head.value\n",
    "            head = head.next\n",
    "        return None\n",
    "        \n",
    "    def remove(self, key):\n",
    "        hc = hash(key)\n",
    "        index = self.getBucketIndex(hc)\n",
    "        \n",
    "        head = self.buckets[index]\n",
    "        prev = None\n",
    "        while head is not None:\n",
    "            if head.key == key:\n",
    "                self.count -= 1\n",
    "                if prev == None:\n",
    "                    self.buckets[index] = head.next\n",
    "                else:\n",
    "                    prev.next = head.next\n",
    "                return head.value\n",
    "            prev = head\n",
    "            head = head.next\n",
    "        return None\n",
    "        \n",
    "    "
   ]
  },
  {
   "cell_type": "code",
   "execution_count": 2,
   "id": "cfc80035",
   "metadata": {},
   "outputs": [
    {
     "name": "stdout",
     "output_type": "stream",
     "text": [
      "1\n",
      "2\n",
      "2\n"
     ]
    }
   ],
   "source": [
    "m = Map()\n",
    "m.insert(\"Rajat\", 4)\n",
    "print(m.size())\n",
    "m.insert(\"Rohan\", 5)\n",
    "print(m.size())\n",
    "m.insert(\"Rajat\", 10)\n",
    "print(m.size())"
   ]
  },
  {
   "cell_type": "code",
   "execution_count": 3,
   "id": "be33c166",
   "metadata": {},
   "outputs": [
    {
     "data": {
      "text/plain": [
       "10"
      ]
     },
     "execution_count": 3,
     "metadata": {},
     "output_type": "execute_result"
    }
   ],
   "source": [
    "m.search(\"Rajat\")"
   ]
  },
  {
   "cell_type": "code",
   "execution_count": 4,
   "id": "0731282c",
   "metadata": {},
   "outputs": [],
   "source": [
    "m.search(\"Hello\")"
   ]
  },
  {
   "cell_type": "code",
   "execution_count": 5,
   "id": "e4f263ef",
   "metadata": {},
   "outputs": [
    {
     "data": {
      "text/plain": [
       "5"
      ]
     },
     "execution_count": 5,
     "metadata": {},
     "output_type": "execute_result"
    }
   ],
   "source": [
    "m.remove(\"Rohan\")"
   ]
  },
  {
   "cell_type": "code",
   "execution_count": 6,
   "id": "2067657c",
   "metadata": {},
   "outputs": [
    {
     "name": "stdout",
     "output_type": "stream",
     "text": [
      "None\n"
     ]
    }
   ],
   "source": [
    "print(m.search(\"Rohan\"))"
   ]
  },
  {
   "cell_type": "code",
   "execution_count": 18,
   "id": "4f8e3476",
   "metadata": {},
   "outputs": [
    {
     "name": "stdout",
     "output_type": "stream",
     "text": [
      "0.1 10\n",
      "0.2 10\n",
      "0.3 10\n",
      "0.4 10\n",
      "0.5 10\n",
      "0.6 10\n",
      "0.35 20\n",
      "0.4 20\n",
      "0.45 20\n",
      "0.5 20\n"
     ]
    }
   ],
   "source": [
    "m1 = Map()\n",
    "for i in range(10):\n",
    "    m1.insert('abc' + str(i), i+1)\n",
    "    print(m1.load_factor(), m1.bucketSize)"
   ]
  },
  {
   "cell_type": "markdown",
   "id": "0e500d96",
   "metadata": {},
   "source": [
    "## Extract Unique characters\n",
    "\n",
    "Send Feedback\n",
    "\n",
    "Given a string S, you need to remove all the duplicates. That means, the output string should contain each character only once. The respective order of characters should remain same, as in the input string.\n",
    "\n",
    "Input format:\n",
    "\n",
    "The first and only line of input contains a string, that denotes the value of S.\n",
    "\n",
    "Output format :\n",
    "\n",
    "The first and only line of output contains the updated string, as described in the task.\n",
    "\n",
    "Constraints :\n",
    "\n",
    "0 <= Length of S <= 10^8\n",
    "\n",
    "Time Limit: 1 sec\n",
    "\n",
    "Sample Input 1 :\n",
    "\n",
    "ababacd\n",
    "\n",
    "Sample Output 1 :\n",
    "\n",
    "abcd\n",
    "\n",
    "Sample Input 2 :\n",
    "\n",
    "abcde\n",
    "\n",
    "Sample Output 2 :\n",
    "\n",
    "abcde"
   ]
  },
  {
   "cell_type": "code",
   "execution_count": 19,
   "id": "da798239",
   "metadata": {},
   "outputs": [
    {
     "name": "stdout",
     "output_type": "stream",
     "text": [
      "abcd\n"
     ]
    }
   ],
   "source": [
    "s = \"ababacd\"\n",
    "t = \"\"\n",
    "for i in s:\n",
    "    if i not in t:\n",
    "        t += i\n",
    "print(t)"
   ]
  },
  {
   "cell_type": "markdown",
   "id": "d785104a",
   "metadata": {},
   "source": [
    "## Longest Consequent Subsequence from Array"
   ]
  },
  {
   "cell_type": "code",
   "execution_count": 59,
   "id": "b1fa2a5b",
   "metadata": {},
   "outputs": [],
   "source": [
    "arr = [9,1,8,6,3,4,2,7,10,15]\n",
    "d = {}\n",
    "for i in arr:\n",
    "    d[i] = d.get(i, 0) + 1"
   ]
  },
  {
   "cell_type": "code",
   "execution_count": 56,
   "id": "a5855d7f",
   "metadata": {},
   "outputs": [
    {
     "data": {
      "text/plain": [
       "{9: 1, 1: 1, 8: 1, 6: 1, 3: 1, 4: 1, 2: 1, 7: 1, 10: 1, 15: 1}"
      ]
     },
     "execution_count": 56,
     "metadata": {},
     "output_type": "execute_result"
    }
   ],
   "source": [
    "d"
   ]
  },
  {
   "cell_type": "code",
   "execution_count": 51,
   "id": "e710f23d",
   "metadata": {},
   "outputs": [
    {
     "name": "stdout",
     "output_type": "stream",
     "text": [
      "True\n",
      "True\n",
      "True\n",
      "True\n",
      "6 5\n"
     ]
    }
   ],
   "source": [
    "i = 9\n",
    "len_temp = 1\n",
    "for a in range(i+1, 20):\n",
    "    if a in d:\n",
    "        len_temp+= 1\n",
    "        print(True)\n",
    "    else:\n",
    "        break\n",
    "for b in range(i-1, -1, -1):\n",
    "    if b in d:\n",
    "        len_temp += 1\n",
    "        print(True)\n",
    "    else:\n",
    "        small_temp = b+1\n",
    "        break\n",
    "print(small_temp, len_temp)"
   ]
  },
  {
   "cell_type": "code",
   "execution_count": 74,
   "id": "6ea21783",
   "metadata": {},
   "outputs": [
    {
     "name": "stdout",
     "output_type": "stream",
     "text": [
      "6 10\n"
     ]
    }
   ],
   "source": [
    "maxLen = 0\n",
    "start = 0\n",
    "for i in d:\n",
    "    if d[i] != 0:\n",
    "        len_temp = 1\n",
    "        for a in range(i+1, 100):\n",
    "            if a in d:\n",
    "                len_temp += 1\n",
    "                d[a] = 0\n",
    "            else:\n",
    "                break\n",
    "        for b in range(i-1, -1, -1):\n",
    "            if b in d:\n",
    "                len_temp += 1\n",
    "                d[b] = 0\n",
    "            else:\n",
    "                small_temp = b+1\n",
    "                break\n",
    "        d[i] = 0\n",
    "        if len_temp > maxLen:\n",
    "            maxLen = len_temp\n",
    "            start = small_temp\n",
    "print(start, start+maxLen-1)\n",
    "                \n",
    "        "
   ]
  },
  {
   "cell_type": "code",
   "execution_count": 73,
   "id": "9316c4cd",
   "metadata": {},
   "outputs": [],
   "source": [
    "arr = [9,1,8,6,3,4,2,7,10,15]\n",
    "d = {}\n",
    "for i in arr:\n",
    "    d[i] = d.get(i, 0) + 1"
   ]
  },
  {
   "cell_type": "code",
   "execution_count": 78,
   "id": "01c36a50",
   "metadata": {},
   "outputs": [],
   "source": [
    "def longest_Cons_Subseq(arr):\n",
    "    d = {}\n",
    "    for i in arr:\n",
    "        d[i] = d.get(i, 0) + 1\n",
    "    maxLen = 0\n",
    "    start = -1\n",
    "    for i in d:\n",
    "        if d[i] != 0:\n",
    "            len_temp = 1\n",
    "            for a in range(i+1, 1000):\n",
    "                if a in d:\n",
    "                    len_temp += 1\n",
    "                    d[a] = 0\n",
    "                else:\n",
    "                    break\n",
    "            for b in range(i-1, -1, -1):\n",
    "                if b in d:\n",
    "                    len_temp += 1\n",
    "                    d[b] = 0\n",
    "                else:\n",
    "                    temp_start = b+1\n",
    "                    break\n",
    "            d[i] = 0\n",
    "            if maxLen < len_temp:\n",
    "                maxLen = len_temp\n",
    "                start = temp_start\n",
    "            if maxLen == len_temp and temp_start == i:\n",
    "                start = i\n",
    "            \n",
    "    return start, start+maxLen-1\n",
    "            "
   ]
  },
  {
   "cell_type": "code",
   "execution_count": 79,
   "id": "d13ad4eb",
   "metadata": {},
   "outputs": [
    {
     "name": "stdout",
     "output_type": "stream",
     "text": [
      "(6, 10)\n"
     ]
    }
   ],
   "source": [
    "arr = [9,1,8,6,3,4,2,7,10,15]\n",
    "print(longest_Cons_Subseq(arr))"
   ]
  },
  {
   "cell_type": "code",
   "execution_count": 80,
   "id": "8b55be70",
   "metadata": {},
   "outputs": [
    {
     "name": "stdout",
     "output_type": "stream",
     "text": [
      "(7, 9)\n"
     ]
    }
   ],
   "source": [
    "arr= [3,7,2,9,1,8,41]\n",
    "print(longest_Cons_Subseq(arr))"
   ]
  },
  {
   "cell_type": "code",
   "execution_count": 81,
   "id": "ca8103ea",
   "metadata": {},
   "outputs": [
    {
     "data": {
      "text/plain": [
       "{9: 0, 1: 0, 8: 0, 6: 0, 3: 0, 4: 0, 2: 0, 7: 0, 10: 0, 15: 0}"
      ]
     },
     "execution_count": 81,
     "metadata": {},
     "output_type": "execute_result"
    }
   ],
   "source": [
    "d"
   ]
  },
  {
   "cell_type": "code",
   "execution_count": 157,
   "id": "03ca6a97",
   "metadata": {},
   "outputs": [
    {
     "name": "stdout",
     "output_type": "stream",
     "text": [
      "{3: 1, 1: 2, 4: 1, 5: 1}\n"
     ]
    }
   ],
   "source": [
    "arr = [3,1,4,1,5]\n",
    "\n",
    "k = 0\n",
    "d = {}\n",
    "for i in arr:\n",
    "    d[i] = d.get(i, 0) + 1\n",
    "print(d)"
   ]
  },
  {
   "cell_type": "code",
   "execution_count": 159,
   "id": "83e8e6e0",
   "metadata": {},
   "outputs": [
    {
     "name": "stdout",
     "output_type": "stream",
     "text": [
      "4\n"
     ]
    }
   ],
   "source": [
    "count = 0\n",
    "for i in d:\n",
    "    if i+k in d:\n",
    "        count = count + 1\n",
    "print(count)\n",
    "    \n",
    "    "
   ]
  },
  {
   "cell_type": "code",
   "execution_count": 140,
   "id": "980907d6",
   "metadata": {},
   "outputs": [
    {
     "data": {
      "text/plain": [
       "{1: 0, 3: 0, 5: 0, 4: 0}"
      ]
     },
     "execution_count": 140,
     "metadata": {},
     "output_type": "execute_result"
    }
   ],
   "source": [
    "d"
   ]
  },
  {
   "cell_type": "code",
   "execution_count": 160,
   "id": "83683b77",
   "metadata": {},
   "outputs": [
    {
     "name": "stdout",
     "output_type": "stream",
     "text": [
      "1\n"
     ]
    }
   ],
   "source": [
    "count = 0\n",
    "if k== 0:\n",
    "    for i in d:\n",
    "        count += d[i]-1\n",
    "print(count)"
   ]
  },
  {
   "cell_type": "code",
   "execution_count": 161,
   "id": "c6aef8f6",
   "metadata": {},
   "outputs": [],
   "source": [
    "arr = [6,3,-1,2,-4,3,1,-2,20]"
   ]
  },
  {
   "cell_type": "code",
   "execution_count": null,
   "id": "d95f40fb",
   "metadata": {},
   "outputs": [],
   "source": [
    "# A python program to find maximum length subarray\n",
    "# with 0 sum in o(n) time\n",
    "\n",
    "# Returns the maximum length\n",
    "def maxLen(arr):\n",
    "\t\n",
    "\t# NOTE: Dictonary in python in implemented as Hash Maps\n",
    "\t# Create an empty hash map (dictionary)\n",
    "\thash_map = {}\n",
    "\n",
    "\t# Initialize result\n",
    "\tmax_len = 0\n",
    "\n",
    "\t# Initialize sum of elements\n",
    "\tcurr_sum = 0\n",
    "\n",
    "\t# Traverse through the given array\n",
    "\tfor i in range(len(arr)):\n",
    "\t\t\n",
    "\t\t# Add the current element to the sum\n",
    "\t\tcurr_sum += arr[i]\n",
    "\n",
    "\t\tif arr[i] is 0 and max_len is 0:\n",
    "\t\t\tmax_len = 1\n",
    "\n",
    "\t\tif curr_sum is 0:\n",
    "\t\t\tmax_len = i + 1\n",
    "\n",
    "\t\t# NOTE: 'in' operation in dictionary to search\n",
    "\t\t# key takes O(1). Look if current sum is seen\n",
    "\t\t# before\n",
    "\t\tif curr_sum in hash_map:\n",
    "\t\t\tmax_len = max(max_len, i - hash_map[curr_sum] )\n",
    "\t\telse:\n",
    "\n",
    "\t\t\t# else put this sum in dictionary\n",
    "\t\t\thash_map[curr_sum] = i\n",
    "\n",
    "\treturn max_len\n",
    "\n",
    "\n",
    "# test array\n",
    "arr = [15, -2, 2, -8, 1, 7, 10, 13]\n",
    "\n",
    "print \"Length of the longest 0 sum subarray is % d\" % maxLen(arr)\n"
   ]
  }
 ],
 "metadata": {
  "kernelspec": {
   "display_name": "Python 3 (ipykernel)",
   "language": "python",
   "name": "python3"
  },
  "language_info": {
   "codemirror_mode": {
    "name": "ipython",
    "version": 3
   },
   "file_extension": ".py",
   "mimetype": "text/x-python",
   "name": "python",
   "nbconvert_exporter": "python",
   "pygments_lexer": "ipython3",
   "version": "3.8.3"
  }
 },
 "nbformat": 4,
 "nbformat_minor": 5
}
