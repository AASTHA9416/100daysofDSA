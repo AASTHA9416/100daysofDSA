{
 "cells": [
  {
   "cell_type": "markdown",
   "id": "b0b4c7f3",
   "metadata": {},
   "source": [
    "# Huffman Coding"
   ]
  },
  {
   "cell_type": "code",
   "execution_count": 2,
   "id": "0285300e",
   "metadata": {},
   "outputs": [],
   "source": [
    "import heapq\n",
    "class HuffmanCoding:\n",
    "    def __init__(self,path):\n",
    "        self.path = path\n",
    "        self.__heap = []\n",
    "        \n",
    "    def __make_freq_dict(self, text):\n",
    "        freq_dict = {}\n",
    "        for char in text:\n",
    "            freq_dict[char] = freq_dict.get(char, 0) + 1\n",
    "        return freq_dict\n",
    "    \n",
    "    def __buildHeap(self, freq_dict):\n",
    "        \n",
    "            \n",
    "    \n",
    "    def compress(self):\n",
    "        # get file from path \n",
    "        with open(self.path, r) as f:\n",
    "            text = f.read()\n",
    "        # read text from file\n",
    "        \n",
    "        # make frequency dictionay using the text\n",
    "        freq_dict = self.__make_freq_dict(text)\n",
    "        \n",
    "        \n",
    "        # construct the heap from the freq dictionary\n",
    "        self.__buildHeap(self, freq_dict)\n",
    "        \n",
    "        # construct the binary tree from the heap\n",
    "        \n",
    "        # Construct the codes from the binary tree\n",
    "        \n",
    "        # Create the encoded text\n",
    "        \n",
    "        # Put the encoded text into the binary file \n",
    "        \n",
    "        # return the binary file as output\n",
    "        \n",
    "        pass\n",
    "    \n",
    "    def decompress(self):\n",
    "        pass"
   ]
  },
  {
   "cell_type": "code",
   "execution_count": 8,
   "id": "e704c307",
   "metadata": {},
   "outputs": [],
   "source": [
    "t = \"abcabcdef\"\n",
    "f = {}\n",
    "for i in t:\n",
    "    f[i] = f.get(i, 0) + 1"
   ]
  },
  {
   "cell_type": "code",
   "execution_count": 9,
   "id": "747d9a9c",
   "metadata": {},
   "outputs": [
    {
     "data": {
      "text/plain": [
       "{'a': 2, 'b': 2, 'c': 2, 'd': 1, 'e': 1, 'f': 1}"
      ]
     },
     "execution_count": 9,
     "metadata": {},
     "output_type": "execute_result"
    }
   ],
   "source": [
    "f"
   ]
  },
  {
   "cell_type": "code",
   "execution_count": null,
   "id": "484a69b8",
   "metadata": {},
   "outputs": [],
   "source": []
  }
 ],
 "metadata": {
  "kernelspec": {
   "display_name": "Python 3 (ipykernel)",
   "language": "python",
   "name": "python3"
  },
  "language_info": {
   "codemirror_mode": {
    "name": "ipython",
    "version": 3
   },
   "file_extension": ".py",
   "mimetype": "text/x-python",
   "name": "python",
   "nbconvert_exporter": "python",
   "pygments_lexer": "ipython3",
   "version": "3.8.3"
  }
 },
 "nbformat": 4,
 "nbformat_minor": 5
}
