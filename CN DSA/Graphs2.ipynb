{
 "cells": [
  {
   "cell_type": "markdown",
   "id": "04b5dffa",
   "metadata": {},
   "source": [
    "# Graphs"
   ]
  },
  {
   "cell_type": "code",
   "execution_count": 5,
   "id": "a878aa49",
   "metadata": {},
   "outputs": [],
   "source": [
    "class Edge:\n",
    "    def __init__(self, src, dest, wt):\n",
    "        self.src = src \n",
    "        self.dest = dest\n",
    "        self.wt = wt"
   ]
  },
  {
   "cell_type": "code",
   "execution_count": 2,
   "id": "01766b99",
   "metadata": {},
   "outputs": [
    {
     "ename": "NameError",
     "evalue": "name 'edges' is not defined",
     "output_type": "error",
     "traceback": [
      "\u001b[1;31m---------------------------------------------------------------------------\u001b[0m",
      "\u001b[1;31mNameError\u001b[0m                                 Traceback (most recent call last)",
      "\u001b[1;32m~\\AppData\\Local\\Temp/ipykernel_9432/3027674478.py\u001b[0m in \u001b[0;36m<module>\u001b[1;34m\u001b[0m\n\u001b[1;32m----> 1\u001b[1;33m \u001b[0medges\u001b[0m\u001b[1;33m.\u001b[0m\u001b[0msort\u001b[0m\u001b[1;33m(\u001b[0m\u001b[0mkey\u001b[0m \u001b[1;33m=\u001b[0m \u001b[1;32mlambda\u001b[0m \u001b[0mx\u001b[0m\u001b[1;33m:\u001b[0m\u001b[0mx\u001b[0m\u001b[1;33m.\u001b[0m\u001b[0mwt\u001b[0m\u001b[1;33m)\u001b[0m\u001b[1;33m\u001b[0m\u001b[1;33m\u001b[0m\u001b[0m\n\u001b[0m",
      "\u001b[1;31mNameError\u001b[0m: name 'edges' is not defined"
     ]
    }
   ],
   "source": [
    "edges.sort(key = lambda x:x.wt)"
   ]
  },
  {
   "cell_type": "code",
   "execution_count": 4,
   "id": "032a6f41",
   "metadata": {},
   "outputs": [],
   "source": [
    "n = 4\n",
    "count = 0\n",
    "mst = []\n",
    "i = 0\n",
    "parent = [i for i in range(6)]\n",
    "while count < n-1:\n",
    "    v1 = edges[count].src\n",
    "    v2 = edges[count].dest\n",
    "    \n",
    "    if parent[v1] != parent[v2]:\n",
    "        mst.append(edges[count])\n",
    "        parent[v2] = parent[v1]\n",
    "        count += 1\n",
    "    i+=1"
   ]
  },
  {
   "cell_type": "code",
   "execution_count": 5,
   "id": "b9b1ba5e",
   "metadata": {},
   "outputs": [
    {
     "data": {
      "text/plain": [
       "[<__main__.edge at 0x1db6cb2b670>,\n",
       " <__main__.edge at 0x1db6cb23970>,\n",
       " <__main__.edge at 0x1db6cb23940>]"
      ]
     },
     "execution_count": 5,
     "metadata": {},
     "output_type": "execute_result"
    }
   ],
   "source": [
    "mst"
   ]
  },
  {
   "cell_type": "code",
   "execution_count": 6,
   "id": "a3b208af",
   "metadata": {},
   "outputs": [
    {
     "name": "stdout",
     "output_type": "stream",
     "text": [
      "1 2 1\n",
      "0 1 3\n",
      "0 3 5\n"
     ]
    }
   ],
   "source": [
    "for edge in mst:\n",
    "    print(edge.src, edge.dest, edge.wt)"
   ]
  },
  {
   "cell_type": "code",
   "execution_count": 7,
   "id": "7914d542",
   "metadata": {
    "scrolled": true
   },
   "outputs": [
    {
     "name": "stdout",
     "output_type": "stream",
     "text": [
      "[0, 0, 1, 0, 4, 5]\n"
     ]
    }
   ],
   "source": [
    "print(parent)"
   ]
  },
  {
   "cell_type": "code",
   "execution_count": null,
   "id": "4a9086d3",
   "metadata": {},
   "outputs": [],
   "source": [
    "def kruskal(edges, vertices):\n",
    "    edges.sort(key = lambda X:x.wt)\n",
    "    count = 0\n",
    "    mst = []\n",
    "    parent = [a for a in range(v+1)]\n",
    "    i = 0\n",
    "    while count < vertices - 1:\n",
    "        v1 = edges[i].src\n",
    "        v2 = edges[i].dest\n",
    "        print(v1, v2)\n",
    "        \n",
    "        if parent[v1] != parent[v2]:\n",
    "            mst.append(edges[i])\n",
    "            parent[v2] = parent[v1]\n",
    "        i+=1\n",
    "        \n",
    "    print(parent)\n",
    "    return mst\n",
    "\n",
    "print(\"Enter the number of vertices and Edges\")\n",
    "vertices, n_edges = map(int, input().split())\n",
    "edges = []\n",
    "for i in range(n_edges):\n",
    "    s, d, w = map(int, input().split())\n",
    "    edges.append(Edge(s,d,w))\n",
    "mst = kruskal(edges, vertices)        "
   ]
  },
  {
   "cell_type": "code",
   "execution_count": 18,
   "id": "d544be82",
   "metadata": {},
   "outputs": [],
   "source": [
    "def take_input():\n",
    "    print(\"Enter number of vertices and edges\")\n",
    "    v, e = map(int, input().split())\n",
    "    edges = []\n",
    "    for i in range(e):\n",
    "        s, d, w = map(int, input().split())\n",
    "        edges.append(Edge(s,d,w))\n",
    "    return edges, v\n",
    "def kruskal(edges,v):\n",
    "    edges.sort(key = lambda x:x.wt)\n",
    "    count = 0\n",
    "    mst = []\n",
    "    parent = [a for a in range(v+1)]\n",
    "    i = 0\n",
    "    while count < v-1:\n",
    "        v1 = edges[i].src\n",
    "        v2 = edges[i].dest\n",
    "        print(v1, v2)\n",
    "\n",
    "        if parent[v1] != parent[v2]:\n",
    "            mst.append(edges[i])\n",
    "            parent[v2] = parent[v1]\n",
    "            count += 1\n",
    "        i+=1\n",
    "    print(parent)\n",
    "    return mst"
   ]
  },
  {
   "cell_type": "code",
   "execution_count": 3,
   "id": "9a4ae04d",
   "metadata": {},
   "outputs": [
    {
     "name": "stdout",
     "output_type": "stream",
     "text": [
      "Enter number of vertices and edges\n",
      "5 11 \n",
      "0 1 1\n",
      "0 2 5\n",
      "2 3 10\n",
      "0 3 4\n",
      "1 3 3\n",
      "1 2 6\n",
      "3 4 7\n",
      "2 4 8\n",
      "4 5 2\n",
      "2 5 9\n",
      "3 5 6\n"
     ]
    }
   ],
   "source": [
    "graph = take_input()"
   ]
  },
  {
   "cell_type": "code",
   "execution_count": 4,
   "id": "c1bcf967",
   "metadata": {},
   "outputs": [
    {
     "name": "stdout",
     "output_type": "stream",
     "text": [
      "0 1 1\n",
      "0 2 5\n",
      "2 3 10\n",
      "0 3 4\n",
      "1 3 3\n",
      "1 2 6\n",
      "3 4 7\n",
      "2 4 8\n",
      "4 5 2\n",
      "2 5 9\n",
      "3 5 6\n"
     ]
    }
   ],
   "source": [
    "for e in graph[0]:\n",
    "    print(e.src, e.dest, e.wt)"
   ]
  },
  {
   "cell_type": "code",
   "execution_count": 19,
   "id": "a852e75a",
   "metadata": {},
   "outputs": [
    {
     "name": "stdout",
     "output_type": "stream",
     "text": [
      "0 1\n",
      "4 5\n",
      "1 3\n",
      "0 3\n",
      "0 2\n",
      "[0, 0, 0, 0, 4, 4]\n"
     ]
    }
   ],
   "source": [
    "mst = kruskal(graph[0], graph[1])"
   ]
  },
  {
   "cell_type": "code",
   "execution_count": 20,
   "id": "44da5e75",
   "metadata": {},
   "outputs": [
    {
     "name": "stdout",
     "output_type": "stream",
     "text": [
      "0 1 1\n",
      "4 5 2\n",
      "1 3 3\n",
      "0 2 5\n"
     ]
    }
   ],
   "source": [
    "for e in mst:\n",
    "    print(e.src, e.dest, e.wt)"
   ]
  },
  {
   "cell_type": "code",
   "execution_count": null,
   "id": "6d239a24",
   "metadata": {},
   "outputs": [],
   "source": [
    "# code by instructor\n",
    "\n",
    "class Edge:\n",
    "    def __init__(self, src, dest, wt):\n",
    "        self.src = src\n",
    "        self.dest = dest\n",
    "        self.wt = wt\n",
    "\n",
    "def getParent(v, parent):\n",
    "    if v == parent[v]:\n",
    "        return v\n",
    "    return getParent(parent[v], parent)\n",
    "        \n",
    "def kruskals(edges, v):\n",
    "    parent = [i for i in range(v)]\n",
    "    edges = sorted(edges, key = lambda x: x.wt)\n",
    "    count = 0\n",
    "    output = []\n",
    "    i = 0\n",
    "    \n",
    "    while count < (v-1):\n",
    "        currentEdges = edges[i]\n",
    "        srcParent = getParent(currentEdge.src, parent)\n",
    "        destParent = getParent(currentEdge.dest, parent)\n",
    "        \n",
    "        if srcParent != destParent:\n",
    "            output.append(cuurentEdge)\n",
    "            count += 1\n",
    "            parent[srcParent] = destParent\n",
    "        i+=1\n",
    "    return output\n",
    "v, e = map(int, input().split())\n",
    "edges = []\n",
    "for i in range(e):\n",
    "    s, d, w = map(int, input().split())\n",
    "    edges.append(Edge(s,d,w))\n",
    "output = kruskal(edges,v)\n",
    "\n",
    "for edge in output:\n",
    "    if edge.src < edge.dest:\n",
    "        print(edge.src, edge.dest, edge.wt)\n",
    "    else:\n",
    "        print(edge.dest, edge.src, edge.wt)"
   ]
  },
  {
   "cell_type": "code",
   "execution_count": 6,
   "id": "421b333f",
   "metadata": {},
   "outputs": [
    {
     "name": "stdout",
     "output_type": "stream",
     "text": [
      "Rajat Bansal\n"
     ]
    }
   ],
   "source": [
    "def prims(edges):\n",
    "    edges.sort(key = lambda x: x.wt)\n",
    "    visited = []\n",
    "    unvisited = []"
   ]
  },
  {
   "cell_type": "code",
   "execution_count": 11,
   "id": "62c65a3c",
   "metadata": {},
   "outputs": [],
   "source": [
    "import queue\n",
    "import sys\n",
    "class Graph:\n",
    "    def __init__(self, nVertices):\n",
    "        self.nVertices = nVertices\n",
    "        self.adjMatrix = [[0 for i in range(nVertices)] for j in range(nVertices)]\n",
    "        \n",
    "    def addEdge(self, v1, v2, wt):\n",
    "        self.adjMatrix[v1][v2] = wt\n",
    "        self.adjMatrix[v2][v1] = wt\n",
    "        \n",
    "    def removeEdge(self, v1, v2):\n",
    "        if self.containsEdge(v1, v2) is False:\n",
    "            return\n",
    "        self.adjMatrix[v1][v2] = 0\n",
    "        self.adjMatrix[v2][v1] = 0\n",
    "        \n",
    "    def containEdge(self, v1, v2):\n",
    "        return True if self.adjMatrix[v1][v2] > 0 else False\n",
    "    \n",
    "    \n",
    "    ## Depth First Search\n",
    "    def __dfsHelper(self, sv, visited):\n",
    "        print(sv)\n",
    "        visited[sv] = True\n",
    "        for i in range(self.nVertices):\n",
    "            if self.adjMatrix[sv][i] > 0 and visited[i] is False:\n",
    "                self.__dfsHelper(i, visited)\n",
    "            \n",
    "        \n",
    "    \n",
    "    def dfs(self):\n",
    "        visited = [False for i in range(self.nVertices)]\n",
    "        for i in range(self.nVertices):\n",
    "            if visited[i] is False:\n",
    "                self.__dfsHelper(i, visited)\n",
    "\n",
    "    def __bfsHelper(self, sv, visited):\n",
    "        q = queue.Queue()\n",
    "        q.put(sv)\n",
    "        visited[sv] = True\n",
    "        while not q.empty():\n",
    "            u = q.get()\n",
    "            print(u)\n",
    "            for i in range(self.nVertices):\n",
    "                if self.adjMatrix[u][i] > 0 and visited[i] is False:\n",
    "                    q.put(i)\n",
    "                    visited[i] = True\n",
    "    def bfs(self):\n",
    "        visited = [False for i in range(self.nVertices)]\n",
    "        for i in range(self.nVertices):\n",
    "            if visited[i] is False:\n",
    "                self.__bfsHelper(i, visited)\n",
    "    \n",
    "    def getPathBFS(self, sv, ev):\n",
    "        visited = [False for i in range(self.nVertices)]\n",
    "        parent = {}\n",
    "        q = queue.Queue()\n",
    "        q.put(sv)\n",
    "        visited[sv] = True\n",
    "        while not q.empty():\n",
    "            front = q.get()\n",
    "            for i in range(self.nVertices):\n",
    "                if self.adjMatrix[front][i] > 0 and visited[i] is False:\n",
    "                    parent[i] = front\n",
    "                    q.put(i)\n",
    "                    visited[i] = True\n",
    "                    if i == ev:\n",
    "                        l = [ev]\n",
    "                        while l[-1] != sv:\n",
    "                            l.append(parent[l[-1]])\n",
    "                        return l\n",
    "        return None\n",
    "\n",
    "            \n",
    "                    \n",
    "    def __hasPathHelp(self, v1, v2, visited):\n",
    "        print(v1, v2)\n",
    "        if self.adjMatrix[v1][v2] > 0:\n",
    "            return True\n",
    "        visited[v1] = True\n",
    "        for i in range(self.nVertices):\n",
    "            if self.adjMatrix[v1][i] > 0 and visited[i] is False:\n",
    "                if self.__hasPathHelp(i, v2, visited) == True:\n",
    "                    return True\n",
    "        return False\n",
    "                \n",
    "        \n",
    "    def hasPath(self, v1, v2):\n",
    "        visited = [False for i in range(self.nVertices)]\n",
    "        return self.__hasPathHelp(v1, v2, visited)\n",
    "    \n",
    "    def __getPathHelp(self, v1, v2, visited):\n",
    "        if self.adjMatrix[v1][v2] > 0:\n",
    "            return [v2, v1]\n",
    "        visited[v1] = True\n",
    "        for i in range(self.nVertices):\n",
    "            if self.adjMatrix[v1][i] > 0 and visited[i] is False:\n",
    "                l = self.__getPathHelp(i, v2, visited)\n",
    "                if l:\n",
    "                    print(l)\n",
    "                    l.append(v1)\n",
    "                    return l\n",
    "        return None\n",
    "    \n",
    "    def getPath(self, v1, v2):\n",
    "        visited = [False for i in range(self.nVertices)]\n",
    "        return self.__getPathHelp(v1, v2, visited)\n",
    "    \n",
    "    def __isConnHelp(self, sv, visited):\n",
    "        print(sv)\n",
    "        visited[sv] = True\n",
    "        for i in range(self.nVertices):\n",
    "            if self.adjMatrix[sv][i] > 0 and visited[i] is False:\n",
    "                self.__isConnHelp(i, visited)\n",
    "    \n",
    "    def isConnected(self):\n",
    "        visited = [False for i in range(self.nVertices)]\n",
    "        self.__isConnHelp(0, visited)\n",
    "        if sum(visited) == self.nVertices:\n",
    "            return True\n",
    "        else:\n",
    "            return False\n",
    "        \n",
    "    def all_connHelp(self, sv, visited, subtree : list) -> list:\n",
    "        subtree.append(sv)\n",
    "        visited[sv] = True\n",
    "        for i in range(self.nVertices):\n",
    "            if self.adjMatrix[sv][i] > 0 and visited[i] is False:\n",
    "                self.all_connHelp(i, visited, subtree)\n",
    "        return subtree\n",
    "                \n",
    "        \n",
    "        \n",
    "    def all_connected(self):\n",
    "        visited = [False for i in range(self.nVertices)]\n",
    "        l = []\n",
    "        for i in range(self.nVertices):\n",
    "            if visited[i] is False:\n",
    "                subtree = self.all_connHelp(i, visited, [])\n",
    "                l.append(subtree)\n",
    "        return l\n",
    "    \n",
    "    def __get_minVertex(self, visited, weight):\n",
    "        min_vertex = -1\n",
    "        for i in range(self.nVertices):\n",
    "            if visited[i] is False and (min_vertex == -1 or weight[min_vertex] > weight[i]):\n",
    "                min_vertex = i\n",
    "        return min_vertex\n",
    "        \n",
    "## prims algorithm\n",
    "    \n",
    "    def prims(self):\n",
    "        visited = [False for i in range(self.nVertices)]\n",
    "        parent = [-1 for i in range(self.nVertices)]\n",
    "        weight = [sys.maxsize for i in range(self.nVertices)]\n",
    "        weight[0] = 0\n",
    "        for i in range(self.nVertices-1):\n",
    "            min_vertex = self.__get_minVertex(visited, weight)\n",
    "            visited[min_vertex] = True\n",
    "            \n",
    "            \n",
    "            # explore the neighbours of the minVertex\n",
    "            # update the weight if required\n",
    "            for j in range(self.nVertices):\n",
    "                if self.adjMatrix[min_vertex][j] > 0 and visited[j] is False:\n",
    "                    if weight[j] > self.adjMatrix[min_vertex][j] :\n",
    "                        weight[j] = self.adjMatrix[min_vertex][j]\n",
    "                        parent[j] = min_vertex\n",
    "                        \n",
    "                        \n",
    "        for i in range(1, self.nVertices):\n",
    "            if i > parent[i]:\n",
    "                print(i, parent[i], weight[i])\n",
    "            else:\n",
    "                print(parent[i], i, weight[i])\n",
    "            \n",
    "        \n",
    "    def __str__(self):\n",
    "        return str(self.adjMatrix)"
   ]
  },
  {
   "cell_type": "code",
   "execution_count": 12,
   "id": "13738b61",
   "metadata": {},
   "outputs": [
    {
     "name": "stdout",
     "output_type": "stream",
     "text": [
      "4 4\n",
      "0 1 3\n",
      "0 3 5\n",
      "1 2 1\n",
      "2 3 8\n",
      "1 0 3\n",
      "2 1 1\n",
      "3 0 5\n"
     ]
    }
   ],
   "source": [
    "n, E = map(int, input().split())\n",
    "g = Graph(n)\n",
    "for i in range(E):\n",
    "    v1, v2, wt = map(int, input().split())\n",
    "    g.addEdge(v1, v2, wt)\n",
    "\n",
    "g.prims()\n",
    "    "
   ]
  },
  {
   "cell_type": "code",
   "execution_count": 10,
   "id": "d6e2b53c",
   "metadata": {},
   "outputs": [],
   "source": [
    "import queue\n",
    "import sys\n",
    "class Graph:\n",
    "    def __init__(self, nVertices):\n",
    "        self.nVertices = nVertices\n",
    "        self.adjMatrix = [[0 for i in range(nVertices)] for j in range(nVertices)]\n",
    "        \n",
    "    def addEdge(self, v1, v2, wt):\n",
    "        self.adjMatrix[v1][v2] = wt\n",
    "        self.adjMatrix[v2][v1] = wt\n",
    "        \n",
    "    def removeEdge(self, v1, v2):\n",
    "        if self.containsEdge(v1, v2) is False:\n",
    "            return\n",
    "        self.adjMatrix[v1][v2] = 0\n",
    "        self.adjMatrix[v2][v1] = 0\n",
    "        \n",
    "    def containEdge(self, v1, v2):\n",
    "        return True if self.adjMatrix[v1][v2] > 0 else False\n",
    "    \n",
    "    \n",
    "    ## Depth First Search\n",
    "    def __dfsHelper(self, sv, visited):\n",
    "        print(sv)\n",
    "        visited[sv] = True\n",
    "        for i in range(self.nVertices):\n",
    "            if self.adjMatrix[sv][i] > 0 and visited[i] is False:\n",
    "                self.__dfsHelper(i, visited)\n",
    "            \n",
    "        \n",
    "    \n",
    "    def dfs(self):\n",
    "        visited = [False for i in range(self.nVertices)]\n",
    "        for i in range(self.nVertices):\n",
    "            if visited[i] is False:\n",
    "                self.__dfsHelper(i, visited)\n",
    "\n",
    "    def __bfsHelper(self, sv, visited):\n",
    "        q = queue.Queue()\n",
    "        q.put(sv)\n",
    "        visited[sv] = True\n",
    "        while not q.empty():\n",
    "            u = q.get()\n",
    "            print(u)\n",
    "            for i in range(self.nVertices):\n",
    "                if self.adjMatrix[u][i] > 0 and visited[i] is False:\n",
    "                    q.put(i)\n",
    "                    visited[i] = True\n",
    "    def bfs(self):\n",
    "        visited = [False for i in range(self.nVertices)]\n",
    "        for i in range(self.nVertices):\n",
    "            if visited[i] is False:\n",
    "                self.__bfsHelper(i, visited)\n",
    "    \n",
    "    def getPathBFS(self, sv, ev):\n",
    "        visited = [False for i in range(self.nVertices)]\n",
    "        parent = {}\n",
    "        q = queue.Queue()\n",
    "        q.put(sv)\n",
    "        visited[sv] = True\n",
    "        while not q.empty():\n",
    "            front = q.get()\n",
    "            for i in range(self.nVertices):\n",
    "                if self.adjMatrix[front][i] > 0 and visited[i] is False:\n",
    "                    parent[i] = front\n",
    "                    q.put(i)\n",
    "                    visited[i] = True\n",
    "                    if i == ev:\n",
    "                        l = [ev]\n",
    "                        while l[-1] != sv:\n",
    "                            l.append(parent[l[-1]])\n",
    "                        return l\n",
    "        return None\n",
    "\n",
    "            \n",
    "                    \n",
    "    def __hasPathHelp(self, v1, v2, visited):\n",
    "        print(v1, v2)\n",
    "        if self.adjMatrix[v1][v2] > 0:\n",
    "            return True\n",
    "        visited[v1] = True\n",
    "        for i in range(self.nVertices):\n",
    "            if self.adjMatrix[v1][i] > 0 and visited[i] is False:\n",
    "                if self.__hasPathHelp(i, v2, visited) == True:\n",
    "                    return True\n",
    "        return False\n",
    "                \n",
    "        \n",
    "    def hasPath(self, v1, v2):\n",
    "        visited = [False for i in range(self.nVertices)]\n",
    "        return self.__hasPathHelp(v1, v2, visited)\n",
    "    \n",
    "    def __getPathHelp(self, v1, v2, visited):\n",
    "        if self.adjMatrix[v1][v2] > 0:\n",
    "            return [v2, v1]\n",
    "        visited[v1] = True\n",
    "        for i in range(self.nVertices):\n",
    "            if self.adjMatrix[v1][i] > 0 and visited[i] is False:\n",
    "                l = self.__getPathHelp(i, v2, visited)\n",
    "                if l:\n",
    "                    print(l)\n",
    "                    l.append(v1)\n",
    "                    return l\n",
    "        return None\n",
    "    \n",
    "    def getPath(self, v1, v2):\n",
    "        visited = [False for i in range(self.nVertices)]\n",
    "        return self.__getPathHelp(v1, v2, visited)\n",
    "    \n",
    "    def __isConnHelp(self, sv, visited):\n",
    "        print(sv)\n",
    "        visited[sv] = True\n",
    "        for i in range(self.nVertices):\n",
    "            if self.adjMatrix[sv][i] > 0 and visited[i] is False:\n",
    "                self.__isConnHelp(i, visited)\n",
    "    \n",
    "    def isConnected(self):\n",
    "        visited = [False for i in range(self.nVertices)]\n",
    "        self.__isConnHelp(0, visited)\n",
    "        if sum(visited) == self.nVertices:\n",
    "            return True\n",
    "        else:\n",
    "            return False\n",
    "        \n",
    "    def all_connHelp(self, sv, visited, subtree : list) -> list:\n",
    "        subtree.append(sv)\n",
    "        visited[sv] = True\n",
    "        for i in range(self.nVertices):\n",
    "            if self.adjMatrix[sv][i] > 0 and visited[i] is False:\n",
    "                self.all_connHelp(i, visited, subtree)\n",
    "        return subtree\n",
    "                \n",
    "        \n",
    "        \n",
    "    def all_connected(self):\n",
    "        visited = [False for i in range(self.nVertices)]\n",
    "        l = []\n",
    "        for i in range(self.nVertices):\n",
    "            if visited[i] is False:\n",
    "                subtree = self.all_connHelp(i, visited, [])\n",
    "                l.append(subtree)\n",
    "        return l\n",
    "    \n",
    "\n",
    "    # Dikjastra Algorithm\n",
    "\n",
    "    def __get_minVertex(self, visited, distance):\n",
    "        minVertex = -1\n",
    "        for i in range(self.nVertices):\n",
    "            if visited[i] is False and (minVertex == -1 or distance[minVertex] > distance[i]):\n",
    "                minVertex = i\n",
    "        return minVertex\n",
    "        \n",
    "        \n",
    "    \n",
    "    def dikjastra(self, source):\n",
    "        visited = [False for i in range(self.nVertices)]\n",
    "        \n",
    "        distance = [sys.maxsize for i in range(self.nVertices)]\n",
    "        \n",
    "        distance[source] = 0\n",
    "        \n",
    "        for i in range(self.nVertices-1):\n",
    "            min_vertex = self.__get_minVertex(visited, distance)\n",
    "            visited[min_vertex] = True\n",
    "            \n",
    "            for j in range(self.nVertices):\n",
    "                if self.adjMatrix[min_vertex][j] > 0 and visited[j] is False:\n",
    "                    if distance[j] > distance[min_vertex]+self.adjMatrix[min_vertex][j]:\n",
    "                        distance[j] = distance[min_vertex]+self.adjMatrix[min_vertex][j]\n",
    "        return distance \n",
    "            \n",
    "        \n",
    "        \n",
    "        \n",
    "        \n",
    "    def __str__(self):\n",
    "        return str(self.adjMatrix)"
   ]
  },
  {
   "cell_type": "code",
   "execution_count": 16,
   "id": "a1354e12",
   "metadata": {},
   "outputs": [],
   "source": [
    "g = Graph(5)"
   ]
  },
  {
   "cell_type": "code",
   "execution_count": 17,
   "id": "30d0f388",
   "metadata": {},
   "outputs": [],
   "source": [
    "g.addEdge(0,1,4)\n",
    "g.addEdge(0,2,8)\n",
    "g.addEdge(1,3,5)\n",
    "g.addEdge(2,4,9)\n",
    "g.addEdge(2,3,5)\n",
    "g.addEdge(3,4,4)\n",
    "g.addEdge(1,2,2)"
   ]
  },
  {
   "cell_type": "code",
   "execution_count": 18,
   "id": "ef384b4e",
   "metadata": {},
   "outputs": [
    {
     "name": "stdout",
     "output_type": "stream",
     "text": [
      "[[0, 4, 8, 0, 0], [4, 0, 2, 5, 0], [8, 2, 0, 5, 9], [0, 5, 5, 0, 4], [0, 0, 9, 4, 0]]\n"
     ]
    }
   ],
   "source": [
    "print(g)"
   ]
  },
  {
   "cell_type": "code",
   "execution_count": 19,
   "id": "f5eb1506",
   "metadata": {},
   "outputs": [],
   "source": [
    "d = g.dikjastra(0)"
   ]
  },
  {
   "cell_type": "code",
   "execution_count": 20,
   "id": "f6adfe5b",
   "metadata": {},
   "outputs": [
    {
     "data": {
      "text/plain": [
       "[0, 4, 6, 9, 13]"
      ]
     },
     "execution_count": 20,
     "metadata": {},
     "output_type": "execute_result"
    }
   ],
   "source": [
    "d\n",
    "## successfully done djkastra algorithm 🤩"
   ]
  },
  {
   "cell_type": "markdown",
   "id": "e3fc3142",
   "metadata": {},
   "source": [
    "## Successfully Completed Djkastra Algorithm"
   ]
  },
  {
   "cell_type": "code",
   "execution_count": null,
   "id": "f784d8de",
   "metadata": {},
   "outputs": [],
   "source": []
  }
 ],
 "metadata": {
  "kernelspec": {
   "display_name": "Python 3 (ipykernel)",
   "language": "python",
   "name": "python3"
  },
  "language_info": {
   "codemirror_mode": {
    "name": "ipython",
    "version": 3
   },
   "file_extension": ".py",
   "mimetype": "text/x-python",
   "name": "python",
   "nbconvert_exporter": "python",
   "pygments_lexer": "ipython3",
   "version": "3.8.3"
  }
 },
 "nbformat": 4,
 "nbformat_minor": 5
}
