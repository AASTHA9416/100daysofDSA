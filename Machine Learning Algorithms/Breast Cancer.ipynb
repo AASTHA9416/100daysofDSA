{
 "cells": [
  {
   "cell_type": "code",
   "execution_count": 1,
   "id": "fce74ce0",
   "metadata": {},
   "outputs": [],
   "source": [
    "from sklearn import datasets\n",
    "import numpy as np"
   ]
  },
  {
   "cell_type": "code",
   "execution_count": 2,
   "id": "7329b491",
   "metadata": {},
   "outputs": [],
   "source": [
    "dataset = datasets.load_breast_cancer()"
   ]
  },
  {
   "cell_type": "code",
   "execution_count": 3,
   "id": "674726d0",
   "metadata": {},
   "outputs": [
    {
     "data": {
      "text/plain": [
       "['.. _breast_cancer_dataset:',\n",
       " '',\n",
       " 'Breast cancer wisconsin (diagnostic) dataset',\n",
       " '--------------------------------------------',\n",
       " '',\n",
       " '**Data Set Characteristics:**',\n",
       " '',\n",
       " '    :Number of Instances: 569',\n",
       " '',\n",
       " '    :Number of Attributes: 30 numeric, predictive attributes and the class',\n",
       " '',\n",
       " '    :Attribute Information:',\n",
       " '        - radius (mean of distances from center to points on the perimeter)',\n",
       " '        - texture (standard deviation of gray-scale values)',\n",
       " '        - perimeter',\n",
       " '        - area',\n",
       " '        - smoothness (local variation in radius lengths)',\n",
       " '        - compactness (perimeter^2 / area - 1.0)',\n",
       " '        - concavity (severity of concave portions of the contour)',\n",
       " '        - concave points (number of concave portions of the contour)',\n",
       " '        - symmetry',\n",
       " '        - fractal dimension (\"coastline approximation\" - 1)',\n",
       " '',\n",
       " '        The mean, standard error, and \"worst\" or largest (mean of the three',\n",
       " '        worst/largest values) of these features were computed for each image,',\n",
       " '        resulting in 30 features.  For instance, field 0 is Mean Radius, field',\n",
       " '        10 is Radius SE, field 20 is Worst Radius.',\n",
       " '',\n",
       " '        - class:',\n",
       " '                - WDBC-Malignant',\n",
       " '                - WDBC-Benign',\n",
       " '',\n",
       " '    :Summary Statistics:',\n",
       " '',\n",
       " '    ===================================== ====== ======',\n",
       " '                                           Min    Max',\n",
       " '    ===================================== ====== ======',\n",
       " '    radius (mean):                        6.981  28.11',\n",
       " '    texture (mean):                       9.71   39.28',\n",
       " '    perimeter (mean):                     43.79  188.5',\n",
       " '    area (mean):                          143.5  2501.0',\n",
       " '    smoothness (mean):                    0.053  0.163',\n",
       " '    compactness (mean):                   0.019  0.345',\n",
       " '    concavity (mean):                     0.0    0.427',\n",
       " '    concave points (mean):                0.0    0.201',\n",
       " '    symmetry (mean):                      0.106  0.304',\n",
       " '    fractal dimension (mean):             0.05   0.097',\n",
       " '    radius (standard error):              0.112  2.873',\n",
       " '    texture (standard error):             0.36   4.885',\n",
       " '    perimeter (standard error):           0.757  21.98',\n",
       " '    area (standard error):                6.802  542.2',\n",
       " '    smoothness (standard error):          0.002  0.031',\n",
       " '    compactness (standard error):         0.002  0.135',\n",
       " '    concavity (standard error):           0.0    0.396',\n",
       " '    concave points (standard error):      0.0    0.053',\n",
       " '    symmetry (standard error):            0.008  0.079',\n",
       " '    fractal dimension (standard error):   0.001  0.03',\n",
       " '    radius (worst):                       7.93   36.04',\n",
       " '    texture (worst):                      12.02  49.54',\n",
       " '    perimeter (worst):                    50.41  251.2',\n",
       " '    area (worst):                         185.2  4254.0',\n",
       " '    smoothness (worst):                   0.071  0.223',\n",
       " '    compactness (worst):                  0.027  1.058',\n",
       " '    concavity (worst):                    0.0    1.252',\n",
       " '    concave points (worst):               0.0    0.291',\n",
       " '    symmetry (worst):                     0.156  0.664',\n",
       " '    fractal dimension (worst):            0.055  0.208',\n",
       " '    ===================================== ====== ======',\n",
       " '',\n",
       " '    :Missing Attribute Values: None',\n",
       " '',\n",
       " '    :Class Distribution: 212 - Malignant, 357 - Benign',\n",
       " '',\n",
       " '    :Creator:  Dr. William H. Wolberg, W. Nick Street, Olvi L. Mangasarian',\n",
       " '',\n",
       " '    :Donor: Nick Street',\n",
       " '',\n",
       " '    :Date: November, 1995',\n",
       " '',\n",
       " 'This is a copy of UCI ML Breast Cancer Wisconsin (Diagnostic) datasets.',\n",
       " 'https://goo.gl/U2Uwz2',\n",
       " '',\n",
       " 'Features are computed from a digitized image of a fine needle',\n",
       " 'aspirate (FNA) of a breast mass.  They describe',\n",
       " 'characteristics of the cell nuclei present in the image.',\n",
       " '',\n",
       " 'Separating plane described above was obtained using',\n",
       " 'Multisurface Method-Tree (MSM-T) [K. P. Bennett, \"Decision Tree',\n",
       " 'Construction Via Linear Programming.\" Proceedings of the 4th',\n",
       " 'Midwest Artificial Intelligence and Cognitive Science Society,',\n",
       " 'pp. 97-101, 1992], a classification method which uses linear',\n",
       " 'programming to construct a decision tree.  Relevant features',\n",
       " 'were selected using an exhaustive search in the space of 1-4',\n",
       " 'features and 1-3 separating planes.',\n",
       " '',\n",
       " 'The actual linear program used to obtain the separating plane',\n",
       " 'in the 3-dimensional space is that described in:',\n",
       " '[K. P. Bennett and O. L. Mangasarian: \"Robust Linear',\n",
       " 'Programming Discrimination of Two Linearly Inseparable Sets\",',\n",
       " 'Optimization Methods and Software 1, 1992, 23-34].',\n",
       " '',\n",
       " 'This database is also available through the UW CS ftp server:',\n",
       " '',\n",
       " 'ftp ftp.cs.wisc.edu',\n",
       " 'cd math-prog/cpo-dataset/machine-learn/WDBC/',\n",
       " '',\n",
       " '.. topic:: References',\n",
       " '',\n",
       " '   - W.N. Street, W.H. Wolberg and O.L. Mangasarian. Nuclear feature extraction ',\n",
       " '     for breast tumor diagnosis. IS&T/SPIE 1993 International Symposium on ',\n",
       " '     Electronic Imaging: Science and Technology, volume 1905, pages 861-870,',\n",
       " '     San Jose, CA, 1993.',\n",
       " '   - O.L. Mangasarian, W.N. Street and W.H. Wolberg. Breast cancer diagnosis and ',\n",
       " '     prognosis via linear programming. Operations Research, 43(4), pages 570-577, ',\n",
       " '     July-August 1995.',\n",
       " '   - W.H. Wolberg, W.N. Street, and O.L. Mangasarian. Machine learning techniques',\n",
       " '     to diagnose breast cancer from fine-needle aspirates. Cancer Letters 77 (1994) ',\n",
       " '     163-171.']"
      ]
     },
     "execution_count": 3,
     "metadata": {},
     "output_type": "execute_result"
    }
   ],
   "source": [
    "dataset.DESCR.split('\\n')"
   ]
  },
  {
   "cell_type": "code",
   "execution_count": 4,
   "id": "285cf3ac",
   "metadata": {},
   "outputs": [],
   "source": [
    "x = dataset.data\n",
    "y = dataset.target"
   ]
  },
  {
   "cell_type": "code",
   "execution_count": 5,
   "id": "a47a144b",
   "metadata": {},
   "outputs": [],
   "source": [
    "from sklearn.model_selection import train_test_split"
   ]
  },
  {
   "cell_type": "code",
   "execution_count": 6,
   "id": "31a2ddf5",
   "metadata": {},
   "outputs": [],
   "source": [
    "x_train, x_test, y_train, y_test = train_test_split(x,y)"
   ]
  },
  {
   "cell_type": "code",
   "execution_count": 7,
   "id": "b07fc800",
   "metadata": {},
   "outputs": [],
   "source": [
    "import sklearn.preprocessing as preprocessing"
   ]
  },
  {
   "cell_type": "code",
   "execution_count": 8,
   "id": "8052af07",
   "metadata": {},
   "outputs": [],
   "source": [
    "scaler = preprocessing.StandardScaler()"
   ]
  },
  {
   "cell_type": "code",
   "execution_count": 9,
   "id": "2b8ae2b4",
   "metadata": {},
   "outputs": [
    {
     "data": {
      "text/plain": [
       "StandardScaler()"
      ]
     },
     "execution_count": 9,
     "metadata": {},
     "output_type": "execute_result"
    }
   ],
   "source": [
    "scaler.fit(x_train)"
   ]
  },
  {
   "cell_type": "code",
   "execution_count": 10,
   "id": "aa781365",
   "metadata": {},
   "outputs": [],
   "source": [
    "x_train_norma =  scaler.transform(x_train)"
   ]
  },
  {
   "cell_type": "code",
   "execution_count": 11,
   "id": "7bac87c7",
   "metadata": {},
   "outputs": [
    {
     "data": {
      "text/plain": [
       "(426, 30)"
      ]
     },
     "execution_count": 11,
     "metadata": {},
     "output_type": "execute_result"
    }
   ],
   "source": [
    "x_train.shape"
   ]
  },
  {
   "cell_type": "markdown",
   "id": "68c8c1c6",
   "metadata": {},
   "source": [
    "# Adding 1's column in the end "
   ]
  },
  {
   "cell_type": "code",
   "execution_count": 12,
   "id": "eb056053",
   "metadata": {},
   "outputs": [],
   "source": [
    "x_train_with_1s = np.column_stack((x_train,np.ones(x_train.shape[0])))"
   ]
  },
  {
   "cell_type": "code",
   "execution_count": 13,
   "id": "b343e28c",
   "metadata": {},
   "outputs": [],
   "source": [
    "x_train_norma_with_1s = np.column_stack((x_train_norma,np.ones(x_train_norma.shape[0])))"
   ]
  },
  {
   "cell_type": "code",
   "execution_count": 14,
   "id": "99febe55",
   "metadata": {},
   "outputs": [],
   "source": [
    "def sigmoid(z):\n",
    "    return 1/(1+np.exp(-z))"
   ]
  },
  {
   "cell_type": "code",
   "execution_count": 21,
   "id": "0c1c5fc4",
   "metadata": {},
   "outputs": [],
   "source": [
    "def fit(x,y,lr,epochs):\n",
    "    m_and_c = np.zeros(x.shape[1])\n",
    "    for _ in range(epochs):\n",
    "        m_and_c = train(x,y,m_and_c,lr)\n",
    "        if _% 50 == 0:\n",
    "            print(_,\": \",cost(x,y,m_and_c))\n",
    "    return m_and_c"
   ]
  },
  {
   "cell_type": "code",
   "execution_count": 16,
   "id": "3f31cde1",
   "metadata": {},
   "outputs": [],
   "source": [
    "def train(x,y,m_and_c,lr):\n",
    "    N = y.shape[0]\n",
    "    diff = np.zeros(x.shape[1])\n",
    "    for i in range(N):\n",
    "        h = sigmoid(np.dot(x[i],m_and_c))\n",
    "        diff += (-1/N)*(y[i] - h)*x[i]\n",
    "    m_and_c -= lr*diff\n",
    "    return m_and_c"
   ]
  },
  {
   "cell_type": "code",
   "execution_count": 17,
   "id": "25e949b4",
   "metadata": {},
   "outputs": [],
   "source": [
    "def cost(x,y,m_and_c):\n",
    "    N = y.shape[0]\n",
    "    cost = 0\n",
    "    for i in range(N):\n",
    "        h = sigmoid(np.dot(x[i],m_and_c))\n",
    "        cost += -y[i]*np.log(h) - (1-y[i])*np.log(1- h)\n",
    "    return cost"
   ]
  },
  {
   "cell_type": "code",
   "execution_count": 22,
   "id": "e3f936a4",
   "metadata": {},
   "outputs": [
    {
     "name": "stdout",
     "output_type": "stream",
     "text": [
      "0 :  286.4745037388121\n",
      "50 :  137.58097999041325\n",
      "100 :  104.25158468648553\n",
      "150 :  88.14639096674362\n",
      "200 :  78.26338879008395\n",
      "250 :  71.44496259961944\n",
      "300 :  66.39912353358592\n",
      "350 :  62.48487776828581\n",
      "400 :  59.34312903221563\n",
      "450 :  56.7551424805109\n",
      "500 :  54.57924655189242\n",
      "550 :  52.719251416194936\n",
      "600 :  51.1073493410941\n",
      "650 :  49.694249707322086\n",
      "700 :  48.443191380737794\n",
      "750 :  47.326153866624544\n",
      "800 :  46.3213746370275\n",
      "850 :  45.411673210646946\n",
      "900 :  44.583290358327886\n",
      "950 :  43.8250658176962\n",
      "1000 :  43.12784412279052\n",
      "1050 :  42.48403761253687\n",
      "1100 :  41.88729990826783\n",
      "1150 :  41.332278424855694\n",
      "1200 :  40.81442434100798\n",
      "1250 :  40.32984495736866\n",
      "1300 :  39.87518774308096\n",
      "1350 :  39.4475483626957\n",
      "1400 :  39.044397054870636\n",
      "1450 :  38.66351920146657\n",
      "1500 :  38.30296697486352\n",
      "1550 :  37.96101971111838\n",
      "1600 :  37.63615121322572\n",
      "1650 :  37.32700260097907\n",
      "1700 :  37.03235963232661\n",
      "1750 :  36.75113365400127\n",
      "1800 :  36.48234551664389\n",
      "1850 :  36.22511192594806\n",
      "1900 :  35.978633806895466\n",
      "1950 :  35.742186340468805\n",
      "2000 :  35.515110396883024\n",
      "2050 :  35.29680514049015\n",
      "2100 :  35.08672162217631\n",
      "2150 :  34.884357207611366\n",
      "2200 :  34.68925071589499\n",
      "2250 :  34.50097816433377\n",
      "2300 :  34.31914903230653\n",
      "2350 :  34.14340297125726\n",
      "2400 :  33.97340689940712\n",
      "2450 :  33.808852429307194\n",
      "2500 :  33.649453584241805\n",
      "2550 :  33.49494476605334\n",
      "2600 :  33.34507894243043\n",
      "2650 :  33.19962602629106\n",
      "2700 :  33.05837142374389\n",
      "2750 :  32.92111473036592\n",
      "2800 :  32.78766855828492\n",
      "2850 :  32.65785747889465\n",
      "2900 :  32.53151706801828\n",
      "2950 :  32.40849304203835\n",
      "3000 :  32.288640474965256\n",
      "3050 :  32.17182308766944\n",
      "3100 :  32.05791260157693\n",
      "3150 :  31.94678815006044\n",
      "3200 :  31.8383357415614\n",
      "3250 :  31.732447769177423\n",
      "3300 :  31.62902256205612\n",
      "3350 :  31.52796397446738\n",
      "3400 :  31.42918100888512\n",
      "3450 :  31.332587469817927\n",
      "3500 :  31.238101645479503\n",
      "3550 :  31.145646014703917\n",
      "3600 :  31.05514697678381\n",
      "3650 :  30.966534602152315\n",
      "3700 :  30.879742402043643\n",
      "3750 :  30.79470711545626\n",
      "3800 :  30.7113685119104\n",
      "3850 :  30.629669208641683\n",
      "3900 :  30.549554501003986\n",
      "3950 :  30.470972204974302\n",
      "4000 :  30.393872510756662\n",
      "4050 :  30.318207846577074\n",
      "4100 :  30.24393275184615\n",
      "4150 :  30.171003758940405\n",
      "4200 :  30.099379282922893\n",
      "4250 :  30.029019518583183\n",
      "4300 :  29.959886344232686\n",
      "4350 :  29.89194323174002\n",
      "4400 :  29.825155162336515\n",
      "4450 :  29.75948854776113\n",
      "4500 :  29.694911156351825\n",
      "4550 :  29.631392043722574\n",
      "4600 :  29.568901487694706\n",
      "4650 :  29.507410927179368\n",
      "4700 :  29.446892904732664\n",
      "4750 :  29.38732101252561\n",
      "4800 :  29.328669841493735\n",
      "4850 :  29.270914933448093\n",
      "4900 :  29.21403273594753\n",
      "4950 :  29.158000559746345\n"
     ]
    }
   ],
   "source": [
    "m_and_c = fit(x_train_norma_with_1s,y_train,0.01,5000)"
   ]
  },
  {
   "cell_type": "code",
   "execution_count": 23,
   "id": "1ac04103",
   "metadata": {},
   "outputs": [],
   "source": [
    "def predict(x,m_and_c):\n",
    "    N = x.shape[0]\n",
    "    arr =[]\n",
    "    for i in range(N):\n",
    "        h = sigmoid(np.dot(x[i],m_and_c))\n",
    "        if h>= 0.5:\n",
    "            arr.append(1)\n",
    "        else:\n",
    "            arr.append(0)\n",
    "    return np.array(arr)"
   ]
  },
  {
   "cell_type": "code",
   "execution_count": 24,
   "id": "cc6969e9",
   "metadata": {},
   "outputs": [],
   "source": [
    "y_pred = predict(x_train_norma_with_1s,m_and_c)"
   ]
  },
  {
   "cell_type": "code",
   "execution_count": 36,
   "id": "188e2af3",
   "metadata": {},
   "outputs": [],
   "source": [
    "def accuracy(y,y_pred):\n",
    "    N = y.shape[0]\n",
    "    return (y == y_pred).sum()/N"
   ]
  },
  {
   "cell_type": "code",
   "execution_count": 37,
   "id": "8b683e6d",
   "metadata": {},
   "outputs": [
    {
     "data": {
      "text/plain": [
       "0.9859154929577465"
      ]
     },
     "execution_count": 37,
     "metadata": {},
     "output_type": "execute_result"
    }
   ],
   "source": [
    "accuracy(y_pred,y_train)"
   ]
  },
  {
   "cell_type": "code",
   "execution_count": 38,
   "id": "90aa7393",
   "metadata": {},
   "outputs": [],
   "source": [
    "x_test_norma =  scaler.transform(x_test)"
   ]
  },
  {
   "cell_type": "markdown",
   "id": "9b27ba99",
   "metadata": {},
   "source": [
    "# Adding 1's column in the end "
   ]
  },
  {
   "cell_type": "code",
   "execution_count": 39,
   "id": "36b57620",
   "metadata": {},
   "outputs": [],
   "source": [
    "x_test_norma_with_1s = np.column_stack((x_test_norma,np.ones(x_test_norma.shape[0])))"
   ]
  },
  {
   "cell_type": "code",
   "execution_count": 40,
   "id": "ad34ef09",
   "metadata": {},
   "outputs": [],
   "source": [
    "y_test_pred = predict(x_test_norma_with_1s,m_and_c)"
   ]
  },
  {
   "cell_type": "code",
   "execution_count": 41,
   "id": "0be22ffa",
   "metadata": {},
   "outputs": [
    {
     "data": {
      "text/plain": [
       "0.9790209790209791"
      ]
     },
     "execution_count": 41,
     "metadata": {},
     "output_type": "execute_result"
    }
   ],
   "source": [
    "accuracy(y_test_pred,y_test)"
   ]
  },
  {
   "cell_type": "code",
   "execution_count": null,
   "id": "cec90362",
   "metadata": {},
   "outputs": [],
   "source": []
  }
 ],
 "metadata": {
  "kernelspec": {
   "display_name": "Python 3",
   "language": "python",
   "name": "python3"
  },
  "language_info": {
   "codemirror_mode": {
    "name": "ipython",
    "version": 3
   },
   "file_extension": ".py",
   "mimetype": "text/x-python",
   "name": "python",
   "nbconvert_exporter": "python",
   "pygments_lexer": "ipython3",
   "version": "3.9.6"
  }
 },
 "nbformat": 4,
 "nbformat_minor": 5
}
