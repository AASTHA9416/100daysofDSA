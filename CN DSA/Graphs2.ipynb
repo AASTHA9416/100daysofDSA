{
 "cells": [
  {
   "cell_type": "markdown",
   "id": "04b5dffa",
   "metadata": {},
   "source": [
    "# Graphs"
   ]
  },
  {
   "cell_type": "code",
   "execution_count": 22,
   "id": "a878aa49",
   "metadata": {},
   "outputs": [],
   "source": [
    "class edge:\n",
    "    def __init__(self, src, dest, wt):\n",
    "        self.src = src\n",
    "        self.dest = dest\n",
    "        self.wt = wt"
   ]
  },
  {
   "cell_type": "code",
   "execution_count": 23,
   "id": "73f80fed",
   "metadata": {},
   "outputs": [],
   "source": [
    "#edges = [edge(0,1,1), edge(0,2,5), edge(2,3,10), edge(0,3,4), edge(1,3,3), edge(1,2,6), edge(3,4,7), edge(2,4,8), edge(4,5,2), edge(2,5,9), edge(3,5,6)]\n",
    "edges = [edge(0,1,3), edge(0,3,5), edge(1,2,1), edge(2,3,8)]"
   ]
  },
  {
   "cell_type": "code",
   "execution_count": 24,
   "id": "01766b99",
   "metadata": {},
   "outputs": [],
   "source": [
    "edges.sort(key = lambda x:x.wt)"
   ]
  },
  {
   "cell_type": "code",
   "execution_count": 25,
   "id": "032a6f41",
   "metadata": {},
   "outputs": [],
   "source": [
    "n = 4\n",
    "count = 0\n",
    "mst = []\n",
    "parent = [i for i in range(6)]\n",
    "while count < n-1:\n",
    "    v1 = edges[count].src\n",
    "    v2 = edges[count].dest\n",
    "    \n",
    "    if parent[v1] != parent[v2]:\n",
    "        mst.append(edges[count])\n",
    "        parent[v2] = parent[v1]\n",
    "    count += 1\n",
    "    \n",
    "    "
   ]
  },
  {
   "cell_type": "code",
   "execution_count": 26,
   "id": "b9b1ba5e",
   "metadata": {},
   "outputs": [
    {
     "data": {
      "text/plain": [
       "[<__main__.edge at 0x15ffb21a8e0>,\n",
       " <__main__.edge at 0x15ffb21a400>,\n",
       " <__main__.edge at 0x15ffb21a850>]"
      ]
     },
     "execution_count": 26,
     "metadata": {},
     "output_type": "execute_result"
    }
   ],
   "source": [
    "mst"
   ]
  },
  {
   "cell_type": "code",
   "execution_count": 27,
   "id": "a3b208af",
   "metadata": {},
   "outputs": [
    {
     "name": "stdout",
     "output_type": "stream",
     "text": [
      "1 2 1\n",
      "0 1 3\n",
      "0 3 5\n"
     ]
    }
   ],
   "source": [
    "for edge in mst:\n",
    "    print(edge.src, edge.dest, edge.wt)"
   ]
  },
  {
   "cell_type": "code",
   "execution_count": 28,
   "id": "7914d542",
   "metadata": {},
   "outputs": [
    {
     "name": "stdout",
     "output_type": "stream",
     "text": [
      "[0, 0, 1, 0, 4, 5]\n"
     ]
    }
   ],
   "source": [
    "print(parent)"
   ]
  },
  {
   "cell_type": "code",
   "execution_count": 20,
   "id": "d544be82",
   "metadata": {},
   "outputs": [],
   "source": [
    "def take_input():\n",
    "    print(\"Enter number of vertices and edges\")\n",
    "    v, e = map(int, input().split())\n",
    "    edges = []\n",
    "    for i in range(e):\n",
    "        s, d, w = map(int, input().split())\n",
    "        edges.append(edge(s,d,w))\n",
    "    return edge"
   ]
  },
  {
   "cell_type": "code",
   "execution_count": null,
   "id": "9a4ae04d",
   "metadata": {},
   "outputs": [],
   "source": []
  }
 ],
 "metadata": {
  "kernelspec": {
   "display_name": "Python 3 (ipykernel)",
   "language": "python",
   "name": "python3"
  },
  "language_info": {
   "codemirror_mode": {
    "name": "ipython",
    "version": 3
   },
   "file_extension": ".py",
   "mimetype": "text/x-python",
   "name": "python",
   "nbconvert_exporter": "python",
   "pygments_lexer": "ipython3",
   "version": "3.8.3"
  }
 },
 "nbformat": 4,
 "nbformat_minor": 5
}
