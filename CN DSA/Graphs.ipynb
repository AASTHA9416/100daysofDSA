{
 "cells": [
  {
   "cell_type": "markdown",
   "id": "e3ca5d8a",
   "metadata": {},
   "source": [
    "# Graphs"
   ]
  },
  {
   "cell_type": "code",
   "execution_count": 87,
   "id": "ed8d681d",
   "metadata": {},
   "outputs": [],
   "source": [
    "import queue\n",
    "class graph:\n",
    "    def __init__(self, nVertices):\n",
    "        self.nVertices = nVertices\n",
    "        self.adjMatrix = [[0 for i in range(nVertices)] for j in range(nVertices)]\n",
    "        \n",
    "    def addEdge(self, v1, v2):\n",
    "        self.adjMatrix[v1][v2] = 1\n",
    "        self.adjMatrix[v2][v1] = 1\n",
    "        \n",
    "    def removeEdge(self, v1, v2):\n",
    "        if self.containsEdge(v1, v2) is False:\n",
    "            return\n",
    "        self.adjMatrix[v1][v2] = 0\n",
    "        self.adjMatrix[v2][v1] = 0\n",
    "        \n",
    "    def containEdge(self, v1, v2):\n",
    "        return True if self.adjMatrix[v1][v2] > 0 else False\n",
    "    \n",
    "    \n",
    "    ## Depth First Search\n",
    "    def __dfsHelper(self, sv, visited):\n",
    "        print(sv)\n",
    "        visited[sv] = True\n",
    "        for i in range(self.nVertices):\n",
    "            if self.adjMatrix[sv][i] > 0 and visited[i] is False:\n",
    "                self.__dfsHelper(i, visited)\n",
    "            \n",
    "        \n",
    "    \n",
    "    def dfs(self):\n",
    "        visited = [False for i in range(self.nVertices)]\n",
    "        for i in range(self.nVertices):\n",
    "            if visited[i] is False:\n",
    "                self.__dfsHelper(i, visited)\n",
    "\n",
    "    def __bfsHelper(self, sv, visited):\n",
    "        q = queue.Queue()\n",
    "        q.put(sv)\n",
    "        visited[sv] = True\n",
    "        while not q.empty():\n",
    "            u = q.get()\n",
    "            print(u)\n",
    "            for i in range(self.nVertices):\n",
    "                if self.adjMatrix[u][i] > 0 and visited[i] is False:\n",
    "                    q.put(i)\n",
    "                    visited[i] = True\n",
    "    def bfs(self):\n",
    "        visited = [False for i in range(self.nVertices)]\n",
    "        for i in range(self.nVertices):\n",
    "            if visited[i] is False:\n",
    "                self.__bfsHelper(i, visited)\n",
    "    \n",
    "    def getPathBFS(self, sv, ev):\n",
    "        visited = [False for i in range(self.nVertices)]\n",
    "        parent = {}\n",
    "        q = queue.Queue()\n",
    "        q.put(sv)\n",
    "        visited[sv] = True\n",
    "        while not q.empty():\n",
    "            front = q.get()\n",
    "            for i in range(self.nVertices):\n",
    "                if self.adjMatrix[front][i] > 0 and visited[i] is False:\n",
    "                    parent[i] = front\n",
    "                    q.put(i)\n",
    "                    visited[i] = True\n",
    "                    if i == ev:\n",
    "                        l = [ev]\n",
    "                        while l[-1] != sv:\n",
    "                            l.append(parent[l[-1]])\n",
    "                        return l\n",
    "        return None\n",
    "\n",
    "            \n",
    "                    \n",
    "    def __hasPathHelp(self, v1, v2, visited):\n",
    "        print(v1, v2)\n",
    "        if self.adjMatrix[v1][v2] > 0:\n",
    "            return True\n",
    "        visited[v1] = True\n",
    "        for i in range(self.nVertices):\n",
    "            if self.adjMatrix[v1][i] > 0 and visited[i] is False:\n",
    "                if self.__hasPathHelp(i, v2, visited) == True:\n",
    "                    return True\n",
    "        return False\n",
    "                \n",
    "        \n",
    "    def hasPath(self, v1, v2):\n",
    "        visited = [False for i in range(self.nVertices)]\n",
    "        return self.__hasPathHelp(v1, v2, visited)\n",
    "    \n",
    "    def __getPathHelp(self, v1, v2, visited):\n",
    "        if self.adjMatrix[v1][v2] > 0:\n",
    "            return [v2, v1]\n",
    "        visited[v1] = True\n",
    "        for i in range(self.nVertices):\n",
    "            if self.adjMatrix[v1][i] > 0 and visited[i] is False:\n",
    "                l = self.__getPathHelp(i, v2, visited)\n",
    "                if l:\n",
    "                    print(l)\n",
    "                    l.append(v1)\n",
    "                    return l\n",
    "        return None\n",
    "    \n",
    "    def getPath(self, v1, v2):\n",
    "        visited = [False for i in range(self.nVertices)]\n",
    "        return self.__getPathHelp(v1, v2, visited)\n",
    "                \n",
    "        \n",
    "    def __str__(self):\n",
    "        return str(self.adjMatrix)"
   ]
  },
  {
   "cell_type": "code",
   "execution_count": 89,
   "id": "4a3bda38",
   "metadata": {},
   "outputs": [
    {
     "name": "stdout",
     "output_type": "stream",
     "text": [
      "0\n",
      "1\n",
      "3\n",
      "2\n",
      "4\n",
      "6\n",
      "7\n",
      "5\n"
     ]
    }
   ],
   "source": [
    "g = graph(8)\n",
    "g.addEdge(0,1)\n",
    "g.addEdge(0,3)\n",
    "g.addEdge(2,4)\n",
    "g.addEdge(2,5)\n",
    "g.addEdge(4,6)\n",
    "g.addEdge(6,7)\n",
    "g.addEdge(5,7)\n",
    "g.dfs()"
   ]
  },
  {
   "cell_type": "code",
   "execution_count": 91,
   "id": "41898344",
   "metadata": {},
   "outputs": [
    {
     "data": {
      "text/plain": [
       "[7, 5, 2]"
      ]
     },
     "execution_count": 91,
     "metadata": {},
     "output_type": "execute_result"
    }
   ],
   "source": [
    "g.getPathBFS(2,7)"
   ]
  },
  {
   "cell_type": "markdown",
   "id": "84285119",
   "metadata": {},
   "source": [
    "## DFS (Depth First Search)"
   ]
  },
  {
   "cell_type": "code",
   "execution_count": 46,
   "id": "1f812c08",
   "metadata": {},
   "outputs": [
    {
     "name": "stdout",
     "output_type": "stream",
     "text": [
      "[[0, 1, 0, 1, 0, 0, 0], [1, 0, 0, 0, 0, 0, 0], [0, 0, 0, 0, 1, 1, 0], [1, 0, 0, 0, 0, 0, 0], [0, 0, 1, 0, 0, 0, 1], [0, 0, 1, 0, 0, 0, 0], [0, 0, 0, 0, 1, 0, 0]]\n"
     ]
    }
   ],
   "source": [
    "print(g)"
   ]
  },
  {
   "cell_type": "code",
   "execution_count": 47,
   "id": "9c75815a",
   "metadata": {},
   "outputs": [
    {
     "name": "stdout",
     "output_type": "stream",
     "text": [
      "[6, 4]\n"
     ]
    },
    {
     "data": {
      "text/plain": [
       "[6, 4, 4]"
      ]
     },
     "execution_count": 47,
     "metadata": {},
     "output_type": "execute_result"
    }
   ],
   "source": [
    "g.getPath(2,6)"
   ]
  },
  {
   "cell_type": "code",
   "execution_count": 48,
   "id": "30be49d5",
   "metadata": {},
   "outputs": [
    {
     "name": "stdout",
     "output_type": "stream",
     "text": [
      "0\n",
      "1\n",
      "3\n",
      "2\n",
      "4\n",
      "5\n",
      "6\n"
     ]
    }
   ],
   "source": [
    "g.bfs()"
   ]
  },
  {
   "cell_type": "code",
   "execution_count": 85,
   "id": "c994cfb1",
   "metadata": {},
   "outputs": [
    {
     "name": "stdout",
     "output_type": "stream",
     "text": [
      "2 0\n",
      "4 0\n",
      "6 0\n",
      "7 0\n",
      "5 0\n",
      "False\n"
     ]
    }
   ],
   "source": [
    "print(g.hasPath(2,0))"
   ]
  },
  {
   "cell_type": "code",
   "execution_count": 50,
   "id": "64793216",
   "metadata": {},
   "outputs": [
    {
     "data": {
      "text/plain": [
       "1"
      ]
     },
     "execution_count": 50,
     "metadata": {},
     "output_type": "execute_result"
    }
   ],
   "source": [
    "g.adjMatrix[6][4]"
   ]
  },
  {
   "cell_type": "code",
   "execution_count": 51,
   "id": "eb54d4de",
   "metadata": {},
   "outputs": [
    {
     "data": {
      "text/plain": [
       "False"
      ]
     },
     "execution_count": 51,
     "metadata": {},
     "output_type": "execute_result"
    }
   ],
   "source": [
    "bool(None)"
   ]
  },
  {
   "cell_type": "code",
   "execution_count": 52,
   "id": "3324c57c",
   "metadata": {},
   "outputs": [
    {
     "name": "stdout",
     "output_type": "stream",
     "text": [
      "[6, 4]\n"
     ]
    },
    {
     "data": {
      "text/plain": [
       "[6, 4, 4]"
      ]
     },
     "execution_count": 52,
     "metadata": {},
     "output_type": "execute_result"
    }
   ],
   "source": [
    "g.getPath(2,6)"
   ]
  },
  {
   "cell_type": "code",
   "execution_count": null,
   "id": "c60706a8",
   "metadata": {},
   "outputs": [],
   "source": []
  }
 ],
 "metadata": {
  "kernelspec": {
   "display_name": "Python 3 (ipykernel)",
   "language": "python",
   "name": "python3"
  },
  "language_info": {
   "codemirror_mode": {
    "name": "ipython",
    "version": 3
   },
   "file_extension": ".py",
   "mimetype": "text/x-python",
   "name": "python",
   "nbconvert_exporter": "python",
   "pygments_lexer": "ipython3",
   "version": "3.8.3"
  }
 },
 "nbformat": 4,
 "nbformat_minor": 5
}
