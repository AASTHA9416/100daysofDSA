{
 "cells": [
  {
   "attachments": {
    "image.png": {
     "image/png": "[encoded data removed]"
    }
   },
   "cell_type": "markdown",
   "id": "b07a799d",
   "metadata": {},
   "source": [
    "# Binary Tree\n",
    "![image.png](attachment:image.png)\n",
    "\n",
    "**A Binary Tree is a tree like structure. Each Node can have maximum 2 child nodes. Any general node of a binary tree should have data, left and right**"
   ]
  },
  {
   "cell_type": "code",
   "execution_count": 1,
   "id": "3c8afc9a",
   "metadata": {},
   "outputs": [],
   "source": [
    "class BinaryTreeNode:\n",
    "    def __init__(self,data):\n",
    "        self.data = data\n",
    "        self.left = None\n",
    "        self.right = None"
   ]
  },
  {
   "cell_type": "markdown",
   "id": "18e4726d",
   "metadata": {},
   "source": [
    "## Print a Binary Tree"
   ]
  },
  {
   "cell_type": "code",
   "execution_count": 2,
   "id": "15f983d9",
   "metadata": {},
   "outputs": [],
   "source": [
    "def printTree(root):\n",
    "    if root == None:\n",
    "        return\n",
    "    print(root.data)\n",
    "    printTree(root.left)\n",
    "    printTree(root.right)"
   ]
  },
  {
   "cell_type": "code",
   "execution_count": 3,
   "id": "7e682199",
   "metadata": {},
   "outputs": [],
   "source": [
    "def printTreeDetailed(root):\n",
    "    if root == None:\n",
    "        return\n",
    "    print(root.data, end = \" : \")\n",
    "    if root.left != None:\n",
    "        print( \"L\", root.left.data , end = \", \")\n",
    "    if root.right != None:\n",
    "        print(\"R\", root.right.data, end = \" \")\n",
    "    print(\"\")\n",
    "    printTreeDetailed(root.left)\n",
    "    printTreeDetailed(root.right)"
   ]
  },
  {
   "cell_type": "markdown",
   "id": "df46fadf",
   "metadata": {},
   "source": [
    "## Binary Tree by User Input"
   ]
  },
  {
   "cell_type": "code",
   "execution_count": 43,
   "id": "2392310a",
   "metadata": {},
   "outputs": [],
   "source": [
    "def treeInput():\n",
    "    rootData = int(input())\n",
    "    if rootData == -1:\n",
    "        return None\n",
    "    root = BinaryTreeNode(rootData)\n",
    "    leftTree = treeInput()\n",
    "    rightTree = treeInput()\n",
    "    \n",
    "    root.left = leftTree\n",
    "    root.right = rightTree\n",
    "    \n",
    "    return root"
   ]
  },
  {
   "cell_type": "markdown",
   "id": "a8be7c70",
   "metadata": {},
   "source": [
    "## Number of Nodes in a Binary Tree"
   ]
  },
  {
   "cell_type": "code",
   "execution_count": 9,
   "id": "f5b02b66",
   "metadata": {},
   "outputs": [],
   "source": [
    "def numNodes(root):\n",
    "    if root == None:\n",
    "        return 0\n",
    "    total = 1 + Nodes(root.left) + Nodes(root.right)\n",
    "    return total"
   ]
  },
  {
   "cell_type": "markdown",
   "id": "30c743ec",
   "metadata": {},
   "source": [
    "## Sum of Nodes"
   ]
  },
  {
   "cell_type": "code",
   "execution_count": 11,
   "id": "fb511a82",
   "metadata": {},
   "outputs": [],
   "source": [
    "def sumNodes(root):\n",
    "    if root == None:\n",
    "        return 0\n",
    "    leftSum = sumNodes(root.left)\n",
    "    rightSum = sumNodes(root.right)\n",
    "    \n",
    "    return root.data + leftSum + rightSum"
   ]
  },
  {
   "cell_type": "markdown",
   "id": "f9a1e58d",
   "metadata": {},
   "source": [
    "## Pre-Order Traversal"
   ]
  },
  {
   "cell_type": "code",
   "execution_count": 20,
   "id": "e2bf16a4",
   "metadata": {},
   "outputs": [],
   "source": [
    "def preOrder(root):\n",
    "    if root == None:\n",
    "        return\n",
    "    print(root.data)\n",
    "    preOrder(root.left)\n",
    "    preOrder(root.right)\n",
    "    \n",
    "             "
   ]
  },
  {
   "cell_type": "markdown",
   "id": "4e190283",
   "metadata": {},
   "source": [
    "## Post-Order Traversal"
   ]
  },
  {
   "cell_type": "code",
   "execution_count": 22,
   "id": "33e9b8b5",
   "metadata": {},
   "outputs": [],
   "source": [
    "def postOrder(root):\n",
    "    if root == None:\n",
    "        return\n",
    "    postOrder(root.left)\n",
    "    postOrder(root.right)\n",
    "    print(root.data)"
   ]
  },
  {
   "cell_type": "markdown",
   "id": "796a171a",
   "metadata": {},
   "source": [
    "## In-Order Traversal"
   ]
  },
  {
   "cell_type": "code",
   "execution_count": 25,
   "id": "ca121d99",
   "metadata": {},
   "outputs": [],
   "source": [
    "def inOrder(root):\n",
    "    if root == None:\n",
    "        return\n",
    "    inOrder(root.left)\n",
    "    print(root.data)\n",
    "    inOrder(root.right)"
   ]
  },
  {
   "cell_type": "markdown",
   "id": "de3a85b8",
   "metadata": {},
   "source": [
    "## Node with Largest Data"
   ]
  },
  {
   "cell_type": "code",
   "execution_count": 27,
   "id": "54e360e4",
   "metadata": {},
   "outputs": [],
   "source": [
    "def largestData(root):\n",
    "    if root == None:\n",
    "        return -1\n",
    "    largestLeft = largestData(root.left)\n",
    "    largestRight = largestData(root.right)\n",
    "    return max(root.data, largestLeft, largestRight)"
   ]
  },
  {
   "cell_type": "code",
   "execution_count": null,
   "id": "ae96f96c",
   "metadata": {},
   "outputs": [],
   "source": []
  },
  {
   "cell_type": "code",
   "execution_count": null,
   "id": "6604eaa8",
   "metadata": {},
   "outputs": [],
   "source": []
  },
  {
   "cell_type": "code",
   "execution_count": null,
   "id": "f4dea201",
   "metadata": {},
   "outputs": [],
   "source": []
  },
  {
   "cell_type": "code",
   "execution_count": 44,
   "id": "3b76224c",
   "metadata": {},
   "outputs": [
    {
     "name": "stdout",
     "output_type": "stream",
     "text": [
      "1\n",
      "2\n",
      "4\n",
      "-1\n",
      "-1\n",
      "5\n",
      "-1\n",
      "-1\n",
      "3\n",
      "-1\n",
      "7\n",
      "-1\n",
      "-1\n",
      "1 : L 2, R 3 \n",
      "2 : L 4, R 5 \n",
      "4 : \n",
      "5 : \n",
      "3 : R 7 \n",
      "7 : \n"
     ]
    }
   ],
   "source": [
    "root = treeInput()\n",
    "printTreeDetailed(root)"
   ]
  },
  {
   "cell_type": "markdown",
   "id": "257299a4",
   "metadata": {},
   "source": []
  },
  {
   "cell_type": "code",
   "execution_count": null,
   "id": "6387daad",
   "metadata": {},
   "outputs": [],
   "source": []
  },
  {
   "cell_type": "code",
   "execution_count": 14,
   "id": "68da4e6e",
   "metadata": {},
   "outputs": [],
   "source": [
    "bt1 = BinaryTreeNode(10)\n",
    "bt2 = BinaryTreeNode(20)\n",
    "bt3 = BinaryTreeNode(30)\n",
    "\n",
    "bt4 = BinaryTreeNode(40)\n",
    "bt5 = BinaryTreeNode(50)"
   ]
  },
  {
   "cell_type": "code",
   "execution_count": 15,
   "id": "18c7bade",
   "metadata": {},
   "outputs": [],
   "source": [
    "bt1.left = bt2\n",
    "bt1.right = bt3\n",
    "\n",
    "bt2.left = bt4\n",
    "bt2.right = bt5"
   ]
  },
  {
   "cell_type": "code",
   "execution_count": 16,
   "id": "87530a0f",
   "metadata": {},
   "outputs": [
    {
     "name": "stdout",
     "output_type": "stream",
     "text": [
      "10 : L 20, R 30 \n",
      "20 : L 40, R 50 \n",
      "40 : \n",
      "50 : \n",
      "30 : \n"
     ]
    }
   ],
   "source": [
    "printTreeDetailed(bt1)"
   ]
  },
  {
   "cell_type": "code",
   "execution_count": 17,
   "id": "9b4a6e7f",
   "metadata": {},
   "outputs": [
    {
     "data": {
      "text/plain": [
       "5"
      ]
     },
     "execution_count": 17,
     "metadata": {},
     "output_type": "execute_result"
    }
   ],
   "source": [
    "numNodes(bt1)"
   ]
  },
  {
   "cell_type": "code",
   "execution_count": 18,
   "id": "913ec5e8",
   "metadata": {},
   "outputs": [
    {
     "data": {
      "text/plain": [
       "150"
      ]
     },
     "execution_count": 18,
     "metadata": {},
     "output_type": "execute_result"
    }
   ],
   "source": [
    "sumNodes(bt1)"
   ]
  },
  {
   "cell_type": "code",
   "execution_count": 21,
   "id": "8d5df532",
   "metadata": {},
   "outputs": [
    {
     "name": "stdout",
     "output_type": "stream",
     "text": [
      "10\n",
      "20\n",
      "40\n",
      "50\n",
      "30\n"
     ]
    }
   ],
   "source": [
    "preOrder(bt1)"
   ]
  },
  {
   "cell_type": "code",
   "execution_count": 23,
   "id": "cb172092",
   "metadata": {},
   "outputs": [
    {
     "name": "stdout",
     "output_type": "stream",
     "text": [
      "40\n",
      "50\n",
      "20\n",
      "30\n",
      "10\n"
     ]
    }
   ],
   "source": [
    "postOrder(bt1)"
   ]
  },
  {
   "cell_type": "code",
   "execution_count": 26,
   "id": "4d9e1688",
   "metadata": {},
   "outputs": [
    {
     "name": "stdout",
     "output_type": "stream",
     "text": [
      "40\n",
      "20\n",
      "50\n",
      "10\n",
      "30\n"
     ]
    }
   ],
   "source": [
    "inOrder(bt1)"
   ]
  },
  {
   "cell_type": "code",
   "execution_count": 28,
   "id": "1c036455",
   "metadata": {},
   "outputs": [
    {
     "data": {
      "text/plain": [
       "50"
      ]
     },
     "execution_count": 28,
     "metadata": {},
     "output_type": "execute_result"
    }
   ],
   "source": [
    "largestData(bt1)"
   ]
  },
  {
   "cell_type": "code",
   "execution_count": null,
   "id": "229f14e7",
   "metadata": {},
   "outputs": [],
   "source": []
  }
 ],
 "metadata": {
  "kernelspec": {
   "display_name": "Python 3 (ipykernel)",
   "language": "python",
   "name": "python3"
  },
  "language_info": {
   "codemirror_mode": {
    "name": "ipython",
    "version": 3
   },
   "file_extension": ".py",
   "mimetype": "text/x-python",
   "name": "python",
   "nbconvert_exporter": "python",
   "pygments_lexer": "ipython3",
   "version": "3.8.3"
  }
 },
 "nbformat": 4,
 "nbformat_minor": 5
}
