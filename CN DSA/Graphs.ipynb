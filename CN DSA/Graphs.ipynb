{
 "cells": [
  {
   "cell_type": "markdown",
   "id": "e3ca5d8a",
   "metadata": {},
   "source": [
    "# Graphs"
   ]
  },
  {
   "cell_type": "code",
   "execution_count": 1,
   "id": "ed8d681d",
   "metadata": {},
   "outputs": [],
   "source": [
    "import queue\n",
    "class graph:\n",
    "    def __init__(self, nVertices):\n",
    "        self.nVertices = nVertices\n",
    "        self.adjMatrix = [[0 for i in range(nVertices)] for j in range(nVertices)]\n",
    "        \n",
    "    def addEdge(self, v1, v2):\n",
    "        self.adjMatrix[v1][v2] = 1\n",
    "        self.adjMatrix[v2][v1] = 1\n",
    "        \n",
    "    def removeEdge(self, v1, v2):\n",
    "        if self.containsEdge(v1, v2) is False:\n",
    "            return\n",
    "        self.adjMatrix[v1][v2] = 0\n",
    "        self.adjMatrix[v2][v1] = 0\n",
    "        \n",
    "    def containEdge(self, v1, v2):\n",
    "        return True if self.adjMatrix[v1][v2] > 0 else False\n",
    "    \n",
    "    \n",
    "    ## Depth First Search\n",
    "    def __dfsHelper(self, sv, visited):\n",
    "        print(sv)\n",
    "        visited[sv] = True\n",
    "        for i in range(self.nVertices):\n",
    "            if self.adjMatrix[sv][i] > 0 and visited[i] is False:\n",
    "                self.__dfsHelper(i, visited)\n",
    "            \n",
    "        \n",
    "    \n",
    "    def dfs(self):\n",
    "        visited = [False for i in range(self.nVertices)]\n",
    "        for i in range(self.nVertices):\n",
    "            if visited[i] is False:\n",
    "                self.__dfsHelper(i, visited)\n",
    "\n",
    "    def __bfsHelper(self, sv, visited):\n",
    "        q = queue.Queue()\n",
    "        q.put(sv)\n",
    "        visited[sv] = True\n",
    "        while not q.empty():\n",
    "            u = q.get()\n",
    "            print(u)\n",
    "            for i in range(self.nVertices):\n",
    "                if self.adjMatrix[u][i] > 0 and visited[i] is False:\n",
    "                    q.put(i)\n",
    "                    visited[i] = True\n",
    "    def bfs(self):\n",
    "        visited = [False for i in range(self.nVertices)]\n",
    "        for i in range(self.nVertices):\n",
    "            if visited[i] is False:\n",
    "                self.__bfsHelper(i, visited)\n",
    "    \n",
    "    \n",
    "    \n",
    "    \n",
    "    \n",
    "    def __hasPathHelp(self, v1, v2, visited):\n",
    "        print(v1, v2)\n",
    "        if self.adjMatrix[v1][v2] > 0:\n",
    "            return True\n",
    "        visited[v1] = True\n",
    "        for i in range(self.nVertices):\n",
    "            if self.adjMatrix[v1][i] > 0 and visited[i] is False:\n",
    "                if self.__hasPathHelp(i, v2, visited) == True:\n",
    "                    return True\n",
    "        return False\n",
    "                \n",
    "        \n",
    "    def hasPath(self, v1, v2):\n",
    "        visited = [False for i in range(self.nVertices)]\n",
    "        return self.__hasPathHelp(v1, v2, visited)\n",
    "    \n",
    "    def __getPathHelp(self, v1, v2, visited):\n",
    "        if self.adjMatrix[v1][v2] > 0:\n",
    "            l.append(v1,v2)\n",
    "            return\n",
    "        visited[v1] = True\n",
    "        for i in range(self.nVertices):\n",
    "            if self.adjMatrix[v1][i] > 0 and visited[i] is False:\n",
    "                self.__getPathHelp(i, v2, visited):\n",
    "        return l\n",
    "    \n",
    "    def getPath(self, v1, v2):\n",
    "        visited = [False for i in range(self.nVertices)]\n",
    "        l = []\n",
    "        return self.__hasPathHelp(v1, v2, visited)\n",
    "                \n",
    "        \n",
    "    def __str__(self):\n",
    "        return str(self.adjMatrix)"
   ]
  },
  {
   "cell_type": "code",
   "execution_count": 2,
   "id": "4a3bda38",
   "metadata": {},
   "outputs": [
    {
     "name": "stdout",
     "output_type": "stream",
     "text": [
      "0\n",
      "1\n",
      "3\n",
      "2\n",
      "4\n",
      "6\n",
      "5\n"
     ]
    }
   ],
   "source": [
    "g = graph(7)\n",
    "g.addEdge(0,1)\n",
    "g.addEdge(0,3)\n",
    "g.addEdge(2,4)\n",
    "g.addEdge(2,5)\n",
    "g.addEdge(4,6)\n",
    "g.dfs()"
   ]
  },
  {
   "cell_type": "markdown",
   "id": "84285119",
   "metadata": {},
   "source": [
    "## DFS (Depth First Search)"
   ]
  },
  {
   "cell_type": "code",
   "execution_count": 3,
   "id": "1f812c08",
   "metadata": {},
   "outputs": [
    {
     "name": "stdout",
     "output_type": "stream",
     "text": [
      "[[0, 1, 0, 1, 0, 0, 0], [1, 0, 0, 0, 0, 0, 0], [0, 0, 0, 0, 1, 1, 0], [1, 0, 0, 0, 0, 0, 0], [0, 0, 1, 0, 0, 0, 1], [0, 0, 1, 0, 0, 0, 0], [0, 0, 0, 0, 1, 0, 0]]\n"
     ]
    }
   ],
   "source": [
    "print(g)"
   ]
  },
  {
   "cell_type": "code",
   "execution_count": 4,
   "id": "9c75815a",
   "metadata": {},
   "outputs": [
    {
     "name": "stdout",
     "output_type": "stream",
     "text": [
      "2 6\n",
      "4 6\n"
     ]
    },
    {
     "data": {
      "text/plain": [
       "True"
      ]
     },
     "execution_count": 4,
     "metadata": {},
     "output_type": "execute_result"
    }
   ],
   "source": [
    "g.getPath(2,6)"
   ]
  },
  {
   "cell_type": "code",
   "execution_count": 86,
   "id": "30be49d5",
   "metadata": {},
   "outputs": [
    {
     "name": "stdout",
     "output_type": "stream",
     "text": [
      "0\n",
      "1\n",
      "3\n",
      "2\n",
      "4\n",
      "5\n",
      "6\n"
     ]
    }
   ],
   "source": [
    "g.bfs()"
   ]
  },
  {
   "cell_type": "code",
   "execution_count": 87,
   "id": "c994cfb1",
   "metadata": {},
   "outputs": [
    {
     "name": "stdout",
     "output_type": "stream",
     "text": [
      "2 6\n",
      "4 6\n",
      "True\n"
     ]
    }
   ],
   "source": [
    "print(g.hasPath(2,6))"
   ]
  },
  {
   "cell_type": "code",
   "execution_count": 88,
   "id": "64793216",
   "metadata": {},
   "outputs": [
    {
     "data": {
      "text/plain": [
       "1"
      ]
     },
     "execution_count": 88,
     "metadata": {},
     "output_type": "execute_result"
    }
   ],
   "source": [
    "g.adjMatrix[6][4]"
   ]
  },
  {
   "cell_type": "code",
   "execution_count": 89,
   "id": "eb54d4de",
   "metadata": {},
   "outputs": [
    {
     "data": {
      "text/plain": [
       "False"
      ]
     },
     "execution_count": 89,
     "metadata": {},
     "output_type": "execute_result"
    }
   ],
   "source": [
    "bool(None)"
   ]
  },
  {
   "cell_type": "code",
   "execution_count": 90,
   "id": "3324c57c",
   "metadata": {},
   "outputs": [
    {
     "name": "stdout",
     "output_type": "stream",
     "text": [
      "2 6\n",
      "4 6\n"
     ]
    },
    {
     "data": {
      "text/plain": [
       "True"
      ]
     },
     "execution_count": 90,
     "metadata": {},
     "output_type": "execute_result"
    }
   ],
   "source": [
    "g.getPath(2,6)"
   ]
  },
  {
   "cell_type": "code",
   "execution_count": null,
   "id": "c60706a8",
   "metadata": {},
   "outputs": [],
   "source": []
  }
 ],
 "metadata": {
  "kernelspec": {
   "display_name": "Python 3 (ipykernel)",
   "language": "python",
   "name": "python3"
  },
  "language_info": {
   "codemirror_mode": {
    "name": "ipython",
    "version": 3
   },
   "file_extension": ".py",
   "mimetype": "text/x-python",
   "name": "python",
   "nbconvert_exporter": "python",
   "pygments_lexer": "ipython3",
   "version": "3.8.3"
  }
 },
 "nbformat": 4,
 "nbformat_minor": 5
}
