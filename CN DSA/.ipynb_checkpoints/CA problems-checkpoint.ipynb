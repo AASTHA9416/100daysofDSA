{
 "cells": [
  {
   "cell_type": "code",
   "execution_count": 1,
   "metadata": {
    "scrolled": true
   },
   "outputs": [
    {
     "name": "stdout",
     "output_type": "stream",
     "text": [
      "Outer loop 0 1\n",
      "inner loop 0 1\n",
      "inner loop 1 3\n",
      "inner loop 2 5\n",
      "inner loop 3 5\n",
      "inner loop 4 5\n",
      "inner loop 5 6\n",
      "inner loop 6 7\n",
      "Outer loop 1 3\n",
      "inner loop 0 1\n",
      "inner loop 1 3\n",
      "inner loop 2 3\n",
      "inner loop 3 4\n",
      "inner loop 4 5\n",
      "inner loop 5 6\n",
      "Outer loop 2 3\n",
      "inner loop 0 1\n",
      "inner loop 1 2\n",
      "inner loop 2 3\n",
      "inner loop 3 4\n",
      "inner loop 4 5\n",
      "Outer loop 3 4\n",
      "inner loop 0 1\n",
      "inner loop 1 2\n",
      "inner loop 2 3\n",
      "inner loop 3 4\n",
      "Outer loop 4 5\n",
      "inner loop 0 1\n",
      "inner loop 1 2\n",
      "inner loop 2 3\n",
      "Outer loop 5 6\n",
      "inner loop 0 1\n",
      "inner loop 1 2\n",
      "Outer loop 6 7\n",
      "inner loop 0 1\n",
      "Outer loop 7 8\n",
      "[1, 2, 3, 4, 5, 6, 7, 8]\n"
     ]
    }
   ],
   "source": [
    "# bubble sort\n",
    "\n",
    "def bubble_sort(arr):\n",
    "    n = len(arr)\n",
    "    for i in range(n):\n",
    "        print(\"Outer loop\",i, arr[i])\n",
    "        for j in range(n-i-1):\n",
    "            print(\"inner loop\", j, arr[j])\n",
    "            if arr[j] > arr[j+1]:\n",
    "                arr[j], arr[j+1] = arr[j+1], arr[j]\n",
    "arr = [1,3,5,2,4,6,7,8]\n",
    "bubble_sort(arr)\n",
    "print(arr)"
   ]
  },
  {
   "cell_type": "code",
   "execution_count": null,
   "metadata": {
    "scrolled": false
   },
   "outputs": [],
   "source": [
    "def merge_sort(arr):\n",
    "    if len(arr) == 0 or len(arr) == 1:\n",
    "        return\n",
    "    mid = len(arr)//2\n",
    "    \n",
    "    a1 = arr[0:mid]\n",
    "    a2 = arr[mid:]\n",
    "    \n",
    "    merge_sort(a1)\n",
    "    merge_sort(a2)\n",
    "    \n",
    "    merge(a1,a2,arr)"
   ]
  },
  {
   "cell_type": "code",
   "execution_count": null,
   "metadata": {
    "scrolled": false
   },
   "outputs": [],
   "source": [
    "def merge(a1,a2,a):\n",
    "    i = 0\n",
    "    j = 0\n",
    "    k = 0\n",
    "    while i < len(a1) and j < len(a2):\n",
    "        if a1[i] < a2[j]:\n",
    "            a[k] = a1[i]\n",
    "            k = k + 1\n",
    "            i = i + 1\n",
    "        else:\n",
    "            a[k] = a2[j]\n",
    "            k = k+1\n",
    "            j = j+1\n",
    "            \n",
    "    while i < len(a1):\n",
    "        a[k] = a1[i]\n",
    "        k = k + 1\n",
    "        i = i + 1\n",
    "    while j < len(a2):\n",
    "        a[k] = a2[j]\n",
    "        k = k+1\n",
    "        j = j+1\n"
   ]
  },
  {
   "cell_type": "code",
   "execution_count": null,
   "metadata": {
    "scrolled": false
   },
   "outputs": [],
   "source": [
    "a = [10,9,8,7,6,5,1,3,2]\n",
    "merge_sort(a)\n",
    "print(a)"
   ]
  },
  {
   "cell_type": "code",
   "execution_count": 5,
   "metadata": {
    "scrolled": false
   },
   "outputs": [],
   "source": [
    "def merge(a1,a2,a):\n",
    "    i = 0\n",
    "    j = 0\n",
    "    k = 0\n",
    "    while i < len(a1) and j < len(a2):\n",
    "        if a1[i] < a2[j]:\n",
    "            a[k] = a1[i]\n",
    "            k = k + 1\n",
    "            i = i + 1\n",
    "        else:\n",
    "            a[k] = a2[j]\n",
    "            k = k+1\n",
    "            j = j+1\n",
    "            \n",
    "    while i < len(a1):\n",
    "        a[k] = a1[i]\n",
    "        k = k + 1\n",
    "        i = i + 1\n",
    "    while j < len(a2):\n",
    "        a[k] = a2[j]\n",
    "        k = k+1\n",
    "        j = j+1\n",
    "\n",
    "def merge_sort(arr):\n",
    "    if len(arr) == 0 or len(arr) == 1:\n",
    "        return\n",
    "    mid = len(arr)//2\n",
    "    \n",
    "    a1 = arr[0:mid]\n",
    "    a2 = arr[mid:]\n",
    "    \n",
    "    merge_sort(a1)\n",
    "    merge_sort(a2)\n",
    "    \n",
    "    merge(a1,a2,arr)"
   ]
  },
  {
   "cell_type": "code",
   "execution_count": 6,
   "metadata": {
    "scrolled": false
   },
   "outputs": [],
   "source": [
    "def bin_search(arr,x,si,ei):\n",
    "    if si > ei:\n",
    "        return -1\n",
    "    mid = (si + ei) // 2\n",
    "    if arr[mid] == x:\n",
    "        return mid\n",
    "    elif arr[mid] > x:\n",
    "        return bin_search(arr,x,si,mid-1)\n",
    "    else:\n",
    "        return bin_search(arr,x,mid+1,ei)"
   ]
  },
  {
   "cell_type": "code",
   "execution_count": 7,
   "metadata": {
    "scrolled": false
   },
   "outputs": [],
   "source": [
    "a = [4, 3, 2, 1, 33 , 21, 5]\n",
    "b = [8, 6, 5, 4, 1]"
   ]
  },
  {
   "cell_type": "code",
   "execution_count": 3,
   "metadata": {
    "scrolled": false
   },
   "outputs": [
    {
     "name": "stdout",
     "output_type": "stream",
     "text": [
      "4 1 5 "
     ]
    }
   ],
   "source": [
    "## first Solution O(mn)\n",
    "\n",
    "for i in a:\n",
    "    for j in b:\n",
    "        if i == j:\n",
    "            print(i, end = \" \")"
   ]
  },
  {
   "cell_type": "code",
   "execution_count": 8,
   "metadata": {
    "scrolled": false
   },
   "outputs": [
    {
     "name": "stdout",
     "output_type": "stream",
     "text": [
      "1 4 5 "
     ]
    }
   ],
   "source": [
    "## 2nd Solution O(mlogm + nlogn)\n",
    "\n",
    "sorted_a = merge_sort(a)\n",
    "sorted_b = merge_sort(b)\n",
    "\n",
    "i = 0\n",
    "j = 0\n",
    "while i < len(a) and j < len(b):\n",
    "    if a[i] < b[j]:\n",
    "        i = i+1\n",
    "    elif b[j] < a[i]:\n",
    "        j = j+1\n",
    "    else:\n",
    "        print(a[i], end = \" \")\n",
    "        i = i+1\n",
    "        j = j+1"
   ]
  },
  {
   "cell_type": "code",
   "execution_count": 9,
   "metadata": {
    "scrolled": false
   },
   "outputs": [
    {
     "name": "stdout",
     "output_type": "stream",
     "text": [
      "1 4 5 "
     ]
    }
   ],
   "source": [
    "# 3rd Solution (nlogn + mlogn) or (mlogm + nlogm)\n",
    "\n",
    "if len(a) < len(b):\n",
    "    merge_sort(a)\n",
    "    for i in b:\n",
    "        if bin_search(a, i, 0, len(a)-1) != -1:\n",
    "            print(i, end = \" \")\n",
    "    \n",
    "else:\n",
    "    merge_sort(b)\n",
    "    for i in a:\n",
    "        if bin_search(b, i, 0, len(b)-1) != -1:\n",
    "            print(i, end = \" \")"
   ]
  },
  {
   "cell_type": "markdown",
   "metadata": {
    "scrolled": false
   },
   "source": [
    "# Find the Equillbirium Point in Array"
   ]
  },
  {
   "cell_type": "code",
   "execution_count": null,
   "metadata": {},
   "outputs": [],
   "source": []
  },
  {
   "cell_type": "code",
   "execution_count": 94,
   "metadata": {
    "scrolled": false
   },
   "outputs": [],
   "source": [
    "arr = [2, 3, 10, -10, 4, 2, 9]\n",
    "n = 7"
   ]
  },
  {
   "cell_type": "code",
   "execution_count": 91,
   "metadata": {},
   "outputs": [
    {
     "name": "stdout",
     "output_type": "stream",
     "text": [
      "2\n"
     ]
    }
   ],
   "source": [
    "# complexity O(n^2)\n",
    "def sum_arr(arr):\n",
    "    ans = 0\n",
    "    for i in range(len(arr)):\n",
    "        ans += arr[i]\n",
    "    return ans\n",
    "\n",
    "\n",
    "for i in range(n):\n",
    "    if sum_arr(arr[:i]) == sum_arr(arr[i+1:]):\n",
    "        print(i)\n",
    "        break"
   ]
  },
  {
   "cell_type": "code",
   "execution_count": 95,
   "metadata": {},
   "outputs": [
    {
     "name": "stdout",
     "output_type": "stream",
     "text": [
      "2\n"
     ]
    }
   ],
   "source": [
    "# complexity O(n)\n",
    "\n",
    "left = 0\n",
    "right = sum(arr)\n",
    "for i in range(n):\n",
    "    right = right - arr[i]\n",
    "    if left == right:\n",
    "        print(i)\n",
    "        break\n",
    "    left += arr[i]"
   ]
  },
  {
   "cell_type": "markdown",
   "metadata": {},
   "source": [
    "# Find the Unique Element\n",
    "\n",
    "\n",
    "You have been given an integer array/list(ARR) of size N. Where N is equal to [2M + 1].\n",
    "Now, in the given array/list, 'M' numbers are present twice and one number is present only once.\n",
    "You need to find and return that number which is unique in the array/list.\n",
    "\n",
    " Note:\n",
    "Unique element is always present in the array/list according to the given condition.\n",
    "\n",
    "Input format :\n",
    "The first line contains an Integer 't' which denotes the number of test cases or queries to be run. Then the test cases follow.\n",
    "\n",
    "First line of each test case or query contains an integer 'N' representing the size of the array/list.\n",
    "\n",
    "Second line contains 'N' single space separated integers representing the elements in the array/list.\n",
    "\n",
    "Output Format :\n",
    "For each test case, print the unique element present in the array.\n",
    "\n",
    "Output for every test case will be printed in a separate line.\n",
    "\n",
    "Constraints :\n",
    "\n",
    "1 <= t <= 10^2\n",
    "0 <= N <= 10^6\n",
    "\n",
    "Time Limit: 1 sec\n",
    "\n",
    "Sample Input 1:\n",
    "\n",
    "1\n",
    "7\n",
    "2 3 1 6 3 6 2\n",
    "\n",
    "Sample Output 1:\n",
    "\n",
    "1\n",
    "\n",
    "Sample Input 2:\n",
    "\n",
    "2\n",
    "5\n",
    "2 4 7 2 7\n",
    "9\n",
    "1 3 1 3 6 6 7 10 7\n",
    "\n",
    "Sample Output 2:\n",
    "\n",
    "4\n",
    "10"
   ]
  },
  {
   "cell_type": "code",
   "execution_count": 59,
   "metadata": {},
   "outputs": [],
   "source": [
    "arr = [2, 3, 4, 6, 3, 6, 2]\n",
    "n = 7"
   ]
  },
  {
   "cell_type": "markdown",
   "metadata": {},
   "source": [
    "## Solution 1 Complexity = O(n^2)"
   ]
  },
  {
   "cell_type": "code",
   "execution_count": 76,
   "metadata": {},
   "outputs": [
    {
     "data": {
      "text/plain": [
       "4"
      ]
     },
     "execution_count": 76,
     "metadata": {},
     "output_type": "execute_result"
    }
   ],
   "source": [
    "def find_unique(n,arr):\n",
    "    for i in range(n):\n",
    "        for j in range(i+1,n+1):\n",
    "            if j == n:\n",
    "                return arr[i]\n",
    "            elif arr[i] == arr[j]:\n",
    "                break\n",
    "\n",
    "find_unique(7,arr)"
   ]
  },
  {
   "cell_type": "markdown",
   "metadata": {},
   "source": [
    "## Solution 2 Complexity O(nlogn)\n",
    "\n",
    "### We need to sort first and sorting takes nlogn and then for loop will take logn complexity"
   ]
  },
  {
   "cell_type": "code",
   "execution_count": 80,
   "metadata": {},
   "outputs": [
    {
     "name": "stdout",
     "output_type": "stream",
     "text": [
      "[2, 2, 3, 3, 4, 6, 6]\n",
      "4\n"
     ]
    }
   ],
   "source": [
    "merge_sort(arr)\n",
    "print(arr)\n",
    "for i in range(0,n,2):\n",
    "    if arr[i] != arr[i+1]:\n",
    "        print(arr[i])\n",
    "        break\n",
    "        "
   ]
  },
  {
   "cell_type": "markdown",
   "metadata": {},
   "source": [
    "## Solution 3 Complexity O(n)\n",
    "\n",
    "### solved by biwise XOR  => ^  operator that return 0 if opearated with same number otherwise something else.\n",
    "\n",
    "i.e in arr = [2,3,4,6,3,6,2]\n",
    "\n",
    "This approach uses 2 properties of XOR:\n",
    "\n",
    "1. XOR of a number with itself is 0.\n",
    "\n",
    "2. XOR of a number with 0 is number itself.\n",
    "\n",
    "Let us understand this approach with the help of an example:\n",
    "\n",
    "arr[]= 2 3 1 6 3 6 2\n",
    "\n",
    "Taking their xor:\n",
    "\n",
    "Answer = 2 ^ 3 ^ 1 ^ 6 ^ 3 ^ 6 ^ 2\n",
    "\n",
    "Now XOR is associative and commutative, so I can write it as:\n",
    "\n",
    "Answer = (2^2) ^ (3^3) ^ 1 ^ (6 ^ 6)\n",
    "\n",
    " = 0 ^ 0 ^ 1 ^ 0\n",
    " \n",
    " = 1\n",
    " \n",
    "Time complexity of this solution is O(n)\n"
   ]
  },
  {
   "cell_type": "code",
   "execution_count": 85,
   "metadata": {},
   "outputs": [
    {
     "name": "stdout",
     "output_type": "stream",
     "text": [
      "2\n",
      "1\n",
      "0\n",
      "6\n",
      "5\n",
      "3\n",
      "1\n"
     ]
    }
   ],
   "source": [
    "arr = [2, 3, 1, 6, 3, 6, 2]\n",
    "n = 7\n",
    "ans = 0\n",
    "for i in range(n):\n",
    "    ans = ans ^ arr[i]\n",
    "    print(ans)"
   ]
  },
  {
   "cell_type": "code",
   "execution_count": null,
   "metadata": {},
   "outputs": [],
   "source": []
  },
  {
   "cell_type": "code",
   "execution_count": null,
   "metadata": {},
   "outputs": [],
   "source": []
  }
 ],
 "metadata": {
  "kernelspec": {
   "display_name": "Python 3 (ipykernel)",
   "language": "python",
   "name": "python3"
  },
  "language_info": {
   "codemirror_mode": {
    "name": "ipython",
    "version": 3
   },
   "file_extension": ".py",
   "mimetype": "text/x-python",
   "name": "python",
   "nbconvert_exporter": "python",
   "pygments_lexer": "ipython3",
   "version": "3.8.3"
  }
 },
 "nbformat": 4,
 "nbformat_minor": 4
}
