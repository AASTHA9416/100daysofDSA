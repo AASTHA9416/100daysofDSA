{
 "cells": [
  {
   "cell_type": "markdown",
   "id": "4cf62517",
   "metadata": {},
   "source": [
    "# Priority Queues"
   ]
  },
  {
   "cell_type": "code",
   "execution_count": null,
   "id": "6a431350",
   "metadata": {},
   "outputs": [],
   "source": [
    "## Min Priority Queue\n",
    "\n",
    "class pqueue:\n",
    "    def __init__(self):\n",
    "        self.arr = []\n",
    "        self.length = 0\n",
    "    \n",
    "    def insert(self, element):\n",
    "        if len(self.arr) == 0:\n",
    "            self.arr.append(element)\n",
    "        else:\n",
    "            if self.arr[self.length] < self.arr[(self.length - 1)//2]:\n",
    "                self."
   ]
  }
 ],
 "metadata": {
  "kernelspec": {
   "display_name": "Python 3 (ipykernel)",
   "language": "python",
   "name": "python3"
  },
  "language_info": {
   "codemirror_mode": {
    "name": "ipython",
    "version": 3
   },
   "file_extension": ".py",
   "mimetype": "text/x-python",
   "name": "python",
   "nbconvert_exporter": "python",
   "pygments_lexer": "ipython3",
   "version": "3.8.3"
  }
 },
 "nbformat": 4,
 "nbformat_minor": 5
}
