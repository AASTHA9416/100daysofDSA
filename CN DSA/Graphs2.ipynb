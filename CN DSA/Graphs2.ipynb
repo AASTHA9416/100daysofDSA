{
 "cells": [
  {
   "cell_type": "markdown",
   "id": "04b5dffa",
   "metadata": {},
   "source": [
    "# Graphs"
   ]
  },
  {
   "cell_type": "code",
   "execution_count": 1,
   "id": "a878aa49",
   "metadata": {},
   "outputs": [],
   "source": [
    "class Edge:\n",
    "    def __init__(self, src, dest, wt):\n",
    "        self.src = src\n",
    "        self.dest = dest\n",
    "        self.wt = wt"
   ]
  },
  {
   "cell_type": "code",
   "execution_count": null,
   "id": "73f80fed",
   "metadata": {},
   "outputs": [],
   "source": []
  },
  {
   "cell_type": "code",
   "execution_count": 3,
   "id": "01766b99",
   "metadata": {},
   "outputs": [],
   "source": [
    "edges.sort(key = lambda x:x.wt)"
   ]
  },
  {
   "cell_type": "code",
   "execution_count": 4,
   "id": "032a6f41",
   "metadata": {},
   "outputs": [],
   "source": [
    "n = 4\n",
    "count = 0\n",
    "mst = []\n",
    "i = 0\n",
    "parent = [i for i in range(6)]\n",
    "while count < n-1:\n",
    "    v1 = edges[count].src\n",
    "    v2 = edges[count].dest\n",
    "    \n",
    "    if parent[v1] != parent[v2]:\n",
    "        mst.append(edges[count])\n",
    "        parent[v2] = parent[v1]\n",
    "        count += 1\n",
    "    i+=1"
   ]
  },
  {
   "cell_type": "code",
   "execution_count": 5,
   "id": "b9b1ba5e",
   "metadata": {},
   "outputs": [
    {
     "data": {
      "text/plain": [
       "[<__main__.edge at 0x1db6cb2b670>,\n",
       " <__main__.edge at 0x1db6cb23970>,\n",
       " <__main__.edge at 0x1db6cb23940>]"
      ]
     },
     "execution_count": 5,
     "metadata": {},
     "output_type": "execute_result"
    }
   ],
   "source": [
    "mst"
   ]
  },
  {
   "cell_type": "code",
   "execution_count": 6,
   "id": "a3b208af",
   "metadata": {},
   "outputs": [
    {
     "name": "stdout",
     "output_type": "stream",
     "text": [
      "1 2 1\n",
      "0 1 3\n",
      "0 3 5\n"
     ]
    }
   ],
   "source": [
    "for edge in mst:\n",
    "    print(edge.src, edge.dest, edge.wt)"
   ]
  },
  {
   "cell_type": "code",
   "execution_count": 7,
   "id": "7914d542",
   "metadata": {},
   "outputs": [
    {
     "name": "stdout",
     "output_type": "stream",
     "text": [
      "[0, 0, 1, 0, 4, 5]\n"
     ]
    }
   ],
   "source": [
    "print(parent)"
   ]
  },
  {
   "cell_type": "code",
   "execution_count": 18,
   "id": "d544be82",
   "metadata": {},
   "outputs": [],
   "source": [
    "def take_input():\n",
    "    print(\"Enter number of vertices and edges\")\n",
    "    v, e = map(int, input().split())\n",
    "    edges = []\n",
    "    for i in range(e):\n",
    "        s, d, w = map(int, input().split())\n",
    "        edges.append(Edge(s,d,w))\n",
    "    return edges, v\n",
    "def kruskal(edges,v):\n",
    "    edges.sort(key = lambda x:x.wt)\n",
    "    count = 0\n",
    "    mst = []\n",
    "    parent = [a for a in range(v+1)]\n",
    "    i = 0\n",
    "    while count < v-1:\n",
    "        v1 = edges[i].src\n",
    "        v2 = edges[i].dest\n",
    "        print(v1, v2)\n",
    "\n",
    "        if parent[v1] != parent[v2]:\n",
    "            mst.append(edges[i])\n",
    "            parent[v2] = parent[v1]\n",
    "            count += 1\n",
    "        i+=1\n",
    "    print(parent)\n",
    "    return mst"
   ]
  },
  {
   "cell_type": "code",
   "execution_count": 3,
   "id": "9a4ae04d",
   "metadata": {},
   "outputs": [
    {
     "name": "stdout",
     "output_type": "stream",
     "text": [
      "Enter number of vertices and edges\n",
      "5 11 \n",
      "0 1 1\n",
      "0 2 5\n",
      "2 3 10\n",
      "0 3 4\n",
      "1 3 3\n",
      "1 2 6\n",
      "3 4 7\n",
      "2 4 8\n",
      "4 5 2\n",
      "2 5 9\n",
      "3 5 6\n"
     ]
    }
   ],
   "source": [
    "graph = take_input()"
   ]
  },
  {
   "cell_type": "code",
   "execution_count": 4,
   "id": "c1bcf967",
   "metadata": {},
   "outputs": [
    {
     "name": "stdout",
     "output_type": "stream",
     "text": [
      "0 1 1\n",
      "0 2 5\n",
      "2 3 10\n",
      "0 3 4\n",
      "1 3 3\n",
      "1 2 6\n",
      "3 4 7\n",
      "2 4 8\n",
      "4 5 2\n",
      "2 5 9\n",
      "3 5 6\n"
     ]
    }
   ],
   "source": [
    "for e in graph[0]:\n",
    "    print(e.src, e.dest, e.wt)"
   ]
  },
  {
   "cell_type": "code",
   "execution_count": 19,
   "id": "a852e75a",
   "metadata": {},
   "outputs": [
    {
     "name": "stdout",
     "output_type": "stream",
     "text": [
      "0 1\n",
      "4 5\n",
      "1 3\n",
      "0 3\n",
      "0 2\n",
      "[0, 0, 0, 0, 4, 4]\n"
     ]
    }
   ],
   "source": [
    "mst = kruskal(graph[0], graph[1])"
   ]
  },
  {
   "cell_type": "code",
   "execution_count": 20,
   "id": "44da5e75",
   "metadata": {},
   "outputs": [
    {
     "name": "stdout",
     "output_type": "stream",
     "text": [
      "0 1 1\n",
      "4 5 2\n",
      "1 3 3\n",
      "0 2 5\n"
     ]
    }
   ],
   "source": [
    "for e in mst:\n",
    "    print(e.src, e.dest, e.wt)"
   ]
  },
  {
   "cell_type": "code",
   "execution_count": null,
   "id": "6d239a24",
   "metadata": {},
   "outputs": [],
   "source": []
  }
 ],
 "metadata": {
  "kernelspec": {
   "display_name": "Python 3 (ipykernel)",
   "language": "python",
   "name": "python3"
  },
  "language_info": {
   "codemirror_mode": {
    "name": "ipython",
    "version": 3
   },
   "file_extension": ".py",
   "mimetype": "text/x-python",
   "name": "python",
   "nbconvert_exporter": "python",
   "pygments_lexer": "ipython3",
   "version": "3.8.3"
  }
 },
 "nbformat": 4,
 "nbformat_minor": 5
}
