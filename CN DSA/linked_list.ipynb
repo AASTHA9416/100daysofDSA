{
 "cells": [
  {
   "cell_type": "markdown",
   "id": "1f19f279",
   "metadata": {},
   "source": [
    "# Linked List"
   ]
  },
  {
   "cell_type": "markdown",
   "id": "d322c382",
   "metadata": {},
   "source": [
    "### Each element is called Node and that stores two things one is the data and one the refernce to next node\n",
    "\n",
    "**Head** stores the reference to the very first node, after knowing that we can travel through the complete linkedList\n",
    "\n",
    "Every **node** will have a data and a next by default we are keeping the next none."
   ]
  },
  {
   "cell_type": "code",
   "execution_count": 4,
   "id": "1c3b0800",
   "metadata": {},
   "outputs": [],
   "source": [
    "## Node will contain two things data and the next refernce\n",
    "class Node:\n",
    "    def __init__(self,data):\n",
    "        self.data = data\n",
    "        self.next = None"
   ]
  },
  {
   "cell_type": "code",
   "execution_count": 5,
   "id": "c785f559",
   "metadata": {},
   "outputs": [
    {
     "name": "stdout",
     "output_type": "stream",
     "text": [
      "12\n",
      "13\n",
      "13\n",
      "<__main__.Node object at 0x00000197D4DD9C70>\n",
      "<__main__.Node object at 0x00000197D4DFA4F0>\n",
      "<__main__.Node object at 0x00000197D4DFA4F0>\n"
     ]
    }
   ],
   "source": [
    "a = Node(12)\n",
    "b = Node(13)\n",
    "\n",
    "a.next = b\n",
    "print(a.data)\n",
    "print(b.data)\n",
    "print(a.next.data)\n",
    "print(a)\n",
    "print(a.next)\n",
    "print(b)"
   ]
  },
  {
   "cell_type": "code",
   "execution_count": 6,
   "id": "c3cb09f2",
   "metadata": {},
   "outputs": [
    {
     "ename": "AttributeError",
     "evalue": "'NoneType' object has no attribute 'data'",
     "output_type": "error",
     "traceback": [
      "\u001b[1;31m---------------------------------------------------------------------------\u001b[0m",
      "\u001b[1;31mAttributeError\u001b[0m                            Traceback (most recent call last)",
      "\u001b[1;32m~\\AppData\\Local\\Temp/ipykernel_1420/1697453599.py\u001b[0m in \u001b[0;36m<module>\u001b[1;34m\u001b[0m\n\u001b[0;32m      1\u001b[0m \u001b[1;31m# if we try this\u001b[0m\u001b[1;33m\u001b[0m\u001b[1;33m\u001b[0m\u001b[1;33m\u001b[0m\u001b[0m\n\u001b[1;32m----> 2\u001b[1;33m \u001b[0mprint\u001b[0m\u001b[1;33m(\u001b[0m\u001b[0mb\u001b[0m\u001b[1;33m.\u001b[0m\u001b[0mnext\u001b[0m\u001b[1;33m.\u001b[0m\u001b[0mdata\u001b[0m\u001b[1;33m)\u001b[0m\u001b[1;33m\u001b[0m\u001b[1;33m\u001b[0m\u001b[0m\n\u001b[0m",
      "\u001b[1;31mAttributeError\u001b[0m: 'NoneType' object has no attribute 'data'"
     ]
    }
   ],
   "source": [
    "# if we try this\n",
    "print(b.next.data)"
   ]
  },
  {
   "cell_type": "markdown",
   "id": "f03fd1f3",
   "metadata": {},
   "source": [
    "# Making a Linked List with User Input O(n^2)"
   ]
  },
  {
   "cell_type": "code",
   "execution_count": null,
   "id": "52233da5",
   "metadata": {},
   "outputs": [],
   "source": [
    "class Node:\n",
    "    def __init__(self,data):\n",
    "        self.data = data\n",
    "        self.next = None\n",
    "\n",
    "def take_input():\n",
    "    inputList = list(map(int,input().split()))\n",
    "    head = None\n",
    "    for curr_data in inputList:\n",
    "        if curr_data == -1:\n",
    "            break\n",
    "        newNode = Node(curr_data)\n",
    "        \n",
    "        if head is None: # we keep the head constant, we don't change the head\n",
    "            head = newNode\n",
    "        else:\n",
    "            curr = head \n",
    "            while curr.next is not None: # using curr to reach to the end of linkedList and then adding another element\n",
    "                curr = curr.next\n",
    "            curr.next = newNode\n",
    "    return head   \n",
    "        \n",
    "head = take_input()"
   ]
  },
  {
   "cell_type": "markdown",
   "id": "7af0c5b7",
   "metadata": {},
   "source": [
    "## Print Linked List"
   ]
  },
  {
   "cell_type": "code",
   "execution_count": null,
   "id": "ff42275d",
   "metadata": {},
   "outputs": [],
   "source": [
    "class Node:\n",
    "    def __init__(self,data):\n",
    "        self.data = data\n",
    "        self.next = None\n",
    "        \n",
    "        \n",
    "## Print Function\n",
    "\n",
    "def printLL(head):\n",
    "    while head is not None:\n",
    "        print(str(head.data) + \"-->\" , end = \"\")\n",
    "        head = head.next\n",
    "    print(None)\n",
    "    return\n",
    "\n",
    "def take_input():\n",
    "    inputList = list(map(int,input().split()))\n",
    "    head = None\n",
    "    for curr_data in inputList:\n",
    "        if curr_data == -1:\n",
    "            break\n",
    "        newNode = Node(curr_data)\n",
    "        \n",
    "        if head is None: # we keep the head constant, we don't change the head\n",
    "            head = newNode\n",
    "        else:\n",
    "            curr = head \n",
    "            while curr.next is not None: # using curr to reach to the end of linkedList and then adding another element\n",
    "                curr = curr.next\n",
    "            curr.next = newNode\n",
    "    return head   \n",
    "        \n",
    "head = take_input()\n",
    "printLL(head)\n",
    "printLL(head)"
   ]
  },
  {
   "cell_type": "markdown",
   "id": "eb0be610",
   "metadata": {},
   "source": [
    "## Time Complexity of the taking Input  O(n)"
   ]
  },
  {
   "cell_type": "code",
   "execution_count": null,
   "id": "156978e8",
   "metadata": {},
   "outputs": [],
   "source": [
    "class Node:\n",
    "    def __init__(self,data):\n",
    "        self.data = data\n",
    "        self.next = None\n",
    "        \n",
    "def take_input():\n",
    "    inputList = list(map(int, input().split()))\n",
    "    head = None\n",
    "    for curr_data in inputList:\n",
    "        if curr_data == -1:\n",
    "            break\n",
    "        newNode = Node(curr_data)\n",
    "        if head is None:\n",
    "            head = newNode\n",
    "            last = head\n",
    "        else:\n",
    "            last.next = newNode\n",
    "            last = newNode\n",
    "    return head\n",
    "\n",
    "def printLL(head):\n",
    "    while head is not None:\n",
    "        print(str(head.data) + \"=>\" , end = \"\")\n",
    "        head = head.next\n",
    "    print(None)\n",
    "    return\n",
    "\n",
    "head = take_input()\n",
    "printLL(head)"
   ]
  },
  {
   "cell_type": "markdown",
   "id": "95d06a3d",
   "metadata": {},
   "source": [
    "## Print the length of LinkedList ( Iterative)"
   ]
  },
  {
   "cell_type": "code",
   "execution_count": null,
   "id": "1c531dd4",
   "metadata": {},
   "outputs": [],
   "source": [
    "def lengthLL(head):\n",
    "    l = 0\n",
    "    while head is not None:\n",
    "        l += 1\n",
    "        head = head.next\n",
    "    return l\n",
    "lengthLL(head)"
   ]
  },
  {
   "cell_type": "markdown",
   "id": "18d576f7",
   "metadata": {},
   "source": [
    "## Print the ith element of the Linked List"
   ]
  },
  {
   "cell_type": "code",
   "execution_count": null,
   "id": "9e6d255a",
   "metadata": {},
   "outputs": [],
   "source": [
    "def printithLL(head, i):\n",
    "    t = 0\n",
    "    while head is not None and t < i:\n",
    "        t += 1\n",
    "        head = head.next\n",
    "    print(head.data)\n",
    "    return\n",
    "\n",
    "printithLL(head, 3)\n",
    "\n",
    "\n",
    "\"\"\"\n",
    "def printithLL(head,i):\n",
    "    t = 0\n",
    "    while head is not None:\n",
    "        if t == i:\n",
    "            print(head.data)\n",
    "            break\n",
    "        else:\n",
    "            t += 1\n",
    "            head = head.next\n",
    "    return\n",
    "\"\"\"\n",
    "\n"
   ]
  },
  {
   "cell_type": "markdown",
   "id": "d354f22e",
   "metadata": {},
   "source": [
    "## Insert data at ith position of LinkedList"
   ]
  },
  {
   "cell_type": "code",
   "execution_count": 139,
   "id": "57a965f6",
   "metadata": {},
   "outputs": [
    {
     "name": "stdout",
     "output_type": "stream",
     "text": [
      "1 2 3 4 5\n",
      "1=>2=>3=>4=>5=>None\n",
      "1=>2=>3=>4=>5=>None\n"
     ]
    },
    {
     "data": {
      "text/plain": [
       "5"
      ]
     },
     "execution_count": 139,
     "metadata": {},
     "output_type": "execute_result"
    }
   ],
   "source": [
    "class Node:\n",
    "    def __init__(self,data):\n",
    "        self.data = data\n",
    "        self.next = None\n",
    "        \n",
    "def take_input():\n",
    "    inputList = list(map(int, input().split()))\n",
    "    head = None\n",
    "    for curr_data in inputList:\n",
    "        if curr_data == -1:\n",
    "            break\n",
    "        newNode = Node(curr_data)\n",
    "        if head is None:\n",
    "            head = newNode\n",
    "            last = head\n",
    "        else:\n",
    "            last.next = newNode\n",
    "            last = newNode\n",
    "    printLL(head)\n",
    "    return head\n",
    "\n",
    "def lengthLL(head):\n",
    "    l = 0\n",
    "    while head is not None:\n",
    "        l += 1\n",
    "        head = head.next\n",
    "    return l\n",
    "\n",
    "def insertatI(head, i, data):\n",
    "    if i < 0 or i > lengthLL(head):\n",
    "        return head\n",
    "    \n",
    "    count = 0\n",
    "    prev = None\n",
    "    curr = head\n",
    "    while count < i:\n",
    "        prev = curr\n",
    "        curr = curr.next\n",
    "        \n",
    "        count += 1\n",
    "    newNode = Node(data)\n",
    "    if prev is not None:\n",
    "        prev.next = newNode\n",
    "    else:\n",
    "        head = newNode\n",
    "    newNode.next = curr\n",
    "    \n",
    "    return head\n",
    "\n",
    "def printLL(head):\n",
    "    while head is not None:\n",
    "        print(str(head.data) + \"=>\" , end = \"\")\n",
    "        head = head.next\n",
    "    print(None)\n",
    "    return\n",
    "\n",
    "head = take_input()\n",
    "# printLL(head)\n",
    "# head = insertatI(head, 0, 11)\n",
    "# printLL(head)\n",
    "# head = insertatI(head, 2, 6 )\n",
    "# printLL(head)\n",
    "# head = insertatI(head, 7, 20)\n",
    "printLL(head)\n",
    "lengthLL(head)"
   ]
  },
  {
   "cell_type": "code",
   "execution_count": 28,
   "id": "68300540",
   "metadata": {},
   "outputs": [],
   "source": [
    "def lengthLL(head):\n",
    "    l = 0\n",
    "    while head is not None:\n",
    "        l += 1\n",
    "        head = head.next\n",
    "    return l"
   ]
  },
  {
   "cell_type": "code",
   "execution_count": 30,
   "id": "40f1abf2",
   "metadata": {},
   "outputs": [
    {
     "data": {
      "text/plain": [
       "5"
      ]
     },
     "execution_count": 30,
     "metadata": {},
     "output_type": "execute_result"
    }
   ],
   "source": [
    "lengthLL(head)"
   ]
  },
  {
   "cell_type": "markdown",
   "id": "f0840e48",
   "metadata": {},
   "source": [
    "## Delete element at position i in Linked List (Iteratively)"
   ]
  },
  {
   "cell_type": "code",
   "execution_count": 132,
   "id": "edf81342",
   "metadata": {},
   "outputs": [],
   "source": [
    "def deleteatI(head, i):\n",
    "    if i < 0 or i > lengthLL(head)-1:\n",
    "        return head\n",
    "    count = 0\n",
    "    prev = None\n",
    "    curr = head\n",
    "    while count < i:\n",
    "        prev = curr\n",
    "        curr = curr.next\n",
    "        \n",
    "        count += 1\n",
    "    if prev is not None:\n",
    "        prev.next = curr.next\n",
    "    else:\n",
    "        head = head.next\n",
    "    return head"
   ]
  },
  {
   "cell_type": "code",
   "execution_count": 142,
   "id": "4a50d926",
   "metadata": {},
   "outputs": [],
   "source": [
    "head = deleteatI(head, 4)\n",
    "# head = deleteatI(head, 3)\n",
    "# head = deleteatI(head, 2)"
   ]
  },
  {
   "cell_type": "code",
   "execution_count": 143,
   "id": "d42915f3",
   "metadata": {},
   "outputs": [
    {
     "name": "stdout",
     "output_type": "stream",
     "text": [
      "1=>2=>3=>4=>None\n"
     ]
    }
   ],
   "source": [
    "printLL(head)"
   ]
  },
  {
   "cell_type": "markdown",
   "id": "bf3e11df",
   "metadata": {},
   "source": [
    "## Length of Linked List (Recursively)"
   ]
  },
  {
   "cell_type": "code",
   "execution_count": 10,
   "id": "42991171",
   "metadata": {},
   "outputs": [],
   "source": [
    "# find the lenght recursively\n",
    "\n",
    "def lenghtLLR(head):\n",
    "    c = 0\n",
    "    if head == None:\n",
    "        return 0\n",
    "    return 1+lenghtLLR(head.next)\n"
   ]
  },
  {
   "cell_type": "code",
   "execution_count": 11,
   "id": "9d41b32f",
   "metadata": {},
   "outputs": [
    {
     "name": "stdout",
     "output_type": "stream",
     "text": [
      "1=>2=>3=>4=>5=>None\n"
     ]
    }
   ],
   "source": [
    "printLL(head)"
   ]
  },
  {
   "cell_type": "code",
   "execution_count": 12,
   "id": "8cd1aecf",
   "metadata": {},
   "outputs": [
    {
     "data": {
      "text/plain": [
       "5"
      ]
     },
     "execution_count": 12,
     "metadata": {},
     "output_type": "execute_result"
    }
   ],
   "source": [
    "lenghtLLR(head)"
   ]
  },
  {
   "cell_type": "code",
   "execution_count": 32,
   "id": "084edf1d",
   "metadata": {},
   "outputs": [
    {
     "data": {
      "text/plain": [
       "<__main__.Node at 0x21e3f9f8cd0>"
      ]
     },
     "execution_count": 32,
     "metadata": {},
     "output_type": "execute_result"
    }
   ],
   "source": [
    "deleteatI(head, 2)"
   ]
  },
  {
   "cell_type": "code",
   "execution_count": 47,
   "id": "4e76db3c",
   "metadata": {},
   "outputs": [
    {
     "name": "stdout",
     "output_type": "stream",
     "text": [
      "None=>None\n"
     ]
    }
   ],
   "source": [
    "printLL(head)"
   ]
  },
  {
   "cell_type": "code",
   "execution_count": 42,
   "id": "425f9ea0",
   "metadata": {},
   "outputs": [],
   "source": [
    "head = Node(None)"
   ]
  },
  {
   "cell_type": "code",
   "execution_count": 43,
   "id": "8d8804ba",
   "metadata": {},
   "outputs": [
    {
     "name": "stdout",
     "output_type": "stream",
     "text": [
      "None=>None\n"
     ]
    }
   ],
   "source": [
    "printLL(head)"
   ]
  },
  {
   "cell_type": "code",
   "execution_count": 45,
   "id": "b60bf69e",
   "metadata": {},
   "outputs": [
    {
     "data": {
      "text/plain": [
       "1"
      ]
     },
     "execution_count": 45,
     "metadata": {},
     "output_type": "execute_result"
    }
   ],
   "source": [
    "lenghtLLR(head)"
   ]
  },
  {
   "cell_type": "markdown",
   "id": "a58895ab",
   "metadata": {},
   "source": [
    "## Insert data into LinkedList at ith Position ( Recursively)"
   ]
  },
  {
   "cell_type": "code",
   "execution_count": 107,
   "id": "b42f2adb",
   "metadata": {},
   "outputs": [],
   "source": [
    "def InsertR(head, i, data):\n",
    "    if i < 0:\n",
    "        return head\n",
    "    \n",
    "    if i == 0:\n",
    "        newNode = Node(data)\n",
    "        newNode.next = head\n",
    "        return newNode\n",
    "    \n",
    "    if head == None:\n",
    "        return None\n",
    "    \n",
    "    smallhead = InsertR(head.next, i-1, data)\n",
    "    head.next = smallhead\n",
    "    return head"
   ]
  },
  {
   "cell_type": "code",
   "execution_count": 113,
   "id": "97f56511",
   "metadata": {},
   "outputs": [
    {
     "name": "stdout",
     "output_type": "stream",
     "text": [
      "2=>3=>1=>1=>1=>8=>None\n"
     ]
    }
   ],
   "source": [
    "head = InsertR(head, 10,1)\n",
    "printLL(head)"
   ]
  },
  {
   "cell_type": "markdown",
   "id": "8b38e8bb",
   "metadata": {},
   "source": [
    "## Delete Node of position i Recursively in LinkedList"
   ]
  },
  {
   "cell_type": "code",
   "execution_count": 102,
   "id": "0f53d12b",
   "metadata": {},
   "outputs": [],
   "source": [
    "def deleteR(head, i):\n",
    "    \n",
    "    if i == 0:\n",
    "        return head.next\n",
    "    if head == None:\n",
    "        return None\n",
    "    head.next = deleteR(head.next, i-1)\n",
    "    return head"
   ]
  },
  {
   "cell_type": "code",
   "execution_count": 114,
   "id": "69126a40",
   "metadata": {},
   "outputs": [
    {
     "name": "stdout",
     "output_type": "stream",
     "text": [
      "2=>3=>1=>1=>1=>8=>None\n"
     ]
    }
   ],
   "source": [
    "printLL(head)"
   ]
  },
  {
   "cell_type": "code",
   "execution_count": 117,
   "id": "e83327c0",
   "metadata": {},
   "outputs": [],
   "source": [
    "head = deleteR(head,3)"
   ]
  },
  {
   "cell_type": "code",
   "execution_count": 118,
   "id": "7df38fb3",
   "metadata": {},
   "outputs": [
    {
     "name": "stdout",
     "output_type": "stream",
     "text": [
      "2=>3=>1=>1=>8=>None\n"
     ]
    }
   ],
   "source": [
    "printLL(head)"
   ]
  },
  {
   "cell_type": "markdown",
   "id": "51824f27",
   "metadata": {},
   "source": [
    "## Reverse a Linked List Recursively\n",
    "### Complexity is O(n^2)"
   ]
  },
  {
   "cell_type": "code",
   "execution_count": 13,
   "id": "c99cef5a",
   "metadata": {},
   "outputs": [],
   "source": [
    "def reverseLL(head):\n",
    "    ## Base Case\n",
    "    if head == None or head.next == None:\n",
    "        return head\n",
    "    \n",
    "    smallHead = reverseLL(head.next)\n",
    "    curr = smallHead\n",
    "    while curr.next is not None:\n",
    "        curr = curr.next\n",
    "    curr.next = head\n",
    "    head.next = None\n",
    "    \n",
    "    return smallHead\n",
    "    "
   ]
  },
  {
   "cell_type": "code",
   "execution_count": 26,
   "id": "918f5eb8",
   "metadata": {},
   "outputs": [
    {
     "name": "stdout",
     "output_type": "stream",
     "text": [
      "5=>4=>3=>2=>1=>None\n"
     ]
    }
   ],
   "source": [
    "head = reverseLL(head)\n",
    "printLL(head)"
   ]
  },
  {
   "cell_type": "code",
   "execution_count": 21,
   "id": "86b70d58",
   "metadata": {},
   "outputs": [
    {
     "name": "stdout",
     "output_type": "stream",
     "text": [
      "1 2 3 4 5\n"
     ]
    }
   ],
   "source": [
    "head = take_input()"
   ]
  },
  {
   "cell_type": "code",
   "execution_count": 24,
   "id": "bee00f50",
   "metadata": {},
   "outputs": [
    {
     "name": "stdout",
     "output_type": "stream",
     "text": [
      "5=>4=>3=>2=>1=>None\n"
     ]
    }
   ],
   "source": [
    "printLL(head)"
   ]
  },
  {
   "cell_type": "markdown",
   "id": "1789a333",
   "metadata": {},
   "source": [
    "## Reverse the Linked List in O(n) complexity"
   ]
  },
  {
   "cell_type": "code",
   "execution_count": 4,
   "id": "8f2e4231",
   "metadata": {},
   "outputs": [],
   "source": [
    "def reverseLL2(head):\n",
    "    if head == None or head.next == None:\n",
    "        return head, head\n",
    "    smallhead, smalltail = reverseLL2(head.next)\n",
    "    smalltail.next = head\n",
    "    head.next = None\n",
    "    return smallhead, head"
   ]
  },
  {
   "cell_type": "code",
   "execution_count": 5,
   "id": "f7f63d03",
   "metadata": {},
   "outputs": [
    {
     "name": "stdout",
     "output_type": "stream",
     "text": [
      "5=>4=>3=>2=>1=>None\n"
     ]
    }
   ],
   "source": [
    "head, tail = reverseLL2(head)\n",
    "printLL(head)"
   ]
  },
  {
   "cell_type": "markdown",
   "id": "3dfcd804",
   "metadata": {},
   "source": [
    "## Reverse Linked List without string the tail of the Linked List"
   ]
  },
  {
   "cell_type": "code",
   "execution_count": 6,
   "id": "7b567d47",
   "metadata": {},
   "outputs": [],
   "source": [
    "def reverseLL3(head):\n",
    "    if head == None or head.next == None:\n",
    "        return head\n",
    "    smallhead = reverseLL3(head.next)\n",
    "    tail = head.next\n",
    "    tail.next = head\n",
    "    head.next = None\n",
    "    return smallhead"
   ]
  },
  {
   "cell_type": "code",
   "execution_count": 7,
   "id": "d5615b10",
   "metadata": {},
   "outputs": [
    {
     "name": "stdout",
     "output_type": "stream",
     "text": [
      "1=>2=>3=>4=>5=>None\n"
     ]
    }
   ],
   "source": [
    "head = reverseLL3(head)\n",
    "printLL(head)"
   ]
  },
  {
   "cell_type": "code",
   "execution_count": 118,
   "id": "984ee47b",
   "metadata": {},
   "outputs": [],
   "source": [
    "def reverseR1(head):\n",
    "    prev = None\n",
    "    curr = head\n",
    "    while curr is not None:\n",
    "        next = curr.next\n",
    "        curr.next = prev\n",
    "        prev = curr\n",
    "        curr = next\n",
    "    head = prev\n",
    "    return head\n",
    "        "
   ]
  },
  {
   "cell_type": "code",
   "execution_count": 119,
   "id": "e748b4de",
   "metadata": {},
   "outputs": [],
   "source": [
    "head = reverseR1(head)"
   ]
  },
  {
   "cell_type": "code",
   "execution_count": 120,
   "id": "8220d7b7",
   "metadata": {},
   "outputs": [
    {
     "name": "stdout",
     "output_type": "stream",
     "text": [
      "5=>4=>3=>2=>1=>None\n"
     ]
    }
   ],
   "source": [
    "printLL(head)"
   ]
  },
  {
   "cell_type": "code",
   "execution_count": 116,
   "id": "80401bec",
   "metadata": {},
   "outputs": [
    {
     "name": "stdout",
     "output_type": "stream",
     "text": [
      "1 2 3 4 5\n",
      "1=>2=>3=>4=>5=>None\n"
     ]
    }
   ],
   "source": [
    "head = take_input()"
   ]
  },
  {
   "cell_type": "code",
   "execution_count": 117,
   "id": "ada80c92",
   "metadata": {},
   "outputs": [
    {
     "data": {
      "text/plain": [
       "5"
      ]
     },
     "execution_count": 117,
     "metadata": {},
     "output_type": "execute_result"
    }
   ],
   "source": [
    "lengthLL(head)"
   ]
  },
  {
   "cell_type": "code",
   "execution_count": null,
   "id": "ec10bdeb",
   "metadata": {},
   "outputs": [],
   "source": []
  }
 ],
 "metadata": {
  "kernelspec": {
   "display_name": "Python 3 (ipykernel)",
   "language": "python",
   "name": "python3"
  },
  "language_info": {
   "codemirror_mode": {
    "name": "ipython",
    "version": 3
   },
   "file_extension": ".py",
   "mimetype": "text/x-python",
   "name": "python",
   "nbconvert_exporter": "python",
   "pygments_lexer": "ipython3",
   "version": "3.8.3"
  }
 },
 "nbformat": 4,
 "nbformat_minor": 5
}
