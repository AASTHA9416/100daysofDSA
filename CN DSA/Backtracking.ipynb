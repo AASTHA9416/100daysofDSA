{
 "cells": [
  {
   "cell_type": "markdown",
   "id": "ee82e9f6",
   "metadata": {},
   "source": [
    "# Backtracking"
   ]
  },
  {
   "cell_type": "markdown",
   "id": "9fdcce57",
   "metadata": {},
   "source": [
    "## Qus 1. Rat in a maze"
   ]
  },
  {
   "cell_type": "code",
   "execution_count": 14,
   "id": "c0bb21ed",
   "metadata": {},
   "outputs": [],
   "source": [
    "def printPathHelp(maze, x, y, n, solution):\n",
    "    if x == n-1 and y == n-1:\n",
    "        solution[x][y] = 1\n",
    "        print(solution)\n",
    "        return\n",
    "    if x < 0 or y < 0 or x>=n or y>=n or maze[x][y] == 0 or solution[x][y] == 1:\n",
    "        return\n",
    "    solution[x][y] = 1\n",
    "    printPathHelp(maze, x+1, y, n, solution)\n",
    "    printPathHelp(maze, x, y+1, n, solution)\n",
    "    printPathHelp(maze, x-1, y, n, solution)\n",
    "    printPathHelp(maze, x, y-1, n, solution)\n",
    "    solution[x][y] = 0\n",
    "    return\n",
    "\n",
    "def printPath(maze):\n",
    "    n = len(maze)\n",
    "    solution = [[0 for j in range(n)] for i in range(n)]\n",
    "    printPathHelp(maze, 0, 0 , n, solution)"
   ]
  },
  {
   "cell_type": "code",
   "execution_count": 5,
   "id": "2634345e",
   "metadata": {},
   "outputs": [
    {
     "name": "stdout",
     "output_type": "stream",
     "text": [
      "4\n",
      "1 1 1 1\n",
      "1 0 1 1\n",
      "1 1 0 1\n",
      "1 1 1 1\n"
     ]
    }
   ],
   "source": [
    "# Input\n",
    "n = int(input())\n",
    "maze = []\n",
    "for i in range(n):\n",
    "    row = [int(ele) for ele in input().split()]\n",
    "    maze.append(row)\n",
    "\n",
    "    \n",
    "printPath(maze)"
   ]
  },
  {
   "cell_type": "code",
   "execution_count": 15,
   "id": "648eda90",
   "metadata": {},
   "outputs": [
    {
     "name": "stdout",
     "output_type": "stream",
     "text": [
      "[[1, 1, 1, 1], [1, 0, 1, 1], [1, 1, 0, 1], [1, 1, 1, 1]]\n"
     ]
    }
   ],
   "source": [
    "print(maze)"
   ]
  },
  {
   "cell_type": "code",
   "execution_count": 16,
   "id": "2709c576",
   "metadata": {},
   "outputs": [
    {
     "name": "stdout",
     "output_type": "stream",
     "text": [
      "[[1, 0, 0, 0], [1, 0, 0, 0], [1, 0, 0, 0], [1, 1, 1, 1]]\n",
      "[[1, 0, 0, 0], [1, 0, 0, 0], [1, 1, 0, 0], [0, 1, 1, 1]]\n",
      "[[1, 1, 1, 0], [0, 0, 1, 1], [0, 0, 0, 1], [0, 0, 0, 1]]\n",
      "[[1, 1, 1, 1], [0, 0, 0, 1], [0, 0, 0, 1], [0, 0, 0, 1]]\n"
     ]
    }
   ],
   "source": [
    "printPath(maze)"
   ]
  },
  {
   "cell_type": "code",
   "execution_count": 21,
   "id": "df8ce210",
   "metadata": {},
   "outputs": [],
   "source": [
    "a = [[0]*4]*4"
   ]
  },
  {
   "cell_type": "code",
   "execution_count": 22,
   "id": "9f840db4",
   "metadata": {},
   "outputs": [
    {
     "data": {
      "text/plain": [
       "[[0, 0, 0, 0], [0, 0, 0, 0], [0, 0, 0, 0], [0, 0, 0, 0]]"
      ]
     },
     "execution_count": 22,
     "metadata": {},
     "output_type": "execute_result"
    }
   ],
   "source": [
    "a"
   ]
  },
  {
   "cell_type": "code",
   "execution_count": 23,
   "id": "d9feb379",
   "metadata": {},
   "outputs": [],
   "source": [
    "a[0][1] = 10"
   ]
  },
  {
   "cell_type": "code",
   "execution_count": 24,
   "id": "8759610e",
   "metadata": {},
   "outputs": [
    {
     "data": {
      "text/plain": [
       "[[0, 10, 0, 0], [0, 10, 0, 0], [0, 10, 0, 0], [0, 10, 0, 0]]"
      ]
     },
     "execution_count": 24,
     "metadata": {},
     "output_type": "execute_result"
    }
   ],
   "source": [
    "a"
   ]
  },
  {
   "cell_type": "markdown",
   "id": "045e162b",
   "metadata": {},
   "source": [
    "## N-Queens Problem"
   ]
  },
  {
   "cell_type": "code",
   "execution_count": 39,
   "id": "961e81ef",
   "metadata": {},
   "outputs": [],
   "source": [
    "def nQueensHelp(n, x, y, q, solution):\n",
    "    print(q)\n",
    "    if q == 0:\n",
    "        solution[x][y] = 1\n",
    "        print(solution)\n",
    "        return\n",
    "    # Blocking Points\n",
    "    flag = 0\n",
    "    for i in range(n):\n",
    "        if solution[x][i] == 1 or solution[i][y] == 1 or solution[x+i] == solution[y+i]:\n",
    "            flag = 1\n",
    "    if  x>=n or y>=n:\n",
    "        return\n",
    "    if flag == 0:\n",
    "        solution[x][y] = 1\n",
    "        nQueensHelp(n, x+1, y, q, solution)\n",
    "        nQueensHelp(n, x, y+1, q, solution)\n",
    "\n",
    "        q -=1\n",
    "        solution[x][y] = 0\n",
    "    return\n",
    "    \n",
    "\n",
    "\n",
    "def nQueens(n):\n",
    "    solution = [[0 for j in range(n)] for i in range(n)]\n",
    "    q = n # number of queens to left to be placed\n",
    "    # x, y are the current positions\n",
    "    nQueensHelp(n, 0, 0, q, solution)\n",
    "    "
   ]
  },
  {
   "cell_type": "code",
   "execution_count": 40,
   "id": "49b11aae",
   "metadata": {},
   "outputs": [
    {
     "name": "stdout",
     "output_type": "stream",
     "text": [
      "4\n"
     ]
    }
   ],
   "source": [
    "nQueens(4)"
   ]
  },
  {
   "cell_type": "markdown",
   "id": "9c9df086",
   "metadata": {},
   "source": [
    "## Instructor Code"
   ]
  },
  {
   "cell_type": "code",
   "execution_count": 54,
   "id": "157aea29",
   "metadata": {},
   "outputs": [],
   "source": [
    "def isSafe(row, col, board, n):\n",
    "    # check vertical\n",
    "    i = row-1\n",
    "    \n",
    "    while i >= 0:\n",
    "        if board[i][col] == 1:\n",
    "            return False\n",
    "        i-=1\n",
    "    # left diagonal\n",
    "    \n",
    "    i = row-1\n",
    "    j = col-1\n",
    "    \n",
    "    while i >= 0 and j>= 0:\n",
    "        if board[i][j] == 1:\n",
    "            return False\n",
    "        i-=1\n",
    "        j-=1\n",
    "    \n",
    "    # Right Diagonal\n",
    "    i = row-1\n",
    "    j = col+1\n",
    "    \n",
    "    while i >= 0 and j < n:\n",
    "        if board[i][j] == 1:\n",
    "            return False\n",
    "        i-=1\n",
    "        j+=1\n",
    "    \n",
    "    return True\n",
    "\n",
    "    \n",
    "\n",
    "def nQueensHelp(row, n, board):\n",
    "    if row == n:\n",
    "        for i in range(n):\n",
    "            for j in range(n):\n",
    "                print(board[i][j], end = ' ')\n",
    "        print()\n",
    "        return\n",
    "    for col in range(n):\n",
    "        if isSafe(row, col, board, n) is True:\n",
    "            board[row][col] = 1\n",
    "            nQueensHelp(row+1, n, board)\n",
    "            board[row][col] = 0\n",
    "    return\n",
    "            \n",
    "\n",
    "def nQueen(n):\n",
    "    board = [[0 for j in range(n)] for i in range(n)]\n",
    "    nQueensHelp(0, n, board)"
   ]
  },
  {
   "cell_type": "code",
   "execution_count": 55,
   "id": "4c5f2c6d",
   "metadata": {},
   "outputs": [
    {
     "name": "stdout",
     "output_type": "stream",
     "text": [
      "0 1 0 0 0 0 0 1 1 0 0 0 0 0 1 0 \n",
      "0 0 1 0 1 0 0 0 0 0 0 1 0 1 0 0 \n"
     ]
    }
   ],
   "source": [
    "nQueen(4)"
   ]
  },
  {
   "cell_type": "markdown",
   "id": "d9a65413",
   "metadata": {},
   "source": [
    "## Sudoku Solver"
   ]
  },
  {
   "cell_type": "code",
   "execution_count": 91,
   "id": "ff22eddc",
   "metadata": {},
   "outputs": [],
   "source": [
    "def isSafe(grid, row, col, num):\n",
    "    for x in range(9):\n",
    "        if grid[row][x] == num:\n",
    "            return False\n",
    "\n",
    "    for x in range(9):\n",
    "        if grid[x][col] == num:\n",
    "            return False\n",
    " \n",
    "    startRow = row - row % 3\n",
    "    startCol = col - col % 3\n",
    "    for i in range(3):\n",
    "        for j in range(3):\n",
    "            if grid[i + startRow][j + startCol] == num:\n",
    "                return False\n",
    "    return True\n",
    "        \n",
    "\n",
    "\n",
    "def sudokuHelp(pre, row, col):\n",
    "    if row>= 8 and col>=8:\n",
    "        return True\n",
    "    if pre[row][col] == 0:\n",
    "        fillable = fillable(pre, final, row,col)\n",
    "        if len(fillable) > 0:\n",
    "            for i in fillable:\n",
    "                pre[row][col] = i\n",
    "                if sudokuHelp(pre, row, col+1):\n",
    "                    return True\n",
    "            pre[row][col] = 0\n",
    "        else:\n",
    "            sudokuHelp(pre, final, row+1, col)\n",
    "    return False\n",
    "            \n",
    "\n",
    "    "
   ]
  },
  {
   "cell_type": "code",
   "execution_count": 3,
   "id": "e0773187",
   "metadata": {},
   "outputs": [],
   "source": [
    "grid = [[3, 0, 6, 5, 0, 8, 4, 0, 0],\n",
    "        [5, 2, 0, 0, 0, 0, 0, 0, 0],\n",
    "        [0, 8, 7, 0, 0, 0, 0, 3, 1],\n",
    "        [0, 0, 3, 0, 1, 0, 0, 8, 0],\n",
    "        [9, 0, 0, 8, 6, 3, 0, 0, 5],\n",
    "        [0, 5, 0, 0, 9, 0, 6, 0, 0],\n",
    "        [1, 3, 0, 0, 0, 0, 2, 5, 0],\n",
    "        [0, 0, 0, 0, 0, 0, 0, 7, 4],\n",
    "        [0, 0, 5, 2, 0, 6, 3, 0, 0]]"
   ]
  },
  {
   "cell_type": "code",
   "execution_count": 93,
   "id": "896da83a",
   "metadata": {},
   "outputs": [
    {
     "data": {
      "text/plain": [
       "False"
      ]
     },
     "execution_count": 93,
     "metadata": {},
     "output_type": "execute_result"
    }
   ],
   "source": [
    "sudoku(pre)"
   ]
  },
  {
   "cell_type": "code",
   "execution_count": 8,
   "id": "ea9d660e",
   "metadata": {},
   "outputs": [],
   "source": [
    "N = 9\n",
    "def printing(arr):\n",
    "    for i in range(N):\n",
    "        for j in range(N):\n",
    "            print(arr[i][j], end = \" \")\n",
    "        print()"
   ]
  },
  {
   "cell_type": "code",
   "execution_count": 95,
   "id": "1b0a763a",
   "metadata": {},
   "outputs": [
    {
     "name": "stdout",
     "output_type": "stream",
     "text": [
      "3 0 6 5 0 8 4 0 0 \n",
      "5 2 0 0 0 0 0 0 0 \n",
      "0 8 7 0 0 0 0 3 1 \n",
      "0 0 3 0 1 0 0 8 0 \n",
      "9 0 0 8 6 3 0 0 5 \n",
      "0 5 0 0 9 0 6 0 0 \n",
      "1 3 0 0 0 0 2 5 0 \n",
      "0 0 0 0 0 0 0 7 4 \n",
      "0 0 5 2 0 6 3 0 0 \n"
     ]
    }
   ],
   "source": [
    "printing(pre)"
   ]
  },
  {
   "cell_type": "code",
   "execution_count": 9,
   "id": "23523473",
   "metadata": {},
   "outputs": [],
   "source": [
    "def isSafe(grid, row, col, num):\n",
    "    for x in range(9):\n",
    "        if grid[row][x] == num:\n",
    "            return False\n",
    "\n",
    "    for x in range(9):\n",
    "        if grid[x][col] == num:\n",
    "            return False\n",
    " \n",
    "    startRow = row - row % 3\n",
    "    startCol = col - col % 3\n",
    "    for i in range(3):\n",
    "        for j in range(3):\n",
    "            if grid[i + startRow][j + startCol] == num:\n",
    "                return False\n",
    "    return True\n",
    "\n",
    "\n",
    "def sudoku(grid, row, col, n):\n",
    "    if row == n-1 and col == n:\n",
    "        return True\n",
    "    if col == n:\n",
    "        row += 1\n",
    "        col = 0\n",
    "    if grid[row][col] > 0:\n",
    "        return sudoku(grid, row, col+1,n)\n",
    "    for num in range(1, n+1):\n",
    "        if isSafe(grid, row, col, num):\n",
    "            grid[row][col] = num\n",
    "            \n",
    "            if sudoku(grid, row, col+1,n):\n",
    "                return True\n",
    "        grid[row][col] = 0\n",
    "    return False\n",
    "\n",
    "def sudokuFinal(grid):\n",
    "    if sudoku(grid, 0, 0, 9):\n",
    "        printing(grid)\n",
    "    else:\n",
    "        print(\"No Solution\")\n",
    "    "
   ]
  },
  {
   "cell_type": "code",
   "execution_count": 12,
   "id": "d0c50492",
   "metadata": {},
   "outputs": [
    {
     "name": "stdout",
     "output_type": "stream",
     "text": [
      "3 1 6 5 7 8 4 9 2 \n",
      "5 2 9 1 3 4 7 6 8 \n",
      "4 8 7 6 2 9 5 3 1 \n",
      "2 6 3 4 1 5 9 8 7 \n",
      "9 7 4 8 6 3 1 2 5 \n",
      "8 5 1 7 9 2 6 4 3 \n",
      "1 3 8 9 4 7 2 5 6 \n",
      "6 9 2 3 5 1 8 7 4 \n",
      "7 4 5 2 8 6 3 1 9 \n"
     ]
    }
   ],
   "source": [
    "sudokuFinal(grid)"
   ]
  },
  {
   "cell_type": "code",
   "execution_count": null,
   "id": "10381054",
   "metadata": {},
   "outputs": [],
   "source": []
  },
  {
   "cell_type": "code",
   "execution_count": null,
   "id": "fa6b6f25",
   "metadata": {},
   "outputs": [],
   "source": []
  },
  {
   "cell_type": "code",
   "execution_count": null,
   "id": "5ddc178e",
   "metadata": {},
   "outputs": [],
   "source": []
  }
 ],
 "metadata": {
  "kernelspec": {
   "display_name": "Python 3 (ipykernel)",
   "language": "python",
   "name": "python3"
  },
  "language_info": {
   "codemirror_mode": {
    "name": "ipython",
    "version": 3
   },
   "file_extension": ".py",
   "mimetype": "text/x-python",
   "name": "python",
   "nbconvert_exporter": "python",
   "pygments_lexer": "ipython3",
   "version": "3.8.3"
  }
 },
 "nbformat": 4,
 "nbformat_minor": 5
}
