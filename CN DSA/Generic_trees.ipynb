{
 "cells": [
  {
   "cell_type": "markdown",
   "id": "eb726fdc",
   "metadata": {},
   "source": [
    "# Generic Trees"
   ]
  },
  {
   "cell_type": "code",
   "execution_count": 2,
   "id": "58796092",
   "metadata": {},
   "outputs": [],
   "source": [
    "class TreeNode:\n",
    "    def __init__(self, data):\n",
    "        self.data = data\n",
    "        self.children = list()"
   ]
  },
  {
   "cell_type": "markdown",
   "id": "0ad968fd",
   "metadata": {},
   "source": [
    "## print a generic tree"
   ]
  },
  {
   "cell_type": "code",
   "execution_count": 10,
   "id": "8aed688b",
   "metadata": {},
   "outputs": [],
   "source": [
    "def printTree(root):\n",
    "    ## what if root is None\n",
    "    print(root.data)\n",
    "    \n",
    "    for child in root.children:\n",
    "        printTree(child)\n",
    "    "
   ]
  },
  {
   "cell_type": "code",
   "execution_count": 50,
   "id": "f3eaf595",
   "metadata": {},
   "outputs": [],
   "source": [
    "def printTreeDetailed(root):\n",
    "#     #edge case\n",
    "#     if root == None:\n",
    "#         return\n",
    "    print(root.data, \":\", end = \" \")\n",
    "    for child in root.children:\n",
    "        print(child.data, \", \" , end = \" \")\n",
    "    \n",
    "    print()\n",
    "    \n",
    "    for child in root.children:\n",
    "        printTreeDetailed(child)\n",
    "    "
   ]
  },
  {
   "cell_type": "markdown",
   "id": "2e00733a",
   "metadata": {},
   "source": [
    "## Take input from user for a Tree(Recursively)"
   ]
  },
  {
   "cell_type": "code",
   "execution_count": 27,
   "id": "19ef79b6",
   "metadata": {},
   "outputs": [],
   "source": [
    "def takeInput():\n",
    "    print(\"Enter the root Data\")\n",
    "    rootData = int(input())\n",
    "    if rootData == None:\n",
    "        return\n",
    "    root = TreeNode(rootData)\n",
    "    print(\"Enter the number of childern for\", rootData)\n",
    "    childrenCount = int(input())\n",
    "    for i in range(childrenCount):\n",
    "        child = takeInput()\n",
    "        root.children.append(child)\n",
    "    return root"
   ]
  },
  {
   "cell_type": "markdown",
   "id": "49e79adf",
   "metadata": {},
   "source": [
    "## Number of Nodes in a Generic Tree"
   ]
  },
  {
   "cell_type": "code",
   "execution_count": 52,
   "id": "255a502a",
   "metadata": {},
   "outputs": [],
   "source": [
    "def numNodes(root):\n",
    "#     # edge case\n",
    "#     if root == None:\n",
    "#         return 0\n",
    "    sum = 0\n",
    "    for child in root.children:\n",
    "        sum += numNodes(child)\n",
    "    return 1 + sum"
   ]
  },
  {
   "cell_type": "code",
   "execution_count": 53,
   "id": "b206ad43",
   "metadata": {},
   "outputs": [],
   "source": [
    "def numNodes(root):\n",
    "#     # edge case\n",
    "#     if root == None:\n",
    "#         return 0\n",
    "    count = 1\n",
    "    for child in root.children:\n",
    "        count += numNodes(child)\n",
    "    return count"
   ]
  },
  {
   "cell_type": "markdown",
   "id": "173a39e6",
   "metadata": {},
   "source": [
    "## Sum of all Nodes"
   ]
  },
  {
   "cell_type": "code",
   "execution_count": 64,
   "id": "86f07a99",
   "metadata": {},
   "outputs": [],
   "source": [
    "def sumNodes(root):\n",
    "#     # edge case \n",
    "#     if root == None:\n",
    "#         return 0\n",
    "    sum_ = root.data\n",
    "    for child in root.children:\n",
    "        sum_ = sum_ + sumNodes(child)\n",
    "    return sum_"
   ]
  },
  {
   "cell_type": "markdown",
   "id": "dce38a76",
   "metadata": {},
   "source": [
    "## Node with Maximum Data"
   ]
  },
  {
   "cell_type": "code",
   "execution_count": 75,
   "id": "da827a3f",
   "metadata": {},
   "outputs": [],
   "source": [
    "def maxTree(root):\n",
    "    # edge case\n",
    "    if root == None:\n",
    "        return\n",
    "    max_ = root.data\n",
    "    for child in root.children:\n",
    "        max_ = max(max_, maxTree(child))\n",
    "    return max_    "
   ]
  },
  {
   "cell_type": "markdown",
   "id": "a6f9357d",
   "metadata": {},
   "source": [
    "## Height of a Tree"
   ]
  },
  {
   "cell_type": "code",
   "execution_count": 81,
   "id": "3748441d",
   "metadata": {},
   "outputs": [],
   "source": [
    "def heightTree(root):\n",
    "    # edge case\n",
    "    if root == None:\n",
    "        return 0\n",
    "    height = 0 # for root itself\n",
    "    for child in root.children:\n",
    "        height = max(height, heightTree(child))\n",
    "    return 1+ height"
   ]
  },
  {
   "cell_type": "markdown",
   "id": "0ad46fe9",
   "metadata": {},
   "source": [
    "## Levelwise input for a generic Tree"
   ]
  },
  {
   "cell_type": "code",
   "execution_count": 93,
   "id": "7980670d",
   "metadata": {},
   "outputs": [],
   "source": [
    "import queue\n",
    "def levelwiseInput():\n",
    "    q = queue.Queue()\n",
    "    print(\"Enter the root\")\n",
    "    rootData = int(input())\n",
    "    if rootData == -1:\n",
    "        return \n",
    "    root = TreeNode(rootData)\n",
    "    q.put(root)\n",
    "    \n",
    "    while not q.empty():\n",
    "        current = q.get()\n",
    "        print(\"Enter the number of nodes for \", current.data)\n",
    "        childCount = int(input())\n",
    "        for i in range(childCount):\n",
    "            print(\"Enter the\", i+1, \"th child of \", rootData)\n",
    "            childData = int(input())\n",
    "            child = TreeNode(childData)\n",
    "            current.children.append(child)\n",
    "            q.put(child)\n",
    "    return root"
   ]
  },
  {
   "cell_type": "markdown",
   "id": "e352d1c0",
   "metadata": {},
   "source": [
    "## Print the generic Tree levelwise:"
   ]
  },
  {
   "cell_type": "code",
   "execution_count": 118,
   "id": "2ad1d92e",
   "metadata": {},
   "outputs": [],
   "source": [
    "import queue\n",
    "def printLevelWise(root):\n",
    "    q = queue.Queue()\n",
    "    \n",
    "    # edge case\n",
    "    if root == None:\n",
    "        return \n",
    "    q.put(root)\n",
    "    \n",
    "    while not q.empty():\n",
    "        current = q.get()\n",
    "        print(current.data, end = \" : \")\n",
    "        for child in current.children:\n",
    "            print(child.data,  end = \" \")\n",
    "        print()\n",
    "        for child in current.children:\n",
    "            q.put(child)\n",
    "    return"
   ]
  },
  {
   "cell_type": "code",
   "execution_count": null,
   "id": "36fe1392",
   "metadata": {},
   "outputs": [],
   "source": []
  },
  {
   "cell_type": "code",
   "execution_count": null,
   "id": "583dd2da",
   "metadata": {},
   "outputs": [],
   "source": []
  },
  {
   "cell_type": "code",
   "execution_count": 91,
   "id": "13928088",
   "metadata": {},
   "outputs": [
    {
     "name": "stdout",
     "output_type": "stream",
     "text": [
      "Enter the root\n",
      "1\n",
      "Enter the number of nodes for  1\n",
      "4\n",
      "Enter the 1 th child of  1\n",
      "2\n",
      "Enter the 2 th child of  1\n",
      "3\n",
      "Enter the 3 th child of  1\n",
      "4\n",
      "Enter the 4 th child of  1\n",
      "5\n",
      "Enter the number of nodes for  2\n",
      "0\n",
      "Enter the number of nodes for  3\n",
      "2\n",
      "Enter the 1 th child of  1\n",
      "6\n",
      "Enter the 2 th child of  1\n",
      "7\n",
      "Enter the number of nodes for  4\n",
      "0\n",
      "Enter the number of nodes for  5\n",
      "0\n",
      "Enter the number of nodes for  6\n",
      "0\n",
      "Enter the number of nodes for  7\n",
      "0\n"
     ]
    }
   ],
   "source": [
    "node = levelwiseInput()"
   ]
  },
  {
   "cell_type": "code",
   "execution_count": 92,
   "id": "acef68f5",
   "metadata": {},
   "outputs": [
    {
     "name": "stdout",
     "output_type": "stream",
     "text": [
      "1 : 2 ,  3 ,  4 ,  5 ,  \n",
      "2 : \n",
      "3 : 6 ,  7 ,  \n",
      "6 : \n",
      "7 : \n",
      "4 : \n",
      "5 : \n"
     ]
    }
   ],
   "source": [
    "printTreeDetailed(node)"
   ]
  },
  {
   "cell_type": "code",
   "execution_count": 97,
   "id": "0d2377d1",
   "metadata": {},
   "outputs": [
    {
     "name": "stdout",
     "output_type": "stream",
     "text": [
      "1\n",
      "2\n",
      "3\n",
      "4\n",
      "5\n",
      "6\n",
      "7\n"
     ]
    }
   ],
   "source": [
    "printLevelWise(node)"
   ]
  },
  {
   "cell_type": "code",
   "execution_count": 6,
   "id": "d7b9c646",
   "metadata": {},
   "outputs": [],
   "source": [
    "n1 = TreeNode(5)\n",
    "n2 = TreeNode(6)\n",
    "n3 = TreeNode(7)\n",
    "n4 = TreeNode(8)\n",
    "n5 = TreeNode(9)\n",
    "n6 = TreeNode(10)\n",
    "n7 = TreeNode(11)\n",
    "n8 = TreeNode(12)"
   ]
  },
  {
   "cell_type": "code",
   "execution_count": 7,
   "id": "e6b43635",
   "metadata": {},
   "outputs": [],
   "source": [
    "n1.children.append(n2)\n",
    "n1.children.append(n3)\n",
    "n1.children.append(n4)\n",
    "n1.children.append(n5)\n",
    "\n",
    "n3.children.append(n6)\n",
    "n3.children.append(n7)\n",
    "n3.children.append(n8)"
   ]
  },
  {
   "cell_type": "code",
   "execution_count": 12,
   "id": "b38023f3",
   "metadata": {},
   "outputs": [
    {
     "name": "stdout",
     "output_type": "stream",
     "text": [
      "5\n",
      "6\n",
      "7\n",
      "10\n",
      "11\n",
      "12\n",
      "8\n",
      "9\n"
     ]
    }
   ],
   "source": [
    "printTree(n1)"
   ]
  },
  {
   "cell_type": "code",
   "execution_count": 14,
   "id": "b40b65dd",
   "metadata": {},
   "outputs": [
    {
     "name": "stdout",
     "output_type": "stream",
     "text": [
      "5 : 6 ,  7 ,  8 ,  9 ,  \n",
      "6 : \n",
      "7 : 10 ,  11 ,  12 ,  \n",
      "10 : \n",
      "11 : \n",
      "12 : \n",
      "8 : \n",
      "9 : \n"
     ]
    }
   ],
   "source": [
    "printTreeDetailed(n1)"
   ]
  },
  {
   "cell_type": "code",
   "execution_count": 33,
   "id": "7838b6f6",
   "metadata": {},
   "outputs": [
    {
     "name": "stdout",
     "output_type": "stream",
     "text": [
      "Enter the root Data\n",
      "1\n",
      "Enter the number of childern for 1\n",
      "4\n",
      "Enter the root Data\n",
      "2\n",
      "Enter the number of childern for 2\n",
      "0\n",
      "Enter the root Data\n",
      "3\n",
      "Enter the number of childern for 3\n",
      "2\n",
      "Enter the root Data\n",
      "6\n",
      "Enter the number of childern for 6\n",
      "0\n",
      "Enter the root Data\n",
      "7\n",
      "Enter the number of childern for 7\n",
      "0\n",
      "Enter the root Data\n",
      "9\n",
      "Enter the number of childern for 9\n",
      "0\n",
      "Enter the root Data\n",
      "5\n",
      "Enter the number of childern for 5\n",
      "0\n"
     ]
    }
   ],
   "source": [
    "root = takeInput()"
   ]
  },
  {
   "cell_type": "code",
   "execution_count": 69,
   "id": "29898b1c",
   "metadata": {},
   "outputs": [
    {
     "name": "stdout",
     "output_type": "stream",
     "text": [
      "1 : 2 ,  3 ,  9 ,  5 ,  \n",
      "2 : \n",
      "3 : 6 ,  7 ,  \n",
      "6 : \n",
      "7 : \n",
      "9 : \n",
      "5 : \n"
     ]
    }
   ],
   "source": [
    "printTreeDetailed(root)"
   ]
  },
  {
   "cell_type": "code",
   "execution_count": 46,
   "id": "99c3daca",
   "metadata": {},
   "outputs": [
    {
     "data": {
      "text/plain": [
       "7"
      ]
     },
     "execution_count": 46,
     "metadata": {},
     "output_type": "execute_result"
    }
   ],
   "source": [
    "numNodes(root)"
   ]
  },
  {
   "cell_type": "code",
   "execution_count": 47,
   "id": "27a7787e",
   "metadata": {},
   "outputs": [
    {
     "data": {
      "text/plain": [
       "0"
      ]
     },
     "execution_count": 47,
     "metadata": {},
     "output_type": "execute_result"
    }
   ],
   "source": [
    "numNodes(None)"
   ]
  },
  {
   "cell_type": "code",
   "execution_count": 63,
   "id": "ae24b9ba",
   "metadata": {},
   "outputs": [
    {
     "data": {
      "text/plain": [
       "33"
      ]
     },
     "execution_count": 63,
     "metadata": {},
     "output_type": "execute_result"
    }
   ],
   "source": [
    "sumNodes(root)"
   ]
  },
  {
   "cell_type": "code",
   "execution_count": 76,
   "id": "d16a933f",
   "metadata": {},
   "outputs": [
    {
     "data": {
      "text/plain": [
       "9"
      ]
     },
     "execution_count": 76,
     "metadata": {},
     "output_type": "execute_result"
    }
   ],
   "source": [
    "maxTree(root)"
   ]
  },
  {
   "cell_type": "code",
   "execution_count": 82,
   "id": "3e3c61bc",
   "metadata": {},
   "outputs": [
    {
     "data": {
      "text/plain": [
       "3"
      ]
     },
     "execution_count": 82,
     "metadata": {},
     "output_type": "execute_result"
    }
   ],
   "source": [
    "heightTree(root)"
   ]
  },
  {
   "cell_type": "code",
   "execution_count": 120,
   "id": "954d028c",
   "metadata": {},
   "outputs": [
    {
     "name": "stdout",
     "output_type": "stream",
     "text": [
      "1 : 2 3 4 5 \n",
      "2 : \n",
      "3 : 6 7 \n",
      "4 : \n",
      "5 : \n",
      "6 : \n",
      "7 : \n"
     ]
    }
   ],
   "source": [
    "printLevelWise(node)"
   ]
  },
  {
   "cell_type": "code",
   "execution_count": null,
   "id": "8156b696",
   "metadata": {},
   "outputs": [],
   "source": []
  }
 ],
 "metadata": {
  "kernelspec": {
   "display_name": "Python 3 (ipykernel)",
   "language": "python",
   "name": "python3"
  },
  "language_info": {
   "codemirror_mode": {
    "name": "ipython",
    "version": 3
   },
   "file_extension": ".py",
   "mimetype": "text/x-python",
   "name": "python",
   "nbconvert_exporter": "python",
   "pygments_lexer": "ipython3",
   "version": "3.8.3"
  }
 },
 "nbformat": 4,
 "nbformat_minor": 5
}
