{
 "cells": [
  {
   "cell_type": "markdown",
   "id": "4cf62517",
   "metadata": {},
   "source": [
    "# Priority Queues"
   ]
  },
  {
   "cell_type": "code",
   "execution_count": 51,
   "id": "6a431350",
   "metadata": {},
   "outputs": [],
   "source": [
    "class pqNode:\n",
    "    def __init__(self, value, priority):\n",
    "        self.value = value\n",
    "        self.priority = priority\n",
    "    \n",
    "\n",
    "\n",
    "class PriorityQueue:\n",
    "    def __init__(self):\n",
    "        self.pq = []\n",
    "        \n",
    "    def getSize(self):\n",
    "        return len(self.pq)\n",
    "        \n",
    "    def getMin(self):\n",
    "        if not self.isEmpty():\n",
    "            return self.pq[0].value\n",
    "    \n",
    "    def isEmpty(self):\n",
    "        return len(self.pq) == 0\n",
    "    \n",
    "    def insert(self, value, priority):\n",
    "        node = pqNode(value, priority)\n",
    "        self.pq.append(node)\n",
    "        c = self.getSize() - 1\n",
    "        p = (c-1)//2\n",
    "        while priority > self.pq[p].priority or c > 0:\n",
    "#             print(priority)\n",
    "            self.pq[c] , self.pq[p] = self.pq[p], self.pq[c]\n",
    "            c = p\n",
    "            p = (p-1)//2\n",
    "        \n",
    "        \n",
    "    def removeMin(self):\n",
    "        if self.isEmpty():\n",
    "            return None\n",
    "        rem = self.pq[0]\n",
    "        self.pq[0] = self.pq[self.getSize() - 1]\n",
    "        self.pq.pop()\n",
    "        \n",
    "        p = 0\n",
    "\n",
    "        \n",
    "        while p < self.getSize():\n",
    "            c1 = 2*p + 1\n",
    "            c2 = 2*p + 2\n",
    "            if c1 < self.getSize() and c2 < self.getSize():\n",
    "                if self.pq[c1].priority < self.pq[c2].priority:\n",
    "                    minIndex = c1\n",
    "                else:\n",
    "                    minIndex = c2\n",
    "                if self.pq[p].priority > self.pq[minIndex].priority:\n",
    "                    self.pq[p], self.pq[minIndex] = self.pq[minIndex], self.pq[p]\n",
    "                    p = minIndex\n",
    "                else:\n",
    "                    break\n",
    "            else:\n",
    "                break\n",
    "\n",
    "    "
   ]
  },
  {
   "cell_type": "code",
   "execution_count": 52,
   "id": "cdd6f373",
   "metadata": {},
   "outputs": [],
   "source": [
    "p = PriorityQueue()\n",
    "p.insert(\"a\", 20)\n"
   ]
  },
  {
   "cell_type": "code",
   "execution_count": 44,
   "id": "a169c18e",
   "metadata": {},
   "outputs": [],
   "source": [
    "p.insert(\"b\", 10)"
   ]
  },
  {
   "cell_type": "code",
   "execution_count": 53,
   "id": "ff619b1c",
   "metadata": {},
   "outputs": [],
   "source": [
    "p.insert(\"c\", 15)\n",
    "p.insert(\"d\", 13)\n",
    "p.insert(\"e\", 18)"
   ]
  },
  {
   "cell_type": "code",
   "execution_count": 56,
   "id": "aeaba379",
   "metadata": {},
   "outputs": [
    {
     "name": "stdout",
     "output_type": "stream",
     "text": [
      "d 13\n",
      "a 20\n",
      "c 15\n"
     ]
    }
   ],
   "source": [
    "for i in p.pq:\n",
    "    print(i.value, i.priority)"
   ]
  },
  {
   "cell_type": "code",
   "execution_count": 55,
   "id": "a7442fcb",
   "metadata": {},
   "outputs": [],
   "source": [
    "p.removeMin()"
   ]
  },
  {
   "cell_type": "markdown",
   "id": "fb54227f",
   "metadata": {},
   "source": [
    "# Max Priority Heap"
   ]
  },
  {
   "cell_type": "code",
   "execution_count": 36,
   "id": "c3e1bfd8",
   "metadata": {},
   "outputs": [],
   "source": [
    "class maxHeap:\n",
    "    def __init__(self):\n",
    "        self.pq = []\n",
    "        \n",
    "    def getSize(self):\n",
    "        return len(self.pq)\n",
    "    \n",
    "    def isEmpty(self):\n",
    "        return len(self.pq) == 0\n",
    "    \n",
    "    def insert(self, value, priority):\n",
    "        node = pqNode(value, priority)\n",
    "        self.pq.append(node)\n",
    "        \n",
    "        c = self.getSize() - 1\n",
    "        p = (c-1)//2\n",
    "        \n",
    "        while priority < self.pq[p].priority or c > 0:\n",
    "            self.pq[c] , self.pq[p] = self.pq[p], self.pq[c]\n",
    "            c = p\n",
    "            p = (p-1)//2\n",
    "            \n",
    "    def removeMax(self):\n",
    "        if self.isEmpty():\n",
    "            return None\n",
    "        rem = self.pq[0]\n",
    "        self.pq[0] = self.pq[self.getSize() - 1]\n",
    "        self.pq.pop()\n",
    "        \n",
    "        p = 0\n",
    "\n",
    "        \n",
    "        while p < self.getSize():\n",
    "            c1 = 2*p + 1\n",
    "            c2 = 2*p + 2\n",
    "            if c1 < self.getSize() and c2 < self.getSize():\n",
    "                if self.pq[c1].priority > self.pq[c2].priority:\n",
    "                    minIndex = c1\n",
    "                else:\n",
    "                    minIndex = c2\n",
    "                if self.pq[p].priority < self.pq[minIndex].priority:\n",
    "                    self.pq[p], self.pq[minIndex] = self.pq[minIndex], self.pq[p]\n",
    "                    p = minIndex\n",
    "                else:\n",
    "                    break\n",
    "            else:\n",
    "                break\n",
    "\n",
    "        \n",
    "            \n",
    "    \n",
    "    "
   ]
  },
  {
   "cell_type": "code",
   "execution_count": 37,
   "id": "2bfe419a",
   "metadata": {},
   "outputs": [],
   "source": [
    "m = maxHeap()"
   ]
  },
  {
   "cell_type": "code",
   "execution_count": 38,
   "id": "087760d3",
   "metadata": {},
   "outputs": [],
   "source": [
    "m.insert(\"a\", 10)\n",
    "m.insert(\"b\", 15)\n",
    "m.insert(\"c\", 12)\n",
    "m.insert(\"d\", 2)\n",
    "m.insert(\"e\", 8)\n",
    "m.insert(\"f\", 100)"
   ]
  },
  {
   "cell_type": "code",
   "execution_count": 41,
   "id": "24432287",
   "metadata": {},
   "outputs": [
    {
     "name": "stdout",
     "output_type": "stream",
     "text": [
      "b 15\n",
      "a 10\n",
      "c 12\n",
      "d 2\n",
      "e 8\n"
     ]
    }
   ],
   "source": [
    "for i in m.pq:\n",
    "    print(i.value, i.priority)"
   ]
  },
  {
   "cell_type": "code",
   "execution_count": 40,
   "id": "129fe379",
   "metadata": {},
   "outputs": [],
   "source": [
    "m.removeMax()"
   ]
  },
  {
   "cell_type": "code",
   "execution_count": null,
   "id": "56844e10",
   "metadata": {},
   "outputs": [],
   "source": []
  },
  {
   "cell_type": "code",
   "execution_count": null,
   "id": "ed44cefa",
   "metadata": {},
   "outputs": [],
   "source": []
  }
 ],
 "metadata": {
  "kernelspec": {
   "display_name": "Python 3 (ipykernel)",
   "language": "python",
   "name": "python3"
  },
  "language_info": {
   "codemirror_mode": {
    "name": "ipython",
    "version": 3
   },
   "file_extension": ".py",
   "mimetype": "text/x-python",
   "name": "python",
   "nbconvert_exporter": "python",
   "pygments_lexer": "ipython3",
   "version": "3.8.3"
  }
 },
 "nbformat": 4,
 "nbformat_minor": 5
}
