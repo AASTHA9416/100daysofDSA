{
 "cells": [
  {
   "cell_type": "markdown",
   "id": "5d5aed11",
   "metadata": {},
   "source": [
    "# Heap Sort"
   ]
  },
  {
   "cell_type": "code",
   "execution_count": 49,
   "id": "fa818fe1",
   "metadata": {},
   "outputs": [],
   "source": [
    "def percolate_down(arr, index, n):\n",
    "    parent = index\n",
    "    c1 = parent*2 + 1\n",
    "    c2 = parent*2 + 2\n",
    "    \n",
    "    \n",
    "    while c1 < n:\n",
    "        minIndex = parent\n",
    "        if arr[minIndex] > arr[c1]:\n",
    "            minIndex = c1\n",
    "        if c2 < n and arr[minIndex] > arr[c2]:\n",
    "            minIndex = c2\n",
    "        \n",
    "        \n",
    "        if minIndex == parent:\n",
    "            return\n",
    "        arr[parent], arr[minIndex] = arr[minIndex], arr[parent]\n",
    "        parent = minIndex\n",
    "        c1 = parent*2 + 1\n",
    "        c2 = parent*2 + 2\n",
    "    return\n",
    "    \n",
    "    \n",
    "    \n",
    "    \n",
    "\n",
    "def heap_sort(arr):\n",
    "    n = len(arr)\n",
    "    for i in range(n//2, -1, -1):\n",
    "        percolate_down(arr, i, n)\n",
    "    \n",
    "    for i in range(n-1, 0, -1):\n",
    "        arr[0], arr[i] = arr[i], arr[0]\n",
    "        percolate_down(arr, 0, i)\n",
    "    return\n",
    "        \n",
    "    "
   ]
  },
  {
   "cell_type": "code",
   "execution_count": 50,
   "id": "12ecaba6",
   "metadata": {},
   "outputs": [
    {
     "data": {
      "text/plain": [
       "[9, 8, 7, 6, 5, 5, 4, 3, 3, 2, 2, 1]"
      ]
     },
     "execution_count": 50,
     "metadata": {},
     "output_type": "execute_result"
    }
   ],
   "source": [
    "arr = [3,1,2,5,2,4,6,8,9,7,5,3]\n",
    "heap_sort(arr)\n",
    "arr\n"
   ]
  },
  {
   "cell_type": "markdown",
   "id": "f9fdac73",
   "metadata": {},
   "source": [
    "# Inbuilt Heap in Python"
   ]
  },
  {
   "cell_type": "code",
   "execution_count": 58,
   "id": "41762918",
   "metadata": {},
   "outputs": [],
   "source": [
    "import heapq\n",
    "\n",
    "## need to make an iterable\n",
    "li = [10, 4, 5, 9, 7, 8, 11]\n",
    "heapq.heapify(li)"
   ]
  },
  {
   "cell_type": "code",
   "execution_count": 59,
   "id": "89778d61",
   "metadata": {},
   "outputs": [
    {
     "data": {
      "text/plain": [
       "[4, 7, 5, 9, 10, 8, 11]"
      ]
     },
     "execution_count": 59,
     "metadata": {},
     "output_type": "execute_result"
    }
   ],
   "source": [
    "li"
   ]
  },
  {
   "cell_type": "code",
   "execution_count": 60,
   "id": "b21cfca2",
   "metadata": {},
   "outputs": [],
   "source": [
    "## push element in the heap\n",
    "heapq.heappush(li, 3)"
   ]
  },
  {
   "cell_type": "code",
   "execution_count": 61,
   "id": "37ca1690",
   "metadata": {},
   "outputs": [
    {
     "data": {
      "text/plain": [
       "[3, 4, 5, 7, 10, 8, 11, 9]"
      ]
     },
     "execution_count": 61,
     "metadata": {},
     "output_type": "execute_result"
    }
   ],
   "source": [
    "li"
   ]
  },
  {
   "cell_type": "code",
   "execution_count": 63,
   "id": "7c37db74",
   "metadata": {},
   "outputs": [
    {
     "name": "stdout",
     "output_type": "stream",
     "text": [
      "3\n"
     ]
    }
   ],
   "source": [
    "## pop from the heap\n",
    "print(heapq.heappop(li))"
   ]
  },
  {
   "cell_type": "code",
   "execution_count": 64,
   "id": "19f7e0c4",
   "metadata": {},
   "outputs": [
    {
     "data": {
      "text/plain": [
       "[4, 7, 5, 9, 10, 8, 11]"
      ]
     },
     "execution_count": 64,
     "metadata": {},
     "output_type": "execute_result"
    }
   ],
   "source": [
    "li"
   ]
  },
  {
   "cell_type": "code",
   "execution_count": 65,
   "id": "f53d9626",
   "metadata": {},
   "outputs": [
    {
     "data": {
      "text/plain": [
       "4"
      ]
     },
     "execution_count": 65,
     "metadata": {},
     "output_type": "execute_result"
    }
   ],
   "source": [
    "## remove the min element and replace it with some other then perform the heapify operation\n",
    "heapq.heapreplace(li, 6)"
   ]
  },
  {
   "cell_type": "code",
   "execution_count": 66,
   "id": "ca92dbf9",
   "metadata": {},
   "outputs": [
    {
     "data": {
      "text/plain": [
       "[5, 7, 6, 9, 10, 8, 11]"
      ]
     },
     "execution_count": 66,
     "metadata": {},
     "output_type": "execute_result"
    }
   ],
   "source": [
    "li"
   ]
  },
  {
   "cell_type": "markdown",
   "id": "be24824c",
   "metadata": {},
   "source": [
    "# Inbuilt MaxHeap"
   ]
  },
  {
   "cell_type": "code",
   "execution_count": 67,
   "id": "222198b4",
   "metadata": {},
   "outputs": [],
   "source": [
    "import heapq\n",
    "li = [2,4,6,8,1,3,5,7]\n",
    "heapq._heapify_max(li)"
   ]
  },
  {
   "cell_type": "code",
   "execution_count": 68,
   "id": "3245c74c",
   "metadata": {},
   "outputs": [
    {
     "data": {
      "text/plain": [
       "[8, 7, 6, 4, 1, 3, 5, 2]"
      ]
     },
     "execution_count": 68,
     "metadata": {},
     "output_type": "execute_result"
    }
   ],
   "source": [
    "li"
   ]
  },
  {
   "cell_type": "code",
   "execution_count": 69,
   "id": "1a28ddd3",
   "metadata": {},
   "outputs": [
    {
     "data": {
      "text/plain": [
       "8"
      ]
     },
     "execution_count": 69,
     "metadata": {},
     "output_type": "execute_result"
    }
   ],
   "source": [
    "heapq._heappop_max(li)"
   ]
  },
  {
   "cell_type": "code",
   "execution_count": 70,
   "id": "a50c0142",
   "metadata": {},
   "outputs": [
    {
     "data": {
      "text/plain": [
       "[7, 4, 6, 2, 1, 3, 5]"
      ]
     },
     "execution_count": 70,
     "metadata": {},
     "output_type": "execute_result"
    }
   ],
   "source": [
    "li"
   ]
  },
  {
   "cell_type": "code",
   "execution_count": 71,
   "id": "2584fbc2",
   "metadata": {},
   "outputs": [
    {
     "data": {
      "text/plain": [
       "7"
      ]
     },
     "execution_count": 71,
     "metadata": {},
     "output_type": "execute_result"
    }
   ],
   "source": [
    "heapq._heapreplace_max(li, 0)"
   ]
  },
  {
   "cell_type": "code",
   "execution_count": 72,
   "id": "91967232",
   "metadata": {},
   "outputs": [
    {
     "data": {
      "text/plain": [
       "[6, 4, 5, 2, 1, 3, 0]"
      ]
     },
     "execution_count": 72,
     "metadata": {},
     "output_type": "execute_result"
    }
   ],
   "source": [
    "li"
   ]
  },
  {
   "cell_type": "code",
   "execution_count": null,
   "id": "53b25461",
   "metadata": {},
   "outputs": [],
   "source": []
  }
 ],
 "metadata": {
  "kernelspec": {
   "display_name": "Python 3 (ipykernel)",
   "language": "python",
   "name": "python3"
  },
  "language_info": {
   "codemirror_mode": {
    "name": "ipython",
    "version": 3
   },
   "file_extension": ".py",
   "mimetype": "text/x-python",
   "name": "python",
   "nbconvert_exporter": "python",
   "pygments_lexer": "ipython3",
   "version": "3.8.3"
  }
 },
 "nbformat": 4,
 "nbformat_minor": 5
}
